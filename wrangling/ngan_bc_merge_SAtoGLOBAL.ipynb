{
 "cells": [
  {
   "cell_type": "code",
   "execution_count": 1,
   "metadata": {},
   "outputs": [],
   "source": [
    "import pandas as pd\n",
    "\n",
    "# Set options to show dfs in full\n",
    "pd.set_option('display.max_rows', None)\n",
    "pd.set_option('display.max_columns', None)\n",
    "pd.set_option('display.width', None)\n",
    "pd.set_option('display.max_colwidth', -1)"
   ]
  },
  {
   "cell_type": "code",
   "execution_count": 2,
   "metadata": {},
   "outputs": [],
   "source": [
    "# Import seniors adv data\n",
    "# ltc = pd.read_excel('../data/BC/QFD2019-public release-20191009.xlsx', \n",
    "#                     sheet_name = 'QFD 2019', usecols=range(1, 101))\n",
    "ltc = pd.read_csv('../data/BC/seniorsadv_data.csv', usecols=range(1, 101))\n",
    "ltc['cleaned_name'] = ltc['FACILITY_NAME'].str.lower()\n",
    "# ltc.head()\n",
    "# ltc.info()"
   ]
  },
  {
   "cell_type": "code",
   "execution_count": 3,
   "metadata": {},
   "outputs": [],
   "source": [
    "# Import the covid data\n",
    "covid = pd.read_csv('../data/BC/globalnews_scrape_aug21.csv')\n",
    "covid['cleaned_name'] = covid['facility_name'].str.lower()\n",
    "# covid.head()\n",
    "# covid.info()"
   ]
  },
  {
   "cell_type": "code",
   "execution_count": 4,
   "metadata": {},
   "outputs": [
    {
     "data": {
      "text/plain": [
       "['worthington pavilion / msa rehab – acute',\n",
       " 'the cedars in mission',\n",
       " 'swedish canadian manor, assisted living',\n",
       " 'shaughnessy care center',\n",
       " 'delta view care centre\\xa0',\n",
       " 'kootenay street village',\n",
       " 'residence at clayton heights, acquired brain injury unit',\n",
       " 'derby manor – independent living',\n",
       " 'villa cathay',\n",
       " 'ridge meadows hospital (unit 3w)',\n",
       " 'abbotsford regional hospital',\n",
       " 'cedarbrook chateau independent living',\n",
       " 'langley memorial hospital maple hill long-term care facility',\n",
       " 'inglewood lodge',\n",
       " 'hawthorn park / orchard manor',\n",
       " 'amica edgemont',\n",
       " 'maple hill',\n",
       " 'lions gate hospital',\n",
       " 'hollyburn house',\n",
       " 'the harrison at elim village',\n",
       " 'joseph & rosalie segal family health centre',\n",
       " 'evergreen house',\n",
       " 'ridge meadows hospital (medicine unite 3n)',\n",
       " 'amica retirement home',\n",
       " 'worthington pavilion lctf',\n",
       " 'richmond hospital',\n",
       " 'ridge meadows hospital (rehab am',\n",
       " 'little mountain long-term care facility',\n",
       " 'msa manor long-term care facility',\n",
       " 'new vista care centre',\n",
       " 'mission memorial hospital\\xa0',\n",
       " 'queen’s park care centre',\n",
       " 'south granville park lodge',\n",
       " 'valhaven home',\n",
       " 'evergreen heights',\n",
       " 'chartwell willow long-term care\\xa0']"
      ]
     },
     "execution_count": 4,
     "metadata": {},
     "output_type": "execute_result"
    }
   ],
   "source": [
    "# Check to see how many of the homes in the covid db do not match with the seniors adv db\n",
    "# covid['cleaned_name'].isin(ltc['cleaned_name']).value_counts()\n",
    "\n",
    "# Homes in covid not in ltc\n",
    "a = set(ltc['cleaned_name'])\n",
    "b = set(covid['cleaned_name'])\n",
    "\n",
    "def returnNotMatches(a, b):\n",
    "    return [x for x in b if x not in a]\n",
    "\n",
    "missing = returnNotMatches(a, b)\n",
    "len(missing)\n",
    "missing\n"
   ]
  },
  {
   "cell_type": "code",
   "execution_count": 5,
   "metadata": {},
   "outputs": [],
   "source": [
    "# Rename homes from covid to match ltc (MANUAL)\n",
    "# Homes that are commented out are homes from the global scrape that do not have a match in seniors adv\n",
    "covid[\"cleaned_name\"].replace({\n",
    "    \n",
    " 'worthington pavilion lctf': 'cottage and worthington pavilions - msa hospital',\n",
    " 'evergreen house': 'evergreen house - lions gate hospital',\n",
    "#  'swedish canadian manor, assisted living',\n",
    "#  'amica retirement home',\n",
    "#  'lions gate hospital',\n",
    " 'little mountain long-term care facility': 'little mountain place',\n",
    "#  'joseph & rosalie segal family health centre',\n",
    "#  'chartwell willow long-term care\\xa0',\n",
    "#  'maple hill',\n",
    " 'inglewood lodge': 'inglewood care centre',\n",
    "#  'evergreen heights', AL\n",
    " 'valhaven home': 'valhaven rest home',\n",
    "#  'the cedars in mission',\n",
    "#  'cedarbrook chateau independent living',\n",
    "#  'ridge meadows hospital (medicine unite 3n)',\n",
    "#  'ridge meadows hospital (rehab am',\n",
    "#  'derby manor – independent living',\n",
    "#  'new vista care centre': 'new vista care home',\n",
    " 'delta view care centre\\xa0': 'delta view life enrichment centre',\n",
    "        # delta view habilitation centre is listed separately in seniors advocate but is aa part of the same center\n",
    " 'residence at clayton heights, acquired brain injury unit':'the residence at clayton heights',\n",
    "#  'hawthorn park / orchard manor',\n",
    "#  'abbotsford regional hospital',\n",
    "#  'ridge meadows hospital (unit 3w)',\n",
    "#  'mission memorial hospital\\xa0',\n",
    " 'queen’s park care centre':'queen\\'s park care centre',\n",
    "#  'worthington pavilion / msa rehab – acute': 'cottage and worthington pavilions - msa hospital',\n",
    " 'langley memorial hospital maple hill long-term care facility':'langley memorial hospital ecu',\n",
    "#  'hollyburn house',\n",
    "#  'kootenay street village',\n",
    "#  'amica edgemont',\n",
    "#  'richmond hospital',\n",
    " 'the harrison at elim village':'elim village - the harrison / harrison west',\n",
    "#  'south granville park lodge',\n",
    " 'msa manor long-term care facility':'msa manor',\n",
    " 'villa cathay':'villa cathay care home'\n",
    "#  'shaughnessy care center'\n",
    "    \n",
    "}, inplace=True)"
   ]
  },
  {
   "cell_type": "code",
   "execution_count": 6,
   "metadata": {},
   "outputs": [
    {
     "data": {
      "text/plain": [
       "True     34\n",
       "False    24\n",
       "Name: cleaned_name, dtype: int64"
      ]
     },
     "execution_count": 6,
     "metadata": {},
     "output_type": "execute_result"
    }
   ],
   "source": [
    "# After renaming 12 homes, we see that 36 homes from covid are respresented in seniors adv\n",
    "covid['cleaned_name'].isin(ltc['cleaned_name']).value_counts()"
   ]
  },
  {
   "cell_type": "code",
   "execution_count": 7,
   "metadata": {},
   "outputs": [
    {
     "name": "stdout",
     "output_type": "stream",
     "text": [
      "worthington pavilion / msa rehab – acute\n",
      "the cedars in mission\n",
      "swedish canadian manor, assisted living\n",
      "shaughnessy care center\n",
      "kootenay street village\n",
      "derby manor – independent living\n",
      "ridge meadows hospital (unit 3w)\n",
      "abbotsford regional hospital\n",
      "cedarbrook chateau independent living\n",
      "hawthorn park / orchard manor\n",
      "amica edgemont\n",
      "maple hill\n",
      "lions gate hospital\n",
      "hollyburn house\n",
      "joseph & rosalie segal family health centre\n",
      "ridge meadows hospital (medicine unite 3n)\n",
      "amica retirement home\n",
      "richmond hospital\n",
      "ridge meadows hospital (rehab am\n",
      "new vista care centre\n",
      "mission memorial hospital \n",
      "south granville park lodge\n",
      "evergreen heights\n",
      "chartwell willow long-term care \n"
     ]
    }
   ],
   "source": [
    "# Again we look at the homes from covid that are not found in ltc\n",
    "a = set(ltc['cleaned_name'])\n",
    "b = set(covid['cleaned_name'])\n",
    "\n",
    "def returnNotMatches(a, b):\n",
    "    return [x for x in b if x not in a]\n",
    "\n",
    "missing = returnNotMatches(a, b)\n",
    "len(missing)\n",
    "for each in missing:\n",
    "    print(each)"
   ]
  },
  {
   "cell_type": "markdown",
   "metadata": {},
   "source": [
    "### Manual review of homes from global scrape that are not found in the seniors adv db\n",
    "Assisted Living\n",
    "1. swedish canadian manor, assisted living\n",
    "2. the cedars in mission\n",
    "3. cedarbrook chateau independent living\n",
    "4. amica retirement home\n",
    "5. shaughnessy care center\n",
    "6. evergreen heights\n",
    "7. derby manor – independent living\n",
    "8. amica edgemont\n",
    "9. hollyburn house\n",
    "\n",
    "Hospital\n",
    "10. lions gate hospital\n",
    "11. richmond hospital\n",
    "12. ridge meadows hospital (medicine unite 3n)\n",
    "13. ridge meadows hospital (rehab am\n",
    "14. ridge meadows hospital (unit 3w)\n",
    "15. mission memorial hospital\n",
    "16. abbotsford regional hospital\n",
    "\n",
    "Other\n",
    "17. maple hill\n",
    "    - unclear what this refers to\n",
    "18. joseph & rosalie segal family health centre\n",
    "    - mental health and substance\n",
    "19. south granville park lodge\n",
    "    - ?? assisted living\n",
    "    - https://www.sgplodge.com/\n",
    "20. chartwell willow long-term care \n",
    "    - https://www.fraserhealth.ca/news/2020/Jun/fraser-health-declares-covid-19-outbreaks-over-at-five-facilities#.Xz_0KdNKjfY\n",
    "    - **is a LTC home** in Fraser but not in ltc\n",
    "21. hawthorn park / orchard manor\n",
    "    - **is a LTC home** in IH but not in ltc\n",
    "22. kootenay street village\n",
    "    - **is a LTC home** in IH but not in ltc\n",
    "Duplicated in Global scrape (case and death are different, question for Globalnews?)\n",
    "23. worthington pavilion / msa rehab – acute\n",
    "    - Worthington Pavilion LCTF\t7\t1\tworthington pavilion lctf\n",
    "    - Worthington Pavilion / MSA Rehab – Acute\t16\t4\tworthington pavilion / msa rehab \n",
    "24. new vista care centre\n",
    "    - New Vista Care Centre\t12\t1\tnew vista care centre\n",
    "    - New Vista Care Home\t6\t1\tnew vista care home\n"
   ]
  },
  {
   "cell_type": "code",
   "execution_count": 8,
   "metadata": {},
   "outputs": [
    {
     "data": {
      "text/html": [
       "<div>\n",
       "<style scoped>\n",
       "    .dataframe tbody tr th:only-of-type {\n",
       "        vertical-align: middle;\n",
       "    }\n",
       "\n",
       "    .dataframe tbody tr th {\n",
       "        vertical-align: top;\n",
       "    }\n",
       "\n",
       "    .dataframe thead th {\n",
       "        text-align: right;\n",
       "    }\n",
       "</style>\n",
       "<table border=\"1\" class=\"dataframe\">\n",
       "  <thead>\n",
       "    <tr style=\"text-align: right;\">\n",
       "      <th></th>\n",
       "      <th>facility_name</th>\n",
       "      <th>num_cases</th>\n",
       "      <th>num_deaths</th>\n",
       "      <th>cleaned_name</th>\n",
       "    </tr>\n",
       "  </thead>\n",
       "  <tbody>\n",
       "    <tr>\n",
       "      <th>4</th>\n",
       "      <td>New Vista Care Centre</td>\n",
       "      <td>12</td>\n",
       "      <td>1</td>\n",
       "      <td>new vista care centre</td>\n",
       "    </tr>\n",
       "    <tr>\n",
       "      <th>30</th>\n",
       "      <td>New Vista Care Home</td>\n",
       "      <td>6</td>\n",
       "      <td>1</td>\n",
       "      <td>new vista care home</td>\n",
       "    </tr>\n",
       "  </tbody>\n",
       "</table>\n",
       "</div>"
      ],
      "text/plain": [
       "            facility_name  num_cases  num_deaths           cleaned_name\n",
       "4   New Vista Care Centre  12         1           new vista care centre\n",
       "30  New Vista Care Home    6          1           new vista care home  "
      ]
     },
     "execution_count": 8,
     "metadata": {},
     "output_type": "execute_result"
    }
   ],
   "source": [
    "# Code to review homes in the dbs individually/manually\n",
    "# for ltc\n",
    "ltc['cleaned_name'][ltc['cleaned_name'].str.contains('shaughnessy', regex=False, na=False)]\n",
    "\n",
    "# for covid\n",
    "covid[covid['cleaned_name'].str.contains('vista', regex=False, na=False)]\n"
   ]
  },
  {
   "cell_type": "code",
   "execution_count": 9,
   "metadata": {},
   "outputs": [
    {
     "name": "stdout",
     "output_type": "stream",
     "text": [
      "<class 'pandas.core.frame.DataFrame'>\n",
      "Int64Index: 297 entries, 0 to 296\n",
      "Columns: 104 entries, FACILITY_NAME to num_deaths\n",
      "dtypes: float64(22), int64(6), object(76)\n",
      "memory usage: 243.6+ KB\n"
     ]
    },
    {
     "data": {
      "text/plain": [
       "297"
      ]
     },
     "execution_count": 9,
     "metadata": {},
     "output_type": "execute_result"
    }
   ],
   "source": [
    "# Merge the seniors adv data (ltc) with the covid data (global)\n",
    "merged = pd.merge(left=ltc, right=covid, \n",
    "                  how='left', left_on='cleaned_name', right_on='cleaned_name')\n",
    "merged.info()\n",
    "merged.tail()\n",
    "merged['FACILITY_NAME'].nunique()\n"
   ]
  },
  {
   "cell_type": "code",
   "execution_count": 10,
   "metadata": {},
   "outputs": [
    {
     "name": "stdout",
     "output_type": "stream",
     "text": [
      "<class 'pandas.core.frame.DataFrame'>\n",
      "Int64Index: 297 entries, 0 to 296\n",
      "Columns: 105 entries, FACILITY_NAME to outbreak\n",
      "dtypes: float64(22), int64(6), object(77)\n",
      "memory usage: 246.0+ KB\n"
     ]
    },
    {
     "data": {
      "text/plain": [
       "no     263\n",
       "yes    34 \n",
       "Name: outbreak, dtype: int64"
      ]
     },
     "execution_count": 10,
     "metadata": {},
     "output_type": "execute_result"
    }
   ],
   "source": [
    "# Create an outbreak status column\n",
    "merged['outbreak'] = merged.facility_name.isna().apply(lambda x: 'no' if x==True else 'yes')\n",
    "merged.info()\n",
    "merged['outbreak'].value_counts()\n",
    "# merged.head()\n"
   ]
  },
  {
   "cell_type": "code",
   "execution_count": 11,
   "metadata": {},
   "outputs": [],
   "source": [
    "merged.to_csv(r'../data/BC/ngan_merged_SAtoGLOBAL.csv', index = False)"
   ]
  },
  {
   "cell_type": "code",
   "execution_count": null,
   "metadata": {},
   "outputs": [],
   "source": [
    "# from fuzzywuzzy import process\n",
    "\n",
    "# # Use fuzzy match to names from ltc, with names from the covid that did not match and create a dictionary \n",
    "# # with keys = names from covid and values = matches suggested by fuzzy from ltc \n",
    "# in_missing = list()\n",
    "# in_ltc = list()\n",
    "\n",
    "# for each in missing:\n",
    "#     in_missing.append(each)\n",
    "#     highest = process.extractOne(each, ltc['FACILITY_NAME'])\n",
    "#     in_ltc.append(highest)\n",
    "\n",
    "# dictionary = dict(zip(in_missing, in_ltc))"
   ]
  }
 ],
 "metadata": {
  "kernelspec": {
   "display_name": "Python 3",
   "language": "python",
   "name": "python3"
  },
  "language_info": {
   "codemirror_mode": {
    "name": "ipython",
    "version": 3
   },
   "file_extension": ".py",
   "mimetype": "text/x-python",
   "name": "python",
   "nbconvert_exporter": "python",
   "pygments_lexer": "ipython3",
   "version": "3.7.0"
  }
 },
 "nbformat": 4,
 "nbformat_minor": 2
}
