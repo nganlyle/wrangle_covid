{
 "cells": [
  {
   "cell_type": "code",
   "execution_count": 1,
   "metadata": {},
   "outputs": [],
   "source": [
    "import numpy as np\n",
    "import pandas as pd\n",
    "pd.set_option('display.max_rows', None)\n",
    "pd.set_option('display.max_columns', None)\n",
    "pd.set_option('display.width', None)\n",
    "pd.set_option('display.max_colwidth', -1)\n"
   ]
  },
  {
   "cell_type": "code",
   "execution_count": 2,
   "metadata": {},
   "outputs": [
    {
     "name": "stdout",
     "output_type": "stream",
     "text": [
      "<class 'pandas.core.frame.DataFrame'>\n",
      "RangeIndex: 297 entries, 0 to 296\n",
      "Columns: 105 entries, FACILITY_NAME to outbreak\n",
      "dtypes: float64(22), int64(6), object(77)\n",
      "memory usage: 243.7+ KB\n"
     ]
    }
   ],
   "source": [
    "# Import the data excluding the 1st column HCC_CODE, so there are <=100 columns so df.info() will work\n",
    "# 297 homes\n",
    "\n",
    "# ltc = pd.read_excel('../data/BC/QFD2019-public release-20191009.xlsx', sheet_name = 'QFD 2019', usecols=range(1, 101))\n",
    "# ltc.info()\n",
    "\n",
    "ltc = pd.read_csv('../data/BC/ngan_final_bcltc.csv')\n",
    "ltc.info()\n",
    "\n"
   ]
  },
  {
   "cell_type": "code",
   "execution_count": 3,
   "metadata": {},
   "outputs": [],
   "source": [
    "# Remove rows identified as special units\n",
    "# Three facilities have special care units identified in the Directory with a separate data. These are not normally counted as separate facilities.\n",
    "ltc = ltc[~ltc.FACILITY_NAME.str.contains(\"Special Unit\", na=False)]\n",
    "\n"
   ]
  },
  {
   "cell_type": "code",
   "execution_count": 4,
   "metadata": {},
   "outputs": [],
   "source": [
    "# Remove rows with fewer than 7 beds\n",
    "# Data has been suppressed for facilities with 5 beds or less\n",
    "# Bella Coola General Hospital (VCHA)\n",
    "# Mackenzie & District Hospital and Health Centre (NHA)\n",
    "# Northern Haida Gwaii Hospital and Health Centre (NHA)\n",
    "# R.W. Large Memorial Hospital (6 beds but suppressed at VCHA's request)\n",
    "ltc = ltc.loc[ltc['BEDS_TOTAL'] > 7] \n",
    "\n"
   ]
  },
  {
   "cell_type": "code",
   "execution_count": 5,
   "metadata": {},
   "outputs": [],
   "source": [
    "# Remove Cariboo Place as it just opened last year and is missing a lot of data\n",
    "# There is one new facility added this year. Cariboo Place opened on April 1, 2019. It is included for searchability, but will have no indicator data for 2018/19.\n",
    "ltc = ltc[~ltc.FACILITY_NAME.str.contains(\"Cariboo\", na=False)]"
   ]
  },
  {
   "cell_type": "code",
   "execution_count": 6,
   "metadata": {},
   "outputs": [],
   "source": [
    "# Remove facilities in Northern Health\n",
    "# Complaints data for Hospital Act facilities in Northern Health are not available\n",
    "ltc = ltc[~ltc.HLTH_AUTH.str.contains(\"Northern\", na=False)]"
   ]
  },
  {
   "cell_type": "code",
   "execution_count": 7,
   "metadata": {},
   "outputs": [],
   "source": [
    "# Remove facilities in Island Health\n",
    "# Incident data for Hospital Act facilities in Vancouver Island Health are not available\n",
    "ltc = ltc[~ltc.HLTH_AUTH.str.contains(\"Island\", na=False)]"
   ]
  },
  {
   "cell_type": "code",
   "execution_count": 8,
   "metadata": {},
   "outputs": [
    {
     "name": "stdout",
     "output_type": "stream",
     "text": [
      "<class 'pandas.core.frame.DataFrame'>\n",
      "Int64Index: 208 entries, 3 to 296\n",
      "Columns: 105 entries, FACILITY_NAME to outbreak\n",
      "dtypes: float64(22), int64(6), object(77)\n",
      "memory usage: 172.2+ KB\n"
     ]
    }
   ],
   "source": [
    "ltc.info()"
   ]
  },
  {
   "cell_type": "code",
   "execution_count": 9,
   "metadata": {},
   "outputs": [],
   "source": [
    "# # Proportion of values missing for each column\n",
    "# def missing(dff):\n",
    "#     print (round((dff.isnull().sum() * 100/ len(dff)),2).sort_values(ascending=False))\n",
    "\n",
    "# missing(ltc)\n",
    "\n",
    "# # Column variables with > 10% of values missing\n",
    "# ltc.columns[ltc.isnull().mean() > 0.1]"
   ]
  },
  {
   "cell_type": "code",
   "execution_count": 10,
   "metadata": {},
   "outputs": [],
   "source": [
    "# x = ltc[ltc['CMI'].isnull()]\n",
    "# x\n",
    "# len(x)\n",
    "\n",
    "# ltc['CMI'].value_counts()\n",
    "# ltc.loc[ltc['CMI'] == 'suppressed']"
   ]
  },
  {
   "cell_type": "code",
   "execution_count": 11,
   "metadata": {},
   "outputs": [],
   "source": [
    "# Drop columns\n",
    "listofcols = [\n",
    "    # Not relevant\n",
    "    'STREET_ADDRESS',\n",
    "    'CITY',\n",
    "    'POSTAL',\n",
    "    'PHONE',\n",
    "    'OPERATOR_NAME',\n",
    "#     'COUNCIL',\n",
    "    'MEETINGS_HELD',\n",
    "    'PARKING_COSTS',\n",
    "    'ACCRED_EXPIRY',\n",
    "    'COMPLAINT_CONTACT',\n",
    "    'COMPLAINT_PHONE',\n",
    "    'SPENDING_ACCOUNT',\n",
    "    'FOOD_SERVICE',\n",
    "    'FOOD_PREP',\n",
    "    'FOOD_COST_LASTYR',\n",
    "    'FOOD_COST_CURRENTYR',\n",
    "    'LANGUAGES',\n",
    "    'WEBPAGE',\n",
    "    'SURVEY_URL',\n",
    "    'FEES_CABLE',\n",
    "    'FEES_TELE',\n",
    "    'FEES_INTERNET',\n",
    "    'FEES_OTHER',\n",
    "    'WEBPAGE',\n",
    "    'SURVEY_URL',\n",
    "    'MISSING_SURVEY',\n",
    "    'PER_DIEM_LASTYR',\n",
    "    'PER_DIEM_CURRENTYR',\n",
    "    'CONTRACTED_HOUSEKEEPING', # > 10% missing\n",
    "    'CONTRACTED_PLANT', # > 10% missing\n",
    "    \n",
    "    'DCH_NURSE_LASTYR',\n",
    "       'DCH_ALLIED_LASTYR', 'DCH_TOTAL_LASTYR',\n",
    "    \n",
    "    # Demographic/resident case descriptors may affect fatalities but should not affect outbreak status\n",
    "    'AGE', 'FEMALE',\n",
    "       'AGE_85_PLUS', 'AGE_UNDER_65', 'STAY_LENGTH', 'DEPRESSION',\n",
    "       'ADL_DEPENDENT', 'CPS_SEVERE', 'DEMENTIA', 'ABS_PHYS_ABUSIVE',\n",
    "       'ISE', 'ISE_LOW', 'THERAPY_PT', 'THERAPY_RT', 'THERAPY_OT',\n",
    "       'MEDS_DEPRESSION', 'MEDS_ANTIPSYCHOTICS', 'RESTRAINTS',\n",
    "    \n",
    "#     'CMI',\n",
    "    \n",
    "    # Excess of missing data\n",
    "    'ADVERSE_EVENT', # 275 listed as not applicable \n",
    "    'CONTRACTED_NURSING', 'CONTRACTED_CARE_AIDES'\n",
    "]\n",
    "\n",
    "ltc2 = ltc.drop(listofcols, axis = 1)\n"
   ]
  },
  {
   "cell_type": "code",
   "execution_count": 12,
   "metadata": {},
   "outputs": [],
   "source": [
    "# Convert datatype for CMI\n",
    "ltc2['CMI'] = pd.to_numeric(ltc2['CMI'])"
   ]
  },
  {
   "cell_type": "code",
   "execution_count": 13,
   "metadata": {},
   "outputs": [],
   "source": [
    "# Convert datatype for OPEN_DATE\n",
    "ltc2['OPEN_DATE'].replace({'2009 / 2016': \"2009\"}, inplace=True)\n",
    "ltc2['OPEN_DATE'] = pd.to_numeric(ltc2['OPEN_DATE'])\n",
    "\n",
    "# Create new columns WRT facility dates (surrogate for design standards)\n",
    "ltc2.loc[ltc2['OPEN_DATE'] > 1994, 'facility_design'] = 'post1994'\n",
    "ltc2.loc[ltc2['OPEN_DATE'] < 1994, 'facility_design'] = 'pre1994'"
   ]
  },
  {
   "cell_type": "code",
   "execution_count": 14,
   "metadata": {},
   "outputs": [],
   "source": [
    "# Define new variables for resident and family councils\n",
    "ltc2['RESIDENT_COUNCIL'] = ltc2['COUNCIL'].str.contains('Resident', regex=False, na=False)\n",
    "ltc2['FAMILY_COUNCIL'] = ltc2['COUNCIL'].str.contains('Family', regex=False, na=False)"
   ]
  },
  {
   "cell_type": "code",
   "execution_count": 15,
   "metadata": {},
   "outputs": [],
   "source": [
    "# Define proportion of private vs public beds\n",
    "ltc2['BEDS_PRIVATEprop'] = ltc2['BEDS_PRIVATE']/ltc2['BEDS_TOTAL']\n",
    "ltc2['BEDS_PUBLICprop'] = ltc2['BEDS_PUBLIC']/ltc2['BEDS_TOTAL']"
   ]
  },
  {
   "cell_type": "code",
   "execution_count": 16,
   "metadata": {},
   "outputs": [],
   "source": [
    "# Define total rooms and proportion of private rooms etc.\n",
    "ltc2['ROOMS_TOTAL'] = ltc2['ROOMS_PRIVATE'] + ltc2['ROOMS_SEMI'] + ltc2['ROOMS_MULTI']\n",
    "ltc2['ROOMS_PRIVATEprop'] = ltc2['ROOMS_PRIVATE']/ltc2['ROOMS_TOTAL']\n",
    "ltc2['ROOMS_SEMIprop'] = ltc2['ROOMS_SEMI']/ltc2['ROOMS_TOTAL']\n",
    "ltc2['ROOMS_MULTIprop'] = ltc2['ROOMS_MULTI']/ltc2['ROOMS_TOTAL']\n"
   ]
  },
  {
   "cell_type": "code",
   "execution_count": 17,
   "metadata": {
    "scrolled": true
   },
   "outputs": [
    {
     "name": "stdout",
     "output_type": "stream",
     "text": [
      "<class 'pandas.core.frame.DataFrame'>\n",
      "Int64Index: 208 entries, 3 to 296\n",
      "Data columns (total 63 columns):\n",
      "FACILITY_NAME              208 non-null object\n",
      "HLTH_AUTH                  208 non-null object\n",
      "OWNERSHIP                  208 non-null object\n",
      "OPEN_DATE                  199 non-null float64\n",
      "COUNCIL                    204 non-null object\n",
      "REGULATION                 208 non-null object\n",
      "ACCRED_STATUS              208 non-null object\n",
      "DCH_NURSE_CURRENTYR        208 non-null float64\n",
      "DCH_ALLIED_CURRENTYR       208 non-null float64\n",
      "DCH_TOTAL_CURRENTYR        208 non-null float64\n",
      "BEDS_PRIVATE               208 non-null int64\n",
      "BEDS_PUBLIC                208 non-null int64\n",
      "BEDS_TOTAL                 208 non-null int64\n",
      "ROOMS_PRIVATE              208 non-null int64\n",
      "ROOMS_SEMI                 208 non-null int64\n",
      "ROOMS_MULTI                208 non-null int64\n",
      "COMPLAINTS                 208 non-null object\n",
      "SUB_COMPLAINTS             208 non-null object\n",
      "INCIDENT_OUTBREAK          208 non-null object\n",
      "INCIDENT_ABUSE             208 non-null object\n",
      "INCIDENT_FALL              208 non-null object\n",
      "INCIDENT_POISON            208 non-null object\n",
      "INCIDENT_MEDICATION        208 non-null object\n",
      "INCIDENT_WANDERING         208 non-null object\n",
      "INCIDENT_INJURY            208 non-null object\n",
      "INCIDENT_AGGRESSION        208 non-null object\n",
      "INCIDENT_OUTBREAK_100      208 non-null object\n",
      "INCIDENT_ABUSE_100         208 non-null object\n",
      "INCIDENT_FALL_100          208 non-null object\n",
      "INCIDENT_POISON_100        208 non-null object\n",
      "INCIDENT_MEDICATION_100    208 non-null object\n",
      "INCIDENT_WANDERING_100     208 non-null object\n",
      "INCIDENT_INJURY_100        208 non-null object\n",
      "INCIDENT_AGGRESSION_100    208 non-null object\n",
      "CMI                        207 non-null float64\n",
      "INSPECTIONS                208 non-null float64\n",
      "INFRACTIONS                208 non-null float64\n",
      "INFRACTIONS_LICENSING      208 non-null float64\n",
      "INFRACTIONS_FACILITY       208 non-null float64\n",
      "INFRACTIONS_STAFFING       208 non-null float64\n",
      "INFRACTIONS_POLICY         208 non-null float64\n",
      "INFRACTIONS_CARE           208 non-null float64\n",
      "INFRACTIONS_DISEASE        208 non-null float64\n",
      "INFRACTIONS_FOOD           208 non-null float64\n",
      "INFRACTIONS_MEDICATION     208 non-null float64\n",
      "INFRACTIONS_PROGRAM        208 non-null float64\n",
      "INFRACTIONS_REPORTING      208 non-null float64\n",
      "INFRACTIONS_RIGHTS         208 non-null float64\n",
      "INFRACTIONS_OTHER          208 non-null float64\n",
      "cleaned_name               208 non-null object\n",
      "facility_name              34 non-null object\n",
      "num_cases                  34 non-null float64\n",
      "num_deaths                 34 non-null float64\n",
      "outbreak                   208 non-null object\n",
      "facility_design            196 non-null object\n",
      "RESIDENT_COUNCIL           208 non-null bool\n",
      "FAMILY_COUNCIL             208 non-null bool\n",
      "BEDS_PRIVATEprop           208 non-null float64\n",
      "BEDS_PUBLICprop            208 non-null float64\n",
      "ROOMS_TOTAL                208 non-null int64\n",
      "ROOMS_PRIVATEprop          203 non-null float64\n",
      "ROOMS_SEMIprop             203 non-null float64\n",
      "ROOMS_MULTIprop            203 non-null float64\n",
      "dtypes: bool(2), float64(26), int64(7), object(28)\n",
      "memory usage: 101.2+ KB\n"
     ]
    },
    {
     "data": {
      "text/plain": [
       "array(['FACILITY_NAME', 'HLTH_AUTH', 'OWNERSHIP', 'OPEN_DATE', 'COUNCIL',\n",
       "       'REGULATION', 'ACCRED_STATUS', 'DCH_NURSE_CURRENTYR',\n",
       "       'DCH_ALLIED_CURRENTYR', 'DCH_TOTAL_CURRENTYR', 'BEDS_PRIVATE',\n",
       "       'BEDS_PUBLIC', 'BEDS_TOTAL', 'ROOMS_PRIVATE', 'ROOMS_SEMI',\n",
       "       'ROOMS_MULTI', 'COMPLAINTS', 'SUB_COMPLAINTS', 'INCIDENT_OUTBREAK',\n",
       "       'INCIDENT_ABUSE', 'INCIDENT_FALL', 'INCIDENT_POISON',\n",
       "       'INCIDENT_MEDICATION', 'INCIDENT_WANDERING', 'INCIDENT_INJURY',\n",
       "       'INCIDENT_AGGRESSION', 'INCIDENT_OUTBREAK_100',\n",
       "       'INCIDENT_ABUSE_100', 'INCIDENT_FALL_100', 'INCIDENT_POISON_100',\n",
       "       'INCIDENT_MEDICATION_100', 'INCIDENT_WANDERING_100',\n",
       "       'INCIDENT_INJURY_100', 'INCIDENT_AGGRESSION_100', 'CMI',\n",
       "       'INSPECTIONS', 'INFRACTIONS', 'INFRACTIONS_LICENSING',\n",
       "       'INFRACTIONS_FACILITY', 'INFRACTIONS_STAFFING',\n",
       "       'INFRACTIONS_POLICY', 'INFRACTIONS_CARE', 'INFRACTIONS_DISEASE',\n",
       "       'INFRACTIONS_FOOD', 'INFRACTIONS_MEDICATION',\n",
       "       'INFRACTIONS_PROGRAM', 'INFRACTIONS_REPORTING',\n",
       "       'INFRACTIONS_RIGHTS', 'INFRACTIONS_OTHER', 'cleaned_name',\n",
       "       'facility_name', 'num_cases', 'num_deaths', 'outbreak',\n",
       "       'facility_design', 'RESIDENT_COUNCIL', 'FAMILY_COUNCIL',\n",
       "       'BEDS_PRIVATEprop', 'BEDS_PUBLICprop', 'ROOMS_TOTAL',\n",
       "       'ROOMS_PRIVATEprop', 'ROOMS_SEMIprop', 'ROOMS_MULTIprop'],\n",
       "      dtype=object)"
      ]
     },
     "execution_count": 17,
     "metadata": {},
     "output_type": "execute_result"
    }
   ],
   "source": [
    "ltc2.info()\n",
    "ltc2.head()\n",
    "ltc2.columns.values"
   ]
  },
  {
   "cell_type": "code",
   "execution_count": 21,
   "metadata": {},
   "outputs": [],
   "source": [
    "listofcols = ['HLTH_AUTH', 'OPEN_DATE', 'COUNCIL']\n",
    "ltc3 = ltc2.drop(listofcols, axis = 1)"
   ]
  },
  {
   "cell_type": "code",
   "execution_count": 22,
   "metadata": {},
   "outputs": [],
   "source": [
    "# For homes without facility design data, impute unknown\n",
    "ltc3[\"facility_design\"].fillna(\"unknown\", inplace = True)\n",
    "ltc3[\"facility_name\"].fillna(\"na\", inplace = True)\n",
    "ltc3[\"num_cases\"].fillna(\"na\", inplace = True)\n",
    "ltc3[\"num_deaths\"].fillna(\"na\", inplace = True)"
   ]
  },
  {
   "cell_type": "code",
   "execution_count": 23,
   "metadata": {},
   "outputs": [
    {
     "name": "stdout",
     "output_type": "stream",
     "text": [
      "<class 'pandas.core.frame.DataFrame'>\n",
      "Int64Index: 208 entries, 3 to 296\n",
      "Data columns (total 60 columns):\n",
      "FACILITY_NAME              208 non-null object\n",
      "OWNERSHIP                  208 non-null object\n",
      "REGULATION                 208 non-null object\n",
      "ACCRED_STATUS              208 non-null object\n",
      "DCH_NURSE_CURRENTYR        208 non-null float64\n",
      "DCH_ALLIED_CURRENTYR       208 non-null float64\n",
      "DCH_TOTAL_CURRENTYR        208 non-null float64\n",
      "BEDS_PRIVATE               208 non-null int64\n",
      "BEDS_PUBLIC                208 non-null int64\n",
      "BEDS_TOTAL                 208 non-null int64\n",
      "ROOMS_PRIVATE              208 non-null int64\n",
      "ROOMS_SEMI                 208 non-null int64\n",
      "ROOMS_MULTI                208 non-null int64\n",
      "COMPLAINTS                 208 non-null object\n",
      "SUB_COMPLAINTS             208 non-null object\n",
      "INCIDENT_OUTBREAK          208 non-null object\n",
      "INCIDENT_ABUSE             208 non-null object\n",
      "INCIDENT_FALL              208 non-null object\n",
      "INCIDENT_POISON            208 non-null object\n",
      "INCIDENT_MEDICATION        208 non-null object\n",
      "INCIDENT_WANDERING         208 non-null object\n",
      "INCIDENT_INJURY            208 non-null object\n",
      "INCIDENT_AGGRESSION        208 non-null object\n",
      "INCIDENT_OUTBREAK_100      208 non-null object\n",
      "INCIDENT_ABUSE_100         208 non-null object\n",
      "INCIDENT_FALL_100          208 non-null object\n",
      "INCIDENT_POISON_100        208 non-null object\n",
      "INCIDENT_MEDICATION_100    208 non-null object\n",
      "INCIDENT_WANDERING_100     208 non-null object\n",
      "INCIDENT_INJURY_100        208 non-null object\n",
      "INCIDENT_AGGRESSION_100    208 non-null object\n",
      "CMI                        207 non-null float64\n",
      "INSPECTIONS                208 non-null float64\n",
      "INFRACTIONS                208 non-null float64\n",
      "INFRACTIONS_LICENSING      208 non-null float64\n",
      "INFRACTIONS_FACILITY       208 non-null float64\n",
      "INFRACTIONS_STAFFING       208 non-null float64\n",
      "INFRACTIONS_POLICY         208 non-null float64\n",
      "INFRACTIONS_CARE           208 non-null float64\n",
      "INFRACTIONS_DISEASE        208 non-null float64\n",
      "INFRACTIONS_FOOD           208 non-null float64\n",
      "INFRACTIONS_MEDICATION     208 non-null float64\n",
      "INFRACTIONS_PROGRAM        208 non-null float64\n",
      "INFRACTIONS_REPORTING      208 non-null float64\n",
      "INFRACTIONS_RIGHTS         208 non-null float64\n",
      "INFRACTIONS_OTHER          208 non-null float64\n",
      "cleaned_name               208 non-null object\n",
      "facility_name              208 non-null object\n",
      "num_cases                  208 non-null object\n",
      "num_deaths                 208 non-null object\n",
      "outbreak                   208 non-null object\n",
      "facility_design            208 non-null object\n",
      "RESIDENT_COUNCIL           208 non-null bool\n",
      "FAMILY_COUNCIL             208 non-null bool\n",
      "BEDS_PRIVATEprop           208 non-null float64\n",
      "BEDS_PUBLICprop            208 non-null float64\n",
      "ROOMS_TOTAL                208 non-null int64\n",
      "ROOMS_PRIVATEprop          203 non-null float64\n",
      "ROOMS_SEMIprop             203 non-null float64\n",
      "ROOMS_MULTIprop            203 non-null float64\n",
      "dtypes: bool(2), float64(23), int64(7), object(28)\n",
      "memory usage: 96.3+ KB\n"
     ]
    }
   ],
   "source": [
    "ltc3.info()"
   ]
  },
  {
   "cell_type": "code",
   "execution_count": 24,
   "metadata": {
    "scrolled": true
   },
   "outputs": [
    {
     "name": "stdout",
     "output_type": "stream",
     "text": [
      "<class 'pandas.core.frame.DataFrame'>\n",
      "Int64Index: 202 entries, 3 to 296\n",
      "Data columns (total 60 columns):\n",
      "FACILITY_NAME              202 non-null object\n",
      "OWNERSHIP                  202 non-null object\n",
      "REGULATION                 202 non-null object\n",
      "ACCRED_STATUS              202 non-null object\n",
      "DCH_NURSE_CURRENTYR        202 non-null float64\n",
      "DCH_ALLIED_CURRENTYR       202 non-null float64\n",
      "DCH_TOTAL_CURRENTYR        202 non-null float64\n",
      "BEDS_PRIVATE               202 non-null int64\n",
      "BEDS_PUBLIC                202 non-null int64\n",
      "BEDS_TOTAL                 202 non-null int64\n",
      "ROOMS_PRIVATE              202 non-null int64\n",
      "ROOMS_SEMI                 202 non-null int64\n",
      "ROOMS_MULTI                202 non-null int64\n",
      "COMPLAINTS                 202 non-null object\n",
      "SUB_COMPLAINTS             202 non-null object\n",
      "INCIDENT_OUTBREAK          202 non-null object\n",
      "INCIDENT_ABUSE             202 non-null object\n",
      "INCIDENT_FALL              202 non-null object\n",
      "INCIDENT_POISON            202 non-null object\n",
      "INCIDENT_MEDICATION        202 non-null object\n",
      "INCIDENT_WANDERING         202 non-null object\n",
      "INCIDENT_INJURY            202 non-null object\n",
      "INCIDENT_AGGRESSION        202 non-null object\n",
      "INCIDENT_OUTBREAK_100      202 non-null object\n",
      "INCIDENT_ABUSE_100         202 non-null object\n",
      "INCIDENT_FALL_100          202 non-null object\n",
      "INCIDENT_POISON_100        202 non-null object\n",
      "INCIDENT_MEDICATION_100    202 non-null object\n",
      "INCIDENT_WANDERING_100     202 non-null object\n",
      "INCIDENT_INJURY_100        202 non-null object\n",
      "INCIDENT_AGGRESSION_100    202 non-null object\n",
      "CMI                        202 non-null float64\n",
      "INSPECTIONS                202 non-null float64\n",
      "INFRACTIONS                202 non-null float64\n",
      "INFRACTIONS_LICENSING      202 non-null float64\n",
      "INFRACTIONS_FACILITY       202 non-null float64\n",
      "INFRACTIONS_STAFFING       202 non-null float64\n",
      "INFRACTIONS_POLICY         202 non-null float64\n",
      "INFRACTIONS_CARE           202 non-null float64\n",
      "INFRACTIONS_DISEASE        202 non-null float64\n",
      "INFRACTIONS_FOOD           202 non-null float64\n",
      "INFRACTIONS_MEDICATION     202 non-null float64\n",
      "INFRACTIONS_PROGRAM        202 non-null float64\n",
      "INFRACTIONS_REPORTING      202 non-null float64\n",
      "INFRACTIONS_RIGHTS         202 non-null float64\n",
      "INFRACTIONS_OTHER          202 non-null float64\n",
      "cleaned_name               202 non-null object\n",
      "facility_name              202 non-null object\n",
      "num_cases                  202 non-null object\n",
      "num_deaths                 202 non-null object\n",
      "outbreak                   202 non-null object\n",
      "facility_design            202 non-null object\n",
      "RESIDENT_COUNCIL           202 non-null bool\n",
      "FAMILY_COUNCIL             202 non-null bool\n",
      "BEDS_PRIVATEprop           202 non-null float64\n",
      "BEDS_PUBLICprop            202 non-null float64\n",
      "ROOMS_TOTAL                202 non-null int64\n",
      "ROOMS_PRIVATEprop          202 non-null float64\n",
      "ROOMS_SEMIprop             202 non-null float64\n",
      "ROOMS_MULTIprop            202 non-null float64\n",
      "dtypes: bool(2), float64(23), int64(7), object(28)\n",
      "memory usage: 93.5+ KB\n"
     ]
    }
   ],
   "source": [
    "# ltc3.loc[ltc3['DCH_NURSE_LASTYR'].isnull()]\n",
    "ltc4 = ltc3[~ltc3.isna().any(axis=1)]\n",
    "ltc4.info()"
   ]
  },
  {
   "cell_type": "code",
   "execution_count": 25,
   "metadata": {},
   "outputs": [],
   "source": [
    "ltc4.to_csv(r'../data/BC/ngan_bcLTC_foranalysis.csv', index = False)"
   ]
  },
  {
   "cell_type": "code",
   "execution_count": null,
   "metadata": {},
   "outputs": [],
   "source": []
  },
  {
   "cell_type": "code",
   "execution_count": null,
   "metadata": {},
   "outputs": [],
   "source": [
    "ltc2['facility_design'].value_counts()\n",
    "\n",
    "# x = [i for i in ltc['OPEN_DATE'] if i>1994]\n",
    "# len(x)"
   ]
  },
  {
   "cell_type": "code",
   "execution_count": null,
   "metadata": {},
   "outputs": [],
   "source": [
    "ltc['ADVERSE_EVENT'].value_counts()\n",
    "# Need to create new columns for Resident Council, Family Council \n"
   ]
  }
 ],
 "metadata": {
  "kernelspec": {
   "display_name": "Python 3",
   "language": "python",
   "name": "python3"
  },
  "language_info": {
   "codemirror_mode": {
    "name": "ipython",
    "version": 3
   },
   "file_extension": ".py",
   "mimetype": "text/x-python",
   "name": "python",
   "nbconvert_exporter": "python",
   "pygments_lexer": "ipython3",
   "version": "3.7.0"
  }
 },
 "nbformat": 4,
 "nbformat_minor": 2
}
