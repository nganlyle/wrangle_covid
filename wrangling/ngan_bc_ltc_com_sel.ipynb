{
 "cells": [
  {
   "cell_type": "code",
   "execution_count": null,
   "metadata": {},
   "outputs": [],
   "source": [
    "import numpy as np\n",
    "import pandas as pd\n",
    "pd.set_option('display.max_rows', None)\n",
    "pd.set_option('display.max_columns', None)\n",
    "pd.set_option('display.width', None)\n",
    "pd.set_option('display.max_colwidth', -1)"
   ]
  },
  {
   "cell_type": "code",
   "execution_count": null,
   "metadata": {},
   "outputs": [],
   "source": [
    "# Import the data \n",
    "ltc = pd.read_csv('../data/BC/ngan_merged_OSAtoCOVID.csv')\n",
    "ltc.info()\n",
    "ltc.columns.values\n",
    "# for each in ltc.columns.values:\n",
    "#     print(each)"
   ]
  },
  {
   "cell_type": "markdown",
   "metadata": {},
   "source": [
    "# Create the Complete Dataset ltc_com"
   ]
  },
  {
   "cell_type": "code",
   "execution_count": null,
   "metadata": {},
   "outputs": [],
   "source": [
    "ltc_com = ltc\n",
    "# Define new variables for resident and family councils\n",
    "ltc_com['RESIDENT_COUNCIL'] = ltc_com['COUNCIL'].str.contains('Resident', regex=False, na=False)\n",
    "ltc_com['FAMILY_COUNCIL'] = ltc_com['COUNCIL'].str.contains('Family', regex=False, na=False)\n",
    "\n",
    "# Define proportion of private vs public beds\n",
    "ltc_com['BEDS_PRIVATEprop'] = ltc_com['BEDS_PRIVATE']/ltc_com['BEDS_TOTAL']"
   ]
  },
  {
   "cell_type": "code",
   "execution_count": null,
   "metadata": {},
   "outputs": [],
   "source": [
    "# Drop irrelevant columns\n",
    "ls = [\n",
    "    'PHONE', \n",
    "    'OPERATOR_NAME', # there are 100 unique values\n",
    "    'OPEN_DATE',\n",
    "    'COUNCIL',\n",
    "    'MEETINGS_HELD', \n",
    "    'PARKING_COSTS',\n",
    "    'ACCRED_EXPIRY',\n",
    "    'COMPLAINT_CONTACT', \n",
    "    'COMPLAINT_PHONE', \n",
    "    'SPENDING_ACCOUNT',\n",
    "    'FOOD_SERVICE', \n",
    "    'FOOD_PREP', \n",
    "    'FOOD_COST_LASTYR',\n",
    "    'FOOD_COST_CURRENTYR', \n",
    "    'LANGUAGES', \n",
    "    'FEES_CABLE',\n",
    "    'FEES_TELE', \n",
    "    'FEES_INTERNET', \n",
    "    'FEES_OTHER', \n",
    "    'BEDS_PRIVATE',\n",
    "    'BEDS_PUBLIC',\n",
    "    'ADVERSE_EVENT',    \n",
    "    'WEBPAGE', \n",
    "    'SURVEY_URL',\n",
    "    'MISSING_SURVEY',\n",
    "    'CONTRACTED_NURSING',\n",
    "    'CONTRACTED_CARE_AIDES',\n",
    "    'CONTRACTED_HOUSEKEEPING',\n",
    "    'CONTRACTED_PLANT',\n",
    "    'PER_DIEM_LASTYR',\n",
    "    'PER_DIEM_CURRENTYR',\n",
    "    'cleaned_name', \n",
    "    'Facility Name'\n",
    "]\n",
    "\n",
    "ltc_com = ltc_com.drop(ls, axis = 1)\n",
    "ltc_com.info()"
   ]
  },
  {
   "cell_type": "code",
   "execution_count": null,
   "metadata": {},
   "outputs": [],
   "source": [
    "# Export the complete dataset\n",
    "ltc_com.to_csv(r'../data/BC/bc_ltc_complete.csv', index = False)"
   ]
  },
  {
   "cell_type": "markdown",
   "metadata": {},
   "source": [
    "# Create selected variables dataset ltc_sel"
   ]
  },
  {
   "cell_type": "code",
   "execution_count": null,
   "metadata": {},
   "outputs": [],
   "source": [
    "ltc_sel = ltc\n",
    "ltc_sel = ltc_sel.dropna(axis=1)\n",
    "ltc_sel.info()\n",
    "# ltc_sel.head()"
   ]
  },
  {
   "cell_type": "code",
   "execution_count": null,
   "metadata": {},
   "outputs": [],
   "source": [
    "# Drop irrelevant columns\n",
    "ls = [\n",
    "    'PHONE', \n",
    "    'OPERATOR_NAME', # there are 100 unique values\n",
    "    'BEDS_PRIVATE',\n",
    "    'BEDS_PUBLIC',\n",
    "    'ADVERSE_EVENT',    \n",
    "    'WEBPAGE', \n",
    "    'cleaned_name', \n",
    "    'ACCRED_EXPIRY'\n",
    "]\n",
    "\n",
    "ltc_sel = ltc_sel.drop(ls, axis = 1)\n"
   ]
  },
  {
   "cell_type": "code",
   "execution_count": null,
   "metadata": {},
   "outputs": [],
   "source": [
    "# list(ltc_sel.columns.values) \n",
    "ltc_sel = ltc_sel[[\n",
    "        'FACILITY_NAME',\n",
    "        'HCC_CODE',\n",
    "        'HLTH_AUTH',\n",
    "        'OWNERSHIP',\n",
    "        'STREET_ADDRESS',\n",
    "        'CITY',\n",
    "        'POSTAL',\n",
    "        'REGULATION',\n",
    "        'ACCRED_STATUS',\n",
    "        'RESIDENT_COUNCIL',\n",
    "        'FAMILY_COUNCIL',\n",
    "        'BEDS_TOTAL',\n",
    "        'BEDS_PRIVATEprop',\n",
    "        'ROOMS_PRIVATE',\n",
    "        'ROOMS_SEMI',\n",
    "        'ROOMS_MULTI',\n",
    "        'latitude',\n",
    "        'longitude',\n",
    "        'outbreak',\n",
    "]]\n",
    "ltc_sel.info()\n",
    "ltc_sel.head()"
   ]
  },
  {
   "cell_type": "code",
   "execution_count": null,
   "metadata": {},
   "outputs": [],
   "source": [
    "# Export the selected dataset\n",
    "ltc_sel.to_csv(r'../data/BC/bc_ltc_selected.csv', index = False)"
   ]
  }
 ],
 "metadata": {
  "kernelspec": {
   "display_name": "Python 3",
   "language": "python",
   "name": "python3"
  },
  "language_info": {
   "codemirror_mode": {
    "name": "ipython",
    "version": 3
   },
   "file_extension": ".py",
   "mimetype": "text/x-python",
   "name": "python",
   "nbconvert_exporter": "python",
   "pygments_lexer": "ipython3",
   "version": "3.7.0"
  }
 },
 "nbformat": 4,
 "nbformat_minor": 2
}
