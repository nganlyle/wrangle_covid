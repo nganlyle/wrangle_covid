{
 "cells": [
  {
   "cell_type": "markdown",
   "metadata": {},
   "source": [
    "# Manually fill in those not found:"
   ]
  },
  {
   "cell_type": "code",
   "execution_count": null,
   "metadata": {},
   "outputs": [],
   "source": [
    "pd.read_csv('../data/bc_ltc_odhf_hosp.csv')"
   ]
  },
  {
   "cell_type": "code",
   "execution_count": null,
   "metadata": {},
   "outputs": [],
   "source": [
    "\n",
    "latitude = [42.970050, #langley lodge\n",
    "            49.250103, # Royal Arch Masonic Home\n",
    "            49.131930, # The Residence at Clayton Heights\n",
    "            48.64945, # Acacia Ty Mawr\n",
    "            49.316139, # Arrowsmith Lodge\n",
    "            49.15269, # Carelife Fleetwood\n",
    "            52.131640, # Cariboo Place\n",
    "            48.7894755] # Cerwydden Seniors Community\n",
    "                        # Chetwynd Hospital and Health Centre\n",
    "                        # Columbia Garden Village\n",
    "                        # Columbia House - Invermere District Hospital\n",
    "                        # Cormorant Island Health Centre\n",
    "                        # Czorny Alzheimer Centre\n",
    "                        # Dr. F. W. Green Memorial Home\n",
    "#            50.734730, \n",
    "#             50.029550,\n",
    "#            49.034680,\n",
    "#            54.050270,\n",
    "#            48.5957]\n",
    "\n",
    "longitude = [-81.241030, #langley lodge\n",
    "             -123.049278, # Royal Arch Masonic Home\n",
    "             -122.869420,# The Residence at Clayton Heights\n",
    "             -123.62411, # Acacia Ty Mawr\n",
    "             -124.322990, # Arrowsmith Lodge\n",
    "             -122.78202, # Carelife Fleetwood\n",
    "             -122.141540, # Cariboo Place\n",
    "             -123.7330132] # Cerwydden Seniors Community\n",
    "                        # Chetwynd Hospital and Health Centre\n",
    "                        # Columbia Garden Village\n",
    "                        # Columbia House - Invermere District Hospital\n",
    "                        # Cormorant Island Health Centre\n",
    "                        # Czorny Alzheimer Centre\n",
    "                        # Dr. F. W. Green Memorial Home     \n",
    "#            -121.280250,\n",
    "#            -119.398210,\n",
    "#            -119.477050,\n",
    "#            -128.647230,\n",
    "#            -123.4099]\n",
    "\n",
    "merge.replace({None : np.nan}, inplace = True)"
   ]
  },
  {
   "cell_type": "code",
   "execution_count": null,
   "metadata": {},
   "outputs": [],
   "source": [
    "for values in latitude:\n",
    "    merge['latitude'].fillna(values, limit = 1, inplace = True)\n",
    "\n",
    "for values in longitude:\n",
    "    merge['longitude'].fillna(values, limit = 1, inplace = True)\n",
    "    "
   ]
  }
 ],
 "metadata": {
  "kernelspec": {
   "display_name": "Python 3",
   "language": "python",
   "name": "python3"
  },
  "language_info": {
   "codemirror_mode": {
    "name": "ipython",
    "version": 3
   },
   "file_extension": ".py",
   "mimetype": "text/x-python",
   "name": "python",
   "nbconvert_exporter": "python",
   "pygments_lexer": "ipython3",
   "version": "3.7.4"
  }
 },
 "nbformat": 4,
 "nbformat_minor": 4
}
