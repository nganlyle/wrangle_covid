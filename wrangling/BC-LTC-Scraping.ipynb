{
 "cells": [
  {
   "cell_type": "markdown",
   "metadata": {},
   "source": [
    "\n",
    "# Outbreak Data Web Scrape\n",
    "\n",
    "From: [outbreaks](http://www.phsa.ca/current-outbreaks)\n",
    "\n",
    "---\n",
    "\n"
   ]
  },
  {
   "cell_type": "code",
   "execution_count": 120,
   "metadata": {},
   "outputs": [],
   "source": [
    "import requests\n",
    "import pandas as pd\n",
    "from bs4 import BeautifulSoup"
   ]
  },
  {
   "cell_type": "markdown",
   "metadata": {},
   "source": [
    "***Northern***"
   ]
  },
  {
   "cell_type": "code",
   "execution_count": 121,
   "metadata": {},
   "outputs": [],
   "source": [
    "re = requests.get('https://www.northernhealth.ca/health-topics/current-outbreaks')\n",
    "s = BeautifulSoup(re.text,'html5lib')\n",
    "table =s.find_all('td')"
   ]
  },
  {
   "cell_type": "code",
   "execution_count": 122,
   "metadata": {},
   "outputs": [],
   "source": [
    "d = ['city', 'facility', 'outbreaktype', 'datedeclared']\n",
    "outbreak = {}\n",
    "for each,i in zip(table,d):\n",
    "    outbreak[i] = each.text.strip()"
   ]
  },
  {
   "cell_type": "code",
   "execution_count": 123,
   "metadata": {},
   "outputs": [],
   "source": [
    "northern = pd.DataFrame(outbreak, index = [0])\n",
    "northern['health_authority'] = \"northern\""
   ]
  },
  {
   "cell_type": "code",
   "execution_count": 124,
   "metadata": {},
   "outputs": [],
   "source": [
    "northern.datedeclared = northern.datedeclared.str.replace('\\n\\n\\t\\t\\t', '-')"
   ]
  },
  {
   "cell_type": "code",
   "execution_count": 125,
   "metadata": {},
   "outputs": [
    {
     "data": {
      "text/html": [
       "<div>\n",
       "<style scoped>\n",
       "    .dataframe tbody tr th:only-of-type {\n",
       "        vertical-align: middle;\n",
       "    }\n",
       "\n",
       "    .dataframe tbody tr th {\n",
       "        vertical-align: top;\n",
       "    }\n",
       "\n",
       "    .dataframe thead th {\n",
       "        text-align: right;\n",
       "    }\n",
       "</style>\n",
       "<table border=\"1\" class=\"dataframe\">\n",
       "  <thead>\n",
       "    <tr style=\"text-align: right;\">\n",
       "      <th></th>\n",
       "      <th>city</th>\n",
       "      <th>facility</th>\n",
       "      <th>outbreaktype</th>\n",
       "      <th>datedeclared</th>\n",
       "      <th>health_authority</th>\n",
       "    </tr>\n",
       "  </thead>\n",
       "  <tbody>\n",
       "    <tr>\n",
       "      <th>0</th>\n",
       "      <td>None to date</td>\n",
       "      <td></td>\n",
       "      <td></td>\n",
       "      <td></td>\n",
       "      <td>northern</td>\n",
       "    </tr>\n",
       "  </tbody>\n",
       "</table>\n",
       "</div>"
      ],
      "text/plain": [
       "           city facility outbreaktype datedeclared health_authority\n",
       "0  None to date                                            northern"
      ]
     },
     "execution_count": 125,
     "metadata": {},
     "output_type": "execute_result"
    }
   ],
   "source": [
    "northern"
   ]
  },
  {
   "cell_type": "markdown",
   "metadata": {},
   "source": [
    "***Interior Health***"
   ]
  },
  {
   "cell_type": "code",
   "execution_count": 126,
   "metadata": {},
   "outputs": [],
   "source": [
    "ih = requests.get('https://www.interiorhealth.ca/YourEnvironment/CommunicableDiseaseControl/Outbreaks/Pages/default.aspx')\n",
    "ih = BeautifulSoup(ih.text,'html5lib')\n",
    "outbreaks = ih.find_all('table')[7]"
   ]
  },
  {
   "cell_type": "code",
   "execution_count": 127,
   "metadata": {},
   "outputs": [
    {
     "data": {
      "text/plain": [
       "'There are no items to show in this view of the \"Outbreaks\" list.'"
      ]
     },
     "execution_count": 127,
     "metadata": {},
     "output_type": "execute_result"
    }
   ],
   "source": [
    "outbreaks.find('td').text"
   ]
  },
  {
   "cell_type": "markdown",
   "metadata": {},
   "source": [
    "***Vancouver Island***"
   ]
  },
  {
   "cell_type": "code",
   "execution_count": 128,
   "metadata": {},
   "outputs": [],
   "source": [
    "vi = requests.get('https://www.healthspace.ca/Clients/VIHA/VIHA_Website.nsf/Outbreak')\n",
    "vi = BeautifulSoup(vi.text,'html5lib')\n",
    "outbreaks = vi.find('td')"
   ]
  },
  {
   "cell_type": "code",
   "execution_count": 129,
   "metadata": {},
   "outputs": [
    {
     "data": {
      "text/plain": [
       "' Currently, there are no reported outbreaks in VIHA hospitals or long term care facilities.'"
      ]
     },
     "execution_count": 129,
     "metadata": {},
     "output_type": "execute_result"
    }
   ],
   "source": [
    "outbreaks.getText()"
   ]
  },
  {
   "cell_type": "markdown",
   "metadata": {},
   "source": [
    "***Vancouver Coastal Health***"
   ]
  },
  {
   "cell_type": "code",
   "execution_count": 130,
   "metadata": {},
   "outputs": [],
   "source": [
    "from PyPDF2 import PdfFileReader\n",
    "import io\n",
    "import re"
   ]
  },
  {
   "cell_type": "code",
   "execution_count": 131,
   "metadata": {},
   "outputs": [],
   "source": [
    "vch = requests.get('http://www.vch.ca/Documents/facility-outbreak-bulletin.pdf')"
   ]
  },
  {
   "cell_type": "code",
   "execution_count": 132,
   "metadata": {
    "scrolled": true
   },
   "outputs": [
    {
     "name": "stdout",
     "output_type": "stream",
     "text": [
      "Facility Outbreak Bulletin\n",
      "This bulletin lists ongoing and recently ended outbreaks in licensed long-term and acute care\n",
      "facilities throughout Vancouver Coastal Health, as of 10:24 AM, 15-Aug-2020\n",
      "DISEASE\n",
      "LOCATION\n",
      "RESTRICTIONS\n",
      "IMPOSED\n",
      "RESTRICTIONS\n",
      "LIFTED\n",
      "FACILITY\n",
      "COVID-19\n",
      "4505 Valley Dr, Vancouver\n",
      "14-Aug-20\n",
      "Arbutus Care Centre\n",
      "COVID-19\n",
      "9020 Bridgeport Road, Richmond\n",
      "05-Aug-20\n",
      "Richmond Lions Manor - Bridgeport, 2nd Floor\n",
      "COVID-19\n",
      "803 West 12th Avenue, Vancouver\n",
      "06-Aug-20\n",
      "15-Aug-20\n",
      "Joseph & Rosalie Segal Family Health Centre, 8th \n",
      "Floor\n",
      "COVID-19\n",
      "1081 Burrard Street, Vancouver\n",
      "16-Jul-20\n",
      "28-Jul-20\n",
      "St. Paul's Hospital, NICU\n",
      "COVID-19\n",
      "7801 Argyle St, Vancouver\n",
      "09-Jun-20\n",
      "Holy Family Hospital, LTCF (Rehabilitation Unit \n",
      "declared over)\n",
      "Page 1 of 1\n",
      "Red text denotes updates from previously issued bulletin\n",
      "Grey text indicates that restrictions have been lifted\n",
      "Restriction Imposed: \n",
      "Restrictions Lifted: \n",
      "               Date which outbreak measures were introduced\n",
      "            Date which outbreak measures were discontinued\n",
      "\n"
     ]
    }
   ],
   "source": [
    "with io.BytesIO(vch.content) as f:\n",
    "            pdf = PdfFileReader(f)\n",
    "            information = pdf.getDocumentInfo()\n",
    "            pages = pdf.getNumPages()\n",
    "            for i in range(0, pages):\n",
    "                page = pdf.getPage(i)\n",
    "                page_content = page.extractText()           \n",
    "                print(page_content)"
   ]
  },
  {
   "cell_type": "markdown",
   "metadata": {},
   "source": [
    "----"
   ]
  },
  {
   "cell_type": "code",
   "execution_count": 201,
   "metadata": {},
   "outputs": [],
   "source": [
    "spl = page_content.split('\\n')"
   ]
  },
  {
   "cell_type": "code",
   "execution_count": 202,
   "metadata": {},
   "outputs": [],
   "source": [
    "spldf = pd.Series(spl)"
   ]
  },
  {
   "cell_type": "code",
   "execution_count": 225,
   "metadata": {},
   "outputs": [
    {
     "data": {
      "text/plain": [
       "10                                             COVID-19\n",
       "11                            4505 Valley Dr, Vancouver\n",
       "12                                            14-Aug-20\n",
       "13                                  Arbutus Care Centre\n",
       "14                                             COVID-19\n",
       "15                       9020 Bridgeport Road, Richmond\n",
       "16                                            05-Aug-20\n",
       "17         Richmond Lions Manor - Bridgeport, 2nd Floor\n",
       "18                                             COVID-19\n",
       "19                      803 West 12th Avenue, Vancouver\n",
       "20                                            06-Aug-20\n",
       "21                                            15-Aug-20\n",
       "22    Joseph & Rosalie Segal Family Health Centre, 8th \n",
       "23                                                Floor\n",
       "24                                             COVID-19\n",
       "25                       1081 Burrard Street, Vancouver\n",
       "26                                            16-Jul-20\n",
       "27                                            28-Jul-20\n",
       "28                            St. Paul's Hospital, NICU\n",
       "29                                             COVID-19\n",
       "30                            7801 Argyle St, Vancouver\n",
       "31                                            09-Jun-20\n",
       "32     Holy Family Hospital, LTCF (Rehabilitation Unit \n",
       "33                                       declared over)\n",
       "dtype: object"
      ]
     },
     "execution_count": 225,
     "metadata": {},
     "output_type": "execute_result"
    }
   ],
   "source": [
    "spldf.iloc[10:34]"
   ]
  },
  {
   "cell_type": "code",
   "execution_count": 250,
   "metadata": {},
   "outputs": [],
   "source": [
    "vch_outbreaks = pd.DataFrame({'info' : spldf.iloc[11:34]})"
   ]
  },
  {
   "cell_type": "code",
   "execution_count": 251,
   "metadata": {},
   "outputs": [
    {
     "data": {
      "text/html": [
       "<div>\n",
       "<style scoped>\n",
       "    .dataframe tbody tr th:only-of-type {\n",
       "        vertical-align: middle;\n",
       "    }\n",
       "\n",
       "    .dataframe tbody tr th {\n",
       "        vertical-align: top;\n",
       "    }\n",
       "\n",
       "    .dataframe thead th {\n",
       "        text-align: right;\n",
       "    }\n",
       "</style>\n",
       "<table border=\"1\" class=\"dataframe\">\n",
       "  <thead>\n",
       "    <tr style=\"text-align: right;\">\n",
       "      <th></th>\n",
       "      <th>index</th>\n",
       "      <th>info</th>\n",
       "    </tr>\n",
       "  </thead>\n",
       "  <tbody>\n",
       "    <tr>\n",
       "      <th>0</th>\n",
       "      <td>11</td>\n",
       "      <td>4505 Valley Dr, Vancouver</td>\n",
       "    </tr>\n",
       "    <tr>\n",
       "      <th>1</th>\n",
       "      <td>12</td>\n",
       "      <td>14-Aug-20</td>\n",
       "    </tr>\n",
       "    <tr>\n",
       "      <th>2</th>\n",
       "      <td>13</td>\n",
       "      <td>Arbutus Care Centre</td>\n",
       "    </tr>\n",
       "    <tr>\n",
       "      <th>3</th>\n",
       "      <td>14</td>\n",
       "      <td>COVID-19</td>\n",
       "    </tr>\n",
       "    <tr>\n",
       "      <th>4</th>\n",
       "      <td>15</td>\n",
       "      <td>9020 Bridgeport Road, Richmond</td>\n",
       "    </tr>\n",
       "    <tr>\n",
       "      <th>5</th>\n",
       "      <td>16</td>\n",
       "      <td>05-Aug-20</td>\n",
       "    </tr>\n",
       "    <tr>\n",
       "      <th>6</th>\n",
       "      <td>17</td>\n",
       "      <td>Richmond Lions Manor - Bridgeport, 2nd Floor</td>\n",
       "    </tr>\n",
       "    <tr>\n",
       "      <th>7</th>\n",
       "      <td>18</td>\n",
       "      <td>COVID-19</td>\n",
       "    </tr>\n",
       "    <tr>\n",
       "      <th>8</th>\n",
       "      <td>19</td>\n",
       "      <td>803 West 12th Avenue, Vancouver</td>\n",
       "    </tr>\n",
       "    <tr>\n",
       "      <th>9</th>\n",
       "      <td>20</td>\n",
       "      <td>06-Aug-20</td>\n",
       "    </tr>\n",
       "    <tr>\n",
       "      <th>10</th>\n",
       "      <td>21</td>\n",
       "      <td>15-Aug-20</td>\n",
       "    </tr>\n",
       "    <tr>\n",
       "      <th>11</th>\n",
       "      <td>22</td>\n",
       "      <td>Joseph &amp; Rosalie Segal Family Health Centre, 8th</td>\n",
       "    </tr>\n",
       "    <tr>\n",
       "      <th>12</th>\n",
       "      <td>23</td>\n",
       "      <td>Floor</td>\n",
       "    </tr>\n",
       "    <tr>\n",
       "      <th>13</th>\n",
       "      <td>24</td>\n",
       "      <td>COVID-19</td>\n",
       "    </tr>\n",
       "    <tr>\n",
       "      <th>14</th>\n",
       "      <td>25</td>\n",
       "      <td>1081 Burrard Street, Vancouver</td>\n",
       "    </tr>\n",
       "    <tr>\n",
       "      <th>15</th>\n",
       "      <td>26</td>\n",
       "      <td>16-Jul-20</td>\n",
       "    </tr>\n",
       "    <tr>\n",
       "      <th>16</th>\n",
       "      <td>27</td>\n",
       "      <td>28-Jul-20</td>\n",
       "    </tr>\n",
       "    <tr>\n",
       "      <th>17</th>\n",
       "      <td>28</td>\n",
       "      <td>St. Paul's Hospital, NICU</td>\n",
       "    </tr>\n",
       "    <tr>\n",
       "      <th>18</th>\n",
       "      <td>29</td>\n",
       "      <td>COVID-19</td>\n",
       "    </tr>\n",
       "    <tr>\n",
       "      <th>19</th>\n",
       "      <td>30</td>\n",
       "      <td>7801 Argyle St, Vancouver</td>\n",
       "    </tr>\n",
       "    <tr>\n",
       "      <th>20</th>\n",
       "      <td>31</td>\n",
       "      <td>09-Jun-20</td>\n",
       "    </tr>\n",
       "    <tr>\n",
       "      <th>21</th>\n",
       "      <td>32</td>\n",
       "      <td>Holy Family Hospital, LTCF (Rehabilitation Unit</td>\n",
       "    </tr>\n",
       "    <tr>\n",
       "      <th>22</th>\n",
       "      <td>33</td>\n",
       "      <td>declared over)</td>\n",
       "    </tr>\n",
       "  </tbody>\n",
       "</table>\n",
       "</div>"
      ],
      "text/plain": [
       "    index                                               info\n",
       "0      11                          4505 Valley Dr, Vancouver\n",
       "1      12                                          14-Aug-20\n",
       "2      13                                Arbutus Care Centre\n",
       "3      14                                           COVID-19\n",
       "4      15                     9020 Bridgeport Road, Richmond\n",
       "5      16                                          05-Aug-20\n",
       "6      17       Richmond Lions Manor - Bridgeport, 2nd Floor\n",
       "7      18                                           COVID-19\n",
       "8      19                    803 West 12th Avenue, Vancouver\n",
       "9      20                                          06-Aug-20\n",
       "10     21                                          15-Aug-20\n",
       "11     22  Joseph & Rosalie Segal Family Health Centre, 8th \n",
       "12     23                                              Floor\n",
       "13     24                                           COVID-19\n",
       "14     25                     1081 Burrard Street, Vancouver\n",
       "15     26                                          16-Jul-20\n",
       "16     27                                          28-Jul-20\n",
       "17     28                          St. Paul's Hospital, NICU\n",
       "18     29                                           COVID-19\n",
       "19     30                          7801 Argyle St, Vancouver\n",
       "20     31                                          09-Jun-20\n",
       "21     32   Holy Family Hospital, LTCF (Rehabilitation Unit \n",
       "22     33                                     declared over)"
      ]
     },
     "execution_count": 251,
     "metadata": {},
     "output_type": "execute_result"
    }
   ],
   "source": [
    "vch_outbreaks.reset_index()"
   ]
  },
  {
   "cell_type": "code",
   "execution_count": 252,
   "metadata": {},
   "outputs": [],
   "source": [
    "vch_outbreaks.iloc[11] = vch_outbreaks.iloc[11:12].agg(' '.join)\n",
    "vch_outbreaks.iloc[20] = vch_outbreaks.iloc[9:10].agg(' '.join)\n",
    "vch_outbreaks.iloc[21] = vch_outbreaks.iloc[21:22].agg(' '.join)\n",
    "vch_outbreaks.iloc[16] = vch_outbreaks.iloc[16:17].agg(' '.join)\n",
    "vch_outbreaks.drop([vch_outbreaks.index[9], vch_outbreaks.index[22], vch_outbreaks.index[12], vch_outbreaks.index[17]], inplace = True)"
   ]
  },
  {
   "cell_type": "code",
   "execution_count": 253,
   "metadata": {},
   "outputs": [],
   "source": [
    "# vch_outbreaks"
   ]
  },
  {
   "cell_type": "code",
   "execution_count": 258,
   "metadata": {},
   "outputs": [],
   "source": [
    "vch_outbreaks2 = vch_outbreaks.groupby(vch_outbreaks.index // 5).agg('\\n'.join)['info'].str.split('\\n',expand=True)"
   ]
  },
  {
   "cell_type": "code",
   "execution_count": 259,
   "metadata": {},
   "outputs": [],
   "source": [
    "vch_outbreaks2.rename(columns = {0: 'address', 1: 'datedeclared/restrictionsimposed', 2:'facility', 3:'outbreaktype'}, inplace = True)"
   ]
  },
  {
   "cell_type": "code",
   "execution_count": 260,
   "metadata": {},
   "outputs": [],
   "source": [
    "vch_outbreaks2['health_authority'] = 'vancouver coastal health'"
   ]
  },
  {
   "cell_type": "code",
   "execution_count": 261,
   "metadata": {},
   "outputs": [
    {
     "data": {
      "text/html": [
       "<div>\n",
       "<style scoped>\n",
       "    .dataframe tbody tr th:only-of-type {\n",
       "        vertical-align: middle;\n",
       "    }\n",
       "\n",
       "    .dataframe tbody tr th {\n",
       "        vertical-align: top;\n",
       "    }\n",
       "\n",
       "    .dataframe thead th {\n",
       "        text-align: right;\n",
       "    }\n",
       "</style>\n",
       "<table border=\"1\" class=\"dataframe\">\n",
       "  <thead>\n",
       "    <tr style=\"text-align: right;\">\n",
       "      <th></th>\n",
       "      <th>address</th>\n",
       "      <th>datedeclared/restrictionsimposed</th>\n",
       "      <th>facility</th>\n",
       "      <th>outbreaktype</th>\n",
       "      <th>4</th>\n",
       "      <th>health_authority</th>\n",
       "    </tr>\n",
       "  </thead>\n",
       "  <tbody>\n",
       "    <tr>\n",
       "      <th>2</th>\n",
       "      <td>4505 Valley Dr, Vancouver</td>\n",
       "      <td>14-Aug-20</td>\n",
       "      <td>Arbutus Care Centre</td>\n",
       "      <td>COVID-19</td>\n",
       "      <td>None</td>\n",
       "      <td>vancouver coastal health</td>\n",
       "    </tr>\n",
       "    <tr>\n",
       "      <th>3</th>\n",
       "      <td>9020 Bridgeport Road, Richmond</td>\n",
       "      <td>05-Aug-20</td>\n",
       "      <td>Richmond Lions Manor - Bridgeport, 2nd Floor</td>\n",
       "      <td>COVID-19</td>\n",
       "      <td>803 West 12th Avenue, Vancouver</td>\n",
       "      <td>vancouver coastal health</td>\n",
       "    </tr>\n",
       "    <tr>\n",
       "      <th>4</th>\n",
       "      <td>15-Aug-20</td>\n",
       "      <td>Joseph &amp; Rosalie Segal Family Health Centre, 8th</td>\n",
       "      <td>COVID-19</td>\n",
       "      <td>None</td>\n",
       "      <td>None</td>\n",
       "      <td>vancouver coastal health</td>\n",
       "    </tr>\n",
       "    <tr>\n",
       "      <th>5</th>\n",
       "      <td>1081 Burrard Street, Vancouver</td>\n",
       "      <td>16-Jul-20</td>\n",
       "      <td>28-Jul-20</td>\n",
       "      <td>COVID-19</td>\n",
       "      <td>None</td>\n",
       "      <td>vancouver coastal health</td>\n",
       "    </tr>\n",
       "    <tr>\n",
       "      <th>6</th>\n",
       "      <td>7801 Argyle St, Vancouver</td>\n",
       "      <td>06-Aug-20</td>\n",
       "      <td>Holy Family Hospital, LTCF (Rehabilitation Unit</td>\n",
       "      <td>None</td>\n",
       "      <td>None</td>\n",
       "      <td>vancouver coastal health</td>\n",
       "    </tr>\n",
       "  </tbody>\n",
       "</table>\n",
       "</div>"
      ],
      "text/plain": [
       "                          address  \\\n",
       "2       4505 Valley Dr, Vancouver   \n",
       "3  9020 Bridgeport Road, Richmond   \n",
       "4                       15-Aug-20   \n",
       "5  1081 Burrard Street, Vancouver   \n",
       "6       7801 Argyle St, Vancouver   \n",
       "\n",
       "                    datedeclared/restrictionsimposed  \\\n",
       "2                                          14-Aug-20   \n",
       "3                                          05-Aug-20   \n",
       "4  Joseph & Rosalie Segal Family Health Centre, 8th    \n",
       "5                                          16-Jul-20   \n",
       "6                                          06-Aug-20   \n",
       "\n",
       "                                           facility outbreaktype  \\\n",
       "2                               Arbutus Care Centre     COVID-19   \n",
       "3      Richmond Lions Manor - Bridgeport, 2nd Floor     COVID-19   \n",
       "4                                          COVID-19         None   \n",
       "5                                         28-Jul-20     COVID-19   \n",
       "6  Holy Family Hospital, LTCF (Rehabilitation Unit          None   \n",
       "\n",
       "                                 4          health_authority  \n",
       "2                             None  vancouver coastal health  \n",
       "3  803 West 12th Avenue, Vancouver  vancouver coastal health  \n",
       "4                             None  vancouver coastal health  \n",
       "5                             None  vancouver coastal health  \n",
       "6                             None  vancouver coastal health  "
      ]
     },
     "execution_count": 261,
     "metadata": {},
     "output_type": "execute_result"
    }
   ],
   "source": [
    "vch_outbreaks2"
   ]
  },
  {
   "cell_type": "markdown",
   "metadata": {},
   "source": [
    "***Fraser***"
   ]
  },
  {
   "cell_type": "code",
   "execution_count": 139,
   "metadata": {},
   "outputs": [],
   "source": [
    "f = requests.get(r'https://www.fraserhealth.ca/patients-and-visitors/current-outbreaks#.XzGwMS0ZNQI')\n",
    "fraser = BeautifulSoup(f.text,'html5lib')\n",
    "table = fraser.find_all('td')"
   ]
  },
  {
   "cell_type": "code",
   "execution_count": 140,
   "metadata": {},
   "outputs": [],
   "source": [
    "newlist = []\n",
    "\n",
    "for td in table:\n",
    "        try:\n",
    "            if td.find('h5').getText() == '\\xa0':\n",
    "                # if no info is provided, it will mess up indexing\n",
    "                pass\n",
    "            elif td.find('h5').getText() == '':\n",
    "                # if no info is provided, it will mess up indexing\n",
    "                pass\n",
    "            else:    \n",
    "                newlist.append(td.find('h5').getText())\n",
    "        except AttributeError:\n",
    "            pass\n",
    "        \n",
    "            \n",
    "        \n",
    "df = pd.DataFrame(newlist)"
   ]
  },
  {
   "cell_type": "code",
   "execution_count": 141,
   "metadata": {
    "scrolled": false
   },
   "outputs": [
    {
     "data": {
      "text/plain": [
       "['July 31, 2020',\n",
       " 'Dania Home',\n",
       " 'Long term care',\n",
       " 'COVID-19',\n",
       " 'August 4, 2020',\n",
       " 'Maple Ridge Seniors Village',\n",
       " 'Long term care',\n",
       " 'COVID-19',\n",
       " 'August 6, 2020',\n",
       " 'Derby Manor',\n",
       " 'Independent living',\n",
       " 'COVID-19',\n",
       " 'August 7, 2020',\n",
       " 'George Derby Centre',\n",
       " 'Long term care',\n",
       " 'COVID-19',\n",
       " 'August 8, 2020',\n",
       " 'New Vista Care Society',\n",
       " 'Long term care',\n",
       " 'COVID-19',\n",
       " 'August 13, 2020',\n",
       " \"Queen's Park Care Centre\",\n",
       " 'Acute care',\n",
       " 'COVID-19']"
      ]
     },
     "execution_count": 141,
     "metadata": {},
     "output_type": "execute_result"
    }
   ],
   "source": [
    "newlist"
   ]
  },
  {
   "cell_type": "code",
   "execution_count": 142,
   "metadata": {},
   "outputs": [],
   "source": [
    "fraser = df.groupby(df.index // 4).agg('\\n'.join)[0].str.split('\\n',expand=True)"
   ]
  },
  {
   "cell_type": "code",
   "execution_count": 143,
   "metadata": {},
   "outputs": [],
   "source": [
    "fraser.rename(columns = {0:'datedeclared/restrictionsimposed', 1:'facility', 2:'facilitytype', 3:'outbreaktype'}, inplace = True)"
   ]
  },
  {
   "cell_type": "code",
   "execution_count": 144,
   "metadata": {},
   "outputs": [],
   "source": [
    "fraser['health_authority'] = 'fraser'"
   ]
  },
  {
   "cell_type": "code",
   "execution_count": 145,
   "metadata": {},
   "outputs": [
    {
     "data": {
      "text/html": [
       "<div>\n",
       "<style scoped>\n",
       "    .dataframe tbody tr th:only-of-type {\n",
       "        vertical-align: middle;\n",
       "    }\n",
       "\n",
       "    .dataframe tbody tr th {\n",
       "        vertical-align: top;\n",
       "    }\n",
       "\n",
       "    .dataframe thead th {\n",
       "        text-align: right;\n",
       "    }\n",
       "</style>\n",
       "<table border=\"1\" class=\"dataframe\">\n",
       "  <thead>\n",
       "    <tr style=\"text-align: right;\">\n",
       "      <th></th>\n",
       "      <th>datedeclared/restrictionsimposed</th>\n",
       "      <th>facility</th>\n",
       "      <th>facilitytype</th>\n",
       "      <th>outbreaktype</th>\n",
       "      <th>health_authority</th>\n",
       "    </tr>\n",
       "  </thead>\n",
       "  <tbody>\n",
       "    <tr>\n",
       "      <th>0</th>\n",
       "      <td>July 31, 2020</td>\n",
       "      <td>Dania Home</td>\n",
       "      <td>Long term care</td>\n",
       "      <td>COVID-19</td>\n",
       "      <td>fraser</td>\n",
       "    </tr>\n",
       "    <tr>\n",
       "      <th>1</th>\n",
       "      <td>August 4, 2020</td>\n",
       "      <td>Maple Ridge Seniors Village</td>\n",
       "      <td>Long term care</td>\n",
       "      <td>COVID-19</td>\n",
       "      <td>fraser</td>\n",
       "    </tr>\n",
       "    <tr>\n",
       "      <th>2</th>\n",
       "      <td>August 6, 2020</td>\n",
       "      <td>Derby Manor</td>\n",
       "      <td>Independent living</td>\n",
       "      <td>COVID-19</td>\n",
       "      <td>fraser</td>\n",
       "    </tr>\n",
       "    <tr>\n",
       "      <th>3</th>\n",
       "      <td>August 7, 2020</td>\n",
       "      <td>George Derby Centre</td>\n",
       "      <td>Long term care</td>\n",
       "      <td>COVID-19</td>\n",
       "      <td>fraser</td>\n",
       "    </tr>\n",
       "    <tr>\n",
       "      <th>4</th>\n",
       "      <td>August 8, 2020</td>\n",
       "      <td>New Vista Care Society</td>\n",
       "      <td>Long term care</td>\n",
       "      <td>COVID-19</td>\n",
       "      <td>fraser</td>\n",
       "    </tr>\n",
       "    <tr>\n",
       "      <th>5</th>\n",
       "      <td>August 13, 2020</td>\n",
       "      <td>Queen's Park Care Centre</td>\n",
       "      <td>Acute care</td>\n",
       "      <td>COVID-19</td>\n",
       "      <td>fraser</td>\n",
       "    </tr>\n",
       "  </tbody>\n",
       "</table>\n",
       "</div>"
      ],
      "text/plain": [
       "  datedeclared/restrictionsimposed                     facility  \\\n",
       "0                    July 31, 2020                   Dania Home   \n",
       "1                   August 4, 2020  Maple Ridge Seniors Village   \n",
       "2                   August 6, 2020                  Derby Manor   \n",
       "3                   August 7, 2020          George Derby Centre   \n",
       "4                   August 8, 2020       New Vista Care Society   \n",
       "5                  August 13, 2020     Queen's Park Care Centre   \n",
       "\n",
       "         facilitytype outbreaktype health_authority  \n",
       "0      Long term care     COVID-19           fraser  \n",
       "1      Long term care     COVID-19           fraser  \n",
       "2  Independent living     COVID-19           fraser  \n",
       "3      Long term care     COVID-19           fraser  \n",
       "4      Long term care     COVID-19           fraser  \n",
       "5          Acute care     COVID-19           fraser  "
      ]
     },
     "execution_count": 145,
     "metadata": {},
     "output_type": "execute_result"
    }
   ],
   "source": [
    "fraser"
   ]
  },
  {
   "cell_type": "markdown",
   "metadata": {},
   "source": [
    "### Merge facilities"
   ]
  },
  {
   "cell_type": "code",
   "execution_count": 113,
   "metadata": {},
   "outputs": [],
   "source": [
    "# merge 2 includes scrapes up to aug 10\n",
    "merge2 = pd.merge(fraser, vch_outbreaks, how = 'outer')"
   ]
  },
  {
   "cell_type": "code",
   "execution_count": 116,
   "metadata": {},
   "outputs": [],
   "source": [
    "# add Northern outbreak at Terraceview Lodge from April 9, 2020\n",
    "northern = pd.DataFrame({'facility':'Terraceview Lodge - Lakelse Unit',\n",
    "              'outbreaktype': 'Respiratory Illness',\n",
    "              'datedeclared/restrictionsimposed' : 'April 9, 2020-Declared over: April 13, 2020',\n",
    "            'health_authority' : 'northern'}, index = [0])\n",
    "\n",
    "aug10 = pd.merge(merge2, northern, how = 'outer')"
   ]
  },
  {
   "cell_type": "code",
   "execution_count": 117,
   "metadata": {},
   "outputs": [
    {
     "data": {
      "text/html": [
       "<div>\n",
       "<style scoped>\n",
       "    .dataframe tbody tr th:only-of-type {\n",
       "        vertical-align: middle;\n",
       "    }\n",
       "\n",
       "    .dataframe tbody tr th {\n",
       "        vertical-align: top;\n",
       "    }\n",
       "\n",
       "    .dataframe thead th {\n",
       "        text-align: right;\n",
       "    }\n",
       "</style>\n",
       "<table border=\"1\" class=\"dataframe\">\n",
       "  <thead>\n",
       "    <tr style=\"text-align: right;\">\n",
       "      <th></th>\n",
       "      <th>datedeclared/restrictionsimposed</th>\n",
       "      <th>facility</th>\n",
       "      <th>facilitytype</th>\n",
       "      <th>outbreaktype</th>\n",
       "      <th>health_authority</th>\n",
       "      <th>address</th>\n",
       "    </tr>\n",
       "  </thead>\n",
       "  <tbody>\n",
       "    <tr>\n",
       "      <th>0</th>\n",
       "      <td>July 31, 2020</td>\n",
       "      <td>Dania Home</td>\n",
       "      <td>Residential</td>\n",
       "      <td>COVID-19</td>\n",
       "      <td>fraser</td>\n",
       "      <td>NaN</td>\n",
       "    </tr>\n",
       "    <tr>\n",
       "      <th>1</th>\n",
       "      <td>August 4, 2020</td>\n",
       "      <td>Maple Ridge Seniors Village</td>\n",
       "      <td>Residential</td>\n",
       "      <td>COVID-19</td>\n",
       "      <td>fraser</td>\n",
       "      <td>NaN</td>\n",
       "    </tr>\n",
       "    <tr>\n",
       "      <th>2</th>\n",
       "      <td>August 6, 2020</td>\n",
       "      <td>Derby Manor</td>\n",
       "      <td>Residential</td>\n",
       "      <td>COVID-19</td>\n",
       "      <td>fraser</td>\n",
       "      <td>NaN</td>\n",
       "    </tr>\n",
       "    <tr>\n",
       "      <th>3</th>\n",
       "      <td>August 7, 2020</td>\n",
       "      <td>George Derby Centre</td>\n",
       "      <td>Residential</td>\n",
       "      <td>COVID-19</td>\n",
       "      <td>fraser</td>\n",
       "      <td>NaN</td>\n",
       "    </tr>\n",
       "    <tr>\n",
       "      <th>4</th>\n",
       "      <td>August 8, 2020</td>\n",
       "      <td>New Vista Care Society</td>\n",
       "      <td>Residential</td>\n",
       "      <td>COVID-19</td>\n",
       "      <td>fraser</td>\n",
       "      <td>NaN</td>\n",
       "    </tr>\n",
       "    <tr>\n",
       "      <th>5</th>\n",
       "      <td>05-Aug-20</td>\n",
       "      <td>Richmond Lions Manor - Bridgeport, 2nd Floor</td>\n",
       "      <td>Residential</td>\n",
       "      <td>COVID-19</td>\n",
       "      <td>vancouver coastal health</td>\n",
       "      <td>9020 Bridgeport Road, Richmond</td>\n",
       "    </tr>\n",
       "    <tr>\n",
       "      <th>6</th>\n",
       "      <td>06-Aug-20</td>\n",
       "      <td>Joseph &amp; Rosalie Segal Family Health Centre, 8...</td>\n",
       "      <td>Residential</td>\n",
       "      <td>COVID-19</td>\n",
       "      <td>vancouver coastal health</td>\n",
       "      <td>803 West 12th Avenue, Vancouver</td>\n",
       "    </tr>\n",
       "    <tr>\n",
       "      <th>7</th>\n",
       "      <td>16-Jul-20</td>\n",
       "      <td>28-Jul-20 St. Paul's Hospital, NICU</td>\n",
       "      <td>Residential</td>\n",
       "      <td>COVID-19</td>\n",
       "      <td>vancouver coastal health</td>\n",
       "      <td>1081 Burrard Street, Vancouver</td>\n",
       "    </tr>\n",
       "    <tr>\n",
       "      <th>8</th>\n",
       "      <td>09-Jun-20</td>\n",
       "      <td>Holy Family Hospital, LTCF (Rehabilitation Unit</td>\n",
       "      <td>Residential</td>\n",
       "      <td>COVID-19</td>\n",
       "      <td>vancouver coastal health</td>\n",
       "      <td>7801 Argyle St, Vancouver</td>\n",
       "    </tr>\n",
       "    <tr>\n",
       "      <th>9</th>\n",
       "      <td>April 9, 2020-Declared over: April 13, 2020</td>\n",
       "      <td>Terraceview Lodge - Lakelse Unit</td>\n",
       "      <td>Residential</td>\n",
       "      <td>Respiratory Illness</td>\n",
       "      <td>northern</td>\n",
       "      <td>NaN</td>\n",
       "    </tr>\n",
       "  </tbody>\n",
       "</table>\n",
       "</div>"
      ],
      "text/plain": [
       "              datedeclared/restrictionsimposed  \\\n",
       "0                                July 31, 2020   \n",
       "1                               August 4, 2020   \n",
       "2                               August 6, 2020   \n",
       "3                               August 7, 2020   \n",
       "4                               August 8, 2020   \n",
       "5                                    05-Aug-20   \n",
       "6                                    06-Aug-20   \n",
       "7                                    16-Jul-20   \n",
       "8                                    09-Jun-20   \n",
       "9  April 9, 2020-Declared over: April 13, 2020   \n",
       "\n",
       "                                            facility facilitytype  \\\n",
       "0                                         Dania Home  Residential   \n",
       "1                        Maple Ridge Seniors Village  Residential   \n",
       "2                                        Derby Manor  Residential   \n",
       "3                                George Derby Centre  Residential   \n",
       "4                             New Vista Care Society  Residential   \n",
       "5       Richmond Lions Manor - Bridgeport, 2nd Floor  Residential   \n",
       "6  Joseph & Rosalie Segal Family Health Centre, 8...  Residential   \n",
       "7                28-Jul-20 St. Paul's Hospital, NICU  Residential   \n",
       "8   Holy Family Hospital, LTCF (Rehabilitation Unit   Residential   \n",
       "9                   Terraceview Lodge - Lakelse Unit  Residential   \n",
       "\n",
       "          outbreaktype          health_authority  \\\n",
       "0             COVID-19                    fraser   \n",
       "1             COVID-19                    fraser   \n",
       "2             COVID-19                    fraser   \n",
       "3             COVID-19                    fraser   \n",
       "4             COVID-19                    fraser   \n",
       "5             COVID-19  vancouver coastal health   \n",
       "6             COVID-19  vancouver coastal health   \n",
       "7             COVID-19  vancouver coastal health   \n",
       "8             COVID-19  vancouver coastal health   \n",
       "9  Respiratory Illness                  northern   \n",
       "\n",
       "                           address  \n",
       "0                              NaN  \n",
       "1                              NaN  \n",
       "2                              NaN  \n",
       "3                              NaN  \n",
       "4                              NaN  \n",
       "5   9020 Bridgeport Road, Richmond  \n",
       "6  803 West 12th Avenue, Vancouver  \n",
       "7   1081 Burrard Street, Vancouver  \n",
       "8        7801 Argyle St, Vancouver  \n",
       "9                              NaN  "
      ]
     },
     "execution_count": 117,
     "metadata": {},
     "output_type": "execute_result"
    }
   ],
   "source": [
    "# forward fill where applicable\n",
    "aug10.facilitytype.ffill(inplace = True)\n",
    "aug10.outbreaktype.ffill(inplace = True)\n",
    "\n",
    "aug10"
   ]
  },
  {
   "cell_type": "code",
   "execution_count": 119,
   "metadata": {},
   "outputs": [],
   "source": [
    "aug10.to_csv('../data/bc_ltc_scraped.csv')"
   ]
  },
  {
   "cell_type": "markdown",
   "metadata": {},
   "source": [
    "# Caveats:\n",
    "\n",
    "1. VCH outbreak status is colour coded and requires custom scripts for each new outbreak\n",
    "2. All only report active outbreaks (no information on previous outbreaks)\n",
    "3. VCH also reports hospital outbreaks - not just LTCs"
   ]
  },
  {
   "cell_type": "markdown",
   "metadata": {},
   "source": [
    "# Web Scrape of Global News Article\n",
    "Source: [Global News](https://globalnews.ca/news/6769101/seniors-homes-coronavirus/)"
   ]
  },
  {
   "cell_type": "code",
   "execution_count": 266,
   "metadata": {},
   "outputs": [],
   "source": [
    "re = requests.get('https://globalnews.ca/news/6769101/seniors-homes-coronavirus/')\n",
    "s = BeautifulSoup(re.text,'html5lib')\n",
    "home =s.find_all('strong')"
   ]
  },
  {
   "cell_type": "code",
   "execution_count": 384,
   "metadata": {},
   "outputs": [],
   "source": [
    "homes = []\n",
    "for h in home[1::]:\n",
    "    if ')' in h:\n",
    "        pass\n",
    "    elif 'Chartwell Willow Long-term care' in h.getText():\n",
    "        homes.append('Residence at Clayton Heights, Acquired Brain Injury unit')\n",
    "        homes.append(h.getText())\n",
    "    elif 'Worthington Pavilion / MSA Rehab – Acute' in h.getText():\n",
    "        homes.append(h.getText())\n",
    "        homes.append('Maple Hill')\n",
    "        \n",
    "    else:\n",
    "        homes.append(h.getText())\n"
   ]
  },
  {
   "cell_type": "code",
   "execution_count": 395,
   "metadata": {},
   "outputs": [],
   "source": [
    "info = s.find_all('ul')"
   ]
  },
  {
   "cell_type": "code",
   "execution_count": 398,
   "metadata": {},
   "outputs": [],
   "source": [
    "# numbers = []\n",
    "# deaths = []\n",
    "# for ul in info[13:73]:\n",
    "#     if '\\n\\t\\t\\t' in ul:\n",
    "#         pass\n",
    "#     else:\n",
    "#         numbers.append(ul.getText().rsplit('case'))"
   ]
  },
  {
   "cell_type": "code",
   "execution_count": 415,
   "metadata": {
    "scrolled": true
   },
   "outputs": [],
   "source": [
    "# cases = []\n",
    "# deaths = []\n",
    "# for n in numbers:\n",
    "#     try:\n",
    "#         cases.append(n[0].replace(' COVID-19', ''))\n",
    "#         deaths.append(n[1].replace('s', ''))\n",
    "#     except IndexError:\n",
    "#         deaths.append(0)\n",
    "    \n"
   ]
  },
  {
   "cell_type": "code",
   "execution_count": 423,
   "metadata": {},
   "outputs": [
    {
     "data": {
      "text/plain": [
       "59"
      ]
     },
     "execution_count": 423,
     "metadata": {},
     "output_type": "execute_result"
    }
   ],
   "source": [
    "info2 = s.find_all(\"ul\",{'class':''})\n",
    "len(info2)"
   ]
  },
  {
   "cell_type": "code",
   "execution_count": 420,
   "metadata": {},
   "outputs": [],
   "source": [
    "total = pd.DataFrame({'facility_name' : homes, 'num_cases': cases,'Number of deaths' : deaths})"
   ]
  },
  {
   "cell_type": "code",
   "execution_count": 422,
   "metadata": {},
   "outputs": [],
   "source": [
    "total.to_csv('../data/BC/globalnews_scrape.csv')"
   ]
  },
  {
   "cell_type": "code",
   "execution_count": null,
   "metadata": {},
   "outputs": [],
   "source": []
  }
 ],
 "metadata": {
  "kernelspec": {
   "display_name": "Python 3",
   "language": "python",
   "name": "python3"
  },
  "language_info": {
   "codemirror_mode": {
    "name": "ipython",
    "version": 3
   },
   "file_extension": ".py",
   "mimetype": "text/x-python",
   "name": "python",
   "nbconvert_exporter": "python",
   "pygments_lexer": "ipython3",
   "version": "3.7.4"
  }
 },
 "nbformat": 4,
 "nbformat_minor": 4
}
