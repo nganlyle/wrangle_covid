{
 "cells": [
  {
   "cell_type": "markdown",
   "metadata": {},
   "source": [
    "\n",
    "# Outbreak Data Web Scrape\n",
    "\n",
    "From: [outbreaks](http://www.phsa.ca/current-outbreaks)\n",
    "\n",
    "---\n",
    "\n"
   ]
  },
  {
   "cell_type": "code",
   "execution_count": 70,
   "metadata": {},
   "outputs": [],
   "source": [
    "import requests\n",
    "import pandas as pd\n",
    "from bs4 import BeautifulSoup"
   ]
  },
  {
   "cell_type": "markdown",
   "metadata": {},
   "source": [
    "***Northern***"
   ]
  },
  {
   "cell_type": "code",
   "execution_count": 1174,
   "metadata": {},
   "outputs": [],
   "source": [
    "re = requests.get('https://www.northernhealth.ca/health-topics/current-outbreaks')\n",
    "s = BeautifulSoup(re.text,'html5lib')\n",
    "table =s.find_all('td')"
   ]
  },
  {
   "cell_type": "code",
   "execution_count": 1175,
   "metadata": {},
   "outputs": [],
   "source": [
    "d = ['city', 'facility', 'outbreaktype', 'datedeclared']\n",
    "outbreak = {}\n",
    "for each,i in zip(table,d):\n",
    "    outbreak[i] = each.text.strip()"
   ]
  },
  {
   "cell_type": "code",
   "execution_count": 1176,
   "metadata": {},
   "outputs": [],
   "source": [
    "northern = pd.DataFrame(outbreak, index = [0])\n",
    "northern['health_authority'] = \"northern\""
   ]
  },
  {
   "cell_type": "code",
   "execution_count": 1177,
   "metadata": {},
   "outputs": [],
   "source": [
    "northern.datedeclared = northern.datedeclared.str.replace('\\n\\n\\t\\t\\t', '-')"
   ]
  },
  {
   "cell_type": "code",
   "execution_count": 1178,
   "metadata": {},
   "outputs": [
    {
     "data": {
      "text/html": [
       "<div>\n",
       "<style scoped>\n",
       "    .dataframe tbody tr th:only-of-type {\n",
       "        vertical-align: middle;\n",
       "    }\n",
       "\n",
       "    .dataframe tbody tr th {\n",
       "        vertical-align: top;\n",
       "    }\n",
       "\n",
       "    .dataframe thead th {\n",
       "        text-align: right;\n",
       "    }\n",
       "</style>\n",
       "<table border=\"1\" class=\"dataframe\">\n",
       "  <thead>\n",
       "    <tr style=\"text-align: right;\">\n",
       "      <th></th>\n",
       "      <th>city</th>\n",
       "      <th>facility</th>\n",
       "      <th>outbreaktype</th>\n",
       "      <th>datedeclared</th>\n",
       "      <th>health_authority</th>\n",
       "    </tr>\n",
       "  </thead>\n",
       "  <tbody>\n",
       "    <tr>\n",
       "      <th>0</th>\n",
       "      <td>None to date</td>\n",
       "      <td></td>\n",
       "      <td></td>\n",
       "      <td></td>\n",
       "      <td>northern</td>\n",
       "    </tr>\n",
       "  </tbody>\n",
       "</table>\n",
       "</div>"
      ],
      "text/plain": [
       "           city facility outbreaktype datedeclared health_authority\n",
       "0  None to date                                            northern"
      ]
     },
     "execution_count": 1178,
     "metadata": {},
     "output_type": "execute_result"
    }
   ],
   "source": [
    "northern"
   ]
  },
  {
   "cell_type": "markdown",
   "metadata": {},
   "source": [
    "***Interior Health***"
   ]
  },
  {
   "cell_type": "code",
   "execution_count": 1179,
   "metadata": {},
   "outputs": [],
   "source": [
    "ih = requests.get('https://www.interiorhealth.ca/YourEnvironment/CommunicableDiseaseControl/Outbreaks/Pages/default.aspx')\n",
    "ih = BeautifulSoup(ih.text,'html5lib')\n",
    "outbreaks = ih.find_all('table')[7]"
   ]
  },
  {
   "cell_type": "code",
   "execution_count": 1180,
   "metadata": {},
   "outputs": [
    {
     "data": {
      "text/plain": [
       "'There are no items to show in this view of the \"Outbreaks\" list.'"
      ]
     },
     "execution_count": 1180,
     "metadata": {},
     "output_type": "execute_result"
    }
   ],
   "source": [
    "outbreaks.find('td').text"
   ]
  },
  {
   "cell_type": "markdown",
   "metadata": {},
   "source": [
    "***Vancouver Island***"
   ]
  },
  {
   "cell_type": "code",
   "execution_count": 1181,
   "metadata": {},
   "outputs": [],
   "source": [
    "vi = requests.get('https://www.healthspace.ca/Clients/VIHA/VIHA_Website.nsf/Outbreak')\n",
    "vi = BeautifulSoup(vi.text,'html5lib')\n",
    "outbreaks = vi.find('td')"
   ]
  },
  {
   "cell_type": "code",
   "execution_count": 1182,
   "metadata": {},
   "outputs": [
    {
     "data": {
      "text/plain": [
       "' Currently, there are no reported outbreaks in VIHA hospitals or long term care facilities.'"
      ]
     },
     "execution_count": 1182,
     "metadata": {},
     "output_type": "execute_result"
    }
   ],
   "source": [
    "outbreaks.getText()"
   ]
  },
  {
   "cell_type": "markdown",
   "metadata": {},
   "source": [
    "***Vancouver Coastal Health***"
   ]
  },
  {
   "cell_type": "code",
   "execution_count": 2,
   "metadata": {},
   "outputs": [],
   "source": [
    "from PyPDF2 import PdfFileReader\n",
    "import io\n",
    "import re"
   ]
  },
  {
   "cell_type": "code",
   "execution_count": 7,
   "metadata": {},
   "outputs": [],
   "source": [
    "vch = requests.get('http://www.vch.ca/Documents/facility-outbreak-bulletin.pdf')"
   ]
  },
  {
   "cell_type": "code",
   "execution_count": 8,
   "metadata": {},
   "outputs": [
    {
     "name": "stdout",
     "output_type": "stream",
     "text": [
      "Facility Outbreak Bulletin\n",
      "This bulletin lists ongoing and recently ended outbreaks in licensed long-term and acute care\n",
      "facilities throughout Vancouver Coastal Health, as of 01:00 PM, 06-Aug-2020\n",
      "DISEASE\n",
      "LOCATION\n",
      "RESTRICTIONS\n",
      "IMPOSED\n",
      "RESTRICTIONS\n",
      "LIFTED\n",
      "FACILITY\n",
      "COVID-19\n",
      "9020 Bridgeport Road, Richmond\n",
      "05-Aug-20\n",
      "Richmond Lions Manor - Bridgeport, 2nd Floor\n",
      "COVID-19\n",
      "803 West 12th Avenue, Vancouver\n",
      "06-Aug-20\n",
      "Joseph & Rosalie Segal Family Health Centre, 8th \n",
      "Floor\n",
      "COVID-19\n",
      "1081 Burrard Street, Vancouver\n",
      "16-Jul-20\n",
      "28-Jul-20\n",
      "St. Paul's Hospital, NICU\n",
      "COVID-19\n",
      "7801 Argyle St, Vancouver\n",
      "09-Jun-20\n",
      "Holy Family Hospital, LTCF (Rehabilitation Unit \n",
      "declared over)\n",
      "Page 1 of 1\n",
      "Red text denotes updates from previously issued bulletin\n",
      "Grey text indicates that restrictions have been lifted\n",
      "Restriction Imposed: \n",
      "Restrictions Lifted: \n",
      "               Date which outbreak measures were introduced\n",
      "            Date which outbreak measures were discontinued\n",
      "\n"
     ]
    }
   ],
   "source": [
    "with io.BytesIO(vch.content) as f:\n",
    "            pdf = PdfFileReader(f)\n",
    "            information = pdf.getDocumentInfo()\n",
    "            pages = pdf.getNumPages()\n",
    "            for i in range(0, pages):\n",
    "                page = pdf.getPage(i)\n",
    "                page_content = page.extractText()           \n",
    "                print(page_content)"
   ]
  },
  {
   "cell_type": "markdown",
   "metadata": {},
   "source": [
    "----"
   ]
  },
  {
   "cell_type": "code",
   "execution_count": 9,
   "metadata": {},
   "outputs": [],
   "source": [
    "spl = page_content.split('\\n')"
   ]
  },
  {
   "cell_type": "code",
   "execution_count": 10,
   "metadata": {},
   "outputs": [],
   "source": [
    "spldf = pd.Series(spl)"
   ]
  },
  {
   "cell_type": "code",
   "execution_count": 30,
   "metadata": {},
   "outputs": [
    {
     "data": {
      "text/plain": [
       "10                                             COVID-19\n",
       "11                       9020 Bridgeport Road, Richmond\n",
       "12                                            05-Aug-20\n",
       "13         Richmond Lions Manor - Bridgeport, 2nd Floor\n",
       "14                                             COVID-19\n",
       "15                      803 West 12th Avenue, Vancouver\n",
       "16                                            06-Aug-20\n",
       "17    Joseph & Rosalie Segal Family Health Centre, 8th \n",
       "18                                                Floor\n",
       "19                                             COVID-19\n",
       "20                       1081 Burrard Street, Vancouver\n",
       "21                                            16-Jul-20\n",
       "22                                            28-Jul-20\n",
       "23                            St. Paul's Hospital, NICU\n",
       "24                                             COVID-19\n",
       "25                            7801 Argyle St, Vancouver\n",
       "26                                            09-Jun-20\n",
       "27     Holy Family Hospital, LTCF (Rehabilitation Unit \n",
       "28                                       declared over)\n",
       "dtype: object"
      ]
     },
     "execution_count": 30,
     "metadata": {},
     "output_type": "execute_result"
    }
   ],
   "source": [
    "spldf.iloc[10:29]"
   ]
  },
  {
   "cell_type": "code",
   "execution_count": 97,
   "metadata": {},
   "outputs": [],
   "source": [
    "vch_outbreaks = pd.DataFrame({'info' : spldf.iloc[11:29]})"
   ]
  },
  {
   "cell_type": "code",
   "execution_count": 98,
   "metadata": {},
   "outputs": [],
   "source": [
    "vch_outbreaks.iloc[11] = vch_outbreaks.iloc[11:13].agg(' '.join)\n",
    "vch_outbreaks.iloc[6] = vch_outbreaks.iloc[6:8].agg(' '.join)\n",
    "vch_outbreaks.iloc[16] = vch_outbreaks.iloc[16:17].agg(' '.join)\n",
    "vch_outbreaks.drop([vch_outbreaks.index[7] , vch_outbreaks.index[12], vch_outbreaks.index[17]], inplace = True)"
   ]
  },
  {
   "cell_type": "code",
   "execution_count": 99,
   "metadata": {},
   "outputs": [],
   "source": [
    "# vch_outbreaks.reset_index()"
   ]
  },
  {
   "cell_type": "code",
   "execution_count": 100,
   "metadata": {},
   "outputs": [],
   "source": [
    "vch_outbreaks = vch_outbreaks.groupby(vch_outbreaks.index // 5).agg('\\n'.join)['info'].str.split('\\n',expand=True)"
   ]
  },
  {
   "cell_type": "code",
   "execution_count": 101,
   "metadata": {},
   "outputs": [],
   "source": [
    "vch_outbreaks.rename(columns = {0: 'address', 1: 'datedeclared/restrictionsimposed', 2:'facility', 3:'outbreaktype'}, inplace = True)"
   ]
  },
  {
   "cell_type": "code",
   "execution_count": 102,
   "metadata": {},
   "outputs": [],
   "source": [
    "vch_outbreaks['health_authority'] = 'vancouver coastal health'"
   ]
  },
  {
   "cell_type": "code",
   "execution_count": 103,
   "metadata": {},
   "outputs": [
    {
     "data": {
      "text/html": [
       "<div>\n",
       "<style scoped>\n",
       "    .dataframe tbody tr th:only-of-type {\n",
       "        vertical-align: middle;\n",
       "    }\n",
       "\n",
       "    .dataframe tbody tr th {\n",
       "        vertical-align: top;\n",
       "    }\n",
       "\n",
       "    .dataframe thead th {\n",
       "        text-align: right;\n",
       "    }\n",
       "</style>\n",
       "<table border=\"1\" class=\"dataframe\">\n",
       "  <thead>\n",
       "    <tr style=\"text-align: right;\">\n",
       "      <th></th>\n",
       "      <th>address</th>\n",
       "      <th>datedeclared/restrictionsimposed</th>\n",
       "      <th>facility</th>\n",
       "      <th>outbreaktype</th>\n",
       "      <th>health_authority</th>\n",
       "    </tr>\n",
       "  </thead>\n",
       "  <tbody>\n",
       "    <tr>\n",
       "      <th>2</th>\n",
       "      <td>9020 Bridgeport Road, Richmond</td>\n",
       "      <td>05-Aug-20</td>\n",
       "      <td>Richmond Lions Manor - Bridgeport, 2nd Floor</td>\n",
       "      <td>COVID-19</td>\n",
       "      <td>vancouver coastal health</td>\n",
       "    </tr>\n",
       "    <tr>\n",
       "      <th>3</th>\n",
       "      <td>803 West 12th Avenue, Vancouver</td>\n",
       "      <td>06-Aug-20</td>\n",
       "      <td>Joseph &amp; Rosalie Segal Family Health Centre, 8...</td>\n",
       "      <td>COVID-19</td>\n",
       "      <td>vancouver coastal health</td>\n",
       "    </tr>\n",
       "    <tr>\n",
       "      <th>4</th>\n",
       "      <td>1081 Burrard Street, Vancouver</td>\n",
       "      <td>16-Jul-20</td>\n",
       "      <td>28-Jul-20 St. Paul's Hospital, NICU</td>\n",
       "      <td>COVID-19</td>\n",
       "      <td>vancouver coastal health</td>\n",
       "    </tr>\n",
       "    <tr>\n",
       "      <th>5</th>\n",
       "      <td>7801 Argyle St, Vancouver</td>\n",
       "      <td>09-Jun-20</td>\n",
       "      <td>Holy Family Hospital, LTCF (Rehabilitation Unit</td>\n",
       "      <td>None</td>\n",
       "      <td>vancouver coastal health</td>\n",
       "    </tr>\n",
       "  </tbody>\n",
       "</table>\n",
       "</div>"
      ],
      "text/plain": [
       "                           address datedeclared/restrictionsimposed  \\\n",
       "2   9020 Bridgeport Road, Richmond                        05-Aug-20   \n",
       "3  803 West 12th Avenue, Vancouver                        06-Aug-20   \n",
       "4   1081 Burrard Street, Vancouver                        16-Jul-20   \n",
       "5        7801 Argyle St, Vancouver                        09-Jun-20   \n",
       "\n",
       "                                            facility outbreaktype  \\\n",
       "2       Richmond Lions Manor - Bridgeport, 2nd Floor     COVID-19   \n",
       "3  Joseph & Rosalie Segal Family Health Centre, 8...     COVID-19   \n",
       "4                28-Jul-20 St. Paul's Hospital, NICU     COVID-19   \n",
       "5   Holy Family Hospital, LTCF (Rehabilitation Unit          None   \n",
       "\n",
       "           health_authority  \n",
       "2  vancouver coastal health  \n",
       "3  vancouver coastal health  \n",
       "4  vancouver coastal health  \n",
       "5  vancouver coastal health  "
      ]
     },
     "execution_count": 103,
     "metadata": {},
     "output_type": "execute_result"
    }
   ],
   "source": [
    "vch_outbreaks"
   ]
  },
  {
   "cell_type": "markdown",
   "metadata": {},
   "source": [
    "***Fraser***"
   ]
  },
  {
   "cell_type": "code",
   "execution_count": 71,
   "metadata": {},
   "outputs": [],
   "source": [
    "f = requests.get(r'https://www.fraserhealth.ca/patients-and-visitors/current-outbreaks#.XzGwMS0ZNQI')\n",
    "fraser = BeautifulSoup(f.text,'html5lib')\n",
    "table = fraser.find_all('td')"
   ]
  },
  {
   "cell_type": "code",
   "execution_count": 72,
   "metadata": {},
   "outputs": [],
   "source": [
    "newlist = []\n",
    "\n",
    "for td in table:\n",
    "        try:\n",
    "            if td.find('h5').getText() == '\\xa0':\n",
    "                # if no info is provided, it will mess up indexing\n",
    "                pass\n",
    "            elif td.find('h5').getText() == '':\n",
    "                # if no info is provided, it will mess up indexing\n",
    "                pass\n",
    "            else:    \n",
    "                newlist.append(td.find('h5').getText())\n",
    "        except AttributeError:\n",
    "            pass\n",
    "        \n",
    "            \n",
    "        \n",
    "df = pd.DataFrame(newlist)"
   ]
  },
  {
   "cell_type": "code",
   "execution_count": 78,
   "metadata": {
    "scrolled": false
   },
   "outputs": [
    {
     "data": {
      "text/plain": [
       "['July 31, 2020',\n",
       " 'Dania Home',\n",
       " 'Residential',\n",
       " 'COVID-19',\n",
       " 'August 4, 2020',\n",
       " 'Maple Ridge Seniors Village',\n",
       " 'Residential',\n",
       " 'COVID-19',\n",
       " 'August 6, 2020',\n",
       " 'Derby Manor',\n",
       " 'Residential',\n",
       " 'COVID-19',\n",
       " 'August 7, 2020',\n",
       " 'George Derby Centre',\n",
       " 'Residential',\n",
       " 'COVID-19',\n",
       " 'August 8, 2020',\n",
       " 'New Vista Care Society',\n",
       " 'Residential',\n",
       " 'COVID-19']"
      ]
     },
     "execution_count": 78,
     "metadata": {},
     "output_type": "execute_result"
    }
   ],
   "source": [
    "newlist"
   ]
  },
  {
   "cell_type": "code",
   "execution_count": 93,
   "metadata": {},
   "outputs": [],
   "source": [
    "fraser = df.groupby(df.index // 4).agg('\\n'.join)[0].str.split('\\n',expand=True)"
   ]
  },
  {
   "cell_type": "code",
   "execution_count": 94,
   "metadata": {},
   "outputs": [],
   "source": [
    "fraser.rename(columns = {0:'datedeclared/restrictionsimposed', 1:'facility', 2:'facilitytype', 3:'outbreaktype'}, inplace = True)"
   ]
  },
  {
   "cell_type": "code",
   "execution_count": 95,
   "metadata": {},
   "outputs": [],
   "source": [
    "fraser['health_authority'] = 'fraser'"
   ]
  },
  {
   "cell_type": "code",
   "execution_count": 96,
   "metadata": {},
   "outputs": [
    {
     "data": {
      "text/html": [
       "<div>\n",
       "<style scoped>\n",
       "    .dataframe tbody tr th:only-of-type {\n",
       "        vertical-align: middle;\n",
       "    }\n",
       "\n",
       "    .dataframe tbody tr th {\n",
       "        vertical-align: top;\n",
       "    }\n",
       "\n",
       "    .dataframe thead th {\n",
       "        text-align: right;\n",
       "    }\n",
       "</style>\n",
       "<table border=\"1\" class=\"dataframe\">\n",
       "  <thead>\n",
       "    <tr style=\"text-align: right;\">\n",
       "      <th></th>\n",
       "      <th>datedeclared/restrictionsimposed</th>\n",
       "      <th>facility</th>\n",
       "      <th>facilitytype</th>\n",
       "      <th>outbreaktype</th>\n",
       "      <th>health_authority</th>\n",
       "    </tr>\n",
       "  </thead>\n",
       "  <tbody>\n",
       "    <tr>\n",
       "      <th>0</th>\n",
       "      <td>July 31, 2020</td>\n",
       "      <td>Dania Home</td>\n",
       "      <td>Residential</td>\n",
       "      <td>COVID-19</td>\n",
       "      <td>fraser</td>\n",
       "    </tr>\n",
       "    <tr>\n",
       "      <th>1</th>\n",
       "      <td>August 4, 2020</td>\n",
       "      <td>Maple Ridge Seniors Village</td>\n",
       "      <td>Residential</td>\n",
       "      <td>COVID-19</td>\n",
       "      <td>fraser</td>\n",
       "    </tr>\n",
       "    <tr>\n",
       "      <th>2</th>\n",
       "      <td>August 6, 2020</td>\n",
       "      <td>Derby Manor</td>\n",
       "      <td>Residential</td>\n",
       "      <td>COVID-19</td>\n",
       "      <td>fraser</td>\n",
       "    </tr>\n",
       "    <tr>\n",
       "      <th>3</th>\n",
       "      <td>August 7, 2020</td>\n",
       "      <td>George Derby Centre</td>\n",
       "      <td>Residential</td>\n",
       "      <td>COVID-19</td>\n",
       "      <td>fraser</td>\n",
       "    </tr>\n",
       "    <tr>\n",
       "      <th>4</th>\n",
       "      <td>August 8, 2020</td>\n",
       "      <td>New Vista Care Society</td>\n",
       "      <td>Residential</td>\n",
       "      <td>COVID-19</td>\n",
       "      <td>fraser</td>\n",
       "    </tr>\n",
       "  </tbody>\n",
       "</table>\n",
       "</div>"
      ],
      "text/plain": [
       "  datedeclared/restrictionsimposed                     facility facilitytype  \\\n",
       "0                    July 31, 2020                   Dania Home  Residential   \n",
       "1                   August 4, 2020  Maple Ridge Seniors Village  Residential   \n",
       "2                   August 6, 2020                  Derby Manor  Residential   \n",
       "3                   August 7, 2020          George Derby Centre  Residential   \n",
       "4                   August 8, 2020       New Vista Care Society  Residential   \n",
       "\n",
       "  outbreaktype health_authority  \n",
       "0     COVID-19           fraser  \n",
       "1     COVID-19           fraser  \n",
       "2     COVID-19           fraser  \n",
       "3     COVID-19           fraser  \n",
       "4     COVID-19           fraser  "
      ]
     },
     "execution_count": 96,
     "metadata": {},
     "output_type": "execute_result"
    }
   ],
   "source": [
    "fraser"
   ]
  },
  {
   "cell_type": "markdown",
   "metadata": {},
   "source": [
    "### Merge facilities"
   ]
  },
  {
   "cell_type": "code",
   "execution_count": 113,
   "metadata": {},
   "outputs": [],
   "source": [
    "# merge 2 includes scrapes up to aug 10\n",
    "merge2 = pd.merge(fraser, vch_outbreaks, how = 'outer')"
   ]
  },
  {
   "cell_type": "code",
   "execution_count": 116,
   "metadata": {},
   "outputs": [],
   "source": [
    "# add Northern outbreak at Terraceview Lodge from April 9, 2020\n",
    "northern = pd.DataFrame({'facility':'Terraceview Lodge - Lakelse Unit',\n",
    "              'outbreaktype': 'Respiratory Illness',\n",
    "              'datedeclared/restrictionsimposed' : 'April 9, 2020-Declared over: April 13, 2020',\n",
    "            'health_authority' : 'northern'}, index = [0])\n",
    "\n",
    "aug10 = pd.merge(merge2, northern, how = 'outer')"
   ]
  },
  {
   "cell_type": "code",
   "execution_count": 117,
   "metadata": {},
   "outputs": [
    {
     "data": {
      "text/html": [
       "<div>\n",
       "<style scoped>\n",
       "    .dataframe tbody tr th:only-of-type {\n",
       "        vertical-align: middle;\n",
       "    }\n",
       "\n",
       "    .dataframe tbody tr th {\n",
       "        vertical-align: top;\n",
       "    }\n",
       "\n",
       "    .dataframe thead th {\n",
       "        text-align: right;\n",
       "    }\n",
       "</style>\n",
       "<table border=\"1\" class=\"dataframe\">\n",
       "  <thead>\n",
       "    <tr style=\"text-align: right;\">\n",
       "      <th></th>\n",
       "      <th>datedeclared/restrictionsimposed</th>\n",
       "      <th>facility</th>\n",
       "      <th>facilitytype</th>\n",
       "      <th>outbreaktype</th>\n",
       "      <th>health_authority</th>\n",
       "      <th>address</th>\n",
       "    </tr>\n",
       "  </thead>\n",
       "  <tbody>\n",
       "    <tr>\n",
       "      <th>0</th>\n",
       "      <td>July 31, 2020</td>\n",
       "      <td>Dania Home</td>\n",
       "      <td>Residential</td>\n",
       "      <td>COVID-19</td>\n",
       "      <td>fraser</td>\n",
       "      <td>NaN</td>\n",
       "    </tr>\n",
       "    <tr>\n",
       "      <th>1</th>\n",
       "      <td>August 4, 2020</td>\n",
       "      <td>Maple Ridge Seniors Village</td>\n",
       "      <td>Residential</td>\n",
       "      <td>COVID-19</td>\n",
       "      <td>fraser</td>\n",
       "      <td>NaN</td>\n",
       "    </tr>\n",
       "    <tr>\n",
       "      <th>2</th>\n",
       "      <td>August 6, 2020</td>\n",
       "      <td>Derby Manor</td>\n",
       "      <td>Residential</td>\n",
       "      <td>COVID-19</td>\n",
       "      <td>fraser</td>\n",
       "      <td>NaN</td>\n",
       "    </tr>\n",
       "    <tr>\n",
       "      <th>3</th>\n",
       "      <td>August 7, 2020</td>\n",
       "      <td>George Derby Centre</td>\n",
       "      <td>Residential</td>\n",
       "      <td>COVID-19</td>\n",
       "      <td>fraser</td>\n",
       "      <td>NaN</td>\n",
       "    </tr>\n",
       "    <tr>\n",
       "      <th>4</th>\n",
       "      <td>August 8, 2020</td>\n",
       "      <td>New Vista Care Society</td>\n",
       "      <td>Residential</td>\n",
       "      <td>COVID-19</td>\n",
       "      <td>fraser</td>\n",
       "      <td>NaN</td>\n",
       "    </tr>\n",
       "    <tr>\n",
       "      <th>5</th>\n",
       "      <td>05-Aug-20</td>\n",
       "      <td>Richmond Lions Manor - Bridgeport, 2nd Floor</td>\n",
       "      <td>Residential</td>\n",
       "      <td>COVID-19</td>\n",
       "      <td>vancouver coastal health</td>\n",
       "      <td>9020 Bridgeport Road, Richmond</td>\n",
       "    </tr>\n",
       "    <tr>\n",
       "      <th>6</th>\n",
       "      <td>06-Aug-20</td>\n",
       "      <td>Joseph &amp; Rosalie Segal Family Health Centre, 8...</td>\n",
       "      <td>Residential</td>\n",
       "      <td>COVID-19</td>\n",
       "      <td>vancouver coastal health</td>\n",
       "      <td>803 West 12th Avenue, Vancouver</td>\n",
       "    </tr>\n",
       "    <tr>\n",
       "      <th>7</th>\n",
       "      <td>16-Jul-20</td>\n",
       "      <td>28-Jul-20 St. Paul's Hospital, NICU</td>\n",
       "      <td>Residential</td>\n",
       "      <td>COVID-19</td>\n",
       "      <td>vancouver coastal health</td>\n",
       "      <td>1081 Burrard Street, Vancouver</td>\n",
       "    </tr>\n",
       "    <tr>\n",
       "      <th>8</th>\n",
       "      <td>09-Jun-20</td>\n",
       "      <td>Holy Family Hospital, LTCF (Rehabilitation Unit</td>\n",
       "      <td>Residential</td>\n",
       "      <td>COVID-19</td>\n",
       "      <td>vancouver coastal health</td>\n",
       "      <td>7801 Argyle St, Vancouver</td>\n",
       "    </tr>\n",
       "    <tr>\n",
       "      <th>9</th>\n",
       "      <td>April 9, 2020-Declared over: April 13, 2020</td>\n",
       "      <td>Terraceview Lodge - Lakelse Unit</td>\n",
       "      <td>Residential</td>\n",
       "      <td>Respiratory Illness</td>\n",
       "      <td>northern</td>\n",
       "      <td>NaN</td>\n",
       "    </tr>\n",
       "  </tbody>\n",
       "</table>\n",
       "</div>"
      ],
      "text/plain": [
       "              datedeclared/restrictionsimposed  \\\n",
       "0                                July 31, 2020   \n",
       "1                               August 4, 2020   \n",
       "2                               August 6, 2020   \n",
       "3                               August 7, 2020   \n",
       "4                               August 8, 2020   \n",
       "5                                    05-Aug-20   \n",
       "6                                    06-Aug-20   \n",
       "7                                    16-Jul-20   \n",
       "8                                    09-Jun-20   \n",
       "9  April 9, 2020-Declared over: April 13, 2020   \n",
       "\n",
       "                                            facility facilitytype  \\\n",
       "0                                         Dania Home  Residential   \n",
       "1                        Maple Ridge Seniors Village  Residential   \n",
       "2                                        Derby Manor  Residential   \n",
       "3                                George Derby Centre  Residential   \n",
       "4                             New Vista Care Society  Residential   \n",
       "5       Richmond Lions Manor - Bridgeport, 2nd Floor  Residential   \n",
       "6  Joseph & Rosalie Segal Family Health Centre, 8...  Residential   \n",
       "7                28-Jul-20 St. Paul's Hospital, NICU  Residential   \n",
       "8   Holy Family Hospital, LTCF (Rehabilitation Unit   Residential   \n",
       "9                   Terraceview Lodge - Lakelse Unit  Residential   \n",
       "\n",
       "          outbreaktype          health_authority  \\\n",
       "0             COVID-19                    fraser   \n",
       "1             COVID-19                    fraser   \n",
       "2             COVID-19                    fraser   \n",
       "3             COVID-19                    fraser   \n",
       "4             COVID-19                    fraser   \n",
       "5             COVID-19  vancouver coastal health   \n",
       "6             COVID-19  vancouver coastal health   \n",
       "7             COVID-19  vancouver coastal health   \n",
       "8             COVID-19  vancouver coastal health   \n",
       "9  Respiratory Illness                  northern   \n",
       "\n",
       "                           address  \n",
       "0                              NaN  \n",
       "1                              NaN  \n",
       "2                              NaN  \n",
       "3                              NaN  \n",
       "4                              NaN  \n",
       "5   9020 Bridgeport Road, Richmond  \n",
       "6  803 West 12th Avenue, Vancouver  \n",
       "7   1081 Burrard Street, Vancouver  \n",
       "8        7801 Argyle St, Vancouver  \n",
       "9                              NaN  "
      ]
     },
     "execution_count": 117,
     "metadata": {},
     "output_type": "execute_result"
    }
   ],
   "source": [
    "# forward fill where applicable\n",
    "aug10.facilitytype.ffill(inplace = True)\n",
    "aug10.outbreaktype.ffill(inplace = True)\n",
    "\n",
    "aug10"
   ]
  },
  {
   "cell_type": "code",
   "execution_count": 119,
   "metadata": {},
   "outputs": [],
   "source": [
    "aug10.to_csv('../data/bc_ltc_scraped.csv')"
   ]
  },
  {
   "cell_type": "markdown",
   "metadata": {},
   "source": [
    "# Caveats:\n",
    "\n",
    "1. VCH outbreak status is colour coded and requires custom scripts for each new outbreak\n",
    "2. All only report active outbreaks (no information on previous outbreaks)\n",
    "3. VCH also reports hospital outbreaks - not just LTCs"
   ]
  }
 ],
 "metadata": {
  "kernelspec": {
   "display_name": "Python 3",
   "language": "python",
   "name": "python3"
  },
  "language_info": {
   "codemirror_mode": {
    "name": "ipython",
    "version": 3
   },
   "file_extension": ".py",
   "mimetype": "text/x-python",
   "name": "python",
   "nbconvert_exporter": "python",
   "pygments_lexer": "ipython3",
   "version": "3.7.4"
  }
 },
 "nbformat": 4,
 "nbformat_minor": 4
}
