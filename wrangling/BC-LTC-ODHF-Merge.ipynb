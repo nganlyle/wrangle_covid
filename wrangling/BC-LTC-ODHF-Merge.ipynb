{
 "cells": [
  {
   "cell_type": "code",
   "execution_count": 655,
   "metadata": {},
   "outputs": [],
   "source": [
    "import numpy as np\n",
    "import pandas as pd"
   ]
  },
  {
   "cell_type": "markdown",
   "metadata": {},
   "source": [
    "**Load data**"
   ]
  },
  {
   "cell_type": "code",
   "execution_count": 656,
   "metadata": {},
   "outputs": [],
   "source": [
    "ltc = pd.read_csv('../data/bc_ltc_final.csv')\n",
    "odhf = pd.read_excel('../data/odhf_ltc.xlsx')"
   ]
  },
  {
   "cell_type": "code",
   "execution_count": 657,
   "metadata": {},
   "outputs": [
    {
     "data": {
      "text/html": [
       "<div>\n",
       "<style scoped>\n",
       "    .dataframe tbody tr th:only-of-type {\n",
       "        vertical-align: middle;\n",
       "    }\n",
       "\n",
       "    .dataframe tbody tr th {\n",
       "        vertical-align: top;\n",
       "    }\n",
       "\n",
       "    .dataframe thead th {\n",
       "        text-align: right;\n",
       "    }\n",
       "</style>\n",
       "<table border=\"1\" class=\"dataframe\">\n",
       "  <thead>\n",
       "    <tr style=\"text-align: right;\">\n",
       "      <th></th>\n",
       "      <th>FACILITY_NAME</th>\n",
       "      <th>Number of dead</th>\n",
       "      <th>HCC_CODE</th>\n",
       "      <th>HLTH_AUTH</th>\n",
       "      <th>STREET_ADDRESS</th>\n",
       "      <th>CITY</th>\n",
       "      <th>POSTAL</th>\n",
       "      <th>PHONE</th>\n",
       "      <th>OPEN_DATE</th>\n",
       "      <th>COUNCIL</th>\n",
       "      <th>...</th>\n",
       "      <th>INFRACTIONS_OTHER</th>\n",
       "      <th>outbreak_status</th>\n",
       "      <th>point</th>\n",
       "      <th>latitude</th>\n",
       "      <th>longitude</th>\n",
       "      <th>residents_council</th>\n",
       "      <th>family_council</th>\n",
       "      <th>accreditation</th>\n",
       "      <th>home_type</th>\n",
       "      <th>years_operating</th>\n",
       "    </tr>\n",
       "  </thead>\n",
       "  <tbody>\n",
       "  </tbody>\n",
       "</table>\n",
       "<p>0 rows × 77 columns</p>\n",
       "</div>"
      ],
      "text/plain": [
       "Empty DataFrame\n",
       "Columns: [FACILITY_NAME, Number of dead, HCC_CODE, HLTH_AUTH, STREET_ADDRESS, CITY, POSTAL, PHONE, OPEN_DATE, COUNCIL, ACCRED_STATUS, BEDS_PRIVATE, BEDS_PUBLIC, BEDS_TOTAL, ROOMS_PRIVATE, ROOMS_SEMI, ROOMS_MULTI, COMPLAINTS, SUB_COMPLAINTS, INCIDENT_OUTBREAK, INCIDENT_ABUSE, INCIDENT_FALL, INCIDENT_POISON, INCIDENT_MEDICATION, INCIDENT_WANDERING, INCIDENT_INJURY, INCIDENT_AGGRESSION, INCIDENT_OUTBREAK_100, INCIDENT_ABUSE_100, INCIDENT_FALL_100, INCIDENT_POISON_100, INCIDENT_MEDICATION_100, INCIDENT_WANDERING_100, INCIDENT_INJURY_100, INCIDENT_AGGRESSION_100, AGE, FEMALE, AGE_85_PLUS, AGE_UNDER_65, STAY_LENGTH, DEPRESSION, ADL_DEPENDENT, CPS_SEVERE, DEMENTIA, ABS_PHYS_ABUSIVE, ISE, ISE_LOW, CMI, THERAPY_PT, THERAPY_RT, THERAPY_OT, MEDS_DEPRESSION, MEDS_ANTIPSYCHOTICS, RESTRAINTS, INSPECTIONS, INFRACTIONS, INFRACTIONS_LICENSING, INFRACTIONS_FACILITY, INFRACTIONS_STAFFING, INFRACTIONS_POLICY, INFRACTIONS_CARE, INFRACTIONS_DISEASE, INFRACTIONS_FOOD, INFRACTIONS_MEDICATION, INFRACTIONS_PROGRAM, INFRACTIONS_REPORTING, INFRACTIONS_RIGHTS, INFRACTIONS_OTHER, outbreak_status, point, latitude, longitude, residents_council, family_council, accreditation, home_type, years_operating]\n",
       "Index: []\n",
       "\n",
       "[0 rows x 77 columns]"
      ]
     },
     "execution_count": 657,
     "metadata": {},
     "output_type": "execute_result"
    }
   ],
   "source": [
    "ltc[ltc.latitude.isnull()]"
   ]
  },
  {
   "cell_type": "code",
   "execution_count": 658,
   "metadata": {},
   "outputs": [],
   "source": [
    "odhf_bc = odhf[odhf['province'] == 'bc']"
   ]
  },
  {
   "cell_type": "code",
   "execution_count": 659,
   "metadata": {},
   "outputs": [
    {
     "data": {
      "text/plain": [
       "Index(['index', 'facility_name', 'source_facility_type', 'odhf_facility_type',\n",
       "       'provider', 'unit', 'street_no', 'street_name', 'postal_code', 'city',\n",
       "       'province', 'source_format_str_address', 'CSDname', 'CSDuid', 'Pruid',\n",
       "       'latitude', 'longitude'],\n",
       "      dtype='object')"
      ]
     },
     "execution_count": 659,
     "metadata": {},
     "output_type": "execute_result"
    }
   ],
   "source": [
    "odhf_bc.columns"
   ]
  },
  {
   "cell_type": "code",
   "execution_count": 660,
   "metadata": {},
   "outputs": [],
   "source": [
    "ltc['facility_name'] = ltc.FACILITY_NAME.str.lower()"
   ]
  },
  {
   "cell_type": "markdown",
   "metadata": {},
   "source": [
    "**Correct some name discrepancies in odhf**"
   ]
  },
  {
   "cell_type": "code",
   "execution_count": 661,
   "metadata": {},
   "outputs": [
    {
     "name": "stderr",
     "output_type": "stream",
     "text": [
      "//anaconda3/lib/python3.7/site-packages/ipykernel_launcher.py:9: SettingWithCopyWarning: \n",
      "A value is trying to be set on a copy of a slice from a DataFrame.\n",
      "Try using .loc[row_indexer,col_indexer] = value instead\n",
      "\n",
      "See the caveats in the documentation: https://pandas.pydata.org/pandas-docs/stable/user_guide/indexing.html#returning-a-view-versus-a-copy\n",
      "  if __name__ == '__main__':\n"
     ]
    }
   ],
   "source": [
    "def rightsplit(x):\n",
    "    hold = x.split('ó')\n",
    "    try:\n",
    "        return hold[1].lstrip()\n",
    "    except IndexError:\n",
    "        return hold[0]\n",
    "    \n",
    "    \n",
    "odhf_bc['facility_name'] = odhf_bc.facility_name.map(lambda x: rightsplit(x))"
   ]
  },
  {
   "cell_type": "code",
   "execution_count": 662,
   "metadata": {
    "scrolled": true
   },
   "outputs": [
    {
     "data": {
      "text/plain": [
       "115                 harmony court care centre\n",
       "116                              echo village\n",
       "117                          fir park village\n",
       "118                           all care canada\n",
       "119                  amherst private hospital\n",
       "                        ...                  \n",
       "305                            westview place\n",
       "306                        william rudd house\n",
       "307                    willingdon care centre\n",
       "308    wrinch memorial hospital extended care\n",
       "309                    yaletown house society\n",
       "Name: facility_name, Length: 195, dtype: object"
      ]
     },
     "execution_count": 662,
     "metadata": {},
     "output_type": "execute_result"
    }
   ],
   "source": [
    "odhf_bc.facility_name"
   ]
  },
  {
   "cell_type": "markdown",
   "metadata": {},
   "source": [
    "**Merge**"
   ]
  },
  {
   "cell_type": "code",
   "execution_count": 663,
   "metadata": {},
   "outputs": [],
   "source": [
    "ltc_odhf = pd.merge(ltc, odhf_bc, on = 'facility_name', how = 'outer')"
   ]
  },
  {
   "cell_type": "code",
   "execution_count": 664,
   "metadata": {},
   "outputs": [
    {
     "name": "stdout",
     "output_type": "stream",
     "text": [
      "merge: 379, odhf_bc: 195, ltc: 297\n"
     ]
    }
   ],
   "source": [
    "print(\"merge: {}, odhf_bc: {}, ltc: {}\".format(len(ltc_odhf), len(odhf_bc), len(ltc)))"
   ]
  },
  {
   "cell_type": "markdown",
   "metadata": {},
   "source": [
    "**How many facilities are in odhf are not in the ltc data?**"
   ]
  },
  {
   "cell_type": "code",
   "execution_count": 665,
   "metadata": {
    "scrolled": true
   },
   "outputs": [
    {
     "data": {
      "text/plain": [
       "82"
      ]
     },
     "execution_count": 665,
     "metadata": {},
     "output_type": "execute_result"
    }
   ],
   "source": [
    "missing = list(set(odhf_bc.facility_name.unique()) - set(ltc.facility_name.unique()))\n",
    "len(missing)"
   ]
  },
  {
   "cell_type": "markdown",
   "metadata": {},
   "source": [
    "**How many facilities are in the ltc csv are not in the odhf?**"
   ]
  },
  {
   "cell_type": "code",
   "execution_count": 666,
   "metadata": {
    "scrolled": true
   },
   "outputs": [
    {
     "data": {
      "text/plain": [
       "184"
      ]
     },
     "execution_count": 666,
     "metadata": {},
     "output_type": "execute_result"
    }
   ],
   "source": [
    "missing2 = list(set(ltc.facility_name.unique()) - set(odhf_bc.facility_name.unique()))\n",
    "len(missing2)\n",
    "# missing2"
   ]
  },
  {
   "cell_type": "code",
   "execution_count": 667,
   "metadata": {},
   "outputs": [
    {
     "name": "stderr",
     "output_type": "stream",
     "text": [
      "//anaconda3/lib/python3.7/site-packages/pandas/core/generic.py:6746: SettingWithCopyWarning: \n",
      "A value is trying to be set on a copy of a slice from a DataFrame\n",
      "\n",
      "See the caveats in the documentation: https://pandas.pydata.org/pandas-docs/stable/user_guide/indexing.html#returning-a-view-versus-a-copy\n",
      "  self._update_inplace(new_data)\n"
     ]
    }
   ],
   "source": [
    "odhf_bc.facility_name.replace({'bradley centre': 'bradley center',\n",
    "                             'parkview place enderby': 'parkview place',\n",
    "                             'dr. andrew pavilion' : 'dr. andrew pavilion - summerland health centre',\n",
    "                             'priory (hiscock & heritage woods)' : 'the priory - heritage woods',\n",
    "                              'st vincentís: brock fahrni' : 'st. vincent\\'s - brock fahrni pavilion',\n",
    "                              'pine grove care centre' : 'pine grove seniors community',\n",
    "                             'the views' : 'the views - st. joseph\\'s general hospital',\n",
    "                             'fort langley seniors village' : 'fort langley seniors community',\n",
    "                             'selkirk place' : 'selkirk seniors village',\n",
    "                             'kiwanis lodge' : 'kiwanis village lodge',\n",
    "                             'brandtís creek mews' : 'brandt\\'s creek mews',\n",
    "                              'hilton villa care centre' : 'hilton villa seniors community',\n",
    "                              'bevan lodge' : 'bevan village',\n",
    "                              'discovery harbour care centre' : 'discovery harbour seniors community',\n",
    "                              'the cascades' : 'the cascades care community',\n",
    "                             'eagle park health care centre': 'eagle park health care facility',\n",
    "                             'cottage-worthington pavilion' : 'cottage and worthington pavilions - msa hospital',\n",
    "                             'evergreen baptist care home' : 'evergreen - the terraces / the pointe',\n",
    "                             'elim village' : 'elim village - the harrison / harrison west',\n",
    "                              'purdy pavilion' : 'purdy pavilion - ubc hospital',\n",
    "                             'lake country lodge ltd.' : 'lake country lodge',\n",
    "                             'eagle ridge manor' : 'eagle ridge manor - port moody',\n",
    "                             'shorncliffe intermediate care facility' : 'shorncliffe',\n",
    "                             'burnaby fair haven' : 'fair haven - burnaby',\n",
    "                             'gateby intermediate care facility' : 'the gateby',\n",
    "                             'wrinch memorial hospital extended care' : 'wrinch memorial hospital',\n",
    "                             'sunridge place' : 'sunridge place seniors community',\n",
    "                             'mountain view manor' : 'mountain view manor - delta hospital',\n",
    "                             'vancouver fair haven' : 'fair haven - vancouver',\n",
    "                             'cartier house' : 'cartier house seniors community',\n",
    "                             'minto house' : 'minto house - arrow lakes hospital',\n",
    "                             'queenís park care centre' : 'queen\\'s park care centre',\n",
    "                             'the madison' : 'the madison care centre',\n",
    "                             'langley memorial hospital residential services':'Langley Memorial Hospital ECU'.lower(),\n",
    "                             'polson':'polson residential care - vernon jubilee hospital',\n",
    "                             'peace portal lodge' : 'peace portal seniors village',\n",
    "                             'gateway lodge' : 'gateway lodge residential care',\n",
    "                             'powell river general hospital evergreen extended care unit' : 'Evergreen Extended Care - Powell River Hospital'.lower(),\n",
    "                             'mariposa lodge' : 'mariposa gardens',\n",
    "                             'haro park centre society' : 'haro park centre',\n",
    "                             'oyster harbour care centre' : 'oyster harbour seniors community',\n",
    "                             'yaletown house society' : 'yaletown house',\n",
    "                             'stanford place': 'stanford seniors village',\n",
    "                             'wexford creek' :'wexford creek seniors community',\n",
    "                             'mckinney place' : 'McKinney Place - South Okanagan General Hospital'.lower(),\n",
    "                             'kinsmen place lodge': 'kinsmen lodge',\n",
    "                             'jackson house' : 'Jackson House - Ashcroft Hospital and Health Centre'.lower(),\n",
    "                             'brookhaven extended care unit and chronic behavior disorder unit' : 'brookhaven care centre',\n",
    "                             'chetwynd multilevel care unit' : 'chetwynd hospital and health centre',\n",
    "                             'banfield pavilion' : 'Banfield Pavilion - Vancouver General Hospital'.lower(),\n",
    "                             'piccadilly care centre' : 'piccadilly seniors community',\n",
    "                             'kiwanis care centre new westminster' : 'kiwanis care centre',\n",
    "                             'sunnybank retirement centre' : 'sunnybank retirement home',\n",
    "                             'poplar ridge pavilion' : 'Poplar Ridge Pavilion - Kootenay Boundary Hospital'.lower(),\n",
    "                             'st vincentís: langara' : 'st. vincent\\'s - langara',\n",
    "                             'the heights at mt. view' : 'the heights at mount view',\n",
    "                             'overlander extended care hospital' : 'overlander residential care',\n",
    "                             'st. michaelís centre' : 'st. michael\\'s centre',\n",
    "                             'mill site lodge and fischer place' : 'fischer place/mill site lodge',\n",
    "                             'langley gardens retirement community' : 'langley gardens',\n",
    "                             'peace arch hospital residential care' : 'Hogg and Weatherby Pavilions - Peace Arch Hospital'.lower(),\n",
    "                             'spring valley care centre' : 'spring valley seniors community',\n",
    "                             'cerwydden care' : 'cerwydden seniors community',\n",
    "                             'kiwanis care centre north vancouver' : 'berkley care centre',\n",
    "                              'sherwood crescent manor' : 'sherwood crescent manor - the oxfored'}, inplace = True)"
   ]
  },
  {
   "cell_type": "code",
   "execution_count": 668,
   "metadata": {},
   "outputs": [
    {
     "name": "stdout",
     "output_type": "stream",
     "text": [
      "length : 18 ['vjh - chronic behaviour disorder unit', 'evergreen hamlets', 'burquitlam lions care centre', 'the oxford', 'highland lodge', 'retirement concepts', 'lynn valley lodge', 'amherst private hospital', 'anderson manor', 'all care canada', 'island health', 'westview place', 'cariboo memorial hospital - residential beds', 'sherwood crescent manor - the oxfored', 'false creek residence', 'the hamlets at vernon', 'the salvation army sunset lodge', 'steveston residence']\n"
     ]
    }
   ],
   "source": [
    "# ltc_odhf = pd.merge(ltc, odhf_bc, on = 'facility_name', how = 'inner')\n",
    "missing2 = list(set(odhf_bc.facility_name.unique()) - set(ltc.facility_name.unique()))\n",
    "print(\"length :\", len(missing2), missing2)"
   ]
  },
  {
   "cell_type": "markdown",
   "metadata": {},
   "source": [
    "**Merge again**"
   ]
  },
  {
   "cell_type": "code",
   "execution_count": 669,
   "metadata": {},
   "outputs": [
    {
     "name": "stdout",
     "output_type": "stream",
     "text": [
      "merge: 316, odhf_bc: 195, ltc: 297\n"
     ]
    }
   ],
   "source": [
    "ltc_odhf = pd.merge(ltc, odhf_bc, on = 'facility_name', how = 'outer')\n",
    "print(\"merge: {}, odhf_bc: {}, ltc: {}\".format(len(ltc_odhf), len(odhf_bc), len(ltc)))"
   ]
  },
  {
   "cell_type": "markdown",
   "metadata": {},
   "source": [
    "### Clean\n",
    "\n",
    "**Drop completely null columns**"
   ]
  },
  {
   "cell_type": "code",
   "execution_count": 670,
   "metadata": {},
   "outputs": [],
   "source": [
    "ltc_odhf.dropna(axis=1, how = 'all', inplace = True)"
   ]
  },
  {
   "cell_type": "markdown",
   "metadata": {},
   "source": [
    "**Complete missing information where possible**\n",
    "\n",
    "* Number of dead = 0\n",
    "* outbreak_status = 'No'"
   ]
  },
  {
   "cell_type": "code",
   "execution_count": 671,
   "metadata": {},
   "outputs": [],
   "source": [
    "ltc_odhf['Number of dead'].fillna(0, inplace = True)\n",
    "ltc_odhf['outbreak_status'].fillna('no', inplace = True)"
   ]
  },
  {
   "cell_type": "markdown",
   "metadata": {},
   "source": [
    " * Drop unneccessary cols"
   ]
  },
  {
   "cell_type": "code",
   "execution_count": 672,
   "metadata": {},
   "outputs": [],
   "source": [
    "ltc_odhf.drop(columns = ['FACILITY_NAME', 'index'], inplace = True)"
   ]
  },
  {
   "cell_type": "markdown",
   "metadata": {},
   "source": [
    "* Fill `CITY` (from ltc data, 20 are missing) with `city` (from odhf, only 20 are filled) then drop `city`\n",
    "* Fill `POSTAL_CODE` with `postal_code` and drop"
   ]
  },
  {
   "cell_type": "code",
   "execution_count": 673,
   "metadata": {},
   "outputs": [],
   "source": [
    "# CITY\n",
    "ltc_odhf.CITY.fillna(ltc_odhf.city, inplace = True)\n",
    "\n",
    "#POSTAL_CODE\n",
    "ltc_odhf.POSTAL.fillna(ltc_odhf.postal_code, inplace = True)\n",
    "ltc_odhf.drop(columns = ['postal_code', 'city'], inplace = True)"
   ]
  },
  {
   "cell_type": "markdown",
   "metadata": {},
   "source": [
    "* Fill `HLTH_AUTH` by city"
   ]
  },
  {
   "cell_type": "code",
   "execution_count": 674,
   "metadata": {},
   "outputs": [],
   "source": [
    "# create a dictionary of health auths and cities\n",
    "HA_dict = {k: g[\"CITY\"].unique().tolist() for k,g in ltc_odhf.groupby(\"HLTH_AUTH\")}\n",
    "\n",
    "# if na's exist in HEALTH_AUTH, return the key for the city value\n",
    "def get_key(val): \n",
    "    try:\n",
    "        for key, value in HA_dict.items(): \n",
    "            for v in value:\n",
    "                 if v == val: \n",
    "                    return key\n",
    "    except KeyError:\n",
    "        print(val, \"not assigned\")\n",
    "\n",
    "def health_auth(df):\n",
    "    for entry in df[df.HLTH_AUTH.isnull()].CITY:\n",
    "        print(entry)\n",
    "        return get_key(entry.title())\n",
    "        \n",
    "        "
   ]
  },
  {
   "cell_type": "code",
   "execution_count": 675,
   "metadata": {},
   "outputs": [
    {
     "name": "stdout",
     "output_type": "stream",
     "text": [
      "sidney\n"
     ]
    },
    {
     "data": {
      "text/plain": [
       "'Vancouver Island Health'"
      ]
     },
     "execution_count": 675,
     "metadata": {},
     "output_type": "execute_result"
    }
   ],
   "source": [
    "health_auth(ltc_odhf)"
   ]
  },
  {
   "cell_type": "code",
   "execution_count": 676,
   "metadata": {},
   "outputs": [
    {
     "name": "stdout",
     "output_type": "stream",
     "text": [
      "sidney\n"
     ]
    }
   ],
   "source": [
    "HA_tofill = health_auth(ltc_odhf)\n",
    "ltc_odhf.HLTH_AUTH.fillna(HA_tofill, inplace = True)"
   ]
  },
  {
   "cell_type": "code",
   "execution_count": 677,
   "metadata": {
    "scrolled": true
   },
   "outputs": [
    {
     "name": "stdout",
     "output_type": "stream",
     "text": [
      "<class 'pandas.core.frame.DataFrame'>\n",
      "Int64Index: 316 entries, 0 to 315\n",
      "Data columns (total 83 columns):\n",
      " #   Column                   Non-Null Count  Dtype  \n",
      "---  ------                   --------------  -----  \n",
      " 0   Number of dead           316 non-null    float64\n",
      " 1   HCC_CODE                 298 non-null    object \n",
      " 2   HLTH_AUTH                316 non-null    object \n",
      " 3   STREET_ADDRESS           298 non-null    object \n",
      " 4   CITY                     316 non-null    object \n",
      " 5   POSTAL                   316 non-null    object \n",
      " 6   PHONE                    298 non-null    object \n",
      " 7   OPEN_DATE                289 non-null    object \n",
      " 8   COUNCIL                  291 non-null    object \n",
      " 9   ACCRED_STATUS            298 non-null    object \n",
      " 10  BEDS_PRIVATE             298 non-null    float64\n",
      " 11  BEDS_PUBLIC              298 non-null    float64\n",
      " 12  BEDS_TOTAL               298 non-null    float64\n",
      " 13  ROOMS_PRIVATE            298 non-null    float64\n",
      " 14  ROOMS_SEMI               298 non-null    float64\n",
      " 15  ROOMS_MULTI              298 non-null    float64\n",
      " 16  COMPLAINTS               284 non-null    object \n",
      " 17  SUB_COMPLAINTS           284 non-null    object \n",
      " 18  INCIDENT_OUTBREAK        273 non-null    object \n",
      " 19  INCIDENT_ABUSE           273 non-null    object \n",
      " 20  INCIDENT_FALL            273 non-null    object \n",
      " 21  INCIDENT_POISON          273 non-null    object \n",
      " 22  INCIDENT_MEDICATION      273 non-null    object \n",
      " 23  INCIDENT_WANDERING       273 non-null    object \n",
      " 24  INCIDENT_INJURY          273 non-null    object \n",
      " 25  INCIDENT_AGGRESSION      273 non-null    object \n",
      " 26  INCIDENT_OUTBREAK_100    273 non-null    object \n",
      " 27  INCIDENT_ABUSE_100       273 non-null    object \n",
      " 28  INCIDENT_FALL_100        273 non-null    object \n",
      " 29  INCIDENT_POISON_100      273 non-null    object \n",
      " 30  INCIDENT_MEDICATION_100  273 non-null    object \n",
      " 31  INCIDENT_WANDERING_100   273 non-null    object \n",
      " 32  INCIDENT_INJURY_100      273 non-null    object \n",
      " 33  INCIDENT_AGGRESSION_100  273 non-null    object \n",
      " 34  AGE                      295 non-null    object \n",
      " 35  FEMALE                   295 non-null    object \n",
      " 36  AGE_85_PLUS              295 non-null    object \n",
      " 37  AGE_UNDER_65             295 non-null    object \n",
      " 38  STAY_LENGTH              285 non-null    object \n",
      " 39  DEPRESSION               295 non-null    object \n",
      " 40  ADL_DEPENDENT            295 non-null    object \n",
      " 41  CPS_SEVERE               295 non-null    object \n",
      " 42  DEMENTIA                 295 non-null    object \n",
      " 43  ABS_PHYS_ABUSIVE         295 non-null    object \n",
      " 44  ISE                      294 non-null    object \n",
      " 45  ISE_LOW                  295 non-null    object \n",
      " 46  CMI                      294 non-null    object \n",
      " 47  THERAPY_PT               295 non-null    object \n",
      " 48  THERAPY_RT               295 non-null    object \n",
      " 49  THERAPY_OT               295 non-null    object \n",
      " 50  MEDS_DEPRESSION          295 non-null    object \n",
      " 51  MEDS_ANTIPSYCHOTICS      295 non-null    object \n",
      " 52  RESTRAINTS               295 non-null    object \n",
      " 53  INSPECTIONS              295 non-null    float64\n",
      " 54  INFRACTIONS              295 non-null    float64\n",
      " 55  INFRACTIONS_LICENSING    295 non-null    float64\n",
      " 56  INFRACTIONS_FACILITY     295 non-null    float64\n",
      " 57  INFRACTIONS_STAFFING     295 non-null    float64\n",
      " 58  INFRACTIONS_POLICY       295 non-null    float64\n",
      " 59  INFRACTIONS_CARE         295 non-null    float64\n",
      " 60  INFRACTIONS_DISEASE      295 non-null    float64\n",
      " 61  INFRACTIONS_FOOD         295 non-null    float64\n",
      " 62  INFRACTIONS_MEDICATION   295 non-null    float64\n",
      " 63  INFRACTIONS_PROGRAM      295 non-null    float64\n",
      " 64  INFRACTIONS_REPORTING    295 non-null    float64\n",
      " 65  INFRACTIONS_RIGHTS       295 non-null    float64\n",
      " 66  INFRACTIONS_OTHER        295 non-null    float64\n",
      " 67  outbreak_status          316 non-null    object \n",
      " 68  point                    292 non-null    object \n",
      " 69  latitude_x               298 non-null    float64\n",
      " 70  longitude_x              298 non-null    float64\n",
      " 71  residents_council        298 non-null    object \n",
      " 72  family_council           298 non-null    object \n",
      " 73  accreditation            298 non-null    object \n",
      " 74  home_type                298 non-null    object \n",
      " 75  years_operating          288 non-null    float64\n",
      " 76  facility_name            316 non-null    object \n",
      " 77  source_facility_type     195 non-null    object \n",
      " 78  odhf_facility_type       195 non-null    object \n",
      " 79  provider                 195 non-null    object \n",
      " 80  province                 195 non-null    object \n",
      " 81  CSDname                  183 non-null    object \n",
      " 82  Pruid                    195 non-null    float64\n",
      "dtypes: float64(25), object(58)\n",
      "memory usage: 207.4+ KB\n"
     ]
    }
   ],
   "source": [
    "ltc_odhf.info()"
   ]
  },
  {
   "cell_type": "markdown",
   "metadata": {},
   "source": [
    "### Investigate missing homes "
   ]
  },
  {
   "cell_type": "code",
   "execution_count": 678,
   "metadata": {},
   "outputs": [
    {
     "data": {
      "text/plain": [
       "['all care canada',\n",
       " 'amherst private hospital',\n",
       " 'anderson manor',\n",
       " 'burquitlam lions care centre',\n",
       " 'cariboo memorial hospital - residential beds',\n",
       " 'evergreen hamlets',\n",
       " 'the hamlets at vernon',\n",
       " 'highland lodge',\n",
       " 'island health',\n",
       " 'lynn valley lodge',\n",
       " 'false creek residence',\n",
       " 'steveston residence',\n",
       " 'retirement concepts',\n",
       " 'sherwood crescent manor - the oxfored',\n",
       " 'the oxford',\n",
       " 'the salvation army sunset lodge',\n",
       " 'vjh - chronic behaviour disorder unit',\n",
       " 'westview place']"
      ]
     },
     "execution_count": 678,
     "metadata": {},
     "output_type": "execute_result"
    }
   ],
   "source": [
    "ltc_odhf[ltc_odhf.STREET_ADDRESS.isnull()].facility_name.tolist()"
   ]
  },
  {
   "cell_type": "markdown",
   "metadata": {},
   "source": [
    "LTC | Reason for removal\n",
    "----|--------\n",
    "amherst private hospital | hospital\n",
    "burquitlam lions care centre | [closed](https://www.tricitynews.com/news/funding-for-burquitlam-lions-care-centre-ends-next-summer-1.2043040)\n",
    "cariboo memorial hospital - residential beds | hospital\n",
    "'vjh - chronic behaviour disorder unit' | hospital\n",
    "island health | not found\n",
    "lynn valley lodge | not a formal LTC [article](https://lynnvalleylife.com/blog/lynn-valley-masons-welcome-others-to-join-lodge/)\n",
    "false creek residence | residence for independent living\n",
    "steveston residence | residence for independent living\n",
    "\n",
    "LTC | Source of info\n",
    "-----|-------------\n",
    "anderson manor | [bc.gov](https://www.health.gov.bc.ca/ccf/survey/index.php/displayfacility/index/160)\n",
    "the hamlets at vernon | [IH pdf](https://www.interiorhealth.ca/AboutUs/MediaCentre/NewsReleases/Documents/Construction%20begins%20on%20new%20Vernon%20residential%20care%20home.pdf)\n",
    "kiwanis care centre north van - ***name change*** | [article](http://www.vch.ca/about-us/news/news-releases/kiwanis-care-centre-celebrates-20-years-and-a-new-name-berkley-care-centre)\n",
    "highland lodge | [bc.gov](https://www.health.gov.bc.ca/ccf/survey/index.php/displayfacility/index/22)\n",
    "salvation army sunset lodge | [bc.gov](https://www.health.gov.bc.ca/ccf/survey/index.php/displayfacility/index/184)\n",
    "sherwood crescent manor / the oxford | are the same [1](https://www.health.gov.bc.ca/ccf/survey/index.php/displayfacility/bycommunity/2) [2](http://tcgcare.com/theoxfordseniorcare)\n",
    "westview place | [IH](https://www.interiorhealth.ca/FindUs/_layouts/FindUs/service.aspx?svcloc=Westview%20Extended%20Care)"
   ]
  },
  {
   "cell_type": "code",
   "execution_count": 679,
   "metadata": {},
   "outputs": [],
   "source": [
    "to_drop = ['amherst private hospital',\n",
    "          'burquitlam lions care centre',\n",
    " 'cariboo memorial hospital - residential beds',\n",
    "          'the oxford',\n",
    "          'vjh - chronic behaviour disorder unit',\n",
    "          'island health',\n",
    "          'lynn valley lodge',\n",
    "          'false creek residence',\n",
    "          'steveston residence']"
   ]
  },
  {
   "cell_type": "code",
   "execution_count": 680,
   "metadata": {},
   "outputs": [],
   "source": [
    "ltc_odhf2 = ltc_odhf.set_index('facility_name').drop(index = to_drop)"
   ]
  },
  {
   "cell_type": "markdown",
   "metadata": {},
   "source": [
    "**Merge collected info for missing ltcs**"
   ]
  },
  {
   "cell_type": "code",
   "execution_count": 681,
   "metadata": {},
   "outputs": [],
   "source": [
    "# info = pd.read_csv('../data/ltc_missing_9_info.csv')"
   ]
  },
  {
   "cell_type": "code",
   "execution_count": 682,
   "metadata": {},
   "outputs": [],
   "source": [
    "# make dict of info then merge\n"
   ]
  },
  {
   "cell_type": "markdown",
   "metadata": {},
   "source": [
    "**Remove hospitals**"
   ]
  },
  {
   "cell_type": "code",
   "execution_count": 683,
   "metadata": {},
   "outputs": [],
   "source": [
    "ltc_odhf2.reset_index(inplace = True)\n",
    "ltc_odhf3 = ltc_odhf2[~ltc_odhf2.facility_name.str.contains(\"hospital\")]"
   ]
  },
  {
   "cell_type": "markdown",
   "metadata": {},
   "source": [
    "**Export**"
   ]
  },
  {
   "cell_type": "code",
   "execution_count": 684,
   "metadata": {},
   "outputs": [],
   "source": [
    "ltc_odhf3.set_index('facility_name', inplace = True)\n",
    "ltc_odhf3.to_csv('../data/bc_ltc_odhf_final.csv')"
   ]
  },
  {
   "cell_type": "markdown",
   "metadata": {},
   "source": [
    "### SUMMARY\n",
    "\n",
    "---\n",
    "\n",
    "**With hospitals:** 316\n",
    "\n",
    "**Without hospitals:** 265\n",
    "\n",
    "**Without odhf additions:** 254"
   ]
  },
  {
   "cell_type": "markdown",
   "metadata": {},
   "source": [
    "### To Do:\n",
    "\n",
    " * hilsock and heritage woods are separate in ODHF - duplicate priory for hilsock - <mark>*temporarily removed*</mark>\n",
    " * update data"
   ]
  },
  {
   "cell_type": "code",
   "execution_count": 685,
   "metadata": {},
   "outputs": [
    {
     "data": {
      "text/plain": [
       "<matplotlib.axes._subplots.AxesSubplot at 0x1153c0850>"
      ]
     },
     "execution_count": 685,
     "metadata": {},
     "output_type": "execute_result"
    },
    {
     "data": {
      "image/png": "[encoded data removed]",
      "text/plain": [
       "<Figure size 1800x720 with 2 Axes>"
      ]
     },
     "metadata": {
      "needs_background": "light"
     },
     "output_type": "display_data"
    }
   ],
   "source": [
    "import missingno as msno\n",
    "\n",
    "msno.matrix(ltc_odhf3.reset_index()[['facility_name', 'BEDS_TOTAL', 'latitude_x']])"
   ]
  },
  {
   "cell_type": "code",
   "execution_count": null,
   "metadata": {},
   "outputs": [],
   "source": []
  }
 ],
 "metadata": {
  "kernelspec": {
   "display_name": "Python 3",
   "language": "python",
   "name": "python3"
  },
  "language_info": {
   "codemirror_mode": {
    "name": "ipython",
    "version": 3
   },
   "file_extension": ".py",
   "mimetype": "text/x-python",
   "name": "python",
   "nbconvert_exporter": "python",
   "pygments_lexer": "ipython3",
   "version": "3.7.4"
  }
 },
 "nbformat": 4,
 "nbformat_minor": 4
}
