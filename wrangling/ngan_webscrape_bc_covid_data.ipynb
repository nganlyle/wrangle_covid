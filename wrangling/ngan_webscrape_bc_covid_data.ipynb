{
 "cells": [
  {
   "cell_type": "code",
   "execution_count": 1,
   "metadata": {},
   "outputs": [],
   "source": [
    "import pandas as pd\n",
    "import numpy as np\n",
    "import requests\n",
    "from bs4 import BeautifulSoup\n",
    "\n",
    "\n",
    "pd.set_option('display.max_rows', None)\n",
    "pd.set_option('display.max_columns', None)\n",
    "pd.set_option('display.width', None)\n",
    "pd.set_option('display.max_colwidth', -1)"
   ]
  },
  {
   "cell_type": "code",
   "execution_count": 2,
   "metadata": {},
   "outputs": [],
   "source": [
    "ltc_requests = requests.get(\"https://globalnews.ca/news/6769101/seniors-homes-coronavirus/\")\n",
    "ltc = BeautifulSoup(ltc_requests.text)"
   ]
  },
  {
   "cell_type": "code",
   "execution_count": 26,
   "metadata": {},
   "outputs": [
    {
     "data": {
      "text/plain": [
       "[<strong>READ MORE: </strong>,\n",
       " <strong>Holy Family Hospital</strong>,\n",
       " <strong>Arbutus Care Centre</strong>,\n",
       " <strong>Czorny Alzheimer Centre</strong>,\n",
       " <strong>George Derby Centre</strong>,\n",
       " <strong>New Vista Care Centre</strong>,\n",
       " <strong>Derby Manor – Independent Living</strong>,\n",
       " <strong>Maple Ridge Seniors Village</strong>,\n",
       " <strong>Dania Home</strong>,\n",
       " <strong>Queen’s Park Care Centre</strong>,\n",
       " <strong>Berkley Care Centre</strong>,\n",
       " <strong>Lynn Valley Care Centre</strong>,\n",
       " <strong>Haro Park Centre</strong>,\n",
       " <strong>Royal Arch Masonic Home</strong>,\n",
       " <strong>Amica Edgemont</strong>,\n",
       " <strong>South Granville Park Lodge</strong>,\n",
       " <strong>Windermere Care Centre</strong>,\n",
       " <strong>Lions Gate Hospital</strong>,\n",
       " <strong>Evergreen House</strong>,\n",
       " <strong>Richmond Hospital</strong>,\n",
       " <strong>Little Mountain Long-term Care Facility</strong>,\n",
       " <strong>Inglewood Lodge</strong>,\n",
       " <strong>Villa Cathay</strong>,\n",
       " <strong>German Canadian Care Home</strong>,\n",
       " <strong>Hollyburn House</strong>,\n",
       " <strong>Richmond Lions Manor</strong>,\n",
       " <strong>Joseph &amp; Rosalie Segal Family Health Centre</strong>,\n",
       " <strong>Broadway Pentecostal Lodge</strong>,\n",
       " <strong>Central City Lodge</strong>,\n",
       " <strong>Tabor Home</strong>,\n",
       " <strong>Langley Memorial Hospital Maple Hill Long-Term Care Facility</strong>,\n",
       " <strong>Mission Memorial Hospital </strong>,\n",
       " <strong>New Vista Care Home</strong>,\n",
       " <strong>Worthington Pavilion LCTF</strong>,\n",
       " <strong>The Cedars in Mission</strong>,\n",
       " <strong>Valhaven Home</strong>,\n",
       " <strong>Langley Lodge</strong>,\n",
       " <strong>Nicola Lodge</strong>,\n",
       " <strong>Eden Care Centre</strong>,\n",
       " <strong>Chartwell Willow Long-term care </strong>,\n",
       " <strong>Ridge Meadows Hospital (Rehab AM</strong>,\n",
       " <strong>)</strong>,\n",
       " <strong>Ridge Meadows Hospital (Unit 3W)</strong>,\n",
       " <strong>Ridge Meadows Hospital (Medicine unite 3N)</strong>,\n",
       " <strong>Dufferin Care Centre</strong>,\n",
       " <strong>Swedish Canadian Manor, assisted living</strong>,\n",
       " <strong>Worthington Pavilion / MSA Rehab – Acute</strong>,\n",
       " <strong>Abbotsford Regional Hospital</strong>,\n",
       " <strong>Cedarbrook Chateau independent living</strong>,\n",
       " <strong>MSA Manor Long-Term Care Facility</strong>,\n",
       " <strong>Langley Gardens</strong>,\n",
       " <strong>Guildford Seniors Village</strong>,\n",
       " <strong>Amica Retirement Home</strong>,\n",
       " <strong>Delta View Care Centre </strong>,\n",
       " <strong>Evergreen Heights</strong>,\n",
       " <strong>The Harrison at Elim Village</strong>,\n",
       " <strong>Shaughnessy Care Center</strong>,\n",
       " <strong>Kootenay Street Village</strong>,\n",
       " <strong>Hawthorn Park / Orchard Manor</strong>]"
      ]
     },
     "execution_count": 26,
     "metadata": {},
     "output_type": "execute_result"
    }
   ],
   "source": [
    "# names = ltc.find_all(\"strong\")\n",
    "art = ltc.find(\"article\", {\"class\":\"l-article__text js-story-text\"})\n",
    "names = art.find_all(\"strong\")\n",
    "len(names) # 59 homes manual count\n",
    "names"
   ]
  },
  {
   "cell_type": "code",
   "execution_count": 28,
   "metadata": {},
   "outputs": [
    {
     "ename": "TypeError",
     "evalue": "extract() takes 1 positional argument but 3 were given",
     "output_type": "error",
     "traceback": [
      "\u001b[0;31m---------------------------------------------------------------------------\u001b[0m",
      "\u001b[0;31mTypeError\u001b[0m                                 Traceback (most recent call last)",
      "\u001b[0;32m<ipython-input-28-eb14e2f412b7>\u001b[0m in \u001b[0;36m<module>\u001b[0;34m\u001b[0m\n\u001b[0;32m----> 1\u001b[0;31m \u001b[0mart\u001b[0m\u001b[0;34m.\u001b[0m\u001b[0mextract\u001b[0m\u001b[0;34m(\u001b[0m\u001b[0;34m\"ul\"\u001b[0m\u001b[0;34m,\u001b[0m \u001b[0;34m{\u001b[0m\u001b[0;34m\"class\"\u001b[0m\u001b[0;34m:\u001b[0m\u001b[0;34m\"c-posts c-posts--inline\"\u001b[0m\u001b[0;34m}\u001b[0m\u001b[0;34m)\u001b[0m\u001b[0;34m\u001b[0m\u001b[0m\n\u001b[0m",
      "\u001b[0;31mTypeError\u001b[0m: extract() takes 1 positional argument but 3 were given"
     ]
    }
   ],
   "source": [
    "art.extract(\"ul\", {\"class\":\"c-posts c-posts--inline\"})"
   ]
  },
  {
   "cell_type": "code",
   "execution_count": 32,
   "metadata": {},
   "outputs": [
    {
     "data": {
      "text/plain": [
       "[<ul><li>88 COVID-19 cases</li><li>21 deaths</li></ul>,\n",
       " <ul><li>1 COVID-19 case</li></ul>,\n",
       " <ul><li>1 COVID-19 case</li></ul>,\n",
       " <ul><li>7 COVID-19 cases</li></ul>,\n",
       " <ul><li>12 COVID-19 cases</li><li>1 death</li></ul>,\n",
       " <ul><li>1 COVID-19 case</li></ul>,\n",
       " <ul><li>COVID-19 case</li></ul>,\n",
       " <ul><li>1 COVID-19 case</li></ul>,\n",
       " <ul><li>4 COVID-19 case</li></ul>,\n",
       " <ul><li>25 cases</li><li>5 deaths</li></ul>,\n",
       " <ul><li>79 cases</li><li>20 deaths</li></ul>,\n",
       " <ul><li>89 cases</li><li>13 deaths</li></ul>,\n",
       " <ul><li>37 cases</li><li>12 deaths</li></ul>,\n",
       " <ul><li>19 cases</li><li>3 deaths</li></ul>,\n",
       " <ul><li>18 cases</li><li>2 deaths</li></ul>,\n",
       " <ul><li>14 cases</li><li>1 death</li></ul>,\n",
       " <ul><li>28 cases</li><li>8 deaths</li></ul>,\n",
       " <ul><li>1 case</li><li>0 deaths</li></ul>,\n",
       " <ul><li>6 cases</li><li>2 deaths</li></ul>,\n",
       " <ul><li>1 case</li><li>0 deaths</li></ul>,\n",
       " <ul><li>1 case</li><li>0 deaths</li></ul>,\n",
       " <ul><li>1 case</li><li>0 deaths</li></ul>,\n",
       " <ul><li>1 case</li><li>0 deaths</li></ul>,\n",
       " <ul><li>1 case</li><li>0 deaths</li></ul>,\n",
       " <ul><li>1 COVID-19 case</li></ul>,\n",
       " <ul><li>2 COVID-19 cases</li></ul>,\n",
       " <ul><li>Suspected COVID-19 case confirmed as influenza</li></ul>,\n",
       " <ul><li>1 case</li><li>0 deaths</li></ul>,\n",
       " <ul><li>1 COVID-19 case</li><li>1 death</li></ul>,\n",
       " <ul><li>3 COVID-19 cases</li><li>1 death</li></ul>,\n",
       " <ul><li>14 COVID-19 cases</li><li>1 death</li></ul>,\n",
       " <ul><li>6 cases</li><li>1 death</li></ul>,\n",
       " <ul><li>7 cases</li><li>1 death</li></ul>,\n",
       " <ul><li>1 case</li><li>0 deaths</li></ul>,\n",
       " <ul><li>9 cases</li><li>1 death</li></ul>,\n",
       " <ul><li>67 cases</li><li>26 deaths</li></ul>,\n",
       " <ul><li>1 case</li><li>0 deaths</li></ul>,\n",
       " <ul><li>8 cases</li><li>1 death</li></ul>,\n",
       " <ul><li>5 cases</li><li>2 deaths</li></ul>,\n",
       " <ul><li>20 cases</li><li>2 deaths</li></ul>,\n",
       " <ul><li>12 cases</li><li>2 deaths</li></ul>,\n",
       " <ul><li>3 cases</li><li>1 death</li></ul>,\n",
       " <ul><li>12 cases</li><li>4 deaths</li></ul>,\n",
       " <ul><li>22 cases</li><li>4 deaths</li></ul>,\n",
       " <ul><li>13 cases</li><li>3 deaths</li></ul>,\n",
       " <ul><li>16 cases</li><li>4 deaths</li></ul>,\n",
       " <ul><li>3 cases</li><li>1 deaths</li></ul>,\n",
       " <ul><li>11 cases</li><li>0 deaths</li></ul>,\n",
       " <ul><li>5 cases</li><li>0 deaths</li></ul>,\n",
       " <ul><li>1 case</li><li>0 deaths</li></ul>,\n",
       " <ul><li>6 cases</li><li>0 deaths</li></ul>,\n",
       " <ul><li>1 case</li><li>0 deaths</li></ul>,\n",
       " <ul><li>1 case</li><li>0 deaths</li></ul>,\n",
       " <ul><li>1 case</li><li>0 deaths</li></ul>,\n",
       " <ul><li>1 case</li><li>0 deaths</li></ul>,\n",
       " <ul><li>1 case</li><li>0 deaths</li></ul>,\n",
       " <ul><li>3 cases</li><li>1 death</li></ul>,\n",
       " <ul><li>1 case</li><li>0 deaths</li></ul>,\n",
       " <ul><li>1 case</li><li>0 deaths</li></ul>]"
      ]
     },
     "execution_count": 32,
     "metadata": {},
     "output_type": "execute_result"
    }
   ],
   "source": [
    "lists = art.find_all(\"ul\",{'class':''})\n",
    "len(lists)\n",
    "lists\n",
    "# lists[1].getText()\n",
    "# for each in lists:\n",
    "#     print(each)"
   ]
  },
  {
   "cell_type": "code",
   "execution_count": null,
   "metadata": {},
   "outputs": [],
   "source": []
  }
 ],
 "metadata": {
  "kernelspec": {
   "display_name": "Python 3",
   "language": "python",
   "name": "python3"
  },
  "language_info": {
   "codemirror_mode": {
    "name": "ipython",
    "version": 3
   },
   "file_extension": ".py",
   "mimetype": "text/x-python",
   "name": "python",
   "nbconvert_exporter": "python",
   "pygments_lexer": "ipython3",
   "version": "3.7.4"
  }
 },
 "nbformat": 4,
 "nbformat_minor": 2
}
