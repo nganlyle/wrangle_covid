{
 "cells": [
  {
   "cell_type": "markdown",
   "metadata": {},
   "source": [
    "# BC COVID-19 Data by Health Authority\n",
    "\n",
    "1. [Feature Server JSON](https://services1.arcgis.com/xeMpV7tU1t4KD3Ei/arcgis/rest/services/COVID19_Cases_by_BC_Health_Authority/FeatureServer/0?f=pjson) `id 1,2,3,4,5`\n",
    "\n",
    "2. [Case Details](http://www.bccdc.ca/health-info/diseases-conditions/covid-19/data)\n",
    "\n",
    "---"
   ]
  },
  {
   "cell_type": "code",
   "execution_count": 5,
   "metadata": {},
   "outputs": [],
   "source": [
    "import numpy as np\n",
    "import pandas as pd\n",
    "import geopandas as gpd\n",
    "import requests\n",
    "from shapely.geometry import shape"
   ]
  },
  {
   "cell_type": "code",
   "execution_count": 6,
   "metadata": {},
   "outputs": [],
   "source": [
    "r = requests.get(\"https://services1.arcgis.com/xeMpV7tU1t4KD3Ei/arcgis/rest/services/COVID19_Cases_by_BC_Health_Authority/FeatureServer/0/query?where=&objectIds=1%2C2%2C3%2C4%2C5&time=&geometry=&geometryType=esriGeometryPolygon&inSR=&spatialRel=esriSpatialRelIntersects&resultType=none&distance=0.0&units=esriSRUnit_Meter&returnGeodetic=false&outFields=&returnGeometry=true&returnCentroid=false&featureEncoding=esriDefault&multipatchOption=xyFootprint&maxAllowableOffset=&geometryPrecision=&outSR=&datumTransformation=&applyVCSProjection=false&returnIdsOnly=false&returnUniqueIdsOnly=false&returnCountOnly=false&returnExtentOnly=false&returnQueryGeometry=true&returnDistinctValues=false&cacheHint=false&orderByFields=&groupByFieldsForStatistics=&outStatistics=&having=&resultOffset=&resultRecordCount=&returnZ=false&returnM=false&returnExceededLimitFeatures=true&quantizationParameters=&sqlFormat=none&f=pgeojson&token=\")\n",
    "r.raise_for_status()\n",
    "\n",
    "data = r.json()"
   ]
  },
  {
   "cell_type": "code",
   "execution_count": 7,
   "metadata": {},
   "outputs": [
    {
     "name": "stdout",
     "output_type": "stream",
     "text": [
      "             HA_Name                                           geometry\n",
      "0           Interior  POLYGON ((-120.45314 52.99326, -120.42102 52.9...\n",
      "1             Fraser  MULTIPOLYGON (((-122.93676 49.31128, -122.9365...\n",
      "2  Vancouver Coastal  MULTIPOLYGON (((-123.10903 49.28623, -123.0231...\n",
      "3   Vancouver Island  MULTIPOLYGON (((-126.66725 51.19230, -126.6705...\n",
      "4           Northern  MULTIPOLYGON (((-129.76908 55.45115, -129.7657...\n"
     ]
    }
   ],
   "source": [
    "gdf = gpd.GeoDataFrame.from_features(data[\"features\"])\n",
    "print(gdf.head())"
   ]
  },
  {
   "cell_type": "code",
   "execution_count": 8,
   "metadata": {},
   "outputs": [],
   "source": [
    "with open('../data/bc-health-authorities.geojson', 'w') as f:\n",
    "    f.write(gdf.to_json())"
   ]
  },
  {
   "cell_type": "markdown",
   "metadata": {},
   "source": [
    "---\n",
    "\n",
    "2. **Case Details**"
   ]
  },
  {
   "cell_type": "code",
   "execution_count": 9,
   "metadata": {},
   "outputs": [
    {
     "ename": "FileNotFoundError",
     "evalue": "[Errno 2] File b'../data/BCCDC_COVID19_Dashboard_Case_Details.csv' does not exist: b'../data/BCCDC_COVID19_Dashboard_Case_Details.csv'",
     "output_type": "error",
     "traceback": [
      "\u001b[0;31m---------------------------------------------------------------------------\u001b[0m",
      "\u001b[0;31mFileNotFoundError\u001b[0m                         Traceback (most recent call last)",
      "\u001b[0;32m<ipython-input-9-b06c0147f657>\u001b[0m in \u001b[0;36m<module>\u001b[0;34m\u001b[0m\n\u001b[0;32m----> 1\u001b[0;31m \u001b[0mpd\u001b[0m\u001b[0;34m.\u001b[0m\u001b[0mread_csv\u001b[0m\u001b[0;34m(\u001b[0m\u001b[0;34m'../data/BCCDC_COVID19_Dashboard_Case_Details.csv'\u001b[0m\u001b[0;34m)\u001b[0m\u001b[0;34m\u001b[0m\u001b[0m\n\u001b[0m",
      "\u001b[0;32m~/anaconda3/lib/python3.7/site-packages/pandas/io/parsers.py\u001b[0m in \u001b[0;36mparser_f\u001b[0;34m(filepath_or_buffer, sep, delimiter, header, names, index_col, usecols, squeeze, prefix, mangle_dupe_cols, dtype, engine, converters, true_values, false_values, skipinitialspace, skiprows, skipfooter, nrows, na_values, keep_default_na, na_filter, verbose, skip_blank_lines, parse_dates, infer_datetime_format, keep_date_col, date_parser, dayfirst, iterator, chunksize, compression, thousands, decimal, lineterminator, quotechar, quoting, doublequote, escapechar, comment, encoding, dialect, tupleize_cols, error_bad_lines, warn_bad_lines, delim_whitespace, low_memory, memory_map, float_precision)\u001b[0m\n\u001b[1;32m    700\u001b[0m                     skip_blank_lines=skip_blank_lines)\n\u001b[1;32m    701\u001b[0m \u001b[0;34m\u001b[0m\u001b[0m\n\u001b[0;32m--> 702\u001b[0;31m         \u001b[0;32mreturn\u001b[0m \u001b[0m_read\u001b[0m\u001b[0;34m(\u001b[0m\u001b[0mfilepath_or_buffer\u001b[0m\u001b[0;34m,\u001b[0m \u001b[0mkwds\u001b[0m\u001b[0;34m)\u001b[0m\u001b[0;34m\u001b[0m\u001b[0m\n\u001b[0m\u001b[1;32m    703\u001b[0m \u001b[0;34m\u001b[0m\u001b[0m\n\u001b[1;32m    704\u001b[0m     \u001b[0mparser_f\u001b[0m\u001b[0;34m.\u001b[0m\u001b[0m__name__\u001b[0m \u001b[0;34m=\u001b[0m \u001b[0mname\u001b[0m\u001b[0;34m\u001b[0m\u001b[0m\n",
      "\u001b[0;32m~/anaconda3/lib/python3.7/site-packages/pandas/io/parsers.py\u001b[0m in \u001b[0;36m_read\u001b[0;34m(filepath_or_buffer, kwds)\u001b[0m\n\u001b[1;32m    427\u001b[0m \u001b[0;34m\u001b[0m\u001b[0m\n\u001b[1;32m    428\u001b[0m     \u001b[0;31m# Create the parser.\u001b[0m\u001b[0;34m\u001b[0m\u001b[0;34m\u001b[0m\u001b[0m\n\u001b[0;32m--> 429\u001b[0;31m     \u001b[0mparser\u001b[0m \u001b[0;34m=\u001b[0m \u001b[0mTextFileReader\u001b[0m\u001b[0;34m(\u001b[0m\u001b[0mfilepath_or_buffer\u001b[0m\u001b[0;34m,\u001b[0m \u001b[0;34m**\u001b[0m\u001b[0mkwds\u001b[0m\u001b[0;34m)\u001b[0m\u001b[0;34m\u001b[0m\u001b[0m\n\u001b[0m\u001b[1;32m    430\u001b[0m \u001b[0;34m\u001b[0m\u001b[0m\n\u001b[1;32m    431\u001b[0m     \u001b[0;32mif\u001b[0m \u001b[0mchunksize\u001b[0m \u001b[0;32mor\u001b[0m \u001b[0miterator\u001b[0m\u001b[0;34m:\u001b[0m\u001b[0;34m\u001b[0m\u001b[0m\n",
      "\u001b[0;32m~/anaconda3/lib/python3.7/site-packages/pandas/io/parsers.py\u001b[0m in \u001b[0;36m__init__\u001b[0;34m(self, f, engine, **kwds)\u001b[0m\n\u001b[1;32m    893\u001b[0m             \u001b[0mself\u001b[0m\u001b[0;34m.\u001b[0m\u001b[0moptions\u001b[0m\u001b[0;34m[\u001b[0m\u001b[0;34m'has_index_names'\u001b[0m\u001b[0;34m]\u001b[0m \u001b[0;34m=\u001b[0m \u001b[0mkwds\u001b[0m\u001b[0;34m[\u001b[0m\u001b[0;34m'has_index_names'\u001b[0m\u001b[0;34m]\u001b[0m\u001b[0;34m\u001b[0m\u001b[0m\n\u001b[1;32m    894\u001b[0m \u001b[0;34m\u001b[0m\u001b[0m\n\u001b[0;32m--> 895\u001b[0;31m         \u001b[0mself\u001b[0m\u001b[0;34m.\u001b[0m\u001b[0m_make_engine\u001b[0m\u001b[0;34m(\u001b[0m\u001b[0mself\u001b[0m\u001b[0;34m.\u001b[0m\u001b[0mengine\u001b[0m\u001b[0;34m)\u001b[0m\u001b[0;34m\u001b[0m\u001b[0m\n\u001b[0m\u001b[1;32m    896\u001b[0m \u001b[0;34m\u001b[0m\u001b[0m\n\u001b[1;32m    897\u001b[0m     \u001b[0;32mdef\u001b[0m \u001b[0mclose\u001b[0m\u001b[0;34m(\u001b[0m\u001b[0mself\u001b[0m\u001b[0;34m)\u001b[0m\u001b[0;34m:\u001b[0m\u001b[0;34m\u001b[0m\u001b[0m\n",
      "\u001b[0;32m~/anaconda3/lib/python3.7/site-packages/pandas/io/parsers.py\u001b[0m in \u001b[0;36m_make_engine\u001b[0;34m(self, engine)\u001b[0m\n\u001b[1;32m   1120\u001b[0m     \u001b[0;32mdef\u001b[0m \u001b[0m_make_engine\u001b[0m\u001b[0;34m(\u001b[0m\u001b[0mself\u001b[0m\u001b[0;34m,\u001b[0m \u001b[0mengine\u001b[0m\u001b[0;34m=\u001b[0m\u001b[0;34m'c'\u001b[0m\u001b[0;34m)\u001b[0m\u001b[0;34m:\u001b[0m\u001b[0;34m\u001b[0m\u001b[0m\n\u001b[1;32m   1121\u001b[0m         \u001b[0;32mif\u001b[0m \u001b[0mengine\u001b[0m \u001b[0;34m==\u001b[0m \u001b[0;34m'c'\u001b[0m\u001b[0;34m:\u001b[0m\u001b[0;34m\u001b[0m\u001b[0m\n\u001b[0;32m-> 1122\u001b[0;31m             \u001b[0mself\u001b[0m\u001b[0;34m.\u001b[0m\u001b[0m_engine\u001b[0m \u001b[0;34m=\u001b[0m \u001b[0mCParserWrapper\u001b[0m\u001b[0;34m(\u001b[0m\u001b[0mself\u001b[0m\u001b[0;34m.\u001b[0m\u001b[0mf\u001b[0m\u001b[0;34m,\u001b[0m \u001b[0;34m**\u001b[0m\u001b[0mself\u001b[0m\u001b[0;34m.\u001b[0m\u001b[0moptions\u001b[0m\u001b[0;34m)\u001b[0m\u001b[0;34m\u001b[0m\u001b[0m\n\u001b[0m\u001b[1;32m   1123\u001b[0m         \u001b[0;32melse\u001b[0m\u001b[0;34m:\u001b[0m\u001b[0;34m\u001b[0m\u001b[0m\n\u001b[1;32m   1124\u001b[0m             \u001b[0;32mif\u001b[0m \u001b[0mengine\u001b[0m \u001b[0;34m==\u001b[0m \u001b[0;34m'python'\u001b[0m\u001b[0;34m:\u001b[0m\u001b[0;34m\u001b[0m\u001b[0m\n",
      "\u001b[0;32m~/anaconda3/lib/python3.7/site-packages/pandas/io/parsers.py\u001b[0m in \u001b[0;36m__init__\u001b[0;34m(self, src, **kwds)\u001b[0m\n\u001b[1;32m   1851\u001b[0m         \u001b[0mkwds\u001b[0m\u001b[0;34m[\u001b[0m\u001b[0;34m'usecols'\u001b[0m\u001b[0;34m]\u001b[0m \u001b[0;34m=\u001b[0m \u001b[0mself\u001b[0m\u001b[0;34m.\u001b[0m\u001b[0musecols\u001b[0m\u001b[0;34m\u001b[0m\u001b[0m\n\u001b[1;32m   1852\u001b[0m \u001b[0;34m\u001b[0m\u001b[0m\n\u001b[0;32m-> 1853\u001b[0;31m         \u001b[0mself\u001b[0m\u001b[0;34m.\u001b[0m\u001b[0m_reader\u001b[0m \u001b[0;34m=\u001b[0m \u001b[0mparsers\u001b[0m\u001b[0;34m.\u001b[0m\u001b[0mTextReader\u001b[0m\u001b[0;34m(\u001b[0m\u001b[0msrc\u001b[0m\u001b[0;34m,\u001b[0m \u001b[0;34m**\u001b[0m\u001b[0mkwds\u001b[0m\u001b[0;34m)\u001b[0m\u001b[0;34m\u001b[0m\u001b[0m\n\u001b[0m\u001b[1;32m   1854\u001b[0m         \u001b[0mself\u001b[0m\u001b[0;34m.\u001b[0m\u001b[0munnamed_cols\u001b[0m \u001b[0;34m=\u001b[0m \u001b[0mself\u001b[0m\u001b[0;34m.\u001b[0m\u001b[0m_reader\u001b[0m\u001b[0;34m.\u001b[0m\u001b[0munnamed_cols\u001b[0m\u001b[0;34m\u001b[0m\u001b[0m\n\u001b[1;32m   1855\u001b[0m \u001b[0;34m\u001b[0m\u001b[0m\n",
      "\u001b[0;32mpandas/_libs/parsers.pyx\u001b[0m in \u001b[0;36mpandas._libs.parsers.TextReader.__cinit__\u001b[0;34m()\u001b[0m\n",
      "\u001b[0;32mpandas/_libs/parsers.pyx\u001b[0m in \u001b[0;36mpandas._libs.parsers.TextReader._setup_parser_source\u001b[0;34m()\u001b[0m\n",
      "\u001b[0;31mFileNotFoundError\u001b[0m: [Errno 2] File b'../data/BCCDC_COVID19_Dashboard_Case_Details.csv' does not exist: b'../data/BCCDC_COVID19_Dashboard_Case_Details.csv'"
     ]
    }
   ],
   "source": [
    "pd.read_csv('../data/BCCDC_COVID19_Dashboard_Case_Details.csv')"
   ]
  },
  {
   "cell_type": "markdown",
   "metadata": {},
   "source": [
    "---\n",
    "# BC COVID Data for LTCs\n",
    "\n",
    "1. [long term facilities](https://www.seniorsadvocatebc.ca/quickfacts/search/%20)\n",
    "2. [outbreaks](http://www.phsa.ca/current-outbreaks)\n",
    "\n",
    "---\n",
    "\n",
    "1. **Long term facilities**"
   ]
  },
  {
   "cell_type": "code",
   "execution_count": 10,
   "metadata": {},
   "outputs": [],
   "source": [
    "from bs4 import BeautifulSoup"
   ]
  },
  {
   "cell_type": "code",
   "execution_count": 11,
   "metadata": {},
   "outputs": [],
   "source": [
    "# user defined exception errors\n",
    "class Error(Exception):\n",
    "    \"\"\"Base class for other exceptions\"\"\"\n",
    "    pass\n",
    "\n",
    "class InvalidHome(Error):\n",
    "    \"\"\"Raised when return is not a home name or there is a duplicate\"\"\"\n",
    "    pass\n",
    "\n",
    "class InvalidAddress(Error):\n",
    "    \"\"\"Raised when return is not a long-term care home address\"\"\"\n",
    "    pass"
   ]
  },
  {
   "cell_type": "code",
   "execution_count": null,
   "metadata": {},
   "outputs": [],
   "source": [
    "address = []\n",
    "home = []\n",
    "links = []\n",
    "    \n",
    "for i in range(1,31):\n",
    "    re = requests.get('https://www.seniorsadvocatebc.ca/quickfacts/search/%20/'+ str(i))\n",
    "    s = BeautifulSoup(re.text,'html5lib')\n",
    "\n",
    "    containers = s.find_all(\"div\")\n",
    "\n",
    "    for each in containers:\n",
    "        try:\n",
    "             # home address\n",
    "            if 'Address:' not in each.find('p').getText():\n",
    "                raise InvalidAddress\n",
    "            else:\n",
    "                address.append(each.find('p').getText())\n",
    "\n",
    "            # home name\n",
    "            if each.find('a').getText() in ['Home', '\\n\\t\\t\\t\\t\\t\\t\\t«\\n\\t\\t\\t\\t\\t\\t', \n",
    "                                            'Data Sources', 'Visit us on Facebook', \n",
    "                                            'Email the OSA', '']:\n",
    "                raise InvalidHome\n",
    "            elif each.find('a').getText() in home:\n",
    "                # remove duplicates (if home name already exists)\n",
    "                raise InvalidHome\n",
    "            else:\n",
    "                home.append(each.find('a').getText())\n",
    "\n",
    "            # home url\n",
    "            if each.find('a').get('href') in links:\n",
    "                # remove duplicates (if url already exists)\n",
    "                raise InvalidHome\n",
    "            else:\n",
    "                links.append(each.find('a').get('href'))\n",
    "\n",
    "        except AttributeError:\n",
    "            pass\n",
    "        except InvalidHome:\n",
    "            pass\n",
    "        except InvalidAddress:\n",
    "            pass"
   ]
  },
  {
   "cell_type": "code",
   "execution_count": null,
   "metadata": {},
   "outputs": [],
   "source": [
    "ltc = pd.DataFrame({'Facility':home, 'Link':links, 'Street address':address})"
   ]
  },
  {
   "cell_type": "code",
   "execution_count": null,
   "metadata": {},
   "outputs": [],
   "source": [
    "# clean and separate address info\n",
    "ltc['Street address'] = ltc['Street address'].str.replace('\\n\\t\\t\\t\\t',' ')\n",
    "ltc['city/postal'] = ltc['Street address'].str.extract(r'City/postal:(.*) Phone:')\n",
    "ltc['phone'] = ltc['Street address'].str.extract(r'Phone:(.*)\\t\\t\\t')\n",
    "ltc['Street address'] = ltc['Street address'].str.extract(r'Address:(.*) City/postal:')"
   ]
  },
  {
   "cell_type": "code",
   "execution_count": null,
   "metadata": {},
   "outputs": [],
   "source": [
    "ltc"
   ]
  },
  {
   "cell_type": "markdown",
   "metadata": {},
   "source": [
    "### **Web Crawler for Home Details**\n",
    "\n",
    "Note: did not include  'Disease outbreak or occurrence' since 21 are missing. would need a try except statement."
   ]
  },
  {
   "cell_type": "code",
   "execution_count": null,
   "metadata": {},
   "outputs": [],
   "source": [
    "reques = requests.get(links[0])\n",
    "soup = BeautifulSoup(reques.text, 'html5lib')\n",
    "\n",
    "alltext = []\n",
    "for t in soup.find_all('td'):\n",
    "    alltext.append(t.getText())\n",
    "    \n",
    "    \n",
    "keep = ['\\n\\t\\t\\t\\t\\t\\t\\n\\t\\t\\t\\t\\t', 'Health authority', 'Accreditation status', 'Councils', 'Private beds (not publicly funded)', 'Publicly funded beds (short- and long-term)',\n",
    "       'Total beds', 'Private rooms', 'Semi-private rooms', 'Multi-person rooms', 'Total direct care hours (hours per resident per day)',\n",
    "       'Number of licensing complaints', 'Number substantiated licensing complaints',\n",
    "       'Number of Inspections', 'Number of licensing infractions found', 'Hygiene & communicable disease control', 'Average age of population']\n",
    "\n",
    "\n",
    "# initialize empty dict\n",
    "details = {}\n",
    "\n",
    "def curate(x, keep):\n",
    "    '''param x: is a list of text scraped from LTC tables\n",
    "        param keep: is a list of key words to wait for before selecting text'''\n",
    "    index = -1\n",
    "\n",
    "    if not bool(details):\n",
    "        # if dictionary is empty, create the keys and values\n",
    "        for i in x:\n",
    "            index += 1\n",
    "            if i in keep:\n",
    "                details[i] = [x[index+1]]\n",
    "        \n",
    "    else:\n",
    "        # if the dictionary already has entries, append new values\n",
    "        for i in x:\n",
    "            index += 1\n",
    "            if i in keep:\n",
    "                details[i].append(x[index+1])\n",
    "            \n",
    "    return details"
   ]
  },
  {
   "cell_type": "markdown",
   "metadata": {},
   "source": [
    "***Warning:*** slow script below"
   ]
  },
  {
   "cell_type": "code",
   "execution_count": null,
   "metadata": {
    "scrolled": true
   },
   "outputs": [],
   "source": [
    "for l, i in zip(links, range(1, len(links)+1)):\n",
    "    print('making beautiful soup - {} of {}'.format(i, len(links)))\n",
    "    re = requests.get(l)\n",
    "    s = BeautifulSoup(re.text,'html5lib')\n",
    "    complete = []\n",
    "\n",
    "    for t in s.find_all('td'):\n",
    "        # SLOWEST STEP\n",
    "        complete.append(t.getText())\n",
    "\n",
    "    curate(complete, keep)"
   ]
  },
  {
   "cell_type": "code",
   "execution_count": null,
   "metadata": {
    "scrolled": false
   },
   "outputs": [],
   "source": [
    "# summary of contents\n",
    "for k in details.keys():\n",
    "    print(k, len(details[k]))\n",
    "\n",
    "df = pd.DataFrame(details)\n",
    "\n",
    "# clean facility name scrape\n",
    "df.rename(columns = {'\\n\\t\\t\\t\\t\\t\\t\\n\\t\\t\\t\\t\\t' : 'Facility'}, inplace = True)\n",
    "df.Facility = df.Facility.str.replace('\\n\\t\\t\\t\\t\\t\\t', '')\n",
    "df.Facility = df.Facility.str.replace(' Quick Facts(.*)\\n\\t\\t\\t\\t\\t', '')\n",
    "df"
   ]
  },
  {
   "cell_type": "code",
   "execution_count": null,
   "metadata": {},
   "outputs": [],
   "source": [
    "ltc = pd.merge(ltc, df, how = 'outer', on = 'Facility')\n",
    "ltc.tail()"
   ]
  },
  {
   "cell_type": "markdown",
   "metadata": {},
   "source": [
    "2. **Outbreaks**\n",
    "\n",
    "From: [Nora Loreto](https://docs.google.com/spreadsheets/d/1M_RzojK0vwF9nAozI7aoyLpPU8EA1JEqO6rq0g1iebU/edit#gid=0)\n",
    "\n",
    "*Up to date as of 23h July 21*\n",
    "\n",
    "---"
   ]
  },
  {
   "cell_type": "code",
   "execution_count": null,
   "metadata": {},
   "outputs": [],
   "source": [
    "cases = pd.read_csv('../data/Deaths in Residential Care in Canada by facility - Institutions.csv',  skiprows=[0,1])\n"
   ]
  },
  {
   "cell_type": "code",
   "execution_count": null,
   "metadata": {},
   "outputs": [],
   "source": [
    "# BC facilities\n",
    "BC_cases = cases.loc[cases['Prov.'] == 'BC']\n",
    "BC_cases.info()"
   ]
  },
  {
   "cell_type": "code",
   "execution_count": null,
   "metadata": {},
   "outputs": [],
   "source": [
    "# drop unneccessary columns\n",
    "dr = ['Owners', 'Union', 'Unnamed: 9', 'Unnamed: 10']\n",
    "\n",
    "BC_cases.drop(columns = dr, inplace = True)"
   ]
  },
  {
   "cell_type": "markdown",
   "metadata": {},
   "source": [
    "### Clean and Merge LTC Details with COVID-19 Outbreak Information\n",
    "\n",
    "---"
   ]
  },
  {
   "cell_type": "code",
   "execution_count": null,
   "metadata": {
    "scrolled": true
   },
   "outputs": [],
   "source": [
    "merge = pd.merge(BC_cases, ltc, on = 'Facility', how = 'inner')"
   ]
  },
  {
   "cell_type": "code",
   "execution_count": null,
   "metadata": {},
   "outputs": [],
   "source": [
    "list(set(merge.Facility.unique()) - set(BC_cases.Facility.unique()))"
   ]
  },
  {
   "cell_type": "code",
   "execution_count": null,
   "metadata": {
    "scrolled": true
   },
   "outputs": [],
   "source": [
    "list(set(BC_cases.Facility.unique()) - set(merge.Facility.unique()))"
   ]
  },
  {
   "cell_type": "markdown",
   "metadata": {},
   "source": [
    "**Unaccounted for homes in initial merge:**\n",
    "\n",
    "Name in BC Cases | In LTC list\n",
    "-----------------|-------------\n",
    "Holy Family Hospital long term care unit | Holy Family Hospital\n",
    "Haro Park | Haro Park Centre\n",
    "Lions Gate Hospital (Unit 6 East) | [Evergreen House - Lions Gate Hospital](https://www.google.com/search?client=safari&rls=en&q=lions+gate+hospital+unit+6+evergreen+house&ie=UTF-8&oe=UTF-8)\n",
    "Four LTC homes in Vancouver - July 6 | `unknown`\n",
    "Amica Edgemont Village | `missing - senior living`\n",
    "Ridge Meadows Hospital (Rehab and Unit 3W) | [Baillie House](https://www.fraserhealth.ca/Service-Directory/Service-At-Location/5/7/emergency---ridge-meadows-hospital#.Xx8Rpy0ZNQI)\n",
    "Swedish Assisted Living | `missing - assisted living`\n",
    "Worthington Longterm Care Facility | [Cottage and Worthington Pavilions - MSA Hospital](https://www.fraserhealth.ca/Service-Directory/Locations/Abbotsford/cottage-worthington-pavilion#.Xx8PRy0ZNQI)\n",
    "Residence at Clayton Heights | The Residence at Clayton Heights\n",
    "South Granville Park Lodge | `missing`\n",
    "Shaughnessy Care Centre | `missing`\n",
    "Valhaven Home | Valhaven Rest Home\n",
    "Mission Institution* | `correctional facility`"
   ]
  },
  {
   "cell_type": "markdown",
   "metadata": {},
   "source": [
    "***Correct nomenclature to match those in LTC scrape:***"
   ]
  },
  {
   "cell_type": "code",
   "execution_count": null,
   "metadata": {},
   "outputs": [],
   "source": [
    "BC_cases.Facility.replace({'Holy Family Hospital long term care unit' : 'Holy Family Hospital',\n",
    "                           'Haro Park' : 'Haro Park Centre',\n",
    "                           'Lions Gate Hospital (Unit 6 East)' : 'Evergreen House - Lions Gate Hospital',\n",
    "                           'Worthington Longterm Care Facility' : 'Cottage and Worthington Pavilions - MSA Hospital',\n",
    "                           'Residence at Clayton Heights' : 'The Residence at Clayton Heights',\n",
    "                           'Ridge Meadows Hospital (Rehab and Unit 3W)' : 'Baillie House',\n",
    "                           'Valhaven Home':'Valhaven Rest Home'}, inplace = True)"
   ]
  },
  {
   "cell_type": "code",
   "execution_count": null,
   "metadata": {},
   "outputs": [],
   "source": [
    "merge = pd.merge(BC_cases, ltc, on = 'Facility', how = 'right')\n",
    "list(set(BC_cases.Facility.unique()) - set(merge.Facility.unique()))"
   ]
  },
  {
   "cell_type": "markdown",
   "metadata": {},
   "source": [
    "#### As done in Ontario analysis, add binary columns for councils and accreditation"
   ]
  },
  {
   "cell_type": "code",
   "execution_count": 1112,
   "metadata": {},
   "outputs": [],
   "source": [
    "def residents(x):\n",
    "    if 'Resident' in x:\n",
    "        return 'yes'\n",
    "    else:\n",
    "        return 'no'\n",
    "    \n",
    "    \n",
    "def family(x):\n",
    "    if 'Family' in x:\n",
    "        return 'yes'\n",
    "    else:\n",
    "        return 'no'\n",
    "\n",
    "def accred(x):\n",
    "    if x == 'Not Accredited':\n",
    "        return 'no'\n",
    "    elif x == 'Accredited':\n",
    "        return 'yes'\n",
    "    else:\n",
    "        return 'unknown'\n",
    "    \n",
    "merge['residents_council'] = merge.Councils.map(lambda x: residents(x))\n",
    "merge['family_council'] = merge.Councils.map(lambda x: family(x))\n",
    "merge['accreditation'] = merge['Accreditation status'].map(lambda x: accred(x))"
   ]
  },
  {
   "cell_type": "markdown",
   "metadata": {},
   "source": [
    "#### Add outbreak status column"
   ]
  },
  {
   "cell_type": "code",
   "execution_count": 1104,
   "metadata": {},
   "outputs": [],
   "source": [
    "def outbreak(x):\n",
    "    try:\n",
    "        if int(x) != np.nan:\n",
    "            return \"yes\"\n",
    "    except ValueError:\n",
    "        return \"no\"\n",
    "    \n",
    "merge['outbreak_status'] = merge['Number of dead'].map(lambda x: outbreak(x))"
   ]
  },
  {
   "cell_type": "markdown",
   "metadata": {},
   "source": [
    "Manually adjust outbreak status from webscrapes (supplementary portion at bottom of this .ipynb)"
   ]
  },
  {
   "cell_type": "code",
   "execution_count": 1514,
   "metadata": {},
   "outputs": [
    {
     "name": "stderr",
     "output_type": "stream",
     "text": [
      "SettingWithCopyWarning: \n",
      "A value is trying to be set on a copy of a slice from a DataFrame\n",
      "\n",
      "See the caveats in the documentation: https://pandas.pydata.org/pandas-docs/stable/user_guide/indexing.html#returning-a-view-versus-a-copy [indexing.py:671]\n"
     ]
    }
   ],
   "source": [
    "# July 25th Scrape from Northern\n",
    "merge.outbreak_status.loc[merge.Facility == 'Terraceview Lodge'] = 'yes'\n",
    "\n",
    "# Aug 4th Scrape from Fraser\n",
    "merge.outbreak_status.loc[merge.Facility == 'Dania Home'] = 'yes'\n",
    "\n",
    "# Aug 10th Scrape from Fraser\n",
    "merge.outbreak_status.loc[merge.Facility == 'Maple Ridge Seniors Village'] = 'yes'\n",
    "# merge.outbreak_status.loc[merge.Facility == 'Derby Manor'] = 'yes' - NOT FOUND\n",
    "merge.outbreak_status.loc[merge.Facility == 'George Derby Centre'] = 'yes'\n",
    "# merge.outbreak_status.loc[merge.Facility == 'New Vista Care Society'] = 'yes' - NOT FOUND"
   ]
  },
  {
   "cell_type": "code",
   "execution_count": 1512,
   "metadata": {},
   "outputs": [
    {
     "data": {
      "text/html": [
       "<div>\n",
       "<style scoped>\n",
       "    .dataframe tbody tr th:only-of-type {\n",
       "        vertical-align: middle;\n",
       "    }\n",
       "\n",
       "    .dataframe tbody tr th {\n",
       "        vertical-align: top;\n",
       "    }\n",
       "\n",
       "    .dataframe thead th {\n",
       "        text-align: right;\n",
       "    }\n",
       "</style>\n",
       "<table border=\"1\" class=\"dataframe\">\n",
       "  <thead>\n",
       "    <tr style=\"text-align: right;\">\n",
       "      <th></th>\n",
       "      <th>Facility</th>\n",
       "      <th>Location</th>\n",
       "      <th>Prov.</th>\n",
       "      <th>Number of dead</th>\n",
       "      <th>Number of beds (appx)</th>\n",
       "      <th>%</th>\n",
       "      <th>Public or private</th>\n",
       "      <th>Link</th>\n",
       "      <th>Street address</th>\n",
       "      <th>city/postal</th>\n",
       "      <th>...</th>\n",
       "      <th>Number of licensing complaints</th>\n",
       "      <th>Number substantiated licensing complaints</th>\n",
       "      <th>Number of Inspections</th>\n",
       "      <th>Number of licensing infractions found</th>\n",
       "      <th>Hygiene &amp; communicable disease control</th>\n",
       "      <th>Average age of population</th>\n",
       "      <th>outbreak_status</th>\n",
       "      <th>residents_council</th>\n",
       "      <th>family_council</th>\n",
       "      <th>accreditation</th>\n",
       "    </tr>\n",
       "  </thead>\n",
       "  <tbody>\n",
       "  </tbody>\n",
       "</table>\n",
       "<p>0 rows × 31 columns</p>\n",
       "</div>"
      ],
      "text/plain": [
       "Empty DataFrame\n",
       "Columns: [Facility, Location, Prov., Number of dead, Number of beds (appx), %, Public or private, Link, Street address, city/postal, phone, Health authority, Accreditation status, Councils, Private beds (not publicly funded), Publicly funded beds (short- and long-term), Total beds, Private rooms, Semi-private rooms, Multi-person rooms, Total direct care hours (hours per resident per day), Number of licensing complaints, Number substantiated licensing complaints, Number of Inspections, Number of licensing infractions found, Hygiene & communicable disease control, Average age of population, outbreak_status, residents_council, family_council, accreditation]\n",
       "Index: []\n",
       "\n",
       "[0 rows x 31 columns]"
      ]
     },
     "execution_count": 1512,
     "metadata": {},
     "output_type": "execute_result"
    }
   ],
   "source": [
    "merge.query('Facility.str.contains(\"Derby Manor\") or Facility.str.contains(\"New Vista Care Society\")', engine = 'python')"
   ]
  },
  {
   "cell_type": "code",
   "execution_count": 1105,
   "metadata": {},
   "outputs": [
    {
     "name": "stdout",
     "output_type": "stream",
     "text": [
      "<class 'pandas.core.frame.DataFrame'>\n",
      "Int64Index: 297 entries, 0 to 296\n",
      "Data columns (total 28 columns):\n",
      " #   Column                                                Non-Null Count  Dtype  \n",
      "---  ------                                                --------------  -----  \n",
      " 0   Facility                                              297 non-null    object \n",
      " 1   Location                                              15 non-null     object \n",
      " 2   Prov.                                                 15 non-null     object \n",
      " 3   Number of dead                                        15 non-null     float64\n",
      " 4   Number of beds (appx)                                 3 non-null      float64\n",
      " 5   %                                                     11 non-null     object \n",
      " 6   Public or private                                     11 non-null     object \n",
      " 7   Link                                                  297 non-null    object \n",
      " 8   Street address                                        297 non-null    object \n",
      " 9   city/postal                                           297 non-null    object \n",
      " 10  phone                                                 297 non-null    object \n",
      " 11  Health authority                                      297 non-null    object \n",
      " 12  Accreditation status                                  297 non-null    object \n",
      " 13  Councils                                              297 non-null    object \n",
      " 14  Private beds (not publicly funded)                    297 non-null    object \n",
      " 15  Publicly funded beds (short- and long-term)           297 non-null    object \n",
      " 16  Total beds                                            297 non-null    object \n",
      " 17  Private rooms                                         297 non-null    object \n",
      " 18  Semi-private rooms                                    297 non-null    object \n",
      " 19  Multi-person rooms                                    297 non-null    object \n",
      " 20  Total direct care hours (hours per resident per day)  297 non-null    object \n",
      " 21  Number of licensing complaints                        297 non-null    object \n",
      " 22  Number substantiated licensing complaints             297 non-null    object \n",
      " 23  Number of Inspections                                 297 non-null    object \n",
      " 24  Number of licensing infractions found                 297 non-null    object \n",
      " 25  Hygiene & communicable disease control                297 non-null    object \n",
      " 26  Average age of population                             297 non-null    object \n",
      " 27  outbreak_status                                       297 non-null    object \n",
      "dtypes: float64(2), object(26)\n",
      "memory usage: 67.3+ KB\n"
     ]
    }
   ],
   "source": [
    "merge.info()"
   ]
  },
  {
   "cell_type": "markdown",
   "metadata": {},
   "source": [
    "### Caveats:\n",
    "\n",
    "- Nora Loreto's information may not be complete (e.g. Terraceview Lodge from VCH scrape)\n",
    "- Nora Loreto reports public or private status of home, which is not found on BC government websites (as of yet) and does not reflect private or publicly funded beds"
   ]
  },
  {
   "cell_type": "markdown",
   "metadata": {},
   "source": [
    "## Home Type Scrape \n",
    "\n",
    "From: [FOI Request (2018)](http://docs.openinfo.gov.bc.ca/Response_Package_HTH-2018-83925.pdf)"
   ]
  },
  {
   "cell_type": "code",
   "execution_count": 1161,
   "metadata": {},
   "outputs": [
    {
     "name": "stdout",
     "output_type": "stream",
     "text": [
      "None\n",
      "{'/Type': '/Page', '/MediaBox': [0, 0, 792, 612], '/Parent': IndirectObject(3, 0), '/Resources': {'/XObject': {'/Im3': IndirectObject(21, 0)}, '/ProcSet': ['/PDF', '/ImageI']}, '/Contents': IndirectObject(19, 0)}\n",
      "{}\n",
      "{'/Type': '/Page', '/MediaBox': [0, 0, 792, 612], '/Parent': IndirectObject(3, 0), '/Resources': {'/XObject': {'/Im4': IndirectObject(28, 0)}, '/ProcSet': ['/PDF', '/ImageI']}, '/Contents': IndirectObject(26, 0)}\n",
      "{}\n",
      "{'/Type': '/Page', '/MediaBox': [0, 0, 792, 612], '/Parent': IndirectObject(3, 0), '/Resources': {'/XObject': {'/Im5': IndirectObject(35, 0)}, '/ProcSet': ['/PDF', '/ImageI']}, '/Contents': IndirectObject(33, 0)}\n",
      "{}\n",
      "{'/Type': '/Page', '/MediaBox': [0, 0, 792, 612], '/Parent': IndirectObject(3, 0), '/Resources': {'/XObject': {'/Im6': IndirectObject(42, 0)}, '/ProcSet': ['/PDF', '/ImageI']}, '/Contents': IndirectObject(40, 0)}\n",
      "{}\n",
      "{'/Type': '/Page', '/MediaBox': [0, 0, 792, 612], '/Parent': IndirectObject(3, 0), '/Resources': {'/XObject': {'/Im7': IndirectObject(49, 0)}, '/ProcSet': ['/PDF', '/ImageI']}, '/Contents': IndirectObject(47, 0)}\n",
      "{}\n",
      "{'/Type': '/Page', '/MediaBox': [0, 0, 792, 612], '/Parent': IndirectObject(3, 0), '/Resources': {'/XObject': {'/Im8': IndirectObject(56, 0)}, '/ProcSet': ['/PDF', '/ImageI']}, '/Contents': IndirectObject(54, 0)}\n",
      "{}\n",
      "{'/Type': '/Page', '/MediaBox': [0, 0, 792, 612], '/Parent': IndirectObject(3, 0), '/Resources': {'/XObject': {'/Im9': IndirectObject(63, 0)}, '/ProcSet': ['/PDF', '/ImageI']}, '/Contents': IndirectObject(61, 0)}\n",
      "{}\n"
     ]
    }
   ],
   "source": [
    "from PyPDF2 import PdfFileReader\n",
    "import io\n",
    "import re\n",
    "\n",
    "hometype = requests.get('http://docs.openinfo.gov.bc.ca/Response_Package_HTH-2018-83925.pdf')\n",
    "\n",
    "with io.BytesIO(hometype.content) as f:\n",
    "            pdf = PdfFileReader(f)\n",
    "            information = pdf.getDocumentInfo()\n",
    "            pages = pdf.getNumPages()\n",
    "            print(pdf.getPageLayout())\n",
    "            for i in range(2, 9):\n",
    "                page = pdf.getPage(i)\n",
    "                print(page)\n",
    "                page_content = page.getContents()           \n",
    "                print(page_content)"
   ]
  },
  {
   "cell_type": "markdown",
   "metadata": {},
   "source": [
    "<mark> **Since PDF charts are images and can not be scraped, home type was recorded manually in reference to the released document.**</mark>\n"
   ]
  },
  {
   "cell_type": "code",
   "execution_count": 1172,
   "metadata": {},
   "outputs": [],
   "source": [
    "types = pd.read_csv('/Users/kt/Documents/covid-research/data/bc_home_types.csv')"
   ]
  },
  {
   "cell_type": "code",
   "execution_count": 1173,
   "metadata": {},
   "outputs": [
    {
     "data": {
      "text/html": [
       "<div>\n",
       "<style scoped>\n",
       "    .dataframe tbody tr th:only-of-type {\n",
       "        vertical-align: middle;\n",
       "    }\n",
       "\n",
       "    .dataframe tbody tr th {\n",
       "        vertical-align: top;\n",
       "    }\n",
       "\n",
       "    .dataframe thead th {\n",
       "        text-align: right;\n",
       "    }\n",
       "</style>\n",
       "<table border=\"1\" class=\"dataframe\">\n",
       "  <thead>\n",
       "    <tr style=\"text-align: right;\">\n",
       "      <th></th>\n",
       "      <th>Health authority</th>\n",
       "      <th>city/postal</th>\n",
       "      <th>Facility</th>\n",
       "      <th>owner_type</th>\n",
       "      <th>comments</th>\n",
       "      <th>home_type</th>\n",
       "    </tr>\n",
       "  </thead>\n",
       "  <tbody>\n",
       "    <tr>\n",
       "      <th>0</th>\n",
       "      <td>Fraser Health</td>\n",
       "      <td>Abbotsford V2S0B3</td>\n",
       "      <td>Cottage and Worthington Pavilions - MSA Hospital</td>\n",
       "      <td>HA</td>\n",
       "      <td>NaN</td>\n",
       "      <td>health_authority</td>\n",
       "    </tr>\n",
       "    <tr>\n",
       "      <th>1</th>\n",
       "      <td>Fraser Health</td>\n",
       "      <td>Abbotsford V2S1K1</td>\n",
       "      <td>Menno Hospital</td>\n",
       "      <td>PNP</td>\n",
       "      <td>NaN</td>\n",
       "      <td>non-profit</td>\n",
       "    </tr>\n",
       "    <tr>\n",
       "      <th>2</th>\n",
       "      <td>Fraser Health</td>\n",
       "      <td>Abbotsford V2S1K8</td>\n",
       "      <td>The Mayfair</td>\n",
       "      <td>PNP</td>\n",
       "      <td>NaN</td>\n",
       "      <td>non-profit</td>\n",
       "    </tr>\n",
       "    <tr>\n",
       "      <th>3</th>\n",
       "      <td>Fraser Health</td>\n",
       "      <td>Abbotsford V2S1N2</td>\n",
       "      <td>Menno Home</td>\n",
       "      <td>PNP</td>\n",
       "      <td>NaN</td>\n",
       "      <td>non-profit</td>\n",
       "    </tr>\n",
       "    <tr>\n",
       "      <th>4</th>\n",
       "      <td>Fraser Health</td>\n",
       "      <td>Abbotsford V2S2Z8</td>\n",
       "      <td>Maplewood House</td>\n",
       "      <td>PNP</td>\n",
       "      <td>NaN</td>\n",
       "      <td>non-profit</td>\n",
       "    </tr>\n",
       "  </tbody>\n",
       "</table>\n",
       "</div>"
      ],
      "text/plain": [
       "  Health authority         city/postal  \\\n",
       "0    Fraser Health   Abbotsford V2S0B3   \n",
       "1    Fraser Health   Abbotsford V2S1K1   \n",
       "2    Fraser Health   Abbotsford V2S1K8   \n",
       "3    Fraser Health   Abbotsford V2S1N2   \n",
       "4    Fraser Health   Abbotsford V2S2Z8   \n",
       "\n",
       "                                           Facility owner_type comments  \\\n",
       "0  Cottage and Worthington Pavilions - MSA Hospital         HA      NaN   \n",
       "1                                    Menno Hospital        PNP      NaN   \n",
       "2                                       The Mayfair        PNP      NaN   \n",
       "3                                        Menno Home        PNP      NaN   \n",
       "4                                   Maplewood House        PNP      NaN   \n",
       "\n",
       "          home_type  \n",
       "0  health_authority  \n",
       "1        non-profit  \n",
       "2        non-profit  \n",
       "3        non-profit  \n",
       "4        non-profit  "
      ]
     },
     "execution_count": 1173,
     "metadata": {},
     "output_type": "execute_result"
    }
   ],
   "source": [
    "types.head()"
   ]
  },
  {
   "cell_type": "code",
   "execution_count": 1515,
   "metadata": {},
   "outputs": [],
   "source": [
    "merge.to_csv('../data/bc_ltc.csv')"
   ]
  },
  {
   "cell_type": "markdown",
   "metadata": {},
   "source": [
    "---\n",
    "\n",
    "---\n",
    "---\n",
    "\n",
    "# ***FIN***\n",
    "\n",
    "---\n",
    "---\n",
    "---\n",
    "\n",
    "# Outbreak Data Web Scrape\n",
    "\n",
    "2. **Outbreaks**\n",
    "\n",
    "---\n",
    "\n",
    "***Northern***"
   ]
  },
  {
   "cell_type": "code",
   "execution_count": 3,
   "metadata": {},
   "outputs": [
    {
     "ename": "NameError",
     "evalue": "name 'BeautifulSoup' is not defined",
     "output_type": "error",
     "traceback": [
      "\u001b[0;31m---------------------------------------------------------------------------\u001b[0m",
      "\u001b[0;31mNameError\u001b[0m                                 Traceback (most recent call last)",
      "\u001b[0;32m<ipython-input-3-64b7e1e8fcf2>\u001b[0m in \u001b[0;36m<module>\u001b[0;34m\u001b[0m\n\u001b[1;32m      1\u001b[0m \u001b[0mre\u001b[0m \u001b[0;34m=\u001b[0m \u001b[0mrequests\u001b[0m\u001b[0;34m.\u001b[0m\u001b[0mget\u001b[0m\u001b[0;34m(\u001b[0m\u001b[0;34m'https://www.northernhealth.ca/health-topics/current-outbreaks'\u001b[0m\u001b[0;34m)\u001b[0m\u001b[0;34m\u001b[0m\u001b[0m\n\u001b[0;32m----> 2\u001b[0;31m \u001b[0ms\u001b[0m \u001b[0;34m=\u001b[0m \u001b[0mBeautifulSoup\u001b[0m\u001b[0;34m(\u001b[0m\u001b[0mre\u001b[0m\u001b[0;34m.\u001b[0m\u001b[0mtext\u001b[0m\u001b[0;34m,\u001b[0m\u001b[0;34m'html5lib'\u001b[0m\u001b[0;34m)\u001b[0m\u001b[0;34m\u001b[0m\u001b[0m\n\u001b[0m\u001b[1;32m      3\u001b[0m \u001b[0mtable\u001b[0m \u001b[0;34m=\u001b[0m\u001b[0ms\u001b[0m\u001b[0;34m.\u001b[0m\u001b[0mfind_all\u001b[0m\u001b[0;34m(\u001b[0m\u001b[0;34m'td'\u001b[0m\u001b[0;34m)\u001b[0m\u001b[0;34m\u001b[0m\u001b[0m\n",
      "\u001b[0;31mNameError\u001b[0m: name 'BeautifulSoup' is not defined"
     ]
    }
   ],
   "source": [
    "re = requests.get('https://www.northernhealth.ca/health-topics/current-outbreaks')\n",
    "s = BeautifulSoup(re.text,'html5lib')\n",
    "table =s.find_all('td')"
   ]
  },
  {
   "cell_type": "code",
   "execution_count": 1175,
   "metadata": {},
   "outputs": [],
   "source": [
    "d = ['city', 'facility', 'outbreaktype', 'datedeclared']\n",
    "outbreak = {}\n",
    "for each,i in zip(table,d):\n",
    "    outbreak[i] = each.text.strip()"
   ]
  },
  {
   "cell_type": "code",
   "execution_count": 1176,
   "metadata": {},
   "outputs": [],
   "source": [
    "northern = pd.DataFrame(outbreak, index = [0])\n",
    "northern['health_authority'] = \"northern\""
   ]
  },
  {
   "cell_type": "code",
   "execution_count": 1177,
   "metadata": {},
   "outputs": [],
   "source": [
    "northern.datedeclared = northern.datedeclared.str.replace('\\n\\n\\t\\t\\t', '-')"
   ]
  },
  {
   "cell_type": "code",
   "execution_count": 1178,
   "metadata": {},
   "outputs": [
    {
     "data": {
      "text/html": [
       "<div>\n",
       "<style scoped>\n",
       "    .dataframe tbody tr th:only-of-type {\n",
       "        vertical-align: middle;\n",
       "    }\n",
       "\n",
       "    .dataframe tbody tr th {\n",
       "        vertical-align: top;\n",
       "    }\n",
       "\n",
       "    .dataframe thead th {\n",
       "        text-align: right;\n",
       "    }\n",
       "</style>\n",
       "<table border=\"1\" class=\"dataframe\">\n",
       "  <thead>\n",
       "    <tr style=\"text-align: right;\">\n",
       "      <th></th>\n",
       "      <th>city</th>\n",
       "      <th>facility</th>\n",
       "      <th>outbreaktype</th>\n",
       "      <th>datedeclared</th>\n",
       "      <th>health_authority</th>\n",
       "    </tr>\n",
       "  </thead>\n",
       "  <tbody>\n",
       "    <tr>\n",
       "      <th>0</th>\n",
       "      <td>None to date</td>\n",
       "      <td></td>\n",
       "      <td></td>\n",
       "      <td></td>\n",
       "      <td>northern</td>\n",
       "    </tr>\n",
       "  </tbody>\n",
       "</table>\n",
       "</div>"
      ],
      "text/plain": [
       "           city facility outbreaktype datedeclared health_authority\n",
       "0  None to date                                            northern"
      ]
     },
     "execution_count": 1178,
     "metadata": {},
     "output_type": "execute_result"
    }
   ],
   "source": [
    "northern"
   ]
  },
  {
   "cell_type": "markdown",
   "metadata": {},
   "source": [
    "***Interior Health***"
   ]
  },
  {
   "cell_type": "code",
   "execution_count": 1179,
   "metadata": {},
   "outputs": [],
   "source": [
    "ih = requests.get('https://www.interiorhealth.ca/YourEnvironment/CommunicableDiseaseControl/Outbreaks/Pages/default.aspx')\n",
    "ih = BeautifulSoup(ih.text,'html5lib')\n",
    "outbreaks = ih.find_all('table')[7]"
   ]
  },
  {
   "cell_type": "code",
   "execution_count": 1180,
   "metadata": {},
   "outputs": [
    {
     "data": {
      "text/plain": [
       "'There are no items to show in this view of the \"Outbreaks\" list.'"
      ]
     },
     "execution_count": 1180,
     "metadata": {},
     "output_type": "execute_result"
    }
   ],
   "source": [
    "outbreaks.find('td').text"
   ]
  },
  {
   "cell_type": "markdown",
   "metadata": {},
   "source": [
    "***Vancouver Island***"
   ]
  },
  {
   "cell_type": "code",
   "execution_count": 1181,
   "metadata": {},
   "outputs": [],
   "source": [
    "vi = requests.get('https://www.healthspace.ca/Clients/VIHA/VIHA_Website.nsf/Outbreak')\n",
    "vi = BeautifulSoup(vi.text,'html5lib')\n",
    "outbreaks = vi.find('td')"
   ]
  },
  {
   "cell_type": "code",
   "execution_count": 1182,
   "metadata": {},
   "outputs": [
    {
     "data": {
      "text/plain": [
       "' Currently, there are no reported outbreaks in VIHA hospitals or long term care facilities.'"
      ]
     },
     "execution_count": 1182,
     "metadata": {},
     "output_type": "execute_result"
    }
   ],
   "source": [
    "outbreaks.getText()"
   ]
  },
  {
   "cell_type": "markdown",
   "metadata": {},
   "source": [
    "***Vancouver Coastal Health***"
   ]
  },
  {
   "cell_type": "code",
   "execution_count": 1183,
   "metadata": {},
   "outputs": [],
   "source": [
    "from PyPDF2 import PdfFileReader\n",
    "import io\n",
    "import re"
   ]
  },
  {
   "cell_type": "code",
   "execution_count": 1184,
   "metadata": {},
   "outputs": [],
   "source": [
    "vch = requests.get('http://www.vch.ca/Documents/facility-outbreak-bulletin.pdf')"
   ]
  },
  {
   "cell_type": "code",
   "execution_count": 1185,
   "metadata": {},
   "outputs": [
    {
     "name": "stdout",
     "output_type": "stream",
     "text": [
      "Facility Outbreak Bulletin\n",
      "This bulletin lists ongoing and recently ended outbreaks in licensed long-term and acute care\n",
      "facilities throughout Vancouver Coastal Health, as of 01:00 PM, 06-Aug-2020\n",
      "DISEASE\n",
      "LOCATION\n",
      "RESTRICTIONS\n",
      "IMPOSED\n",
      "RESTRICTIONS\n",
      "LIFTED\n",
      "FACILITY\n",
      "COVID-19\n",
      "9020 Bridgeport Road, Richmond\n",
      "05-Aug-20\n",
      "Richmond Lions Manor - Bridgeport, 2nd Floor\n",
      "COVID-19\n",
      "803 West 12th Avenue, Vancouver\n",
      "06-Aug-20\n",
      "Joseph & Rosalie Segal Family Health Centre, 8th \n",
      "Floor\n",
      "COVID-19\n",
      "1081 Burrard Street, Vancouver\n",
      "16-Jul-20\n",
      "28-Jul-20\n",
      "St. Paul's Hospital, NICU\n",
      "COVID-19\n",
      "7801 Argyle St, Vancouver\n",
      "09-Jun-20\n",
      "Holy Family Hospital, LTCF (Rehabilitation Unit \n",
      "declared over)\n",
      "Page 1 of 1\n",
      "Red text denotes updates from previously issued bulletin\n",
      "Grey text indicates that restrictions have been lifted\n",
      "Restriction Imposed: \n",
      "Restrictions Lifted: \n",
      "               Date which outbreak measures were introduced\n",
      "            Date which outbreak measures were discontinued\n",
      "\n"
     ]
    }
   ],
   "source": [
    "with io.BytesIO(vch.content) as f:\n",
    "            pdf = PdfFileReader(f)\n",
    "            information = pdf.getDocumentInfo()\n",
    "            pages = pdf.getNumPages()\n",
    "            for i in range(0, pages):\n",
    "                page = pdf.getPage(i)\n",
    "                page_content = page.extractText()           \n",
    "                print(page_content)"
   ]
  },
  {
   "cell_type": "markdown",
   "metadata": {},
   "source": [
    "----"
   ]
  },
  {
   "cell_type": "code",
   "execution_count": 1469,
   "metadata": {},
   "outputs": [],
   "source": [
    "spl = page_content.split('\\n')"
   ]
  },
  {
   "cell_type": "code",
   "execution_count": 1470,
   "metadata": {},
   "outputs": [],
   "source": [
    "spldf = pd.Series(spl)"
   ]
  },
  {
   "cell_type": "code",
   "execution_count": 1471,
   "metadata": {},
   "outputs": [
    {
     "data": {
      "text/plain": [
       "10                                             COVID-19\n",
       "11                       9020 Bridgeport Road, Richmond\n",
       "12                                            05-Aug-20\n",
       "13         Richmond Lions Manor - Bridgeport, 2nd Floor\n",
       "14                                             COVID-19\n",
       "15                      803 West 12th Avenue, Vancouver\n",
       "16                                            06-Aug-20\n",
       "17    Joseph & Rosalie Segal Family Health Centre, 8th \n",
       "18                                                Floor\n",
       "19                                             COVID-19\n",
       "20                       1081 Burrard Street, Vancouver\n",
       "21                                            16-Jul-20\n",
       "22                                            28-Jul-20\n",
       "23                            St. Paul's Hospital, NICU\n",
       "24                                             COVID-19\n",
       "25                            7801 Argyle St, Vancouver\n",
       "26                                            09-Jun-20\n",
       "27     Holy Family Hospital, LTCF (Rehabilitation Unit \n",
       "28                                       declared over)\n",
       "dtype: object"
      ]
     },
     "execution_count": 1471,
     "metadata": {},
     "output_type": "execute_result"
    }
   ],
   "source": [
    "spldf.iloc[10:29]"
   ]
  },
  {
   "cell_type": "code",
   "execution_count": 1484,
   "metadata": {},
   "outputs": [],
   "source": [
    "vch_outbreaks = pd.DataFrame({'info' : spldf.iloc[11:29]})"
   ]
  },
  {
   "cell_type": "code",
   "execution_count": 1483,
   "metadata": {},
   "outputs": [
    {
     "data": {
      "text/html": [
       "<div>\n",
       "<style scoped>\n",
       "    .dataframe tbody tr th:only-of-type {\n",
       "        vertical-align: middle;\n",
       "    }\n",
       "\n",
       "    .dataframe tbody tr th {\n",
       "        vertical-align: top;\n",
       "    }\n",
       "\n",
       "    .dataframe thead th {\n",
       "        text-align: right;\n",
       "    }\n",
       "</style>\n",
       "<table border=\"1\" class=\"dataframe\">\n",
       "  <thead>\n",
       "    <tr style=\"text-align: right;\">\n",
       "      <th></th>\n",
       "      <th>0</th>\n",
       "      <th>1</th>\n",
       "      <th>2</th>\n",
       "      <th>3</th>\n",
       "      <th>4</th>\n",
       "    </tr>\n",
       "  </thead>\n",
       "  <tbody>\n",
       "    <tr>\n",
       "      <th>2</th>\n",
       "      <td>9020 Bridgeport Road, Richmond</td>\n",
       "      <td>05-Aug-20</td>\n",
       "      <td>Richmond Lions Manor - Bridgeport, 2nd Floor</td>\n",
       "      <td>COVID-19</td>\n",
       "      <td>None</td>\n",
       "    </tr>\n",
       "    <tr>\n",
       "      <th>3</th>\n",
       "      <td>803 West 12th Avenue, Vancouver</td>\n",
       "      <td>06-Aug-20</td>\n",
       "      <td>Joseph &amp; Rosalie Segal Family Health Centre, 8th</td>\n",
       "      <td>Floor</td>\n",
       "      <td>COVID-19</td>\n",
       "    </tr>\n",
       "    <tr>\n",
       "      <th>4</th>\n",
       "      <td>1081 Burrard Street, Vancouver</td>\n",
       "      <td>16-Jul-20</td>\n",
       "      <td>28-Jul-20</td>\n",
       "      <td>St. Paul's Hospital, NICU</td>\n",
       "      <td>COVID-19</td>\n",
       "    </tr>\n",
       "    <tr>\n",
       "      <th>5</th>\n",
       "      <td>7801 Argyle St, Vancouver</td>\n",
       "      <td>09-Jun-20</td>\n",
       "      <td>Holy Family Hospital, LTCF (Rehabilitation Unit</td>\n",
       "      <td>declared over)</td>\n",
       "      <td>None</td>\n",
       "    </tr>\n",
       "  </tbody>\n",
       "</table>\n",
       "</div>"
      ],
      "text/plain": [
       "                                 0          1  \\\n",
       "2   9020 Bridgeport Road, Richmond  05-Aug-20   \n",
       "3  803 West 12th Avenue, Vancouver  06-Aug-20   \n",
       "4   1081 Burrard Street, Vancouver  16-Jul-20   \n",
       "5        7801 Argyle St, Vancouver  09-Jun-20   \n",
       "\n",
       "                                                   2  \\\n",
       "2       Richmond Lions Manor - Bridgeport, 2nd Floor   \n",
       "3  Joseph & Rosalie Segal Family Health Centre, 8th    \n",
       "4                                          28-Jul-20   \n",
       "5   Holy Family Hospital, LTCF (Rehabilitation Unit    \n",
       "\n",
       "                           3         4  \n",
       "2                   COVID-19      None  \n",
       "3                      Floor  COVID-19  \n",
       "4  St. Paul's Hospital, NICU  COVID-19  \n",
       "5             declared over)      None  "
      ]
     },
     "execution_count": 1483,
     "metadata": {},
     "output_type": "execute_result"
    }
   ],
   "source": [
    "vch_outbreaks.groupby(vch_outbreaks.index // 5).agg('\\n'.join)['info'].str.split('\\n',expand=True)"
   ]
  },
  {
   "cell_type": "code",
   "execution_count": 1473,
   "metadata": {},
   "outputs": [],
   "source": [
    "vch_outbreaks.rename(columns = {'address', 'restrictionsimposed', 'facility', 'outbreaktype'} inplace = True)"
   ]
  },
  {
   "cell_type": "code",
   "execution_count": 4,
   "metadata": {},
   "outputs": [
    {
     "ename": "NameError",
     "evalue": "name 'vch_outbreaks' is not defined",
     "output_type": "error",
     "traceback": [
      "\u001b[0;31m---------------------------------------------------------------------------\u001b[0m",
      "\u001b[0;31mNameError\u001b[0m                                 Traceback (most recent call last)",
      "\u001b[0;32m<ipython-input-4-21c8980e0da2>\u001b[0m in \u001b[0;36m<module>\u001b[0;34m\u001b[0m\n\u001b[0;32m----> 1\u001b[0;31m \u001b[0mvch_outbreaks\u001b[0m\u001b[0;34m\u001b[0m\u001b[0m\n\u001b[0m",
      "\u001b[0;31mNameError\u001b[0m: name 'vch_outbreaks' is not defined"
     ]
    }
   ],
   "source": [
    "vch_outbreaks"
   ]
  },
  {
   "cell_type": "code",
   "execution_count": 622,
   "metadata": {},
   "outputs": [],
   "source": [
    "vch_pivot = vch_outbreaks.pivot_table(values='info',\n",
    "                                     columns='details', \n",
    "                                     aggfunc=lambda x: '\\n'.join(x))"
   ]
  },
  {
   "cell_type": "code",
   "execution_count": 623,
   "metadata": {},
   "outputs": [
    {
     "data": {
      "text/html": [
       "<div>\n",
       "<style scoped>\n",
       "    .dataframe tbody tr th:only-of-type {\n",
       "        vertical-align: middle;\n",
       "    }\n",
       "\n",
       "    .dataframe tbody tr th {\n",
       "        vertical-align: top;\n",
       "    }\n",
       "\n",
       "    .dataframe thead th {\n",
       "        text-align: right;\n",
       "    }\n",
       "</style>\n",
       "<table border=\"1\" class=\"dataframe\">\n",
       "  <thead>\n",
       "    <tr style=\"text-align: right;\">\n",
       "      <th>details</th>\n",
       "      <th>address</th>\n",
       "      <th>facility</th>\n",
       "      <th>outbreaktype</th>\n",
       "      <th>restrictionsimposed</th>\n",
       "      <th>restrictionslifted</th>\n",
       "      <th>status</th>\n",
       "    </tr>\n",
       "  </thead>\n",
       "  <tbody>\n",
       "    <tr>\n",
       "      <th>info</th>\n",
       "      <td>1081 Burrard Street, Vancouver\\n7801 Argyle St...</td>\n",
       "      <td>St. Paul's Hospital, NICU\\nHoly Family Hospita...</td>\n",
       "      <td>COVID-19\\nCOVID-19\\nCOVID-19\\nCOVID-19</td>\n",
       "      <td>16-Jul-20\\n09-Jun-20\\n12-Apr-20\\n30-Mar-20</td>\n",
       "      <td>13-Jun-20\\n05-Jun-20</td>\n",
       "      <td>declared over)</td>\n",
       "    </tr>\n",
       "  </tbody>\n",
       "</table>\n",
       "</div>"
      ],
      "text/plain": [
       "details                                            address  \\\n",
       "info     1081 Burrard Street, Vancouver\\n7801 Argyle St...   \n",
       "\n",
       "details                                           facility  \\\n",
       "info     St. Paul's Hospital, NICU\\nHoly Family Hospita...   \n",
       "\n",
       "details                            outbreaktype  \\\n",
       "info     COVID-19\\nCOVID-19\\nCOVID-19\\nCOVID-19   \n",
       "\n",
       "details                         restrictionsimposed    restrictionslifted  \\\n",
       "info     16-Jul-20\\n09-Jun-20\\n12-Apr-20\\n30-Mar-20  13-Jun-20\\n05-Jun-20   \n",
       "\n",
       "details          status  \n",
       "info     declared over)  "
      ]
     },
     "execution_count": 623,
     "metadata": {},
     "output_type": "execute_result"
    }
   ],
   "source": [
    "vch_pivot"
   ]
  },
  {
   "cell_type": "code",
   "execution_count": 640,
   "metadata": {},
   "outputs": [
    {
     "data": {
      "text/plain": [
       "info    1081 Burrard Street, Vancouver\n",
       "Name: address, dtype: object"
      ]
     },
     "execution_count": 640,
     "metadata": {},
     "output_type": "execute_result"
    }
   ],
   "source": [
    "def vch_split(x):\n",
    "    for r in x.splitlines():\n",
    "        return r\n",
    "    \n",
    "vch_pivot.address.apply(lambda x: vch_split(x))"
   ]
  },
  {
   "cell_type": "code",
   "execution_count": 630,
   "metadata": {},
   "outputs": [],
   "source": [
    "vch_pivot['health_authority'] = 'vancouver coastal health'"
   ]
  },
  {
   "cell_type": "markdown",
   "metadata": {},
   "source": [
    "***Fraser***"
   ]
  },
  {
   "cell_type": "code",
   "execution_count": 1197,
   "metadata": {},
   "outputs": [],
   "source": [
    "f = requests.get(r'https://www.fraserhealth.ca/patients-and-visitors/current-outbreaks#.XzGwMS0ZNQI')\n",
    "fraser = BeautifulSoup(f.text,'html5lib')\n",
    "table = fraser.find_all('td')"
   ]
  },
  {
   "cell_type": "code",
   "execution_count": 1446,
   "metadata": {},
   "outputs": [],
   "source": [
    "newlist = []\n",
    "\n",
    "for td in table:\n",
    "        try:\n",
    "            if td.find('h5').getText() == '\\xa0':\n",
    "                # if no info is provided, it will mess up indexing\n",
    "                pass\n",
    "            elif td.find('h5').getText() == '':\n",
    "                # if no info is provided, it will mess up indexing\n",
    "                pass\n",
    "            else:    \n",
    "                newlist.append(td.find('h5').getText())\n",
    "        except AttributeError:\n",
    "            pass\n",
    "        \n",
    "            \n",
    "        \n",
    "df = pd.DataFrame(newlist)"
   ]
  },
  {
   "cell_type": "code",
   "execution_count": 1447,
   "metadata": {},
   "outputs": [
    {
     "data": {
      "text/plain": [
       "['July 31, 2020',\n",
       " 'Dania Home',\n",
       " 'Residential',\n",
       " 'COVID-19',\n",
       " 'August 4, 2020',\n",
       " 'Maple Ridge Seniors Village',\n",
       " 'Residential',\n",
       " 'COVID-19',\n",
       " 'August 6, 2020',\n",
       " 'Derby Manor',\n",
       " 'Residential',\n",
       " 'COVID-19',\n",
       " 'August 7, 2020',\n",
       " 'George Derby Centre',\n",
       " 'Residential',\n",
       " 'COVID-19',\n",
       " 'August 8, 2020',\n",
       " 'New Vista Care Society',\n",
       " 'Residential',\n",
       " 'COVID-19']"
      ]
     },
     "execution_count": 1447,
     "metadata": {},
     "output_type": "execute_result"
    }
   ],
   "source": [
    "newlist"
   ]
  },
  {
   "cell_type": "code",
   "execution_count": 1464,
   "metadata": {},
   "outputs": [],
   "source": [
    "fraser = df.groupby(df.index // 4).agg('\\n'.join)[0].str.split('\\n',expand=True)"
   ]
  },
  {
   "cell_type": "code",
   "execution_count": 1465,
   "metadata": {},
   "outputs": [],
   "source": [
    "fraser.rename(columns = {0:'datedeclared', 1:'facility', 2:'facilitytype', 3:'outbreaktype'}, inplace = True)"
   ]
  },
  {
   "cell_type": "code",
   "execution_count": 1466,
   "metadata": {},
   "outputs": [],
   "source": [
    "fraser['health_authority'] = 'fraser'"
   ]
  },
  {
   "cell_type": "code",
   "execution_count": 1467,
   "metadata": {},
   "outputs": [
    {
     "data": {
      "text/html": [
       "<div>\n",
       "<style scoped>\n",
       "    .dataframe tbody tr th:only-of-type {\n",
       "        vertical-align: middle;\n",
       "    }\n",
       "\n",
       "    .dataframe tbody tr th {\n",
       "        vertical-align: top;\n",
       "    }\n",
       "\n",
       "    .dataframe thead th {\n",
       "        text-align: right;\n",
       "    }\n",
       "</style>\n",
       "<table border=\"1\" class=\"dataframe\">\n",
       "  <thead>\n",
       "    <tr style=\"text-align: right;\">\n",
       "      <th></th>\n",
       "      <th>datedeclared</th>\n",
       "      <th>facility</th>\n",
       "      <th>facilitytype</th>\n",
       "      <th>outbreaktype</th>\n",
       "      <th>health_authority</th>\n",
       "    </tr>\n",
       "  </thead>\n",
       "  <tbody>\n",
       "    <tr>\n",
       "      <th>0</th>\n",
       "      <td>July 31, 2020</td>\n",
       "      <td>Dania Home</td>\n",
       "      <td>Residential</td>\n",
       "      <td>COVID-19</td>\n",
       "      <td>fraser</td>\n",
       "    </tr>\n",
       "    <tr>\n",
       "      <th>1</th>\n",
       "      <td>August 4, 2020</td>\n",
       "      <td>Maple Ridge Seniors Village</td>\n",
       "      <td>Residential</td>\n",
       "      <td>COVID-19</td>\n",
       "      <td>fraser</td>\n",
       "    </tr>\n",
       "    <tr>\n",
       "      <th>2</th>\n",
       "      <td>August 6, 2020</td>\n",
       "      <td>Derby Manor</td>\n",
       "      <td>Residential</td>\n",
       "      <td>COVID-19</td>\n",
       "      <td>fraser</td>\n",
       "    </tr>\n",
       "    <tr>\n",
       "      <th>3</th>\n",
       "      <td>August 7, 2020</td>\n",
       "      <td>George Derby Centre</td>\n",
       "      <td>Residential</td>\n",
       "      <td>COVID-19</td>\n",
       "      <td>fraser</td>\n",
       "    </tr>\n",
       "    <tr>\n",
       "      <th>4</th>\n",
       "      <td>August 8, 2020</td>\n",
       "      <td>New Vista Care Society</td>\n",
       "      <td>Residential</td>\n",
       "      <td>COVID-19</td>\n",
       "      <td>fraser</td>\n",
       "    </tr>\n",
       "  </tbody>\n",
       "</table>\n",
       "</div>"
      ],
      "text/plain": [
       "     datedeclared                     facility facilitytype outbreaktype  \\\n",
       "0   July 31, 2020                   Dania Home  Residential     COVID-19   \n",
       "1  August 4, 2020  Maple Ridge Seniors Village  Residential     COVID-19   \n",
       "2  August 6, 2020                  Derby Manor  Residential     COVID-19   \n",
       "3  August 7, 2020          George Derby Centre  Residential     COVID-19   \n",
       "4  August 8, 2020       New Vista Care Society  Residential     COVID-19   \n",
       "\n",
       "  health_authority  \n",
       "0           fraser  \n",
       "1           fraser  \n",
       "2           fraser  \n",
       "3           fraser  \n",
       "4           fraser  "
      ]
     },
     "execution_count": 1467,
     "metadata": {},
     "output_type": "execute_result"
    }
   ],
   "source": [
    "fraser"
   ]
  },
  {
   "cell_type": "markdown",
   "metadata": {},
   "source": [
    "### Merge facilities"
   ]
  },
  {
   "cell_type": "code",
   "execution_count": 649,
   "metadata": {},
   "outputs": [],
   "source": [
    "# merge1 = pd.merge(northern, fraser, how = 'outer')"
   ]
  },
  {
   "cell_type": "code",
   "execution_count": 1516,
   "metadata": {},
   "outputs": [
    {
     "data": {
      "text/html": [
       "<div>\n",
       "<style scoped>\n",
       "    .dataframe tbody tr th:only-of-type {\n",
       "        vertical-align: middle;\n",
       "    }\n",
       "\n",
       "    .dataframe tbody tr th {\n",
       "        vertical-align: top;\n",
       "    }\n",
       "\n",
       "    .dataframe thead th {\n",
       "        text-align: right;\n",
       "    }\n",
       "</style>\n",
       "<table border=\"1\" class=\"dataframe\">\n",
       "  <thead>\n",
       "    <tr style=\"text-align: right;\">\n",
       "      <th></th>\n",
       "      <th>city</th>\n",
       "      <th>facility</th>\n",
       "      <th>outbreaktype</th>\n",
       "      <th>datedeclared</th>\n",
       "      <th>health_authority</th>\n",
       "      <th>facilitytype</th>\n",
       "      <th>unit</th>\n",
       "    </tr>\n",
       "  </thead>\n",
       "  <tbody>\n",
       "    <tr>\n",
       "      <th>0</th>\n",
       "      <td>Terrace</td>\n",
       "      <td>Terraceview Lodge - Lakelse Unit</td>\n",
       "      <td>Respiratory Illness</td>\n",
       "      <td>April 9, 2020-Declared over: April 13, 2020</td>\n",
       "      <td>northern</td>\n",
       "      <td>NaN</td>\n",
       "      <td>NaN</td>\n",
       "    </tr>\n",
       "    <tr>\n",
       "      <th>1</th>\n",
       "      <td>NaN</td>\n",
       "      <td>Mission Memorial Hospital</td>\n",
       "      <td>COVID-19</td>\n",
       "      <td>June 16, 2020</td>\n",
       "      <td>fraser</td>\n",
       "      <td>Hospital</td>\n",
       "      <td></td>\n",
       "    </tr>\n",
       "  </tbody>\n",
       "</table>\n",
       "</div>"
      ],
      "text/plain": [
       "      city                          facility         outbreaktype  \\\n",
       "0  Terrace  Terraceview Lodge - Lakelse Unit  Respiratory Illness   \n",
       "1      NaN         Mission Memorial Hospital             COVID-19   \n",
       "\n",
       "                                  datedeclared health_authority facilitytype  \\\n",
       "0  April 9, 2020-Declared over: April 13, 2020         northern          NaN   \n",
       "1                                June 16, 2020           fraser     Hospital   \n",
       "\n",
       "  unit  \n",
       "0  NaN  \n",
       "1       "
      ]
     },
     "execution_count": 1516,
     "metadata": {},
     "output_type": "execute_result"
    }
   ],
   "source": [
    "merge1"
   ]
  },
  {
   "cell_type": "code",
   "execution_count": 650,
   "metadata": {},
   "outputs": [],
   "source": [
    "# merge2 = pd.merge(merge1, vch_pivot, how = 'outer')"
   ]
  },
  {
   "cell_type": "code",
   "execution_count": 651,
   "metadata": {},
   "outputs": [
    {
     "data": {
      "text/html": [
       "<div>\n",
       "<style scoped>\n",
       "    .dataframe tbody tr th:only-of-type {\n",
       "        vertical-align: middle;\n",
       "    }\n",
       "\n",
       "    .dataframe tbody tr th {\n",
       "        vertical-align: top;\n",
       "    }\n",
       "\n",
       "    .dataframe thead th {\n",
       "        text-align: right;\n",
       "    }\n",
       "</style>\n",
       "<table border=\"1\" class=\"dataframe\">\n",
       "  <thead>\n",
       "    <tr style=\"text-align: right;\">\n",
       "      <th></th>\n",
       "      <th>city</th>\n",
       "      <th>facility</th>\n",
       "      <th>outbreaktype</th>\n",
       "      <th>datedeclared</th>\n",
       "      <th>health_authority</th>\n",
       "      <th>facilitytype</th>\n",
       "      <th>unit</th>\n",
       "      <th>address</th>\n",
       "      <th>restrictionsimposed</th>\n",
       "      <th>restrictionslifted</th>\n",
       "      <th>status</th>\n",
       "    </tr>\n",
       "  </thead>\n",
       "  <tbody>\n",
       "    <tr>\n",
       "      <th>0</th>\n",
       "      <td>Terrace</td>\n",
       "      <td>Terraceview Lodge - Lakelse Unit</td>\n",
       "      <td>Respiratory Illness</td>\n",
       "      <td>April 9, 2020-Declared over: April 13, 2020</td>\n",
       "      <td>northern</td>\n",
       "      <td>NaN</td>\n",
       "      <td>NaN</td>\n",
       "      <td>NaN</td>\n",
       "      <td>NaN</td>\n",
       "      <td>NaN</td>\n",
       "      <td>NaN</td>\n",
       "    </tr>\n",
       "    <tr>\n",
       "      <th>1</th>\n",
       "      <td>NaN</td>\n",
       "      <td>Mission Memorial Hospital</td>\n",
       "      <td>COVID-19</td>\n",
       "      <td>June 16, 2020</td>\n",
       "      <td>fraser</td>\n",
       "      <td>Hospital</td>\n",
       "      <td></td>\n",
       "      <td>NaN</td>\n",
       "      <td>NaN</td>\n",
       "      <td>NaN</td>\n",
       "      <td>NaN</td>\n",
       "    </tr>\n",
       "    <tr>\n",
       "      <th>2</th>\n",
       "      <td>NaN</td>\n",
       "      <td>St. Paul's Hospital, NICU\\nHoly Family Hospita...</td>\n",
       "      <td>COVID-19\\nCOVID-19\\nCOVID-19\\nCOVID-19</td>\n",
       "      <td>NaN</td>\n",
       "      <td>vancouver coastal health</td>\n",
       "      <td>NaN</td>\n",
       "      <td>NaN</td>\n",
       "      <td>1081 Burrard Street, Vancouver\\n7801 Argyle St...</td>\n",
       "      <td>16-Jul-20\\n09-Jun-20\\n12-Apr-20\\n30-Mar-20</td>\n",
       "      <td>13-Jun-20\\n05-Jun-20</td>\n",
       "      <td>declared over)</td>\n",
       "    </tr>\n",
       "  </tbody>\n",
       "</table>\n",
       "</div>"
      ],
      "text/plain": [
       "      city                                           facility  \\\n",
       "0  Terrace                   Terraceview Lodge - Lakelse Unit   \n",
       "1      NaN                          Mission Memorial Hospital   \n",
       "2      NaN  St. Paul's Hospital, NICU\\nHoly Family Hospita...   \n",
       "\n",
       "                             outbreaktype  \\\n",
       "0                     Respiratory Illness   \n",
       "1                                COVID-19   \n",
       "2  COVID-19\\nCOVID-19\\nCOVID-19\\nCOVID-19   \n",
       "\n",
       "                                  datedeclared          health_authority  \\\n",
       "0  April 9, 2020-Declared over: April 13, 2020                  northern   \n",
       "1                                June 16, 2020                    fraser   \n",
       "2                                          NaN  vancouver coastal health   \n",
       "\n",
       "  facilitytype unit                                            address  \\\n",
       "0          NaN  NaN                                                NaN   \n",
       "1     Hospital                                                     NaN   \n",
       "2          NaN  NaN  1081 Burrard Street, Vancouver\\n7801 Argyle St...   \n",
       "\n",
       "                          restrictionsimposed    restrictionslifted  \\\n",
       "0                                         NaN                   NaN   \n",
       "1                                         NaN                   NaN   \n",
       "2  16-Jul-20\\n09-Jun-20\\n12-Apr-20\\n30-Mar-20  13-Jun-20\\n05-Jun-20   \n",
       "\n",
       "           status  \n",
       "0             NaN  \n",
       "1             NaN  \n",
       "2  declared over)  "
      ]
     },
     "execution_count": 651,
     "metadata": {},
     "output_type": "execute_result"
    }
   ],
   "source": [
    "merge2"
   ]
  },
  {
   "cell_type": "code",
   "execution_count": 1468,
   "metadata": {},
   "outputs": [
    {
     "data": {
      "text/html": [
       "<div>\n",
       "<style scoped>\n",
       "    .dataframe tbody tr th:only-of-type {\n",
       "        vertical-align: middle;\n",
       "    }\n",
       "\n",
       "    .dataframe tbody tr th {\n",
       "        vertical-align: top;\n",
       "    }\n",
       "\n",
       "    .dataframe thead th {\n",
       "        text-align: right;\n",
       "    }\n",
       "</style>\n",
       "<table border=\"1\" class=\"dataframe\">\n",
       "  <thead>\n",
       "    <tr style=\"text-align: right;\">\n",
       "      <th></th>\n",
       "      <th>city</th>\n",
       "      <th>facility</th>\n",
       "      <th>outbreaktype</th>\n",
       "      <th>datedeclared</th>\n",
       "      <th>health_authority</th>\n",
       "      <th>facilitytype</th>\n",
       "      <th>unit</th>\n",
       "      <th>address</th>\n",
       "      <th>restrictionsimposed</th>\n",
       "      <th>restrictionslifted</th>\n",
       "      <th>status</th>\n",
       "    </tr>\n",
       "  </thead>\n",
       "  <tbody>\n",
       "    <tr>\n",
       "      <th>0</th>\n",
       "      <td>Terrace</td>\n",
       "      <td>Terraceview Lodge - Lakelse Unit</td>\n",
       "      <td>Respiratory Illness</td>\n",
       "      <td>April 9, 2020-Declared over: April 13, 2020</td>\n",
       "      <td>northern</td>\n",
       "      <td>NaN</td>\n",
       "      <td>NaN</td>\n",
       "      <td>NaN</td>\n",
       "      <td>NaN</td>\n",
       "      <td>NaN</td>\n",
       "      <td>NaN</td>\n",
       "    </tr>\n",
       "    <tr>\n",
       "      <th>1</th>\n",
       "      <td>NaN</td>\n",
       "      <td>Mission Memorial Hospital</td>\n",
       "      <td>COVID-19</td>\n",
       "      <td>June 16, 2020</td>\n",
       "      <td>fraser</td>\n",
       "      <td>Hospital</td>\n",
       "      <td></td>\n",
       "      <td>NaN</td>\n",
       "      <td>NaN</td>\n",
       "      <td>NaN</td>\n",
       "      <td>NaN</td>\n",
       "    </tr>\n",
       "    <tr>\n",
       "      <th>2</th>\n",
       "      <td>NaN</td>\n",
       "      <td>St. Paul's Hospital, NICU\\nHoly Family Hospita...</td>\n",
       "      <td>COVID-19\\nCOVID-19\\nCOVID-19\\nCOVID-19</td>\n",
       "      <td>NaN</td>\n",
       "      <td>vancouver coastal health</td>\n",
       "      <td>NaN</td>\n",
       "      <td>NaN</td>\n",
       "      <td>1081 Burrard Street, Vancouver\\n7801 Argyle St...</td>\n",
       "      <td>16-Jul-20\\n09-Jun-20\\n12-Apr-20\\n30-Mar-20</td>\n",
       "      <td>13-Jun-20\\n05-Jun-20</td>\n",
       "      <td>declared over)</td>\n",
       "    </tr>\n",
       "    <tr>\n",
       "      <th>3</th>\n",
       "      <td>NaN</td>\n",
       "      <td>Dania Home</td>\n",
       "      <td>COVID-19</td>\n",
       "      <td>July 31, 2020</td>\n",
       "      <td>fraser</td>\n",
       "      <td>Residential</td>\n",
       "      <td>NaN</td>\n",
       "      <td>NaN</td>\n",
       "      <td>NaN</td>\n",
       "      <td>NaN</td>\n",
       "      <td>NaN</td>\n",
       "    </tr>\n",
       "    <tr>\n",
       "      <th>4</th>\n",
       "      <td>NaN</td>\n",
       "      <td>Maple Ridge Seniors Village</td>\n",
       "      <td>COVID-19</td>\n",
       "      <td>August 4, 2020</td>\n",
       "      <td>fraser</td>\n",
       "      <td>Residential</td>\n",
       "      <td>NaN</td>\n",
       "      <td>NaN</td>\n",
       "      <td>NaN</td>\n",
       "      <td>NaN</td>\n",
       "      <td>NaN</td>\n",
       "    </tr>\n",
       "    <tr>\n",
       "      <th>5</th>\n",
       "      <td>NaN</td>\n",
       "      <td>Derby Manor</td>\n",
       "      <td>COVID-19</td>\n",
       "      <td>August 6, 2020</td>\n",
       "      <td>fraser</td>\n",
       "      <td>Residential</td>\n",
       "      <td>NaN</td>\n",
       "      <td>NaN</td>\n",
       "      <td>NaN</td>\n",
       "      <td>NaN</td>\n",
       "      <td>NaN</td>\n",
       "    </tr>\n",
       "    <tr>\n",
       "      <th>6</th>\n",
       "      <td>NaN</td>\n",
       "      <td>George Derby Centre</td>\n",
       "      <td>COVID-19</td>\n",
       "      <td>August 7, 2020</td>\n",
       "      <td>fraser</td>\n",
       "      <td>Residential</td>\n",
       "      <td>NaN</td>\n",
       "      <td>NaN</td>\n",
       "      <td>NaN</td>\n",
       "      <td>NaN</td>\n",
       "      <td>NaN</td>\n",
       "    </tr>\n",
       "    <tr>\n",
       "      <th>7</th>\n",
       "      <td>NaN</td>\n",
       "      <td>New Vista Care Society</td>\n",
       "      <td>COVID-19</td>\n",
       "      <td>August 8, 2020</td>\n",
       "      <td>fraser</td>\n",
       "      <td>Residential</td>\n",
       "      <td>NaN</td>\n",
       "      <td>NaN</td>\n",
       "      <td>NaN</td>\n",
       "      <td>NaN</td>\n",
       "      <td>NaN</td>\n",
       "    </tr>\n",
       "  </tbody>\n",
       "</table>\n",
       "</div>"
      ],
      "text/plain": [
       "      city                                           facility  \\\n",
       "0  Terrace                   Terraceview Lodge - Lakelse Unit   \n",
       "1      NaN                          Mission Memorial Hospital   \n",
       "2      NaN  St. Paul's Hospital, NICU\\nHoly Family Hospita...   \n",
       "3      NaN                                         Dania Home   \n",
       "4      NaN                        Maple Ridge Seniors Village   \n",
       "5      NaN                                        Derby Manor   \n",
       "6      NaN                                George Derby Centre   \n",
       "7      NaN                             New Vista Care Society   \n",
       "\n",
       "                             outbreaktype  \\\n",
       "0                     Respiratory Illness   \n",
       "1                                COVID-19   \n",
       "2  COVID-19\\nCOVID-19\\nCOVID-19\\nCOVID-19   \n",
       "3                                COVID-19   \n",
       "4                                COVID-19   \n",
       "5                                COVID-19   \n",
       "6                                COVID-19   \n",
       "7                                COVID-19   \n",
       "\n",
       "                                  datedeclared          health_authority  \\\n",
       "0  April 9, 2020-Declared over: April 13, 2020                  northern   \n",
       "1                                June 16, 2020                    fraser   \n",
       "2                                          NaN  vancouver coastal health   \n",
       "3                                July 31, 2020                    fraser   \n",
       "4                               August 4, 2020                    fraser   \n",
       "5                               August 6, 2020                    fraser   \n",
       "6                               August 7, 2020                    fraser   \n",
       "7                               August 8, 2020                    fraser   \n",
       "\n",
       "  facilitytype unit                                            address  \\\n",
       "0          NaN  NaN                                                NaN   \n",
       "1     Hospital                                                     NaN   \n",
       "2          NaN  NaN  1081 Burrard Street, Vancouver\\n7801 Argyle St...   \n",
       "3  Residential  NaN                                                NaN   \n",
       "4  Residential  NaN                                                NaN   \n",
       "5  Residential  NaN                                                NaN   \n",
       "6  Residential  NaN                                                NaN   \n",
       "7  Residential  NaN                                                NaN   \n",
       "\n",
       "                          restrictionsimposed    restrictionslifted  \\\n",
       "0                                         NaN                   NaN   \n",
       "1                                         NaN                   NaN   \n",
       "2  16-Jul-20\\n09-Jun-20\\n12-Apr-20\\n30-Mar-20  13-Jun-20\\n05-Jun-20   \n",
       "3                                         NaN                   NaN   \n",
       "4                                         NaN                   NaN   \n",
       "5                                         NaN                   NaN   \n",
       "6                                         NaN                   NaN   \n",
       "7                                         NaN                   NaN   \n",
       "\n",
       "           status  \n",
       "0             NaN  \n",
       "1             NaN  \n",
       "2  declared over)  \n",
       "3             NaN  \n",
       "4             NaN  \n",
       "5             NaN  \n",
       "6             NaN  \n",
       "7             NaN  "
      ]
     },
     "execution_count": 1468,
     "metadata": {},
     "output_type": "execute_result"
    }
   ],
   "source": [
    "# update new scrapes\n",
    "aug4 = pd.merge(merge2, fraser, how = 'outer')\n",
    "\n",
    "# aug 10\n",
    "aug10 = pd.merge(merge2, fraser, how = 'outer')\n",
    "aug10"
   ]
  },
  {
   "cell_type": "markdown",
   "metadata": {},
   "source": [
    "# Caveats:\n",
    "\n",
    "1. VCH outbreak status is colour coded and requires custom scripts for each new outbreak\n",
    "2. All only report active outbreaks (no information on previous outbreaks)\n",
    "3. VCH also reports hospital outbreaks - not just LTCs"
   ]
  },
  {
   "cell_type": "code",
   "execution_count": null,
   "metadata": {},
   "outputs": [],
   "source": []
  }
 ],
 "metadata": {
  "kernelspec": {
   "display_name": "Python 3",
   "language": "python",
   "name": "python3"
  },
  "language_info": {
   "codemirror_mode": {
    "name": "ipython",
    "version": 3
   },
   "file_extension": ".py",
   "mimetype": "text/x-python",
   "name": "python",
   "nbconvert_exporter": "python",
   "pygments_lexer": "ipython3",
   "version": "3.7.0"
  }
 },
 "nbformat": 4,
 "nbformat_minor": 4
}
