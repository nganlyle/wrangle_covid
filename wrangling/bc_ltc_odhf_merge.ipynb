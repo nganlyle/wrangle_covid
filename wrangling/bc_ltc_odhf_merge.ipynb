{
 "cells": [
  {
   "cell_type": "markdown",
   "metadata": {},
   "source": [
    "# Merge ODHF with LTC data for Coordinate information\n",
    "\n",
    "---"
   ]
  },
  {
   "cell_type": "code",
   "execution_count": 1,
   "metadata": {},
   "outputs": [],
   "source": [
    "import numpy as np\n",
    "import pandas as pd"
   ]
  },
  {
   "cell_type": "code",
   "execution_count": 2,
   "metadata": {},
   "outputs": [],
   "source": [
    "ltc = pd.read_csv('../data/BC/output/bc_ltc_final.csv')\n",
    "odhf = pd.read_excel('../data/BC/odhf_ltc.xlsx')"
   ]
  },
  {
   "cell_type": "code",
   "execution_count": 3,
   "metadata": {},
   "outputs": [],
   "source": [
    "ltc['facility_name'] = ltc['FACILITY_NAME'].str.lower()"
   ]
  },
  {
   "cell_type": "code",
   "execution_count": 4,
   "metadata": {},
   "outputs": [],
   "source": [
    "merge = pd.merge(ltc, odhf, on = 'facility_name', how = 'left')"
   ]
  },
  {
   "cell_type": "code",
   "execution_count": 5,
   "metadata": {
    "scrolled": true
   },
   "outputs": [
    {
     "name": "stdout",
     "output_type": "stream",
     "text": [
      "<class 'pandas.core.frame.DataFrame'>\n",
      "Int64Index: 297 entries, 0 to 296\n",
      "Data columns (total 91 columns):\n",
      " #   Column                     Non-Null Count  Dtype  \n",
      "---  ------                     --------------  -----  \n",
      " 0   FACILITY_NAME              297 non-null    object \n",
      " 1   Number of dead             297 non-null    float64\n",
      " 2   HCC_CODE                   297 non-null    object \n",
      " 3   HLTH_AUTH                  297 non-null    object \n",
      " 4   STREET_ADDRESS             297 non-null    object \n",
      " 5   CITY                       297 non-null    object \n",
      " 6   POSTAL                     297 non-null    object \n",
      " 7   PHONE                      297 non-null    object \n",
      " 8   OPEN_DATE                  288 non-null    object \n",
      " 9   COUNCIL                    290 non-null    object \n",
      " 10  ACCRED_STATUS              297 non-null    object \n",
      " 11  BEDS_PRIVATE               297 non-null    int64  \n",
      " 12  BEDS_PUBLIC                297 non-null    int64  \n",
      " 13  BEDS_TOTAL                 297 non-null    int64  \n",
      " 14  ROOMS_PRIVATE              297 non-null    int64  \n",
      " 15  ROOMS_SEMI                 297 non-null    int64  \n",
      " 16  ROOMS_MULTI                297 non-null    int64  \n",
      " 17  COMPLAINTS                 283 non-null    object \n",
      " 18  SUB_COMPLAINTS             283 non-null    object \n",
      " 19  INCIDENT_OUTBREAK          272 non-null    object \n",
      " 20  INCIDENT_ABUSE             272 non-null    object \n",
      " 21  INCIDENT_FALL              272 non-null    object \n",
      " 22  INCIDENT_POISON            272 non-null    object \n",
      " 23  INCIDENT_MEDICATION        272 non-null    object \n",
      " 24  INCIDENT_WANDERING         272 non-null    object \n",
      " 25  INCIDENT_INJURY            272 non-null    object \n",
      " 26  INCIDENT_AGGRESSION        272 non-null    object \n",
      " 27  INCIDENT_OUTBREAK_100      272 non-null    object \n",
      " 28  INCIDENT_ABUSE_100         272 non-null    object \n",
      " 29  INCIDENT_FALL_100          272 non-null    object \n",
      " 30  INCIDENT_POISON_100        272 non-null    object \n",
      " 31  INCIDENT_MEDICATION_100    272 non-null    object \n",
      " 32  INCIDENT_WANDERING_100     272 non-null    object \n",
      " 33  INCIDENT_INJURY_100        272 non-null    object \n",
      " 34  INCIDENT_AGGRESSION_100    272 non-null    object \n",
      " 35  AGE                        294 non-null    object \n",
      " 36  FEMALE                     294 non-null    object \n",
      " 37  AGE_85_PLUS                294 non-null    object \n",
      " 38  AGE_UNDER_65               294 non-null    object \n",
      " 39  STAY_LENGTH                284 non-null    object \n",
      " 40  DEPRESSION                 294 non-null    object \n",
      " 41  ADL_DEPENDENT              294 non-null    object \n",
      " 42  CPS_SEVERE                 294 non-null    object \n",
      " 43  DEMENTIA                   294 non-null    object \n",
      " 44  ABS_PHYS_ABUSIVE           294 non-null    object \n",
      " 45  ISE                        293 non-null    object \n",
      " 46  ISE_LOW                    294 non-null    object \n",
      " 47  CMI                        293 non-null    object \n",
      " 48  THERAPY_PT                 294 non-null    object \n",
      " 49  THERAPY_RT                 294 non-null    object \n",
      " 50  THERAPY_OT                 294 non-null    object \n",
      " 51  MEDS_DEPRESSION            294 non-null    object \n",
      " 52  MEDS_ANTIPSYCHOTICS        294 non-null    object \n",
      " 53  RESTRAINTS                 294 non-null    object \n",
      " 54  INSPECTIONS                294 non-null    float64\n",
      " 55  INFRACTIONS                294 non-null    float64\n",
      " 56  INFRACTIONS_LICENSING      294 non-null    float64\n",
      " 57  INFRACTIONS_FACILITY       294 non-null    float64\n",
      " 58  INFRACTIONS_STAFFING       294 non-null    float64\n",
      " 59  INFRACTIONS_POLICY         294 non-null    float64\n",
      " 60  INFRACTIONS_CARE           294 non-null    float64\n",
      " 61  INFRACTIONS_DISEASE        294 non-null    float64\n",
      " 62  INFRACTIONS_FOOD           294 non-null    float64\n",
      " 63  INFRACTIONS_MEDICATION     294 non-null    float64\n",
      " 64  INFRACTIONS_PROGRAM        294 non-null    float64\n",
      " 65  INFRACTIONS_REPORTING      294 non-null    float64\n",
      " 66  INFRACTIONS_RIGHTS         294 non-null    float64\n",
      " 67  INFRACTIONS_OTHER          294 non-null    float64\n",
      " 68  outbreak_status            297 non-null    object \n",
      " 69  residents_council          297 non-null    object \n",
      " 70  family_council             297 non-null    object \n",
      " 71  accreditation              297 non-null    object \n",
      " 72  home_type                  297 non-null    object \n",
      " 73  years_operating            287 non-null    float64\n",
      " 74  facility_name              297 non-null    object \n",
      " 75  index                      187 non-null    float64\n",
      " 76  source_facility_type       39 non-null     object \n",
      " 77  odhf_facility_type         187 non-null    object \n",
      " 78  provider                   187 non-null    object \n",
      " 79  unit                       0 non-null      object \n",
      " 80  street_no                  158 non-null    object \n",
      " 81  street_name                158 non-null    object \n",
      " 82  postal_code                187 non-null    object \n",
      " 83  city                       187 non-null    object \n",
      " 84  province                   187 non-null    object \n",
      " 85  source_format_str_address  158 non-null    object \n",
      " 86  CSDname                    185 non-null    object \n",
      " 87  CSDuid                     158 non-null    float64\n",
      " 88  Pruid                      187 non-null    float64\n",
      " 89  latitude                   158 non-null    float64\n",
      " 90  longitude                  158 non-null    float64\n",
      "dtypes: float64(21), int64(6), object(64)\n",
      "memory usage: 213.5+ KB\n"
     ]
    }
   ],
   "source": [
    "merge.info()"
   ]
  },
  {
   "cell_type": "markdown",
   "metadata": {},
   "source": [
    "#### Fill lat/lon NAs with BC Gov Data -- <mark> SAME LTCS ARE MISSING VALUES </mark>"
   ]
  },
  {
   "cell_type": "code",
   "execution_count": 6,
   "metadata": {},
   "outputs": [],
   "source": [
    "# bcgov = pd.read_csv('../data/gsr_residential_care.csv')\n",
    "# bcgov_ltc = bcgov.loc[bcgov.LONG_TERM_CARE == 'Y']\n",
    "\n",
    "# dr_cols = ['TYPE', 'STREET_ADDRESS', 'CITY', 'INSPECTION_URL',\n",
    "#           'GOVERNING_REGULATION', 'HEALTH_AUTHORITY', 'MENTAL_HEALTH',\n",
    "#        'MENTAL_HEALTH_MAX_CAP', 'HOSPICE', 'HOSPICE_MAX_CAP', 'SUBSTANCE_USE',\n",
    "#        'SUBSTANCE_USE_MAX_CAP', 'LONG_TERM_CARE', 'LONG_TERM_CARE_MAX_CAP',\n",
    "#        'COMMUNITY_LIVING', 'COMMUNITY_LIVING_MAX_CAP', 'ACQUIRED_BRAIN_INJURY',\n",
    "#        'ACQUIRED_BRAIN_INJURY_MAX_CAP']\n",
    "# bcgov_ltc.drop(columns = dr_cols, inplace = True)\n",
    "\n"
   ]
  },
  {
   "cell_type": "code",
   "execution_count": 7,
   "metadata": {},
   "outputs": [],
   "source": [
    "# # merge on postal code\n",
    "# def rm_space(x):\n",
    "#     return x.replace(' ','')\n",
    "\n",
    "# bcgov_ltc['POSTAL'] = bcgov_ltc.POSTAL_CODE.map(rm_space)\n",
    "\n",
    "# complete = pd.merge(merge, bcgov_ltc, on = 'POSTAL', how = 'outer')\n",
    "\n",
    "# complete.info()"
   ]
  },
  {
   "cell_type": "code",
   "execution_count": 8,
   "metadata": {},
   "outputs": [],
   "source": [
    "# complete.latitude.fillna(complete['LATITUDE'], inplace = True)\n",
    "# complete.longitude.fillna(complete['LONGITUDE'], inplace = True)"
   ]
  },
  {
   "cell_type": "markdown",
   "metadata": {},
   "source": [
    "### Geocode Leftover Nulls"
   ]
  },
  {
   "cell_type": "code",
   "execution_count": 9,
   "metadata": {},
   "outputs": [],
   "source": [
    "from geopy import *\n",
    "import geopandas"
   ]
  },
  {
   "cell_type": "code",
   "execution_count": 10,
   "metadata": {},
   "outputs": [],
   "source": [
    "locator = Nominatim(user_agent=\"myGeocoder\")"
   ]
  },
  {
   "cell_type": "code",
   "execution_count": 11,
   "metadata": {},
   "outputs": [
    {
     "data": {
      "text/plain": [
       "0       5451-204th St, Langley, British Columbia, Canada\n",
       "1      1070 Lynn Valley Rd, North, North Vancouver, B...\n",
       "2      7801 Argyle St., Vancouver, British Columbia, ...\n",
       "3      1233 Haro Street, Vancouver, British Columbia,...\n",
       "4      7850 Champlain Cresc, Vancouver, British Colum...\n",
       "                             ...                        \n",
       "292    2510 West Hwy 62, Hazelton, British Columbia, ...\n",
       "293    1099 Cambie Street, Vancouver, British Columbi...\n",
       "294    4950 Heather Street, Vancouver, British Columb...\n",
       "295    555 - 2nd Avenue, Campbell River, British Colu...\n",
       "296      5939-180th St, Surrey, British Columbia, Canada\n",
       "Name: address, Length: 297, dtype: object"
      ]
     },
     "execution_count": 11,
     "metadata": {},
     "output_type": "execute_result"
    }
   ],
   "source": [
    "# reformat address to be one string\n",
    "address = []\n",
    "for s,c in zip(merge['STREET_ADDRESS'].to_list(), merge['CITY'].to_list()):\n",
    "        address.append(\"{}, {}, British Columbia, Canada\".format(s,c))\n",
    "        \n",
    "merge['address'] = address\n",
    "merge.address"
   ]
  },
  {
   "cell_type": "markdown",
   "metadata": {},
   "source": [
    "<mark>**CAUTION:** Slow script below </mark>"
   ]
  },
  {
   "cell_type": "code",
   "execution_count": 12,
   "metadata": {
    "scrolled": true
   },
   "outputs": [
    {
     "name": "stderr",
     "output_type": "stream",
     "text": [
      "RateLimiter caught an error, retrying (0/2 tries). Called with (*('1030 - 10th Street, Invermere, British Columbia, Canada',), **{}).\n",
      "Traceback (most recent call last):\n",
      "  File \"//anaconda3/lib/python3.7/urllib/request.py\", line 1317, in do_open\n",
      "    encode_chunked=req.has_header('Transfer-encoding'))\n",
      "  File \"//anaconda3/lib/python3.7/http/client.py\", line 1244, in request\n",
      "    self._send_request(method, url, body, headers, encode_chunked)\n",
      "  File \"//anaconda3/lib/python3.7/http/client.py\", line 1290, in _send_request\n",
      "    self.endheaders(body, encode_chunked=encode_chunked)\n",
      "  File \"//anaconda3/lib/python3.7/http/client.py\", line 1239, in endheaders\n",
      "    self._send_output(message_body, encode_chunked=encode_chunked)\n",
      "  File \"//anaconda3/lib/python3.7/http/client.py\", line 1026, in _send_output\n",
      "    self.send(msg)\n",
      "  File \"//anaconda3/lib/python3.7/http/client.py\", line 966, in send\n",
      "    self.connect()\n",
      "  File \"//anaconda3/lib/python3.7/http/client.py\", line 1414, in connect\n",
      "    server_hostname=server_hostname)\n",
      "  File \"//anaconda3/lib/python3.7/ssl.py\", line 423, in wrap_socket\n",
      "    session=session\n",
      "  File \"//anaconda3/lib/python3.7/ssl.py\", line 870, in _create\n",
      "    self.do_handshake()\n",
      "  File \"//anaconda3/lib/python3.7/ssl.py\", line 1139, in do_handshake\n",
      "    self._sslobj.do_handshake()\n",
      "socket.timeout: _ssl.c:1059: The handshake operation timed out\n",
      "\n",
      "During handling of the above exception, another exception occurred:\n",
      "\n",
      "Traceback (most recent call last):\n",
      "  File \"//anaconda3/lib/python3.7/site-packages/geopy/geocoders/base.py\", line 367, in _call_geocoder\n",
      "    page = requester(req, timeout=timeout, **kwargs)\n",
      "  File \"//anaconda3/lib/python3.7/urllib/request.py\", line 525, in open\n",
      "    response = self._open(req, data)\n",
      "  File \"//anaconda3/lib/python3.7/urllib/request.py\", line 543, in _open\n",
      "    '_open', req)\n",
      "  File \"//anaconda3/lib/python3.7/urllib/request.py\", line 503, in _call_chain\n",
      "    result = func(*args)\n",
      "  File \"//anaconda3/lib/python3.7/urllib/request.py\", line 1360, in https_open\n",
      "    context=self._context, check_hostname=self._check_hostname)\n",
      "  File \"//anaconda3/lib/python3.7/urllib/request.py\", line 1319, in do_open\n",
      "    raise URLError(err)\n",
      "urllib.error.URLError: <urlopen error _ssl.c:1059: The handshake operation timed out>\n",
      "\n",
      "During handling of the above exception, another exception occurred:\n",
      "\n",
      "Traceback (most recent call last):\n",
      "  File \"//anaconda3/lib/python3.7/site-packages/geopy/extra/rate_limiter.py\", line 126, in __call__\n",
      "    return self.func(*args, **kwargs)\n",
      "  File \"//anaconda3/lib/python3.7/site-packages/geopy/geocoders/osm.py\", line 408, in geocode\n",
      "    self._call_geocoder(url, timeout=timeout), exactly_one\n",
      "  File \"//anaconda3/lib/python3.7/site-packages/geopy/geocoders/base.py\", line 394, in _call_geocoder\n",
      "    raise GeocoderTimedOut('Service timed out')\n",
      "geopy.exc.GeocoderTimedOut: Service timed out\n",
      "RateLimiter caught an error, retrying (0/2 tries). Called with (*('1699 Tutill Court, Merritt, British Columbia, Canada',), **{}).\n",
      "Traceback (most recent call last):\n",
      "  File \"//anaconda3/lib/python3.7/urllib/request.py\", line 1317, in do_open\n",
      "    encode_chunked=req.has_header('Transfer-encoding'))\n",
      "  File \"//anaconda3/lib/python3.7/http/client.py\", line 1244, in request\n",
      "    self._send_request(method, url, body, headers, encode_chunked)\n",
      "  File \"//anaconda3/lib/python3.7/http/client.py\", line 1290, in _send_request\n",
      "    self.endheaders(body, encode_chunked=encode_chunked)\n",
      "  File \"//anaconda3/lib/python3.7/http/client.py\", line 1239, in endheaders\n",
      "    self._send_output(message_body, encode_chunked=encode_chunked)\n",
      "  File \"//anaconda3/lib/python3.7/http/client.py\", line 1026, in _send_output\n",
      "    self.send(msg)\n",
      "  File \"//anaconda3/lib/python3.7/http/client.py\", line 966, in send\n",
      "    self.connect()\n",
      "  File \"//anaconda3/lib/python3.7/http/client.py\", line 1406, in connect\n",
      "    super().connect()\n",
      "  File \"//anaconda3/lib/python3.7/http/client.py\", line 938, in connect\n",
      "    (self.host,self.port), self.timeout, self.source_address)\n",
      "  File \"//anaconda3/lib/python3.7/socket.py\", line 727, in create_connection\n",
      "    raise err\n",
      "  File \"//anaconda3/lib/python3.7/socket.py\", line 716, in create_connection\n",
      "    sock.connect(sa)\n",
      "socket.timeout: timed out\n",
      "\n",
      "During handling of the above exception, another exception occurred:\n",
      "\n",
      "Traceback (most recent call last):\n",
      "  File \"//anaconda3/lib/python3.7/site-packages/geopy/geocoders/base.py\", line 367, in _call_geocoder\n",
      "    page = requester(req, timeout=timeout, **kwargs)\n",
      "  File \"//anaconda3/lib/python3.7/urllib/request.py\", line 525, in open\n",
      "    response = self._open(req, data)\n",
      "  File \"//anaconda3/lib/python3.7/urllib/request.py\", line 543, in _open\n",
      "    '_open', req)\n",
      "  File \"//anaconda3/lib/python3.7/urllib/request.py\", line 503, in _call_chain\n",
      "    result = func(*args)\n",
      "  File \"//anaconda3/lib/python3.7/urllib/request.py\", line 1360, in https_open\n",
      "    context=self._context, check_hostname=self._check_hostname)\n",
      "  File \"//anaconda3/lib/python3.7/urllib/request.py\", line 1319, in do_open\n",
      "    raise URLError(err)\n",
      "urllib.error.URLError: <urlopen error timed out>\n",
      "\n",
      "During handling of the above exception, another exception occurred:\n",
      "\n",
      "Traceback (most recent call last):\n",
      "  File \"//anaconda3/lib/python3.7/site-packages/geopy/extra/rate_limiter.py\", line 126, in __call__\n",
      "    return self.func(*args, **kwargs)\n",
      "  File \"//anaconda3/lib/python3.7/site-packages/geopy/geocoders/osm.py\", line 408, in geocode\n",
      "    self._call_geocoder(url, timeout=timeout), exactly_one\n",
      "  File \"//anaconda3/lib/python3.7/site-packages/geopy/geocoders/base.py\", line 394, in _call_geocoder\n",
      "    raise GeocoderTimedOut('Service timed out')\n",
      "geopy.exc.GeocoderTimedOut: Service timed out\n"
     ]
    }
   ],
   "source": [
    "from geopy.extra.rate_limiter import RateLimiter\n",
    "\n",
    "# 1 - convenient function to delay between geocoding calls\n",
    "geocode = RateLimiter(locator.geocode, min_delay_seconds=1)\n",
    "\n",
    "# 2- - create location column\n",
    "merge['location'] = merge['address'].apply(geocode)\n",
    "\n",
    "# 3 - create longitude, laatitude and altitude from location column (returns tuple)\n",
    "merge['point'] = merge['location'].apply(lambda loc: tuple(loc.point) if loc else None)"
   ]
  },
  {
   "cell_type": "code",
   "execution_count": 13,
   "metadata": {},
   "outputs": [],
   "source": [
    "# 4 - split point column into latitude, longitude and altitude columns\n",
    "# merge[['latitude', 'longitude', 'altitude']] = pd.DataFrame(merge['point'].tolist(), index=merge.index)\n",
    "\n",
    "def pt_to_x(pt):\n",
    "#     print(pt)\n",
    "    try:\n",
    "        latitude, longitude, altitude = pt\n",
    "        return latitude\n",
    "    except TypeError:\n",
    "#         print(\"can't unpack {}\".format(type(pt)))\n",
    "        return pt\n",
    "\n",
    "def pt_to_y(pt):\n",
    "    try:\n",
    "        latitude, longitude, altitude = pt\n",
    "        return longitude\n",
    "    except TypeError:\n",
    "        return pt\n",
    "    \n",
    "\n"
   ]
  },
  {
   "cell_type": "code",
   "execution_count": 14,
   "metadata": {},
   "outputs": [],
   "source": [
    "merge['geo_lat'] = merge['point'].map(pt_to_x)\n",
    "merge['geo_lon'] = merge['point'].map(pt_to_y)"
   ]
  },
  {
   "cell_type": "markdown",
   "metadata": {},
   "source": [
    "**Lat/Lon Assesment:**\n"
   ]
  },
  {
   "cell_type": "code",
   "execution_count": 15,
   "metadata": {},
   "outputs": [
    {
     "name": "stdout",
     "output_type": "stream",
     "text": [
      "Number of lats that will be replaced by geocoding: 122 \n",
      " Total number of null lats: 139\n"
     ]
    }
   ],
   "source": [
    "ind_rpl = merge[merge['geo_lat'].notnull() & merge['latitude'].isnull()].index\n",
    "print(\"Number of lats that will be replaced by geocoding:\", len(ind_rpl), \"\\n\",\n",
    "     \"Total number of null lats:\", len(merge[merge['latitude'].isnull()].index))"
   ]
  },
  {
   "cell_type": "code",
   "execution_count": 16,
   "metadata": {},
   "outputs": [],
   "source": [
    "merge.latitude.fillna(merge['geo_lat'], inplace = True)\n",
    "merge.longitude.fillna(merge['geo_lon'], inplace = True)"
   ]
  },
  {
   "cell_type": "code",
   "execution_count": 17,
   "metadata": {},
   "outputs": [
    {
     "name": "stdout",
     "output_type": "stream",
     "text": [
      "coordinates not filled by geocoder: 17\n"
     ]
    }
   ],
   "source": [
    "print(\"coordinates not filled by geocoder:\", len(merge[merge.latitude.isnull()]))"
   ]
  },
  {
   "cell_type": "code",
   "execution_count": 18,
   "metadata": {},
   "outputs": [],
   "source": [
    "merge.iloc[ind_rpl].to_csv('../data/BC/replaced_LATS.csv')"
   ]
  },
  {
   "cell_type": "markdown",
   "metadata": {},
   "source": [
    "* Geocoded latitudes were verified by comparing the original and geocoded addresses.\n",
    "\n",
    "* Missing information was google searched and/or geocoded using an online tool.\n",
    "\n",
    "#### Manually add missing lat lon\n",
    "\n"
   ]
  },
  {
   "cell_type": "code",
   "execution_count": 19,
   "metadata": {},
   "outputs": [],
   "source": [
    "to_fill = pd.read_csv('../data/BC/latlon_fill.csv')\n",
    "merge = pd.merge(merge, to_fill, on = 'FACILITY_NAME')\n",
    "\n",
    "# fill nas\n",
    "merge.latitude.fillna(merge.replace_lat, inplace = True)\n",
    "merge.longitude.fillna(merge.replace_lon, inplace = True)"
   ]
  },
  {
   "cell_type": "markdown",
   "metadata": {},
   "source": [
    "#### Clean & Export"
   ]
  },
  {
   "cell_type": "code",
   "execution_count": 20,
   "metadata": {},
   "outputs": [
    {
     "data": {
      "text/plain": [
       "Index(['FACILITY_NAME', 'Number of dead', 'HCC_CODE', 'HLTH_AUTH',\n",
       "       'STREET_ADDRESS', 'CITY', 'POSTAL', 'PHONE', 'OPEN_DATE', 'COUNCIL',\n",
       "       'ACCRED_STATUS', 'BEDS_PRIVATE', 'BEDS_PUBLIC', 'BEDS_TOTAL',\n",
       "       'ROOMS_PRIVATE', 'ROOMS_SEMI', 'ROOMS_MULTI', 'COMPLAINTS',\n",
       "       'SUB_COMPLAINTS', 'INCIDENT_OUTBREAK', 'INCIDENT_ABUSE',\n",
       "       'INCIDENT_FALL', 'INCIDENT_POISON', 'INCIDENT_MEDICATION',\n",
       "       'INCIDENT_WANDERING', 'INCIDENT_INJURY', 'INCIDENT_AGGRESSION',\n",
       "       'INCIDENT_OUTBREAK_100', 'INCIDENT_ABUSE_100', 'INCIDENT_FALL_100',\n",
       "       'INCIDENT_POISON_100', 'INCIDENT_MEDICATION_100',\n",
       "       'INCIDENT_WANDERING_100', 'INCIDENT_INJURY_100',\n",
       "       'INCIDENT_AGGRESSION_100', 'AGE', 'FEMALE', 'AGE_85_PLUS',\n",
       "       'AGE_UNDER_65', 'STAY_LENGTH', 'DEPRESSION', 'ADL_DEPENDENT',\n",
       "       'CPS_SEVERE', 'DEMENTIA', 'ABS_PHYS_ABUSIVE', 'ISE', 'ISE_LOW', 'CMI',\n",
       "       'THERAPY_PT', 'THERAPY_RT', 'THERAPY_OT', 'MEDS_DEPRESSION',\n",
       "       'MEDS_ANTIPSYCHOTICS', 'RESTRAINTS', 'INSPECTIONS', 'INFRACTIONS',\n",
       "       'INFRACTIONS_LICENSING', 'INFRACTIONS_FACILITY', 'INFRACTIONS_STAFFING',\n",
       "       'INFRACTIONS_POLICY', 'INFRACTIONS_CARE', 'INFRACTIONS_DISEASE',\n",
       "       'INFRACTIONS_FOOD', 'INFRACTIONS_MEDICATION', 'INFRACTIONS_PROGRAM',\n",
       "       'INFRACTIONS_REPORTING', 'INFRACTIONS_RIGHTS', 'INFRACTIONS_OTHER',\n",
       "       'outbreak_status', 'residents_council', 'family_council',\n",
       "       'accreditation', 'home_type', 'years_operating', 'facility_name',\n",
       "       'index', 'source_facility_type', 'odhf_facility_type', 'provider',\n",
       "       'unit', 'street_no', 'street_name', 'postal_code', 'city', 'province',\n",
       "       'source_format_str_address', 'CSDname', 'CSDuid', 'Pruid', 'latitude',\n",
       "       'longitude', 'address', 'location', 'point', 'geo_lat', 'geo_lon',\n",
       "       'replace_lat', 'replace_lon'],\n",
       "      dtype='object')"
      ]
     },
     "execution_count": 20,
     "metadata": {},
     "output_type": "execute_result"
    }
   ],
   "source": [
    "merge.columns"
   ]
  },
  {
   "cell_type": "code",
   "execution_count": 21,
   "metadata": {},
   "outputs": [],
   "source": [
    "merge.drop(columns = ['index', 'source_facility_type', 'odhf_facility_type', 'provider',\n",
    "       'unit', 'street_no', 'street_name', 'postal_code', 'city', 'province',\n",
    "       'source_format_str_address', 'CSDname', 'CSDuid', 'Pruid','address', 'location', 'point', 'geo_lat', 'geo_lon',\n",
    "        'replace_lat', 'replace_lon', 'facility_name'\n",
    "                     ], inplace = True)\n"
   ]
  },
  {
   "cell_type": "code",
   "execution_count": 22,
   "metadata": {},
   "outputs": [],
   "source": [
    "merge.set_index('FACILITY_NAME', inplace = True)"
   ]
  },
  {
   "cell_type": "code",
   "execution_count": 23,
   "metadata": {},
   "outputs": [],
   "source": [
    "# merge.latitude = merge.latitude.map(lambda x: float(x))\n",
    "# merge.longitude = merge.longitude.map(lambda x: float(x))"
   ]
  },
  {
   "cell_type": "code",
   "execution_count": 28,
   "metadata": {},
   "outputs": [
    {
     "name": "stdout",
     "output_type": "stream",
     "text": [
      "<class 'pandas.core.frame.DataFrame'>\n",
      "Index: 297 entries, Langley Lodge to Zion Park Manor\n",
      "Data columns (total 75 columns):\n",
      " #   Column                   Non-Null Count  Dtype  \n",
      "---  ------                   --------------  -----  \n",
      " 0   Number of dead           297 non-null    float64\n",
      " 1   HCC_CODE                 297 non-null    object \n",
      " 2   HLTH_AUTH                297 non-null    object \n",
      " 3   STREET_ADDRESS           297 non-null    object \n",
      " 4   CITY                     297 non-null    object \n",
      " 5   POSTAL                   297 non-null    object \n",
      " 6   PHONE                    297 non-null    object \n",
      " 7   OPEN_DATE                288 non-null    object \n",
      " 8   COUNCIL                  290 non-null    object \n",
      " 9   ACCRED_STATUS            297 non-null    object \n",
      " 10  BEDS_PRIVATE             297 non-null    int64  \n",
      " 11  BEDS_PUBLIC              297 non-null    int64  \n",
      " 12  BEDS_TOTAL               297 non-null    int64  \n",
      " 13  ROOMS_PRIVATE            297 non-null    int64  \n",
      " 14  ROOMS_SEMI               297 non-null    int64  \n",
      " 15  ROOMS_MULTI              297 non-null    int64  \n",
      " 16  COMPLAINTS               283 non-null    object \n",
      " 17  SUB_COMPLAINTS           283 non-null    object \n",
      " 18  INCIDENT_OUTBREAK        272 non-null    object \n",
      " 19  INCIDENT_ABUSE           272 non-null    object \n",
      " 20  INCIDENT_FALL            272 non-null    object \n",
      " 21  INCIDENT_POISON          272 non-null    object \n",
      " 22  INCIDENT_MEDICATION      272 non-null    object \n",
      " 23  INCIDENT_WANDERING       272 non-null    object \n",
      " 24  INCIDENT_INJURY          272 non-null    object \n",
      " 25  INCIDENT_AGGRESSION      272 non-null    object \n",
      " 26  INCIDENT_OUTBREAK_100    272 non-null    object \n",
      " 27  INCIDENT_ABUSE_100       272 non-null    object \n",
      " 28  INCIDENT_FALL_100        272 non-null    object \n",
      " 29  INCIDENT_POISON_100      272 non-null    object \n",
      " 30  INCIDENT_MEDICATION_100  272 non-null    object \n",
      " 31  INCIDENT_WANDERING_100   272 non-null    object \n",
      " 32  INCIDENT_INJURY_100      272 non-null    object \n",
      " 33  INCIDENT_AGGRESSION_100  272 non-null    object \n",
      " 34  AGE                      294 non-null    object \n",
      " 35  FEMALE                   294 non-null    object \n",
      " 36  AGE_85_PLUS              294 non-null    object \n",
      " 37  AGE_UNDER_65             294 non-null    object \n",
      " 38  STAY_LENGTH              284 non-null    object \n",
      " 39  DEPRESSION               294 non-null    object \n",
      " 40  ADL_DEPENDENT            294 non-null    object \n",
      " 41  CPS_SEVERE               294 non-null    object \n",
      " 42  DEMENTIA                 294 non-null    object \n",
      " 43  ABS_PHYS_ABUSIVE         294 non-null    object \n",
      " 44  ISE                      293 non-null    object \n",
      " 45  ISE_LOW                  294 non-null    object \n",
      " 46  CMI                      293 non-null    object \n",
      " 47  THERAPY_PT               294 non-null    object \n",
      " 48  THERAPY_RT               294 non-null    object \n",
      " 49  THERAPY_OT               294 non-null    object \n",
      " 50  MEDS_DEPRESSION          294 non-null    object \n",
      " 51  MEDS_ANTIPSYCHOTICS      294 non-null    object \n",
      " 52  RESTRAINTS               294 non-null    object \n",
      " 53  INSPECTIONS              294 non-null    float64\n",
      " 54  INFRACTIONS              294 non-null    float64\n",
      " 55  INFRACTIONS_LICENSING    294 non-null    float64\n",
      " 56  INFRACTIONS_FACILITY     294 non-null    float64\n",
      " 57  INFRACTIONS_STAFFING     294 non-null    float64\n",
      " 58  INFRACTIONS_POLICY       294 non-null    float64\n",
      " 59  INFRACTIONS_CARE         294 non-null    float64\n",
      " 60  INFRACTIONS_DISEASE      294 non-null    float64\n",
      " 61  INFRACTIONS_FOOD         294 non-null    float64\n",
      " 62  INFRACTIONS_MEDICATION   294 non-null    float64\n",
      " 63  INFRACTIONS_PROGRAM      294 non-null    float64\n",
      " 64  INFRACTIONS_REPORTING    294 non-null    float64\n",
      " 65  INFRACTIONS_RIGHTS       294 non-null    float64\n",
      " 66  INFRACTIONS_OTHER        294 non-null    float64\n",
      " 67  outbreak_status          297 non-null    object \n",
      " 68  residents_council        297 non-null    object \n",
      " 69  family_council           297 non-null    object \n",
      " 70  accreditation            297 non-null    object \n",
      " 71  home_type                297 non-null    object \n",
      " 72  years_operating          287 non-null    float64\n",
      " 73  latitude                 297 non-null    object \n",
      " 74  longitude                297 non-null    float64\n",
      "dtypes: float64(17), int64(6), object(52)\n",
      "memory usage: 176.3+ KB\n"
     ]
    }
   ],
   "source": [
    "merge.info()"
   ]
  },
  {
   "cell_type": "code",
   "execution_count": 24,
   "metadata": {},
   "outputs": [],
   "source": [
    "merge.to_csv('../data/BC/output/bc-ltc-FINAL.csv')"
   ]
  },
  {
   "cell_type": "markdown",
   "metadata": {},
   "source": [
    "# MAP"
   ]
  },
  {
   "cell_type": "code",
   "execution_count": 25,
   "metadata": {},
   "outputs": [],
   "source": [
    "import matplotlib.pyplot as plt\n",
    "import geopandas as gpd\n",
    "from shapely.geometry import Point, Polygon"
   ]
  },
  {
   "cell_type": "code",
   "execution_count": 26,
   "metadata": {},
   "outputs": [
    {
     "ename": "TypeError",
     "evalue": "must be real number, not str",
     "output_type": "error",
     "traceback": [
      "\u001b[0;31m---------------------------------------------------------------------------\u001b[0m",
      "\u001b[0;31mTypeError\u001b[0m                                 Traceback (most recent call last)",
      "\u001b[0;32m<ipython-input-26-9c8d7da17ea6>\u001b[0m in \u001b[0;36m<module>\u001b[0;34m\u001b[0m\n\u001b[1;32m      2\u001b[0m \u001b[0;34m\u001b[0m\u001b[0m\n\u001b[1;32m      3\u001b[0m \u001b[0;31m# with gov lat/lon data\u001b[0m\u001b[0;34m\u001b[0m\u001b[0;34m\u001b[0m\u001b[0;34m\u001b[0m\u001b[0m\n\u001b[0;32m----> 4\u001b[0;31m \u001b[0mgeometry\u001b[0m \u001b[0;34m=\u001b[0m \u001b[0;34m[\u001b[0m\u001b[0mPoint\u001b[0m\u001b[0;34m(\u001b[0m\u001b[0mxy\u001b[0m\u001b[0;34m)\u001b[0m \u001b[0;32mfor\u001b[0m \u001b[0mxy\u001b[0m \u001b[0;32min\u001b[0m \u001b[0mzip\u001b[0m\u001b[0;34m(\u001b[0m\u001b[0mmerge\u001b[0m\u001b[0;34m.\u001b[0m\u001b[0mlatitude\u001b[0m\u001b[0;34m,\u001b[0m \u001b[0mmerge\u001b[0m\u001b[0;34m.\u001b[0m\u001b[0mlongitude\u001b[0m\u001b[0;34m)\u001b[0m\u001b[0;34m]\u001b[0m\u001b[0;34m\u001b[0m\u001b[0;34m\u001b[0m\u001b[0m\n\u001b[0m\u001b[1;32m      5\u001b[0m \u001b[0mcrs\u001b[0m \u001b[0;34m=\u001b[0m \u001b[0;34m{\u001b[0m\u001b[0;34m'init'\u001b[0m \u001b[0;34m:\u001b[0m \u001b[0;34m'EPSG:4326'\u001b[0m\u001b[0;34m}\u001b[0m \u001b[0;31m# coordinate ref system\u001b[0m\u001b[0;34m\u001b[0m\u001b[0;34m\u001b[0m\u001b[0m\n\u001b[1;32m      6\u001b[0m \u001b[0;34m\u001b[0m\u001b[0m\n",
      "\u001b[0;32m<ipython-input-26-9c8d7da17ea6>\u001b[0m in \u001b[0;36m<listcomp>\u001b[0;34m(.0)\u001b[0m\n\u001b[1;32m      2\u001b[0m \u001b[0;34m\u001b[0m\u001b[0m\n\u001b[1;32m      3\u001b[0m \u001b[0;31m# with gov lat/lon data\u001b[0m\u001b[0;34m\u001b[0m\u001b[0;34m\u001b[0m\u001b[0;34m\u001b[0m\u001b[0m\n\u001b[0;32m----> 4\u001b[0;31m \u001b[0mgeometry\u001b[0m \u001b[0;34m=\u001b[0m \u001b[0;34m[\u001b[0m\u001b[0mPoint\u001b[0m\u001b[0;34m(\u001b[0m\u001b[0mxy\u001b[0m\u001b[0;34m)\u001b[0m \u001b[0;32mfor\u001b[0m \u001b[0mxy\u001b[0m \u001b[0;32min\u001b[0m \u001b[0mzip\u001b[0m\u001b[0;34m(\u001b[0m\u001b[0mmerge\u001b[0m\u001b[0;34m.\u001b[0m\u001b[0mlatitude\u001b[0m\u001b[0;34m,\u001b[0m \u001b[0mmerge\u001b[0m\u001b[0;34m.\u001b[0m\u001b[0mlongitude\u001b[0m\u001b[0;34m)\u001b[0m\u001b[0;34m]\u001b[0m\u001b[0;34m\u001b[0m\u001b[0;34m\u001b[0m\u001b[0m\n\u001b[0m\u001b[1;32m      5\u001b[0m \u001b[0mcrs\u001b[0m \u001b[0;34m=\u001b[0m \u001b[0;34m{\u001b[0m\u001b[0;34m'init'\u001b[0m \u001b[0;34m:\u001b[0m \u001b[0;34m'EPSG:4326'\u001b[0m\u001b[0;34m}\u001b[0m \u001b[0;31m# coordinate ref system\u001b[0m\u001b[0;34m\u001b[0m\u001b[0;34m\u001b[0m\u001b[0m\n\u001b[1;32m      6\u001b[0m \u001b[0;34m\u001b[0m\u001b[0m\n",
      "\u001b[0;32m//anaconda3/lib/python3.7/site-packages/shapely/geometry/point.py\u001b[0m in \u001b[0;36m__init__\u001b[0;34m(self, *args)\u001b[0m\n\u001b[1;32m     46\u001b[0m         \u001b[0mBaseGeometry\u001b[0m\u001b[0;34m.\u001b[0m\u001b[0m__init__\u001b[0m\u001b[0;34m(\u001b[0m\u001b[0mself\u001b[0m\u001b[0;34m)\u001b[0m\u001b[0;34m\u001b[0m\u001b[0;34m\u001b[0m\u001b[0m\n\u001b[1;32m     47\u001b[0m         \u001b[0;32mif\u001b[0m \u001b[0mlen\u001b[0m\u001b[0;34m(\u001b[0m\u001b[0margs\u001b[0m\u001b[0;34m)\u001b[0m \u001b[0;34m>\u001b[0m \u001b[0;36m0\u001b[0m\u001b[0;34m:\u001b[0m\u001b[0;34m\u001b[0m\u001b[0;34m\u001b[0m\u001b[0m\n\u001b[0;32m---> 48\u001b[0;31m             \u001b[0mself\u001b[0m\u001b[0;34m.\u001b[0m\u001b[0m_set_coords\u001b[0m\u001b[0;34m(\u001b[0m\u001b[0;34m*\u001b[0m\u001b[0margs\u001b[0m\u001b[0;34m)\u001b[0m\u001b[0;34m\u001b[0m\u001b[0;34m\u001b[0m\u001b[0m\n\u001b[0m\u001b[1;32m     49\u001b[0m \u001b[0;34m\u001b[0m\u001b[0m\n\u001b[1;32m     50\u001b[0m     \u001b[0;31m# Coordinate getters and setters\u001b[0m\u001b[0;34m\u001b[0m\u001b[0;34m\u001b[0m\u001b[0;34m\u001b[0m\u001b[0m\n",
      "\u001b[0;32m//anaconda3/lib/python3.7/site-packages/shapely/geometry/point.py\u001b[0m in \u001b[0;36m_set_coords\u001b[0;34m(self, *args)\u001b[0m\n\u001b[1;32m    131\u001b[0m         \u001b[0mself\u001b[0m\u001b[0;34m.\u001b[0m\u001b[0mempty\u001b[0m\u001b[0;34m(\u001b[0m\u001b[0;34m)\u001b[0m\u001b[0;34m\u001b[0m\u001b[0;34m\u001b[0m\u001b[0m\n\u001b[1;32m    132\u001b[0m         \u001b[0;32mif\u001b[0m \u001b[0mlen\u001b[0m\u001b[0;34m(\u001b[0m\u001b[0margs\u001b[0m\u001b[0;34m)\u001b[0m \u001b[0;34m==\u001b[0m \u001b[0;36m1\u001b[0m\u001b[0;34m:\u001b[0m\u001b[0;34m\u001b[0m\u001b[0;34m\u001b[0m\u001b[0m\n\u001b[0;32m--> 133\u001b[0;31m             \u001b[0mself\u001b[0m\u001b[0;34m.\u001b[0m\u001b[0m_geom\u001b[0m\u001b[0;34m,\u001b[0m \u001b[0mself\u001b[0m\u001b[0;34m.\u001b[0m\u001b[0m_ndim\u001b[0m \u001b[0;34m=\u001b[0m \u001b[0mgeos_point_from_py\u001b[0m\u001b[0;34m(\u001b[0m\u001b[0margs\u001b[0m\u001b[0;34m[\u001b[0m\u001b[0;36m0\u001b[0m\u001b[0;34m]\u001b[0m\u001b[0;34m)\u001b[0m\u001b[0;34m\u001b[0m\u001b[0;34m\u001b[0m\u001b[0m\n\u001b[0m\u001b[1;32m    134\u001b[0m         \u001b[0;32melif\u001b[0m \u001b[0mlen\u001b[0m\u001b[0;34m(\u001b[0m\u001b[0margs\u001b[0m\u001b[0;34m)\u001b[0m \u001b[0;34m>\u001b[0m \u001b[0;36m3\u001b[0m\u001b[0;34m:\u001b[0m\u001b[0;34m\u001b[0m\u001b[0;34m\u001b[0m\u001b[0m\n\u001b[1;32m    135\u001b[0m             \u001b[0;32mraise\u001b[0m \u001b[0mTypeError\u001b[0m\u001b[0;34m(\u001b[0m\u001b[0;34m\"Point() takes at most 3 arguments ({} given)\"\u001b[0m\u001b[0;34m.\u001b[0m\u001b[0mformat\u001b[0m\u001b[0;34m(\u001b[0m\u001b[0mlen\u001b[0m\u001b[0;34m(\u001b[0m\u001b[0margs\u001b[0m\u001b[0;34m)\u001b[0m\u001b[0;34m)\u001b[0m\u001b[0;34m)\u001b[0m\u001b[0;34m\u001b[0m\u001b[0;34m\u001b[0m\u001b[0m\n",
      "\u001b[0;32m//anaconda3/lib/python3.7/site-packages/shapely/geometry/point.py\u001b[0m in \u001b[0;36mgeos_point_from_py\u001b[0;34m(ob, update_geom, update_ndim)\u001b[0m\n\u001b[1;32m    212\u001b[0m         \u001b[0mcoords\u001b[0m \u001b[0;34m=\u001b[0m \u001b[0mob\u001b[0m\u001b[0;34m\u001b[0m\u001b[0;34m\u001b[0m\u001b[0m\n\u001b[1;32m    213\u001b[0m     \u001b[0mn\u001b[0m \u001b[0;34m=\u001b[0m \u001b[0mlen\u001b[0m\u001b[0;34m(\u001b[0m\u001b[0mcoords\u001b[0m\u001b[0;34m)\u001b[0m\u001b[0;34m\u001b[0m\u001b[0;34m\u001b[0m\u001b[0m\n\u001b[0;32m--> 214\u001b[0;31m     \u001b[0mdx\u001b[0m \u001b[0;34m=\u001b[0m \u001b[0mc_double\u001b[0m\u001b[0;34m(\u001b[0m\u001b[0mcoords\u001b[0m\u001b[0;34m[\u001b[0m\u001b[0;36m0\u001b[0m\u001b[0;34m]\u001b[0m\u001b[0;34m)\u001b[0m\u001b[0;34m\u001b[0m\u001b[0;34m\u001b[0m\u001b[0m\n\u001b[0m\u001b[1;32m    215\u001b[0m     \u001b[0mdy\u001b[0m \u001b[0;34m=\u001b[0m \u001b[0mc_double\u001b[0m\u001b[0;34m(\u001b[0m\u001b[0mcoords\u001b[0m\u001b[0;34m[\u001b[0m\u001b[0;36m1\u001b[0m\u001b[0;34m]\u001b[0m\u001b[0;34m)\u001b[0m\u001b[0;34m\u001b[0m\u001b[0;34m\u001b[0m\u001b[0m\n\u001b[1;32m    216\u001b[0m     \u001b[0mdz\u001b[0m \u001b[0;34m=\u001b[0m \u001b[0;32mNone\u001b[0m\u001b[0;34m\u001b[0m\u001b[0;34m\u001b[0m\u001b[0m\n",
      "\u001b[0;31mTypeError\u001b[0m: must be real number, not str"
     ]
    }
   ],
   "source": [
    "street_map = gpd.read_file('../data/BC/HA/bc-health-authorities.geojson')\n",
    "\n",
    "# with gov lat/lon data\n",
    "geometry = [Point(xy) for xy in zip(merge.latitude, merge.longitude)]\n",
    "crs = {'init' : 'EPSG:4326'} # coordinate ref system\n",
    "\n",
    "\n",
    "geo_df = gpd.GeoDataFrame(merge,\n",
    "                         crs = crs,\n",
    "                         geometry = geometry)\n",
    "\n",
    "geo_df[['outbreak_status','POSTAL', 'latitude', 'longitude', 'geometry']].head()\n",
    "\n"
   ]
  },
  {
   "cell_type": "code",
   "execution_count": null,
   "metadata": {},
   "outputs": [],
   "source": [
    "fig,ax = plt.subplots(figsize = (15,15))\n",
    "# street_map.plot(ax = ax, alpha = 0.4, color = 'grey')\n",
    "            \n",
    "geo_df[geo_df['outbreak_status'] == 'yes'].plot(ax = ax, markersize = 16,\n",
    "                                               color = 'red', marker = 'o',\n",
    "                                               label = \"outbreak\")\n",
    "geo_df[geo_df['outbreak_status'] == 'no'].plot(ax = ax, markersize = 16,\n",
    "                                               color = 'blue', marker = 'o',\n",
    "                                               label = \"no outbreak\")\n",
    "plt.legend(prop={'size' : 15})"
   ]
  },
  {
   "cell_type": "code",
   "execution_count": null,
   "metadata": {},
   "outputs": [],
   "source": []
  }
 ],
 "metadata": {
  "kernelspec": {
   "display_name": "Python 3",
   "language": "python",
   "name": "python3"
  },
  "language_info": {
   "codemirror_mode": {
    "name": "ipython",
    "version": 3
   },
   "file_extension": ".py",
   "mimetype": "text/x-python",
   "name": "python",
   "nbconvert_exporter": "python",
   "pygments_lexer": "ipython3",
   "version": "3.7.0"
  }
 },
 "nbformat": 4,
 "nbformat_minor": 4
}
