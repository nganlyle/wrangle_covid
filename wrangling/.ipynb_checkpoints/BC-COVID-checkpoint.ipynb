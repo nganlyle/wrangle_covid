{
 "cells": [
  {
   "cell_type": "markdown",
   "metadata": {},
   "source": [
    "# BC COVID-19 Data by Health Authority\n",
    "\n",
    "1. [Feature Server JSON](https://services1.arcgis.com/xeMpV7tU1t4KD3Ei/arcgis/rest/services/COVID19_Cases_by_BC_Health_Authority/FeatureServer/0?f=pjson) `id 1,2,3,4,5`\n",
    "\n",
    "2. [Case Details](http://www.bccdc.ca/health-info/diseases-conditions/covid-19/data)\n",
    "\n",
    "---"
   ]
  },
  {
   "cell_type": "code",
   "execution_count": 3,
   "metadata": {},
   "outputs": [],
   "source": [
    "import pandas as pd\n",
    "import geopandas as gpd\n",
    "import requests\n",
    "from shapely.geometry import shape"
   ]
  },
  {
   "cell_type": "code",
   "execution_count": 3,
   "metadata": {},
   "outputs": [],
   "source": [
    "r = requests.get(\"https://services1.arcgis.com/xeMpV7tU1t4KD3Ei/arcgis/rest/services/COVID19_Cases_by_BC_Health_Authority/FeatureServer/0/query?where=&objectIds=1%2C2%2C3%2C4%2C5&time=&geometry=&geometryType=esriGeometryPolygon&inSR=&spatialRel=esriSpatialRelIntersects&resultType=none&distance=0.0&units=esriSRUnit_Meter&returnGeodetic=false&outFields=&returnGeometry=true&returnCentroid=false&featureEncoding=esriDefault&multipatchOption=xyFootprint&maxAllowableOffset=&geometryPrecision=&outSR=&datumTransformation=&applyVCSProjection=false&returnIdsOnly=false&returnUniqueIdsOnly=false&returnCountOnly=false&returnExtentOnly=false&returnQueryGeometry=true&returnDistinctValues=false&cacheHint=false&orderByFields=&groupByFieldsForStatistics=&outStatistics=&having=&resultOffset=&resultRecordCount=&returnZ=false&returnM=false&returnExceededLimitFeatures=true&quantizationParameters=&sqlFormat=none&f=pgeojson&token=\")\n",
    "r.raise_for_status()\n",
    "\n",
    "data = r.json()"
   ]
  },
  {
   "cell_type": "code",
   "execution_count": 4,
   "metadata": {},
   "outputs": [
    {
     "name": "stdout",
     "output_type": "stream",
     "text": [
      "                                            geometry            HA_Name\n",
      "0  POLYGON ((-120.45314 52.99326, -120.42102 52.9...           Interior\n",
      "1  MULTIPOLYGON (((-122.93676 49.31128, -122.9365...             Fraser\n",
      "2  MULTIPOLYGON (((-123.10903 49.28623, -123.0231...  Vancouver Coastal\n",
      "3  MULTIPOLYGON (((-126.66725 51.19230, -126.6705...   Vancouver Island\n",
      "4  MULTIPOLYGON (((-129.76908 55.45115, -129.7657...           Northern\n"
     ]
    }
   ],
   "source": [
    "gdf = gpd.GeoDataFrame.from_features(data[\"features\"])\n",
    "print(gdf.head())"
   ]
  },
  {
   "cell_type": "code",
   "execution_count": 11,
   "metadata": {},
   "outputs": [],
   "source": [
    "with open('../data/bc-health-authorities.geojson', 'w') as f:\n",
    "    f.write(gdf.to_json())"
   ]
  },
  {
   "cell_type": "markdown",
   "metadata": {},
   "source": [
    "---\n",
    "\n",
    "2. **Case Details**"
   ]
  },
  {
   "cell_type": "code",
   "execution_count": 9,
   "metadata": {},
   "outputs": [
    {
     "data": {
      "text/html": [
       "<div>\n",
       "<style scoped>\n",
       "    .dataframe tbody tr th:only-of-type {\n",
       "        vertical-align: middle;\n",
       "    }\n",
       "\n",
       "    .dataframe tbody tr th {\n",
       "        vertical-align: top;\n",
       "    }\n",
       "\n",
       "    .dataframe thead th {\n",
       "        text-align: right;\n",
       "    }\n",
       "</style>\n",
       "<table border=\"1\" class=\"dataframe\">\n",
       "  <thead>\n",
       "    <tr style=\"text-align: right;\">\n",
       "      <th></th>\n",
       "      <th>Reported_Date</th>\n",
       "      <th>HA</th>\n",
       "      <th>Sex</th>\n",
       "      <th>Age_Group</th>\n",
       "      <th>Classification_Reported</th>\n",
       "    </tr>\n",
       "  </thead>\n",
       "  <tbody>\n",
       "    <tr>\n",
       "      <th>0</th>\n",
       "      <td>2020-01-26</td>\n",
       "      <td>Out of Canada</td>\n",
       "      <td>M</td>\n",
       "      <td>40-49</td>\n",
       "      <td>Lab-diagnosed</td>\n",
       "    </tr>\n",
       "    <tr>\n",
       "      <th>1</th>\n",
       "      <td>2020-02-02</td>\n",
       "      <td>Vancouver Coastal</td>\n",
       "      <td>F</td>\n",
       "      <td>50-59</td>\n",
       "      <td>Lab-diagnosed</td>\n",
       "    </tr>\n",
       "    <tr>\n",
       "      <th>2</th>\n",
       "      <td>2020-02-05</td>\n",
       "      <td>Out of Canada</td>\n",
       "      <td>F</td>\n",
       "      <td>20-29</td>\n",
       "      <td>Lab-diagnosed</td>\n",
       "    </tr>\n",
       "    <tr>\n",
       "      <th>3</th>\n",
       "      <td>2020-02-05</td>\n",
       "      <td>Out of Canada</td>\n",
       "      <td>M</td>\n",
       "      <td>30-39</td>\n",
       "      <td>Lab-diagnosed</td>\n",
       "    </tr>\n",
       "    <tr>\n",
       "      <th>4</th>\n",
       "      <td>2020-02-11</td>\n",
       "      <td>Interior</td>\n",
       "      <td>F</td>\n",
       "      <td>30-39</td>\n",
       "      <td>Lab-diagnosed</td>\n",
       "    </tr>\n",
       "    <tr>\n",
       "      <th>...</th>\n",
       "      <td>...</td>\n",
       "      <td>...</td>\n",
       "      <td>...</td>\n",
       "      <td>...</td>\n",
       "      <td>...</td>\n",
       "    </tr>\n",
       "    <tr>\n",
       "      <th>3295</th>\n",
       "      <td>2020-07-19</td>\n",
       "      <td>Vancouver Island</td>\n",
       "      <td>M</td>\n",
       "      <td>80-89</td>\n",
       "      <td>Lab-diagnosed</td>\n",
       "    </tr>\n",
       "    <tr>\n",
       "      <th>3296</th>\n",
       "      <td>2020-07-19</td>\n",
       "      <td>Vancouver Island</td>\n",
       "      <td>F</td>\n",
       "      <td>60-69</td>\n",
       "      <td>Lab-diagnosed</td>\n",
       "    </tr>\n",
       "    <tr>\n",
       "      <th>3297</th>\n",
       "      <td>2020-07-19</td>\n",
       "      <td>Vancouver Island</td>\n",
       "      <td>F</td>\n",
       "      <td>50-59</td>\n",
       "      <td>Lab-diagnosed</td>\n",
       "    </tr>\n",
       "    <tr>\n",
       "      <th>3298</th>\n",
       "      <td>2020-07-19</td>\n",
       "      <td>Out of Canada</td>\n",
       "      <td>F</td>\n",
       "      <td>30-39</td>\n",
       "      <td>Lab-diagnosed</td>\n",
       "    </tr>\n",
       "    <tr>\n",
       "      <th>3299</th>\n",
       "      <td>2020-07-20</td>\n",
       "      <td>Vancouver Coastal</td>\n",
       "      <td>U</td>\n",
       "      <td>Unknown</td>\n",
       "      <td>Lab-diagnosed</td>\n",
       "    </tr>\n",
       "  </tbody>\n",
       "</table>\n",
       "<p>3300 rows × 5 columns</p>\n",
       "</div>"
      ],
      "text/plain": [
       "     Reported_Date                 HA Sex Age_Group Classification_Reported\n",
       "0       2020-01-26      Out of Canada   M     40-49           Lab-diagnosed\n",
       "1       2020-02-02  Vancouver Coastal   F     50-59           Lab-diagnosed\n",
       "2       2020-02-05      Out of Canada   F     20-29           Lab-diagnosed\n",
       "3       2020-02-05      Out of Canada   M     30-39           Lab-diagnosed\n",
       "4       2020-02-11           Interior   F     30-39           Lab-diagnosed\n",
       "...            ...                ...  ..       ...                     ...\n",
       "3295    2020-07-19   Vancouver Island   M     80-89           Lab-diagnosed\n",
       "3296    2020-07-19   Vancouver Island   F     60-69           Lab-diagnosed\n",
       "3297    2020-07-19   Vancouver Island   F     50-59           Lab-diagnosed\n",
       "3298    2020-07-19      Out of Canada   F     30-39           Lab-diagnosed\n",
       "3299    2020-07-20  Vancouver Coastal   U   Unknown           Lab-diagnosed\n",
       "\n",
       "[3300 rows x 5 columns]"
      ]
     },
     "execution_count": 9,
     "metadata": {},
     "output_type": "execute_result"
    }
   ],
   "source": [
    "pd.read_csv('../data/BCCDC_COVID19_Dashboard_Case_Details.csv')"
   ]
  },
  {
   "cell_type": "markdown",
   "metadata": {},
   "source": [
    "---\n",
    "# BC COVID Data for LTCs\n",
    "\n",
    "1. [long term facilities](https://www.seniorsadvocatebc.ca/quickfacts/search/%20)\n",
    "2. [outbreaks](http://www.phsa.ca/current-outbreaks)\n",
    "\n",
    "---\n",
    "\n",
    "1. **Long term facilities**"
   ]
  },
  {
   "cell_type": "code",
   "execution_count": 4,
   "metadata": {},
   "outputs": [],
   "source": [
    "from bs4 import BeautifulSoup"
   ]
  },
  {
   "cell_type": "code",
   "execution_count": 18,
   "metadata": {},
   "outputs": [],
   "source": [
    "# user defined exception errors\n",
    "class Error(Exception):\n",
    "    \"\"\"Base class for other exceptions\"\"\"\n",
    "    pass\n",
    "\n",
    "class InvalidHome(Error):\n",
    "    \"\"\"Raised when return is not a home name or there is a duplicate\"\"\"\n",
    "    pass\n",
    "\n",
    "class InvalidAddress(Error):\n",
    "    \"\"\"Raised when return is not a long-term care home address\"\"\"\n",
    "    pass"
   ]
  },
  {
   "cell_type": "code",
   "execution_count": 253,
   "metadata": {},
   "outputs": [],
   "source": [
    "address = []\n",
    "home = []\n",
    "links = []\n",
    "    \n",
    "for i in range(1,31):\n",
    "    re = requests.get('https://www.seniorsadvocatebc.ca/quickfacts/search/%20/'+ str(i))\n",
    "    s = BeautifulSoup(re.text,'html5lib')\n",
    "\n",
    "    containers = s.find_all(\"div\")\n",
    "\n",
    "    for each in containers:\n",
    "        try:\n",
    "             # home address\n",
    "            if 'Address:' not in each.find('p').getText():\n",
    "                raise InvalidAddress\n",
    "            else:\n",
    "                address.append(each.find('p').getText())\n",
    "\n",
    "            # home name\n",
    "            if each.find('a').getText() in ['Home', '\\n\\t\\t\\t\\t\\t\\t\\t«\\n\\t\\t\\t\\t\\t\\t', \n",
    "                                            'Data Sources', 'Visit us on Facebook', \n",
    "                                            'Email the OSA', '']:\n",
    "                raise InvalidHome\n",
    "            elif each.find('a').getText() in home:\n",
    "                # remove duplicates (if home name already exists)\n",
    "                raise InvalidHome\n",
    "            else:\n",
    "                home.append(each.find('a').getText())\n",
    "\n",
    "            # home url\n",
    "            if each.find('a').get('href') in links:\n",
    "                # remove duplicates (if url already exists)\n",
    "                raise InvalidHome\n",
    "            else:\n",
    "                links.append(each.find('a').get('href'))\n",
    "\n",
    "        except AttributeError:\n",
    "            pass\n",
    "        except InvalidHome:\n",
    "            pass\n",
    "        except InvalidAddress:\n",
    "            pass"
   ]
  },
  {
   "cell_type": "code",
   "execution_count": 24,
   "metadata": {},
   "outputs": [],
   "source": [
    "ltc = pd.DataFrame({'Home':home, 'Link':links, 'Address':address})"
   ]
  },
  {
   "cell_type": "code",
   "execution_count": 25,
   "metadata": {},
   "outputs": [],
   "source": [
    "# clean and separate address info\n",
    "ltc.Address = ltc.Address.str.replace('\\n\\t\\t\\t\\t',' ')\n",
    "ltc['city/postal'] = ltc.Address.str.extract(r'City/postal:(.*) Phone:')\n",
    "ltc['phone'] = ltc.Address.str.extract(r'Phone:(.*)\\t\\t\\t')\n",
    "ltc.Address = ltc.Address.str.extract(r'Address:(.*) City/postal:')"
   ]
  },
  {
   "cell_type": "code",
   "execution_count": 26,
   "metadata": {},
   "outputs": [
    {
     "data": {
      "text/html": [
       "<div>\n",
       "<style scoped>\n",
       "    .dataframe tbody tr th:only-of-type {\n",
       "        vertical-align: middle;\n",
       "    }\n",
       "\n",
       "    .dataframe tbody tr th {\n",
       "        vertical-align: top;\n",
       "    }\n",
       "\n",
       "    .dataframe thead th {\n",
       "        text-align: right;\n",
       "    }\n",
       "</style>\n",
       "<table border=\"1\" class=\"dataframe\">\n",
       "  <thead>\n",
       "    <tr style=\"text-align: right;\">\n",
       "      <th></th>\n",
       "      <th>Home</th>\n",
       "      <th>Link</th>\n",
       "      <th>Address</th>\n",
       "      <th>city/postal</th>\n",
       "      <th>phone</th>\n",
       "    </tr>\n",
       "  </thead>\n",
       "  <tbody>\n",
       "    <tr>\n",
       "      <th>0</th>\n",
       "      <td>Acropolis Manor</td>\n",
       "      <td>https://www.seniorsadvocatebc.ca/quickfacts/lo...</td>\n",
       "      <td>1325 Summit Avenue</td>\n",
       "      <td>Prince Rupert V8J4C1</td>\n",
       "      <td>(250) 622-6400</td>\n",
       "    </tr>\n",
       "    <tr>\n",
       "      <th>1</th>\n",
       "      <td>Aberdeen Hospital</td>\n",
       "      <td>https://www.seniorsadvocatebc.ca/quickfacts/lo...</td>\n",
       "      <td>1450 Hillside Ave.</td>\n",
       "      <td>Victoria V8T2B7</td>\n",
       "      <td>(250) 370-5648</td>\n",
       "    </tr>\n",
       "    <tr>\n",
       "      <th>2</th>\n",
       "      <td>Adanac Park Lodge</td>\n",
       "      <td>https://www.seniorsadvocatebc.ca/quickfacts/lo...</td>\n",
       "      <td>851 Boundary Road</td>\n",
       "      <td>Vancouver V5K4T2</td>\n",
       "      <td>(604) 299-7567</td>\n",
       "    </tr>\n",
       "    <tr>\n",
       "      <th>3</th>\n",
       "      <td>Acacia Ty Mawr</td>\n",
       "      <td>https://www.seniorsadvocatebc.ca/quickfacts/lo...</td>\n",
       "      <td>2655 E Shawnigan Lake Rd</td>\n",
       "      <td>Shawnigan Lake V0R2W0</td>\n",
       "      <td>(250) 743-2124</td>\n",
       "    </tr>\n",
       "    <tr>\n",
       "      <th>4</th>\n",
       "      <td>Ayre Manor</td>\n",
       "      <td>https://www.seniorsadvocatebc.ca/quickfacts/lo...</td>\n",
       "      <td>6764 Ayre Rd</td>\n",
       "      <td>Sooke V9Z1K1</td>\n",
       "      <td>(250) 642-1750</td>\n",
       "    </tr>\n",
       "    <tr>\n",
       "      <th>...</th>\n",
       "      <td>...</td>\n",
       "      <td>...</td>\n",
       "      <td>...</td>\n",
       "      <td>...</td>\n",
       "      <td>...</td>\n",
       "    </tr>\n",
       "    <tr>\n",
       "      <th>292</th>\n",
       "      <td>Yucalta Lodge</td>\n",
       "      <td>https://www.seniorsadvocatebc.ca/quickfacts/lo...</td>\n",
       "      <td>555 - 2nd Avenue</td>\n",
       "      <td>Campbell River V9W3V1</td>\n",
       "      <td>(250) 850-2900</td>\n",
       "    </tr>\n",
       "    <tr>\n",
       "      <th>293</th>\n",
       "      <td>Youville Residence</td>\n",
       "      <td>https://www.seniorsadvocatebc.ca/quickfacts/lo...</td>\n",
       "      <td>4950 Heather Street</td>\n",
       "      <td>Vancouver V5Z3L9</td>\n",
       "      <td>(604) 261-9371</td>\n",
       "    </tr>\n",
       "    <tr>\n",
       "      <th>294</th>\n",
       "      <td>Yaletown House</td>\n",
       "      <td>https://www.seniorsadvocatebc.ca/quickfacts/lo...</td>\n",
       "      <td>1099 Cambie Street</td>\n",
       "      <td>Vancouver V6B5A8</td>\n",
       "      <td>(604) 689-0022</td>\n",
       "    </tr>\n",
       "    <tr>\n",
       "      <th>295</th>\n",
       "      <td>Wrinch Memorial Hospital</td>\n",
       "      <td>https://www.seniorsadvocatebc.ca/quickfacts/lo...</td>\n",
       "      <td>2510 West Hwy 62</td>\n",
       "      <td>Hazelton V0J1Y0</td>\n",
       "      <td>(250) 842-5211</td>\n",
       "    </tr>\n",
       "    <tr>\n",
       "      <th>296</th>\n",
       "      <td>Zion Park Manor</td>\n",
       "      <td>https://www.seniorsadvocatebc.ca/quickfacts/lo...</td>\n",
       "      <td>5939-180th St</td>\n",
       "      <td>Surrey V3S4L2</td>\n",
       "      <td>(604) 576-2891</td>\n",
       "    </tr>\n",
       "  </tbody>\n",
       "</table>\n",
       "<p>297 rows × 5 columns</p>\n",
       "</div>"
      ],
      "text/plain": [
       "                         Home  \\\n",
       "0             Acropolis Manor   \n",
       "1           Aberdeen Hospital   \n",
       "2           Adanac Park Lodge   \n",
       "3              Acacia Ty Mawr   \n",
       "4                  Ayre Manor   \n",
       "..                        ...   \n",
       "292             Yucalta Lodge   \n",
       "293        Youville Residence   \n",
       "294            Yaletown House   \n",
       "295  Wrinch Memorial Hospital   \n",
       "296           Zion Park Manor   \n",
       "\n",
       "                                                  Link  \\\n",
       "0    https://www.seniorsadvocatebc.ca/quickfacts/lo...   \n",
       "1    https://www.seniorsadvocatebc.ca/quickfacts/lo...   \n",
       "2    https://www.seniorsadvocatebc.ca/quickfacts/lo...   \n",
       "3    https://www.seniorsadvocatebc.ca/quickfacts/lo...   \n",
       "4    https://www.seniorsadvocatebc.ca/quickfacts/lo...   \n",
       "..                                                 ...   \n",
       "292  https://www.seniorsadvocatebc.ca/quickfacts/lo...   \n",
       "293  https://www.seniorsadvocatebc.ca/quickfacts/lo...   \n",
       "294  https://www.seniorsadvocatebc.ca/quickfacts/lo...   \n",
       "295  https://www.seniorsadvocatebc.ca/quickfacts/lo...   \n",
       "296  https://www.seniorsadvocatebc.ca/quickfacts/lo...   \n",
       "\n",
       "                       Address             city/postal            phone  \n",
       "0           1325 Summit Avenue    Prince Rupert V8J4C1   (250) 622-6400  \n",
       "1           1450 Hillside Ave.         Victoria V8T2B7   (250) 370-5648  \n",
       "2            851 Boundary Road        Vancouver V5K4T2   (604) 299-7567  \n",
       "3     2655 E Shawnigan Lake Rd   Shawnigan Lake V0R2W0   (250) 743-2124  \n",
       "4                 6764 Ayre Rd            Sooke V9Z1K1   (250) 642-1750  \n",
       "..                         ...                     ...              ...  \n",
       "292           555 - 2nd Avenue   Campbell River V9W3V1   (250) 850-2900  \n",
       "293        4950 Heather Street        Vancouver V5Z3L9   (604) 261-9371  \n",
       "294         1099 Cambie Street        Vancouver V6B5A8   (604) 689-0022  \n",
       "295           2510 West Hwy 62         Hazelton V0J1Y0   (250) 842-5211  \n",
       "296              5939-180th St           Surrey V3S4L2   (604) 576-2891  \n",
       "\n",
       "[297 rows x 5 columns]"
      ]
     },
     "execution_count": 26,
     "metadata": {},
     "output_type": "execute_result"
    }
   ],
   "source": [
    "ltc"
   ]
  },
  {
   "cell_type": "code",
   "execution_count": 27,
   "metadata": {},
   "outputs": [],
   "source": [
    "ltc.to_csv('../data/bc_ltc.csv')"
   ]
  },
  {
   "cell_type": "markdown",
   "metadata": {},
   "source": [
    "2. **Outbreaks**\n",
    "\n",
    "---\n",
    "\n",
    "***Northern***"
   ]
  },
  {
   "cell_type": "code",
   "execution_count": 247,
   "metadata": {},
   "outputs": [],
   "source": [
    "re = requests.get('https://www.northernhealth.ca/health-topics/current-outbreaks')\n",
    "s = BeautifulSoup(re.text,'html5lib')\n",
    "table =s.find_all('td')"
   ]
  },
  {
   "cell_type": "code",
   "execution_count": 248,
   "metadata": {},
   "outputs": [],
   "source": [
    "d = ['city', 'facility', 'outbreaktype', 'datedeclared']\n",
    "outbreak = {}\n",
    "for each,i in zip(table,d):\n",
    "    outbreak[i] = each.text.strip()"
   ]
  },
  {
   "cell_type": "code",
   "execution_count": 250,
   "metadata": {},
   "outputs": [],
   "source": [
    "northern = pd.DataFrame(outbreak, index = [0])"
   ]
  },
  {
   "cell_type": "markdown",
   "metadata": {},
   "source": [
    "***Interior Health***"
   ]
  },
  {
   "cell_type": "code",
   "execution_count": 103,
   "metadata": {},
   "outputs": [],
   "source": [
    "ih = requests.get('https://www.interiorhealth.ca/YourEnvironment/CommunicableDiseaseControl/Outbreaks/Pages/default.aspx')\n",
    "ih = BeautifulSoup(ih.text,'html5lib')\n",
    "outbreaks = ih.find_all('table')[7]"
   ]
  },
  {
   "cell_type": "code",
   "execution_count": 137,
   "metadata": {},
   "outputs": [
    {
     "data": {
      "text/plain": [
       "'There are no items to show in this view of the \"Outbreaks\" list.'"
      ]
     },
     "execution_count": 137,
     "metadata": {},
     "output_type": "execute_result"
    }
   ],
   "source": [
    "outbreaks.find('td').text"
   ]
  },
  {
   "cell_type": "markdown",
   "metadata": {},
   "source": [
    "***Vancouver Island***"
   ]
  },
  {
   "cell_type": "code",
   "execution_count": 149,
   "metadata": {},
   "outputs": [],
   "source": [
    "vi = requests.get('https://www.healthspace.ca/Clients/VIHA/VIHA_Website.nsf/Outbreak')\n",
    "vi = BeautifulSoup(vi.text,'html5lib')\n",
    "outbreaks = vi.find('td')"
   ]
  },
  {
   "cell_type": "code",
   "execution_count": 150,
   "metadata": {},
   "outputs": [
    {
     "data": {
      "text/plain": [
       "' Currently, there are no reported outbreaks in VIHA hospitals or long term care facilities.'"
      ]
     },
     "execution_count": 150,
     "metadata": {},
     "output_type": "execute_result"
    }
   ],
   "source": [
    "outbreaks.getText()"
   ]
  },
  {
   "cell_type": "markdown",
   "metadata": {},
   "source": [
    "***Vancouver Coastal Health***"
   ]
  },
  {
   "cell_type": "code",
   "execution_count": 266,
   "metadata": {},
   "outputs": [],
   "source": [
    "from PyPDF2 import PdfFileReader\n",
    "import io\n",
    "import re"
   ]
  },
  {
   "cell_type": "code",
   "execution_count": 183,
   "metadata": {},
   "outputs": [],
   "source": [
    "vch = requests.get('http://www.vch.ca/Documents/facility-outbreak-bulletin.pdf')"
   ]
  },
  {
   "cell_type": "code",
   "execution_count": 187,
   "metadata": {},
   "outputs": [
    {
     "name": "stdout",
     "output_type": "stream",
     "text": [
      "Facility Outbreak Bulletin\n",
      "This bulletin lists ongoing and recently ended outbreaks in licensed long-term and acute care\n",
      "facilities throughout Vancouver Coastal Health, as of 03:28 PM, 16-Jul-2020\n",
      "DISEASE\n",
      "LOCATION\n",
      "RESTRICTIONS\n",
      "IMPOSED\n",
      "RESTRICTIONS\n",
      "LIFTED\n",
      "FACILITY\n",
      "COVID-19\n",
      "1081 Burrard Street, Vancouver\n",
      "16-Jul-20\n",
      "St. Paul's Hospital, NICU\n",
      "COVID-19\n",
      "7801 Argyle St, Vancouver\n",
      "09-Jun-20\n",
      "Holy Family Hospital, LTCF (Rehabilitation Unit \n",
      "declared over)\n",
      "COVID-19\n",
      "1645 W 14th Ave, Vancouver\n",
      "12-Apr-20\n",
      "13-Jun-20\n",
      "South Granville Park Lodge\n",
      "COVID-19\n",
      "2444 Burr Pl, North Vancouver\n",
      "30-Mar-20\n",
      "05-Jun-20\n",
      "Berkley Care Centre (formerly Kiwanis Care Centre)\n",
      "Page 1 of 1\n",
      "Red text denotes updates from previously issued bulletin\n",
      "Grey text indicates that restrictions have been lifted\n",
      "Restriction Imposed: \n",
      "Restrictions Lifted: \n",
      "               Date which outbreak measures were introduced\n",
      "            Date which outbreak measures were discontinued\n",
      "\n"
     ]
    }
   ],
   "source": [
    "with io.BytesIO(vch.content) as f:\n",
    "            pdf = PdfFileReader(f)\n",
    "            information = pdf.getDocumentInfo()\n",
    "            pages = pdf.getNumPages()\n",
    "            for i in range(0, pages):\n",
    "                page = pdf.getPage(i)\n",
    "                page_content = page.extractText()           \n",
    "                print(page_content)"
   ]
  },
  {
   "cell_type": "code",
   "execution_count": 564,
   "metadata": {},
   "outputs": [],
   "source": [
    "# replace line breaks with spaces\n",
    "# vch_info = re.sub('\\n', ' ', page_content)"
   ]
  },
  {
   "cell_type": "code",
   "execution_count": 563,
   "metadata": {},
   "outputs": [],
   "source": [
    "# # extract outbreak info only\n",
    "# match = re.findall(r'COVID-19 (.*?)Page [0-9] of [0-9]', vch_info)\n",
    "\n",
    "# # add appropriate linebreaks between info and facilities\n",
    "# def partition(x):\n",
    "#     for row in [match2]:\n",
    "#         m = re.sub('Vancouver', 'Vancouver\\n', row)\n",
    "#         m = m.replace('COVID-19', '\\nCOVID-19\\n')\n",
    "#         m = re.sub('-20', '-20\\n', m)\n",
    "#     print(m)\n",
    "    \n",
    "# partition(match)\n",
    "\n",
    "# # split data\n",
    "# info = m.splitlines()"
   ]
  },
  {
   "cell_type": "code",
   "execution_count": 531,
   "metadata": {},
   "outputs": [],
   "source": [
    "# create a dictionary\n",
    "# keys = ['address', 'city', 'restrictionsimposed', 'restrictionslifted', 'outbreaktype']\n",
    "# vch_dict = {}\n",
    "\n",
    "# for i, k in zip(info, keys):\n",
    "#     vch_dict[k] = i\n",
    "\n",
    "# vch_dict"
   ]
  },
  {
   "cell_type": "markdown",
   "metadata": {},
   "source": [
    "----"
   ]
  },
  {
   "cell_type": "code",
   "execution_count": 536,
   "metadata": {},
   "outputs": [],
   "source": [
    "spl = page_content.split('\\n')"
   ]
  },
  {
   "cell_type": "code",
   "execution_count": 520,
   "metadata": {},
   "outputs": [],
   "source": [
    "spldf = pd.Series(spl)"
   ]
  },
  {
   "cell_type": "code",
   "execution_count": 540,
   "metadata": {},
   "outputs": [
    {
     "data": {
      "text/plain": [
       "10                                             COVID-19\n",
       "11                       1081 Burrard Street, Vancouver\n",
       "12                                            16-Jul-20\n",
       "13                            St. Paul's Hospital, NICU\n",
       "14                                             COVID-19\n",
       "15                            7801 Argyle St, Vancouver\n",
       "16                                            09-Jun-20\n",
       "17     Holy Family Hospital, LTCF (Rehabilitation Unit \n",
       "18                                       declared over)\n",
       "19                                             COVID-19\n",
       "20                           1645 W 14th Ave, Vancouver\n",
       "21                                            12-Apr-20\n",
       "22                                            13-Jun-20\n",
       "23                           South Granville Park Lodge\n",
       "24                                             COVID-19\n",
       "25                        2444 Burr Pl, North Vancouver\n",
       "26                                            30-Mar-20\n",
       "27                                            05-Jun-20\n",
       "28    Berkley Care Centre (formerly Kiwanis Care Cen...\n",
       "dtype: object"
      ]
     },
     "execution_count": 540,
     "metadata": {},
     "output_type": "execute_result"
    }
   ],
   "source": [
    "spldf.iloc[10:29]"
   ]
  },
  {
   "cell_type": "code",
   "execution_count": 560,
   "metadata": {},
   "outputs": [],
   "source": [
    "vch_outbreaks = pd.DataFrame({'info' : spldf.iloc[10:29]})"
   ]
  },
  {
   "cell_type": "code",
   "execution_count": 561,
   "metadata": {},
   "outputs": [],
   "source": [
    "vch_outbreaks['details'] = ['outbreaktype', 'address', 'restrictionsimposed', 'facility',\n",
    "                           'outbreaktype', 'address', 'restrictionsimposed', 'facility', 'status',\n",
    "                           'outbreaktype', 'address', 'restrictionsimposed', 'restrictionslifted', 'facility',\n",
    "                           'outbreaktype', 'address','restrictionsimposed', 'restrictionslifted', 'facility']"
   ]
  },
  {
   "cell_type": "code",
   "execution_count": 562,
   "metadata": {},
   "outputs": [
    {
     "data": {
      "text/html": [
       "<div>\n",
       "<style scoped>\n",
       "    .dataframe tbody tr th:only-of-type {\n",
       "        vertical-align: middle;\n",
       "    }\n",
       "\n",
       "    .dataframe tbody tr th {\n",
       "        vertical-align: top;\n",
       "    }\n",
       "\n",
       "    .dataframe thead th {\n",
       "        text-align: right;\n",
       "    }\n",
       "</style>\n",
       "<table border=\"1\" class=\"dataframe\">\n",
       "  <thead>\n",
       "    <tr style=\"text-align: right;\">\n",
       "      <th></th>\n",
       "      <th>info</th>\n",
       "      <th>details</th>\n",
       "    </tr>\n",
       "  </thead>\n",
       "  <tbody>\n",
       "    <tr>\n",
       "      <th>10</th>\n",
       "      <td>COVID-19</td>\n",
       "      <td>outbreaktype</td>\n",
       "    </tr>\n",
       "    <tr>\n",
       "      <th>11</th>\n",
       "      <td>1081 Burrard Street, Vancouver</td>\n",
       "      <td>address</td>\n",
       "    </tr>\n",
       "    <tr>\n",
       "      <th>12</th>\n",
       "      <td>16-Jul-20</td>\n",
       "      <td>restrictionsimposed</td>\n",
       "    </tr>\n",
       "    <tr>\n",
       "      <th>13</th>\n",
       "      <td>St. Paul's Hospital, NICU</td>\n",
       "      <td>facility</td>\n",
       "    </tr>\n",
       "    <tr>\n",
       "      <th>14</th>\n",
       "      <td>COVID-19</td>\n",
       "      <td>outbreaktype</td>\n",
       "    </tr>\n",
       "    <tr>\n",
       "      <th>15</th>\n",
       "      <td>7801 Argyle St, Vancouver</td>\n",
       "      <td>address</td>\n",
       "    </tr>\n",
       "    <tr>\n",
       "      <th>16</th>\n",
       "      <td>09-Jun-20</td>\n",
       "      <td>restrictionsimposed</td>\n",
       "    </tr>\n",
       "    <tr>\n",
       "      <th>17</th>\n",
       "      <td>Holy Family Hospital, LTCF (Rehabilitation Unit</td>\n",
       "      <td>facility</td>\n",
       "    </tr>\n",
       "    <tr>\n",
       "      <th>18</th>\n",
       "      <td>declared over)</td>\n",
       "      <td>status</td>\n",
       "    </tr>\n",
       "    <tr>\n",
       "      <th>19</th>\n",
       "      <td>COVID-19</td>\n",
       "      <td>outbreaktype</td>\n",
       "    </tr>\n",
       "    <tr>\n",
       "      <th>20</th>\n",
       "      <td>1645 W 14th Ave, Vancouver</td>\n",
       "      <td>address</td>\n",
       "    </tr>\n",
       "    <tr>\n",
       "      <th>21</th>\n",
       "      <td>12-Apr-20</td>\n",
       "      <td>restrictionsimposed</td>\n",
       "    </tr>\n",
       "    <tr>\n",
       "      <th>22</th>\n",
       "      <td>13-Jun-20</td>\n",
       "      <td>restrictionslifted</td>\n",
       "    </tr>\n",
       "    <tr>\n",
       "      <th>23</th>\n",
       "      <td>South Granville Park Lodge</td>\n",
       "      <td>facility</td>\n",
       "    </tr>\n",
       "    <tr>\n",
       "      <th>24</th>\n",
       "      <td>COVID-19</td>\n",
       "      <td>outbreaktype</td>\n",
       "    </tr>\n",
       "    <tr>\n",
       "      <th>25</th>\n",
       "      <td>2444 Burr Pl, North Vancouver</td>\n",
       "      <td>address</td>\n",
       "    </tr>\n",
       "    <tr>\n",
       "      <th>26</th>\n",
       "      <td>30-Mar-20</td>\n",
       "      <td>restrictionsimposed</td>\n",
       "    </tr>\n",
       "    <tr>\n",
       "      <th>27</th>\n",
       "      <td>05-Jun-20</td>\n",
       "      <td>restrictionslifted</td>\n",
       "    </tr>\n",
       "    <tr>\n",
       "      <th>28</th>\n",
       "      <td>Berkley Care Centre (formerly Kiwanis Care Cen...</td>\n",
       "      <td>facility</td>\n",
       "    </tr>\n",
       "  </tbody>\n",
       "</table>\n",
       "</div>"
      ],
      "text/plain": [
       "                                                 info              details\n",
       "10                                           COVID-19         outbreaktype\n",
       "11                     1081 Burrard Street, Vancouver              address\n",
       "12                                          16-Jul-20  restrictionsimposed\n",
       "13                          St. Paul's Hospital, NICU             facility\n",
       "14                                           COVID-19         outbreaktype\n",
       "15                          7801 Argyle St, Vancouver              address\n",
       "16                                          09-Jun-20  restrictionsimposed\n",
       "17   Holy Family Hospital, LTCF (Rehabilitation Unit              facility\n",
       "18                                     declared over)               status\n",
       "19                                           COVID-19         outbreaktype\n",
       "20                         1645 W 14th Ave, Vancouver              address\n",
       "21                                          12-Apr-20  restrictionsimposed\n",
       "22                                          13-Jun-20   restrictionslifted\n",
       "23                         South Granville Park Lodge             facility\n",
       "24                                           COVID-19         outbreaktype\n",
       "25                      2444 Burr Pl, North Vancouver              address\n",
       "26                                          30-Mar-20  restrictionsimposed\n",
       "27                                          05-Jun-20   restrictionslifted\n",
       "28  Berkley Care Centre (formerly Kiwanis Care Cen...             facility"
      ]
     },
     "execution_count": 562,
     "metadata": {},
     "output_type": "execute_result"
    }
   ],
   "source": [
    "vch_outbreaks"
   ]
  },
  {
   "cell_type": "code",
   "execution_count": 573,
   "metadata": {},
   "outputs": [],
   "source": [
    "vch_pivot = vch_outbreaks.pivot_table(values='info',\n",
    "                                     columns='details', \n",
    "                                     aggfunc=lambda x: ','.join(x))"
   ]
  },
  {
   "cell_type": "code",
   "execution_count": 574,
   "metadata": {},
   "outputs": [
    {
     "data": {
      "text/html": [
       "<div>\n",
       "<style scoped>\n",
       "    .dataframe tbody tr th:only-of-type {\n",
       "        vertical-align: middle;\n",
       "    }\n",
       "\n",
       "    .dataframe tbody tr th {\n",
       "        vertical-align: top;\n",
       "    }\n",
       "\n",
       "    .dataframe thead th {\n",
       "        text-align: right;\n",
       "    }\n",
       "</style>\n",
       "<table border=\"1\" class=\"dataframe\">\n",
       "  <thead>\n",
       "    <tr style=\"text-align: right;\">\n",
       "      <th>details</th>\n",
       "      <th>address</th>\n",
       "      <th>facility</th>\n",
       "      <th>outbreaktype</th>\n",
       "      <th>restrictionsimposed</th>\n",
       "      <th>restrictionslifted</th>\n",
       "      <th>status</th>\n",
       "    </tr>\n",
       "  </thead>\n",
       "  <tbody>\n",
       "    <tr>\n",
       "      <th>info</th>\n",
       "      <td>1081 Burrard Street, Vancouver,7801 Argyle St,...</td>\n",
       "      <td>St. Paul's Hospital, NICU,Holy Family Hospital...</td>\n",
       "      <td>COVID-19,COVID-19,COVID-19,COVID-19</td>\n",
       "      <td>16-Jul-20,09-Jun-20,12-Apr-20,30-Mar-20</td>\n",
       "      <td>13-Jun-20,05-Jun-20</td>\n",
       "      <td>declared over)</td>\n",
       "    </tr>\n",
       "  </tbody>\n",
       "</table>\n",
       "</div>"
      ],
      "text/plain": [
       "details                                            address  \\\n",
       "info     1081 Burrard Street, Vancouver,7801 Argyle St,...   \n",
       "\n",
       "details                                           facility  \\\n",
       "info     St. Paul's Hospital, NICU,Holy Family Hospital...   \n",
       "\n",
       "details                         outbreaktype  \\\n",
       "info     COVID-19,COVID-19,COVID-19,COVID-19   \n",
       "\n",
       "details                      restrictionsimposed   restrictionslifted  \\\n",
       "info     16-Jul-20,09-Jun-20,12-Apr-20,30-Mar-20  13-Jun-20,05-Jun-20   \n",
       "\n",
       "details          status  \n",
       "info     declared over)  "
      ]
     },
     "execution_count": 574,
     "metadata": {},
     "output_type": "execute_result"
    }
   ],
   "source": [
    "vch_pivot"
   ]
  },
  {
   "cell_type": "code",
   "execution_count": 575,
   "metadata": {},
   "outputs": [],
   "source": [
    "# vanccoastal = pd.DataFrame(vch_dict, index=[0])"
   ]
  },
  {
   "cell_type": "markdown",
   "metadata": {},
   "source": [
    "***Fraser***"
   ]
  },
  {
   "cell_type": "code",
   "execution_count": 232,
   "metadata": {},
   "outputs": [],
   "source": [
    "f = requests.get('https://www.fraserhealth.ca/patients-and-visitors/current-outbreaks#.XxiKNy0ZNQI')\n",
    "fraser = BeautifulSoup(f.text,'html5lib')\n",
    "table = fraser.find_all('td')"
   ]
  },
  {
   "cell_type": "code",
   "execution_count": 243,
   "metadata": {},
   "outputs": [],
   "source": [
    "d = ['datedeclared', 'facility', 'facilitytype', 'unit', 'outbreaktype']\n",
    "outbreaks = {}\n",
    "for td,k in zip(table,d):\n",
    "    try:\n",
    "        outbreaks[k] = td.find('h5').text.strip()\n",
    "    except AttributeError:\n",
    "        pass"
   ]
  },
  {
   "cell_type": "code",
   "execution_count": 244,
   "metadata": {},
   "outputs": [
    {
     "data": {
      "text/plain": [
       "{'datedeclared': 'June 16, 2020',\n",
       " 'facility': 'Mission Memorial Hospital',\n",
       " 'facilitytype': 'Hospital',\n",
       " 'unit': '',\n",
       " 'outbreaktype': 'COVID-19'}"
      ]
     },
     "execution_count": 244,
     "metadata": {},
     "output_type": "execute_result"
    }
   ],
   "source": [
    "outbreaks"
   ]
  },
  {
   "cell_type": "code",
   "execution_count": 251,
   "metadata": {},
   "outputs": [],
   "source": [
    "fraser = pd.DataFrame(outbreaks, index = [0])"
   ]
  },
  {
   "cell_type": "markdown",
   "metadata": {},
   "source": [
    "### Merge facilities"
   ]
  },
  {
   "cell_type": "code",
   "execution_count": 576,
   "metadata": {},
   "outputs": [],
   "source": [
    "merge1 = pd.merge(northern, fraser, how = 'outer')"
   ]
  },
  {
   "cell_type": "code",
   "execution_count": 577,
   "metadata": {},
   "outputs": [],
   "source": [
    "merge2 = pd.merge(merge1, vch_pivot, how = 'outer')"
   ]
  },
  {
   "cell_type": "code",
   "execution_count": 578,
   "metadata": {},
   "outputs": [
    {
     "data": {
      "text/html": [
       "<div>\n",
       "<style scoped>\n",
       "    .dataframe tbody tr th:only-of-type {\n",
       "        vertical-align: middle;\n",
       "    }\n",
       "\n",
       "    .dataframe tbody tr th {\n",
       "        vertical-align: top;\n",
       "    }\n",
       "\n",
       "    .dataframe thead th {\n",
       "        text-align: right;\n",
       "    }\n",
       "</style>\n",
       "<table border=\"1\" class=\"dataframe\">\n",
       "  <thead>\n",
       "    <tr style=\"text-align: right;\">\n",
       "      <th></th>\n",
       "      <th>city</th>\n",
       "      <th>facility</th>\n",
       "      <th>outbreaktype</th>\n",
       "      <th>datedeclared</th>\n",
       "      <th>facilitytype</th>\n",
       "      <th>unit</th>\n",
       "      <th>address</th>\n",
       "      <th>restrictionsimposed</th>\n",
       "      <th>restrictionslifted</th>\n",
       "      <th>status</th>\n",
       "    </tr>\n",
       "  </thead>\n",
       "  <tbody>\n",
       "    <tr>\n",
       "      <th>0</th>\n",
       "      <td>Terrace</td>\n",
       "      <td>Terraceview Lodge - Lakelse Unit</td>\n",
       "      <td>Respiratory Illness</td>\n",
       "      <td>April 9, 2020\\n\\n\\t\\t\\tDeclared over: April 13...</td>\n",
       "      <td>NaN</td>\n",
       "      <td>NaN</td>\n",
       "      <td>NaN</td>\n",
       "      <td>NaN</td>\n",
       "      <td>NaN</td>\n",
       "      <td>NaN</td>\n",
       "    </tr>\n",
       "    <tr>\n",
       "      <th>1</th>\n",
       "      <td>NaN</td>\n",
       "      <td>Mission Memorial Hospital</td>\n",
       "      <td>COVID-19</td>\n",
       "      <td>June 16, 2020</td>\n",
       "      <td>Hospital</td>\n",
       "      <td></td>\n",
       "      <td>NaN</td>\n",
       "      <td>NaN</td>\n",
       "      <td>NaN</td>\n",
       "      <td>NaN</td>\n",
       "    </tr>\n",
       "    <tr>\n",
       "      <th>2</th>\n",
       "      <td>NaN</td>\n",
       "      <td>St. Paul's Hospital, NICU,Holy Family Hospital...</td>\n",
       "      <td>COVID-19,COVID-19,COVID-19,COVID-19</td>\n",
       "      <td>NaN</td>\n",
       "      <td>NaN</td>\n",
       "      <td>NaN</td>\n",
       "      <td>1081 Burrard Street, Vancouver,7801 Argyle St,...</td>\n",
       "      <td>16-Jul-20,09-Jun-20,12-Apr-20,30-Mar-20</td>\n",
       "      <td>13-Jun-20,05-Jun-20</td>\n",
       "      <td>declared over)</td>\n",
       "    </tr>\n",
       "  </tbody>\n",
       "</table>\n",
       "</div>"
      ],
      "text/plain": [
       "      city                                           facility  \\\n",
       "0  Terrace                   Terraceview Lodge - Lakelse Unit   \n",
       "1      NaN                          Mission Memorial Hospital   \n",
       "2      NaN  St. Paul's Hospital, NICU,Holy Family Hospital...   \n",
       "\n",
       "                          outbreaktype  \\\n",
       "0                  Respiratory Illness   \n",
       "1                             COVID-19   \n",
       "2  COVID-19,COVID-19,COVID-19,COVID-19   \n",
       "\n",
       "                                        datedeclared facilitytype unit  \\\n",
       "0  April 9, 2020\\n\\n\\t\\t\\tDeclared over: April 13...          NaN  NaN   \n",
       "1                                      June 16, 2020     Hospital        \n",
       "2                                                NaN          NaN  NaN   \n",
       "\n",
       "                                             address  \\\n",
       "0                                                NaN   \n",
       "1                                                NaN   \n",
       "2  1081 Burrard Street, Vancouver,7801 Argyle St,...   \n",
       "\n",
       "                       restrictionsimposed   restrictionslifted  \\\n",
       "0                                      NaN                  NaN   \n",
       "1                                      NaN                  NaN   \n",
       "2  16-Jul-20,09-Jun-20,12-Apr-20,30-Mar-20  13-Jun-20,05-Jun-20   \n",
       "\n",
       "           status  \n",
       "0             NaN  \n",
       "1             NaN  \n",
       "2  declared over)  "
      ]
     },
     "execution_count": 578,
     "metadata": {},
     "output_type": "execute_result"
    }
   ],
   "source": [
    "merge2"
   ]
  },
  {
   "cell_type": "markdown",
   "metadata": {},
   "source": [
    "# Caveats:\n",
    "\n",
    "1. VCH outbreak status is colour coded and requires custom scripts for each new outbreak"
   ]
  },
  {
   "cell_type": "code",
   "execution_count": null,
   "metadata": {},
   "outputs": [],
   "source": []
  }
 ],
 "metadata": {
  "kernelspec": {
   "display_name": "Python 3",
   "language": "python",
   "name": "python3"
  },
  "language_info": {
   "codemirror_mode": {
    "name": "ipython",
    "version": 3
   },
   "file_extension": ".py",
   "mimetype": "text/x-python",
   "name": "python",
   "nbconvert_exporter": "python",
   "pygments_lexer": "ipython3",
   "version": "3.7.4"
  }
 },
 "nbformat": 4,
 "nbformat_minor": 4
}
