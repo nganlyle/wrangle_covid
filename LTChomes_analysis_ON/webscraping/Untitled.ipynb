{
 "cells": [
  {
   "cell_type": "code",
   "execution_count": 28,
   "metadata": {},
   "outputs": [],
   "source": [
    "import pandas as pd\n",
    "pd.set_option('display.max_rows', None)\n",
    "pd.set_option('display.max_columns', None)\n",
    "pd.set_option('display.width', None)\n",
    "pd.set_option('display.max_colwidth', -1)\n",
    "\n",
    "import matplotlib.pyplot as plt\n"
   ]
  },
  {
   "cell_type": "code",
   "execution_count": 15,
   "metadata": {},
   "outputs": [
    {
     "name": "stdout",
     "output_type": "stream",
     "text": [
      "<class 'pandas.core.frame.DataFrame'>\n",
      "RangeIndex: 152 entries, 0 to 151\n",
      "Data columns (total 7 columns):\n",
      "Report_Data_Extracted                  152 non-null datetime64[ns]\n",
      "LTC_Homes_with_Active_Outbreak         152 non-null int64\n",
      "LTC_Homes_with_Resolved_Outbreak       152 non-null int64\n",
      "Confirmed_Active_LTC_Resident_Cases    152 non-null object\n",
      "Confirmed_Active_LTC_HCW_Cases         152 non-null float64\n",
      "Total_LTC_Resident_Deaths              152 non-null int64\n",
      "Total_LTC_HCW_Deaths                   152 non-null object\n",
      "dtypes: datetime64[ns](1), float64(1), int64(3), object(2)\n",
      "memory usage: 8.4+ KB\n"
     ]
    },
    {
     "data": {
      "text/html": [
       "<div>\n",
       "<style scoped>\n",
       "    .dataframe tbody tr th:only-of-type {\n",
       "        vertical-align: middle;\n",
       "    }\n",
       "\n",
       "    .dataframe tbody tr th {\n",
       "        vertical-align: top;\n",
       "    }\n",
       "\n",
       "    .dataframe thead th {\n",
       "        text-align: right;\n",
       "    }\n",
       "</style>\n",
       "<table border=\"1\" class=\"dataframe\">\n",
       "  <thead>\n",
       "    <tr style=\"text-align: right;\">\n",
       "      <th></th>\n",
       "      <th>Report_Data_Extracted</th>\n",
       "      <th>LTC_Homes_with_Active_Outbreak</th>\n",
       "      <th>LTC_Homes_with_Resolved_Outbreak</th>\n",
       "      <th>Confirmed_Active_LTC_Resident_Cases</th>\n",
       "      <th>Confirmed_Active_LTC_HCW_Cases</th>\n",
       "      <th>Total_LTC_Resident_Deaths</th>\n",
       "      <th>Total_LTC_HCW_Deaths</th>\n",
       "    </tr>\n",
       "  </thead>\n",
       "  <tbody>\n",
       "    <tr>\n",
       "      <th>0</th>\n",
       "      <td>2020-04-24</td>\n",
       "      <td>145</td>\n",
       "      <td>31</td>\n",
       "      <td>2455.0</td>\n",
       "      <td>1120.0</td>\n",
       "      <td>625</td>\n",
       "      <td>&lt;5</td>\n",
       "    </tr>\n",
       "    <tr>\n",
       "      <th>1</th>\n",
       "      <td>2020-04-25</td>\n",
       "      <td>147</td>\n",
       "      <td>31</td>\n",
       "      <td>2520.0</td>\n",
       "      <td>1161.0</td>\n",
       "      <td>654</td>\n",
       "      <td>&lt;5</td>\n",
       "    </tr>\n",
       "    <tr>\n",
       "      <th>2</th>\n",
       "      <td>2020-04-26</td>\n",
       "      <td>150</td>\n",
       "      <td>32</td>\n",
       "      <td>2523.0</td>\n",
       "      <td>1187.0</td>\n",
       "      <td>671</td>\n",
       "      <td>&lt;5</td>\n",
       "    </tr>\n",
       "    <tr>\n",
       "      <th>3</th>\n",
       "      <td>2020-04-27</td>\n",
       "      <td>154</td>\n",
       "      <td>34</td>\n",
       "      <td>2491.0</td>\n",
       "      <td>1205.0</td>\n",
       "      <td>705</td>\n",
       "      <td>&lt;5</td>\n",
       "    </tr>\n",
       "    <tr>\n",
       "      <th>4</th>\n",
       "      <td>2020-04-28</td>\n",
       "      <td>159</td>\n",
       "      <td>34</td>\n",
       "      <td>2632.0</td>\n",
       "      <td>1361.0</td>\n",
       "      <td>775</td>\n",
       "      <td>&lt;5</td>\n",
       "    </tr>\n",
       "  </tbody>\n",
       "</table>\n",
       "</div>"
      ],
      "text/plain": [
       "  Report_Data_Extracted  LTC_Homes_with_Active_Outbreak  \\\n",
       "0 2020-04-24             145                              \n",
       "1 2020-04-25             147                              \n",
       "2 2020-04-26             150                              \n",
       "3 2020-04-27             154                              \n",
       "4 2020-04-28             159                              \n",
       "\n",
       "   LTC_Homes_with_Resolved_Outbreak Confirmed_Active_LTC_Resident_Cases  \\\n",
       "0  31                                2455.0                               \n",
       "1  31                                2520.0                               \n",
       "2  32                                2523.0                               \n",
       "3  34                                2491.0                               \n",
       "4  34                                2632.0                               \n",
       "\n",
       "   Confirmed_Active_LTC_HCW_Cases  Total_LTC_Resident_Deaths  \\\n",
       "0  1120.0                          625                         \n",
       "1  1161.0                          654                         \n",
       "2  1187.0                          671                         \n",
       "3  1205.0                          705                         \n",
       "4  1361.0                          775                         \n",
       "\n",
       "  Total_LTC_HCW_Deaths  \n",
       "0  <5                   \n",
       "1  <5                   \n",
       "2  <5                   \n",
       "3  <5                   \n",
       "4  <5                   "
      ]
     },
     "execution_count": 15,
     "metadata": {},
     "output_type": "execute_result"
    }
   ],
   "source": [
    "df = pd.read_csv('sep22/ltccovidsummary.csv')\n",
    "df['Report_Data_Extracted'] = pd.to_datetime(df['Report_Data_Extracted'])\n",
    "df.info()\n",
    "df.head()"
   ]
  },
  {
   "cell_type": "code",
   "execution_count": 25,
   "metadata": {},
   "outputs": [
    {
     "name": "stdout",
     "output_type": "stream",
     "text": [
      "<class 'pandas.core.frame.DataFrame'>\n",
      "RangeIndex: 152 entries, 0 to 151\n",
      "Data columns (total 7 columns):\n",
      "Report_Data_Extracted                  152 non-null datetime64[ns]\n",
      "LTC_Homes_with_Active_Outbreak         152 non-null int64\n",
      "LTC_Homes_with_Resolved_Outbreak       152 non-null int64\n",
      "Confirmed_Active_LTC_Resident_Cases    152 non-null float64\n",
      "Confirmed_Active_LTC_HCW_Cases         152 non-null float64\n",
      "Total_LTC_Resident_Deaths              152 non-null int64\n",
      "Total_LTC_HCW_Deaths                   152 non-null int64\n",
      "dtypes: datetime64[ns](1), float64(2), int64(4)\n",
      "memory usage: 8.4 KB\n"
     ]
    }
   ],
   "source": [
    "# df['Total_LTC_HCW_Deaths'].value_counts()\n",
    "ls = ['Confirmed_Active_LTC_Resident_Cases','Total_LTC_HCW_Deaths']\n",
    "for each in ls:\n",
    "    df[each].replace({\"<5\": 1}, inplace=True)\n",
    "    df[each] = pd.to_numeric(df[each])\n",
    "\n",
    "df.info()"
   ]
  },
  {
   "cell_type": "code",
   "execution_count": 37,
   "metadata": {},
   "outputs": [
    {
     "data": {
      "text/plain": [
       "<matplotlib.legend.Legend at 0x122df3400>"
      ]
     },
     "execution_count": 37,
     "metadata": {},
     "output_type": "execute_result"
    },
    {
     "data": {
      "image/png": "[encoded data removed]",
      "text/plain": [
       "<Figure size 432x288 with 1 Axes>"
      ]
     },
     "metadata": {
      "needs_background": "light"
     },
     "output_type": "display_data"
    }
   ],
   "source": [
    "plt.plot( 'Report_Data_Extracted', 'LTC_Homes_with_Active_Outbreak', data=df, marker='', color='olive', linewidth=2)\n",
    "plt.plot( 'Report_Data_Extracted', 'LTC_Homes_with_Resolved_Outbreak', data=df, marker='', color='olive', linewidth=2, linestyle='dashed')\n",
    "plt.legend()\n"
   ]
  },
  {
   "cell_type": "code",
   "execution_count": 39,
   "metadata": {},
   "outputs": [
    {
     "data": {
      "text/plain": [
       "<matplotlib.legend.Legend at 0x122f107f0>"
      ]
     },
     "execution_count": 39,
     "metadata": {},
     "output_type": "execute_result"
    },
    {
     "data": {
      "image/png": "[encoded data removed]",
      "text/plain": [
       "<Figure size 432x288 with 1 Axes>"
      ]
     },
     "metadata": {
      "needs_background": "light"
     },
     "output_type": "display_data"
    }
   ],
   "source": [
    "plt.plot( 'Report_Data_Extracted', 'Confirmed_Active_LTC_Resident_Cases', data=df, marker='', color='olive', linewidth=2)\n",
    "plt.plot( 'Report_Data_Extracted', 'Confirmed_Active_LTC_HCW_Cases', data=df, marker='', color='olive', linewidth=2, linestyle='dashed')\n",
    "# plt.plot( 'Report_Data_Extracted', 'LTC_Homes_with_Resolved_Outbreak', data=df, marker='', color='olive', linewidth=2)\n",
    "plt.legend()"
   ]
  },
  {
   "cell_type": "code",
   "execution_count": 40,
   "metadata": {},
   "outputs": [
    {
     "data": {
      "text/plain": [
       "<matplotlib.legend.Legend at 0x122f6f5c0>"
      ]
     },
     "execution_count": 40,
     "metadata": {},
     "output_type": "execute_result"
    },
    {
     "data": {
      "image/png": "[encoded data removed]",
      "text/plain": [
       "<Figure size 432x288 with 1 Axes>"
      ]
     },
     "metadata": {
      "needs_background": "light"
     },
     "output_type": "display_data"
    }
   ],
   "source": [
    "# plt.plot( 'Report_Data_Extracted', 'Total_LTC_Resident_Deaths', data=df, marker='', color='olive', linewidth=2, linestyle='dashed', label=\"toto\")\n",
    "plt.plot( 'Report_Data_Extracted', 'Total_LTC_HCW_Deaths', data=df, marker='', color='olive', linewidth=2, linestyle='dashed')\n",
    "plt.plot( 'Report_Data_Extracted', 'Total_LTC_Resident_Deaths', data=df, marker='', color='olive', linewidth=2)\n",
    "plt.legend()\n"
   ]
  },
  {
   "cell_type": "code",
   "execution_count": 43,
   "metadata": {},
   "outputs": [
    {
     "name": "stdout",
     "output_type": "stream",
     "text": [
      "<class 'pandas.core.frame.DataFrame'>\n",
      "RangeIndex: 9786 entries, 0 to 9785\n",
      "Data columns (total 7 columns):\n",
      "Report_Data_Extracted        9786 non-null object\n",
      "LTC_Home                     9786 non-null object\n",
      "LTC_City                     0 non-null float64\n",
      "Beds                         9785 non-null float64\n",
      "Total_LTC_Resident_Cases     9786 non-null object\n",
      "Total_LTC_Resident_Deaths    9786 non-null object\n",
      "Total_LTC_HCW_Cases          9785 non-null object\n",
      "dtypes: float64(2), object(5)\n",
      "memory usage: 535.2+ KB\n"
     ]
    },
    {
     "data": {
      "text/html": [
       "<div>\n",
       "<style scoped>\n",
       "    .dataframe tbody tr th:only-of-type {\n",
       "        vertical-align: middle;\n",
       "    }\n",
       "\n",
       "    .dataframe tbody tr th {\n",
       "        vertical-align: top;\n",
       "    }\n",
       "\n",
       "    .dataframe thead th {\n",
       "        text-align: right;\n",
       "    }\n",
       "</style>\n",
       "<table border=\"1\" class=\"dataframe\">\n",
       "  <thead>\n",
       "    <tr style=\"text-align: right;\">\n",
       "      <th></th>\n",
       "      <th>Report_Data_Extracted</th>\n",
       "      <th>LTC_Home</th>\n",
       "      <th>LTC_City</th>\n",
       "      <th>Beds</th>\n",
       "      <th>Total_LTC_Resident_Cases</th>\n",
       "      <th>Total_LTC_Resident_Deaths</th>\n",
       "      <th>Total_LTC_HCW_Cases</th>\n",
       "    </tr>\n",
       "  </thead>\n",
       "  <tbody>\n",
       "    <tr>\n",
       "      <th>0</th>\n",
       "      <td>2020-04-24</td>\n",
       "      <td>Albright Gardens Homes, Incorporated</td>\n",
       "      <td>NaN</td>\n",
       "      <td>231.0</td>\n",
       "      <td>&lt;5</td>\n",
       "      <td>0</td>\n",
       "      <td>&lt;5</td>\n",
       "    </tr>\n",
       "    <tr>\n",
       "      <th>1</th>\n",
       "      <td>2020-04-24</td>\n",
       "      <td>Almonte Country Haven</td>\n",
       "      <td>NaN</td>\n",
       "      <td>82.0</td>\n",
       "      <td>44.0</td>\n",
       "      <td>25</td>\n",
       "      <td>17.0</td>\n",
       "    </tr>\n",
       "    <tr>\n",
       "      <th>2</th>\n",
       "      <td>2020-04-24</td>\n",
       "      <td>Altamont Care Community</td>\n",
       "      <td>NaN</td>\n",
       "      <td>159.0</td>\n",
       "      <td>125.0</td>\n",
       "      <td>32</td>\n",
       "      <td>45.0</td>\n",
       "    </tr>\n",
       "    <tr>\n",
       "      <th>3</th>\n",
       "      <td>2020-04-24</td>\n",
       "      <td>Anson Place Care Centre</td>\n",
       "      <td>NaN</td>\n",
       "      <td>61.0</td>\n",
       "      <td>28.0</td>\n",
       "      <td>23</td>\n",
       "      <td>33.0</td>\n",
       "    </tr>\n",
       "    <tr>\n",
       "      <th>4</th>\n",
       "      <td>2020-04-24</td>\n",
       "      <td>Bay Ridges</td>\n",
       "      <td>NaN</td>\n",
       "      <td>124.0</td>\n",
       "      <td>0.0</td>\n",
       "      <td>0</td>\n",
       "      <td>&lt;5</td>\n",
       "    </tr>\n",
       "  </tbody>\n",
       "</table>\n",
       "</div>"
      ],
      "text/plain": [
       "  Report_Data_Extracted                              LTC_Home  LTC_City  \\\n",
       "0  2020-04-24            Albright Gardens Homes, Incorporated NaN         \n",
       "1  2020-04-24            Almonte Country Haven                NaN         \n",
       "2  2020-04-24            Altamont Care Community              NaN         \n",
       "3  2020-04-24            Anson Place Care Centre              NaN         \n",
       "4  2020-04-24            Bay Ridges                           NaN         \n",
       "\n",
       "    Beds Total_LTC_Resident_Cases Total_LTC_Resident_Deaths  \\\n",
       "0  231.0  <5                       0                          \n",
       "1  82.0   44.0                     25                         \n",
       "2  159.0  125.0                    32                         \n",
       "3  61.0   28.0                     23                         \n",
       "4  124.0  0.0                      0                          \n",
       "\n",
       "  Total_LTC_HCW_Cases  \n",
       "0  <5                  \n",
       "1  17.0                \n",
       "2  45.0                \n",
       "3  33.0                \n",
       "4  <5                  "
      ]
     },
     "execution_count": 43,
     "metadata": {},
     "output_type": "execute_result"
    }
   ],
   "source": [
    "df = pd.read_csv('sep22/activeltcoutbreak.csv')\n",
    "df.info()\n",
    "df.head()\n"
   ]
  },
  {
   "cell_type": "code",
   "execution_count": 45,
   "metadata": {},
   "outputs": [
    {
     "name": "stdout",
     "output_type": "stream",
     "text": [
      "<class 'pandas.core.frame.DataFrame'>\n",
      "RangeIndex: 36387 entries, 0 to 36386\n",
      "Data columns (total 5 columns):\n",
      "Report_Data_Extracted        36387 non-null object\n",
      "LTC_Home                     36387 non-null object\n",
      "City                         36387 non-null object\n",
      "Beds                         36386 non-null object\n",
      "Total_LTC_Resident_Deaths    36387 non-null object\n",
      "dtypes: object(5)\n",
      "memory usage: 1.4+ MB\n"
     ]
    },
    {
     "data": {
      "text/html": [
       "<div>\n",
       "<style scoped>\n",
       "    .dataframe tbody tr th:only-of-type {\n",
       "        vertical-align: middle;\n",
       "    }\n",
       "\n",
       "    .dataframe tbody tr th {\n",
       "        vertical-align: top;\n",
       "    }\n",
       "\n",
       "    .dataframe thead th {\n",
       "        text-align: right;\n",
       "    }\n",
       "</style>\n",
       "<table border=\"1\" class=\"dataframe\">\n",
       "  <thead>\n",
       "    <tr style=\"text-align: right;\">\n",
       "      <th></th>\n",
       "      <th>Report_Data_Extracted</th>\n",
       "      <th>LTC_Home</th>\n",
       "      <th>City</th>\n",
       "      <th>Beds</th>\n",
       "      <th>Total_LTC_Resident_Deaths</th>\n",
       "    </tr>\n",
       "  </thead>\n",
       "  <tbody>\n",
       "    <tr>\n",
       "      <th>0</th>\n",
       "      <td>2020-04-24</td>\n",
       "      <td>Allendale</td>\n",
       "      <td>Milton</td>\n",
       "      <td>200.0</td>\n",
       "      <td>0</td>\n",
       "    </tr>\n",
       "    <tr>\n",
       "      <th>1</th>\n",
       "      <td>2020-04-24</td>\n",
       "      <td>Chartwell Westmount Long Term Care Residence</td>\n",
       "      <td>Kitchener</td>\n",
       "      <td>160.0</td>\n",
       "      <td>0</td>\n",
       "    </tr>\n",
       "    <tr>\n",
       "      <th>2</th>\n",
       "      <td>2020-04-24</td>\n",
       "      <td>Chelsey Park</td>\n",
       "      <td>London</td>\n",
       "      <td>247.0</td>\n",
       "      <td>0</td>\n",
       "    </tr>\n",
       "    <tr>\n",
       "      <th>3</th>\n",
       "      <td>2020-04-24</td>\n",
       "      <td>Chester Village</td>\n",
       "      <td>Toronto</td>\n",
       "      <td>203.0</td>\n",
       "      <td>0</td>\n",
       "    </tr>\n",
       "    <tr>\n",
       "      <th>4</th>\n",
       "      <td>2020-04-24</td>\n",
       "      <td>Clarion Nursing Home</td>\n",
       "      <td>Stoney Creek</td>\n",
       "      <td>100.0</td>\n",
       "      <td>0</td>\n",
       "    </tr>\n",
       "  </tbody>\n",
       "</table>\n",
       "</div>"
      ],
      "text/plain": [
       "  Report_Data_Extracted                                      LTC_Home  \\\n",
       "0  2020-04-24            Allendale                                      \n",
       "1  2020-04-24            Chartwell Westmount Long Term Care Residence   \n",
       "2  2020-04-24            Chelsey Park                                   \n",
       "3  2020-04-24            Chester Village                                \n",
       "4  2020-04-24            Clarion Nursing Home                           \n",
       "\n",
       "           City   Beds Total_LTC_Resident_Deaths  \n",
       "0  Milton        200.0  0                         \n",
       "1  Kitchener     160.0  0                         \n",
       "2  London        247.0  0                         \n",
       "3  Toronto       203.0  0                         \n",
       "4  Stoney Creek  100.0  0                         "
      ]
     },
     "execution_count": 45,
     "metadata": {},
     "output_type": "execute_result"
    }
   ],
   "source": [
    "df = pd.read_csv('sep22/resolvedltc.csv')\n",
    "df.info()\n",
    "df.head()"
   ]
  }
 ],
 "metadata": {
  "kernelspec": {
   "display_name": "Python 3",
   "language": "python",
   "name": "python3"
  },
  "language_info": {
   "codemirror_mode": {
    "name": "ipython",
    "version": 3
   },
   "file_extension": ".py",
   "mimetype": "text/x-python",
   "name": "python",
   "nbconvert_exporter": "python",
   "pygments_lexer": "ipython3",
   "version": "3.7.0"
  }
 },
 "nbformat": 4,
 "nbformat_minor": 2
}
