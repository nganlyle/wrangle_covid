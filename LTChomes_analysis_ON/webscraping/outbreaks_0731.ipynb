{
 "cells": [
  {
   "cell_type": "markdown",
   "metadata": {},
   "source": [
    "CSVs retrieved from: https://data.ontario.ca/dataset/long-term-care-home-covid-19-data"
   ]
  },
  {
   "cell_type": "code",
   "execution_count": 37,
   "metadata": {},
   "outputs": [
    {
     "name": "stderr",
     "output_type": "stream",
     "text": [
      "<ipython-input-37-6a8003fe56c4>:5: FutureWarning: Passing a negative integer is deprecated in version 1.0 and will not be supported in future version. Instead, use None to not limit the column width.\n",
      "  pd.set_option('display.max_colwidth', -1)\n"
     ]
    }
   ],
   "source": [
    "import pandas as pd\n",
    "pd.set_option('display.max_rows', None)\n",
    "pd.set_option('display.max_columns', None)\n",
    "pd.set_option('display.width', None)\n",
    "pd.set_option('display.max_colwidth', -1)\n",
    "\n",
    "import numpy as np"
   ]
  },
  {
   "cell_type": "markdown",
   "metadata": {},
   "source": [
    "## Import, filter for dates up to Aug 1 and sort"
   ]
  },
  {
   "cell_type": "code",
   "execution_count": 2,
   "metadata": {},
   "outputs": [
    {
     "name": "stdout",
     "output_type": "stream",
     "text": [
      "<class 'pandas.core.frame.DataFrame'>\n",
      "Int64Index: 8933 entries, 7738 to 8917\n",
      "Data columns (total 7 columns):\n",
      " #   Column                     Non-Null Count  Dtype         \n",
      "---  ------                     --------------  -----         \n",
      " 0   LTC_Home                   8933 non-null   object        \n",
      " 1   LTC_City                   0 non-null      float64       \n",
      " 2   Beds                       8932 non-null   float64       \n",
      " 3   Total_LTC_Resident_Cases   8933 non-null   object        \n",
      " 4   Total_LTC_Resident_Deaths  8933 non-null   object        \n",
      " 5   Total_LTC_HCW_Cases        8932 non-null   object        \n",
      " 6   Report_Data_Extracted      8933 non-null   datetime64[ns]\n",
      "dtypes: datetime64[ns](1), float64(2), object(4)\n",
      "memory usage: 558.3+ KB\n",
      "<class 'pandas.core.frame.DataFrame'>\n",
      "Int64Index: 19532 entries, 11687 to 18995\n",
      "Data columns (total 5 columns):\n",
      " #   Column                     Non-Null Count  Dtype         \n",
      "---  ------                     --------------  -----         \n",
      " 0   LTC_Home                   19532 non-null  object        \n",
      " 1   City                       19532 non-null  object        \n",
      " 2   Beds                       19532 non-null  object        \n",
      " 3   Total_LTC_Resident_Deaths  19532 non-null  object        \n",
      " 4   Report_Data_Extracted      19532 non-null  datetime64[ns]\n",
      "dtypes: datetime64[ns](1), object(4)\n",
      "memory usage: 915.6+ KB\n"
     ]
    }
   ],
   "source": [
    "# active = pd.read_csv(\"https://data.ontario.ca/datastore/dump/4b64488a-0523-4ebb-811a-fac2f07e6d59?bom=True\")\n",
    "# inactive = pd.read_csv(\"https://data.ontario.ca/dataset/42df36df-04a0-43a9-8ad4-fac5e0e22244/resource/0cf2f01e-d4e1-48ed-8027-2133d059ec8b/download/resolvedltc.csv\")\n",
    "\n",
    "# Import active and resolved csv, filter for dates up to Aug 1 and sort by LTC home then date\n",
    "active = pd.read_csv('activeltcoutbreak_oct8.csv')\n",
    "active['Report_Data_Extracted'] = pd.to_datetime(active['ï»¿Report_Data_Extracted'])\n",
    "active.drop('ï»¿Report_Data_Extracted', axis = 1, inplace = True)\n",
    "active = active[active.Report_Data_Extracted < '2020-08-01']\n",
    "# active['LTC_Home'] = active['LTC_Home'].str.lower()\n",
    "active.sort_values(['LTC_Home', 'Report_Data_Extracted'], inplace=True)\n",
    "active.info()\n",
    "\n",
    "resolved = pd.read_csv('resolvedltc_oct8.csv')\n",
    "resolved['Report_Data_Extracted'] = pd.to_datetime(resolved['ï»¿Report_Data_Extracted'])\n",
    "resolved.drop('ï»¿Report_Data_Extracted', axis = 1, inplace = True)\n",
    "resolved = resolved[resolved.Report_Data_Extracted < '2020-08-01']\n",
    "# resolved['LTC_Home'] = resolved['LTC_Home'].str.lower()\n",
    "resolved.sort_values(['LTC_Home', 'Report_Data_Extracted'], inplace=True)\n",
    "resolved.info()"
   ]
  },
  {
   "cell_type": "markdown",
   "metadata": {},
   "source": [
    "## Clean"
   ]
  },
  {
   "cell_type": "code",
   "execution_count": 3,
   "metadata": {},
   "outputs": [],
   "source": [
    "# Drop LTC_City as this column has no data\n",
    "active.drop('LTC_City', axis=1, inplace=True)"
   ]
  },
  {
   "cell_type": "code",
   "execution_count": 4,
   "metadata": {},
   "outputs": [],
   "source": [
    "# One row (229) in active with missing Total_LTC_HCW_Cases value, for meadow park (london)\n",
    "# active[active['Total_LTC_HCW_Cases'].isnull()]\n",
    "\n",
    "# As the Total_LTC_HCW_Cases is 0 the day before and the day after, will impute 0\n",
    "active.at[229, 'Total_LTC_HCW_Cases'] = 0\n",
    "\n",
    "# active[active['LTC_Home'] == 'meadow park (london)'] "
   ]
  },
  {
   "cell_type": "code",
   "execution_count": 5,
   "metadata": {},
   "outputs": [],
   "source": [
    "# One row(2920) in active with missing Beds value, for north park nursing home\n",
    "# active[active['Beds'].isnull()]\n",
    "\n",
    "\n",
    "# As Beds is 75 in all the other rows for this nursing home, will impute 75\n",
    "active.at[2920, 'Beds'] = 75\n",
    "# active[active['LTC_Home'] == 'north park nursing home'] "
   ]
  },
  {
   "cell_type": "markdown",
   "metadata": {},
   "source": [
    "### Replace <5 values with 1"
   ]
  },
  {
   "cell_type": "code",
   "execution_count": 6,
   "metadata": {},
   "outputs": [],
   "source": [
    "# Replace <5 values with 1\n",
    "active = active.replace(['<5'], 1)\n",
    "resolved = resolved.replace(['<5'], 1)"
   ]
  },
  {
   "cell_type": "code",
   "execution_count": 7,
   "metadata": {
    "scrolled": true
   },
   "outputs": [
    {
     "name": "stdout",
     "output_type": "stream",
     "text": [
      "<class 'pandas.core.frame.DataFrame'>\n",
      "Int64Index: 8933 entries, 7738 to 8917\n",
      "Data columns (total 6 columns):\n",
      " #   Column                     Non-Null Count  Dtype         \n",
      "---  ------                     --------------  -----         \n",
      " 0   LTC_Home                   8933 non-null   object        \n",
      " 1   Beds                       8933 non-null   float64       \n",
      " 2   Total_LTC_Resident_Cases   8933 non-null   int64         \n",
      " 3   Total_LTC_Resident_Deaths  8933 non-null   int64         \n",
      " 4   Total_LTC_HCW_Cases        8933 non-null   int64         \n",
      " 5   Report_Data_Extracted      8933 non-null   datetime64[ns]\n",
      "dtypes: datetime64[ns](1), float64(1), int64(3), object(1)\n",
      "memory usage: 808.5+ KB\n",
      "<class 'pandas.core.frame.DataFrame'>\n",
      "Int64Index: 19532 entries, 11687 to 18995\n",
      "Data columns (total 5 columns):\n",
      " #   Column                     Non-Null Count  Dtype         \n",
      "---  ------                     --------------  -----         \n",
      " 0   LTC_Home                   19532 non-null  object        \n",
      " 1   City                       19532 non-null  object        \n",
      " 2   Beds                       19532 non-null  int64         \n",
      " 3   Total_LTC_Resident_Deaths  19532 non-null  int64         \n",
      " 4   Report_Data_Extracted      19532 non-null  datetime64[ns]\n",
      "dtypes: datetime64[ns](1), int64(2), object(2)\n",
      "memory usage: 915.6+ KB\n"
     ]
    }
   ],
   "source": [
    "# Convert cases and deaths to integer datatypes\n",
    "ls = ['Total_LTC_Resident_Cases', 'Total_LTC_Resident_Deaths', 'Total_LTC_HCW_Cases']\n",
    "for each in ls:\n",
    "    active[each] = pd.to_numeric(active[each])\n",
    "    active[each] = active[each].astype(int)\n",
    "\n",
    "resolved['Total_LTC_Resident_Deaths'] = pd.to_numeric(resolved['Total_LTC_Resident_Deaths']).astype(int)\n",
    "resolved['Beds'] = pd.to_numeric(resolved['Beds']).astype(int)\n",
    "\n",
    "active.info()\n",
    "resolved.info()"
   ]
  },
  {
   "cell_type": "code",
   "execution_count": null,
   "metadata": {},
   "outputs": [],
   "source": [
    "# # Inspect data for Almonte Country Haven\n",
    "# # The number of deaths went from 30 to 29 on June 16?\n",
    "# almonte = active[active.LTC_Home.str.contains(\"almonte\", na=False)]\n",
    "# almonte['Total_LTC_Resident_Deaths'].is_monotonic\n",
    "\n",
    "# afton = active[active.LTC_Home.str.contains(\"afton\", na=False)]\n",
    "# afton['Total_LTC_Resident_Deaths'].is_monotonic"
   ]
  },
  {
   "cell_type": "markdown",
   "metadata": {},
   "source": [
    "## Check if active case and death numbers are cumulative"
   ]
  },
  {
   "cell_type": "code",
   "execution_count": 8,
   "metadata": {},
   "outputs": [],
   "source": [
    "# Check to see if Total_LTC_Resident_Deaths is monotonically increasing for each home\n",
    "ls = list(set(active['LTC_Home']))\n",
    "home_names = []\n",
    "monotonic = []\n",
    "for each in ls:\n",
    "    home_names.append(each)\n",
    "    home = active.loc[active['LTC_Home'] == each]\n",
    "    monotonic.append(home['Total_LTC_Resident_Deaths'].is_monotonic)\n",
    "    \n",
    "monostatus = pd.DataFrame({'LTC_Home': home_names,\n",
    "                           'monotonic': monotonic})"
   ]
  },
  {
   "cell_type": "code",
   "execution_count": 9,
   "metadata": {},
   "outputs": [
    {
     "data": {
      "text/plain": [
       "4      Nisbet Lodge                                  \n",
       "14     Montfort                                      \n",
       "28     Country Village Homes - Woodslee              \n",
       "36     Isabel and Arthur Meighen Manor               \n",
       "37     Hellenic Home - Scarborough                   \n",
       "109    Villa Leonardo Gambin                         \n",
       "114    River Glen Haven Nursing Home                 \n",
       "120    Garden Court Nursing Home                     \n",
       "129    Almonte Country Haven                         \n",
       "138    Garden Terrace                                \n",
       "148    Orchard Villa                                 \n",
       "153    Chartwell Ballycliffe Long Term Care Residence\n",
       "233    Parkview Manor Health Care Centre             \n",
       "240    Mackenzie Health Long Term Care Facility      \n",
       "251    Extendicare Bayview                           \n",
       "287    Tendercare Living Centre                      \n",
       "300    The Village at University Gates               \n",
       "Name: LTC_Home, dtype: object"
      ]
     },
     "execution_count": 9,
     "metadata": {},
     "output_type": "execute_result"
    }
   ],
   "source": [
    "# 17 homes do not have monotonically increasing values for deaths\n",
    "monostatus['monotonic'].value_counts()\n",
    "\n",
    "not_monotonic = monostatus.loc[monostatus['monotonic']==False]\n",
    "not_monotonic['LTC_Home']"
   ]
  },
  {
   "cell_type": "code",
   "execution_count": null,
   "metadata": {},
   "outputs": [],
   "source": [
    "# # Check to see if Total_LTC_Resident_Cases is monotonically increasing for each home\n",
    "# ls = list(set(active['LTC_Home']))\n",
    "# home_names = []\n",
    "# monotonic = []\n",
    "# for each in ls:\n",
    "#     home_names.append(each)\n",
    "#     home = active.loc[active['LTC_Home'] == each]\n",
    "#     monotonic.append(home['Total_LTC_Resident_Cases'].is_monotonic)\n",
    "    \n",
    "# monostatus = pd.DataFrame({'LTC_Home': home_names,\n",
    "#                            'monotonic': monotonic})"
   ]
  },
  {
   "cell_type": "code",
   "execution_count": null,
   "metadata": {},
   "outputs": [],
   "source": [
    "# # 131 homes do not have monotonically increasing values for HCW_Cases\n",
    "# monostatus['monotonic'].value_counts()\n",
    "\n",
    "# # not_monotonic = monostatus.loc[monostatus['monotonic']==False]\n",
    "# # len(not_monotonic['LTC_Home'])"
   ]
  },
  {
   "cell_type": "code",
   "execution_count": null,
   "metadata": {},
   "outputs": [],
   "source": [
    "# # Check to see if Total_LTC_HCW_Cases is monotonically increasing for each home\n",
    "# ls = list(set(active['LTC_Home']))\n",
    "# home_names = []\n",
    "# monotonic = []\n",
    "# for each in ls:\n",
    "#     home_names.append(each)\n",
    "#     home = active.loc[active['LTC_Home'] == each]\n",
    "#     monotonic.append(home['Total_LTC_HCW_Cases'].is_monotonic)\n",
    "    \n",
    "# monostatus = pd.DataFrame({'LTC_Home': home_names,\n",
    "#                            'monotonic': monotonic})"
   ]
  },
  {
   "cell_type": "code",
   "execution_count": null,
   "metadata": {},
   "outputs": [],
   "source": [
    "# # 108 homes do not have monotonically increasing values for HCW_Cases\n",
    "# monostatus['monotonic'].value_counts()\n",
    "\n",
    "# # not_monotonic = monostatus.loc[monostatus['monotonic']==False]\n",
    "# # len(not_monotonic['LTC_Home'])"
   ]
  },
  {
   "cell_type": "markdown",
   "metadata": {},
   "source": [
    "## Inspect trend where deaths not monotonically increasing"
   ]
  },
  {
   "cell_type": "code",
   "execution_count": 10,
   "metadata": {},
   "outputs": [
    {
     "data": {
      "image/png": "[encoded data removed]",
      "text/plain": [
       "<Figure size 432x288 with 1 Axes>"
      ]
     },
     "metadata": {
      "needs_background": "light"
     },
     "output_type": "display_data"
    },
    {
     "data": {
      "image/png": "[encoded data removed]",
      "text/plain": [
       "<Figure size 432x288 with 1 Axes>"
      ]
     },
     "metadata": {
      "needs_background": "light"
     },
     "output_type": "display_data"
    },
    {
     "data": {
      "image/png": "[encoded data removed]",
      "text/plain": [
       "<Figure size 432x288 with 1 Axes>"
      ]
     },
     "metadata": {
      "needs_background": "light"
     },
     "output_type": "display_data"
    },
    {
     "data": {
      "image/png": "[encoded data removed]",
      "text/plain": [
       "<Figure size 432x288 with 1 Axes>"
      ]
     },
     "metadata": {
      "needs_background": "light"
     },
     "output_type": "display_data"
    },
    {
     "data": {
      "image/png": "[encoded data removed]",
      "text/plain": [
       "<Figure size 432x288 with 1 Axes>"
      ]
     },
     "metadata": {
      "needs_background": "light"
     },
     "output_type": "display_data"
    },
    {
     "data": {
      "image/png": "[encoded data removed]",
      "text/plain": [
       "<Figure size 432x288 with 1 Axes>"
      ]
     },
     "metadata": {
      "needs_background": "light"
     },
     "output_type": "display_data"
    },
    {
     "data": {
      "image/png": "[encoded data removed]",
      "text/plain": [
       "<Figure size 432x288 with 1 Axes>"
      ]
     },
     "metadata": {
      "needs_background": "light"
     },
     "output_type": "display_data"
    },
    {
     "data": {
      "image/png": "[encoded data removed]",
      "text/plain": [
       "<Figure size 432x288 with 1 Axes>"
      ]
     },
     "metadata": {
      "needs_background": "light"
     },
     "output_type": "display_data"
    },
    {
     "data": {
      "image/png": "[encoded data removed]",
      "text/plain": [
       "<Figure size 432x288 with 1 Axes>"
      ]
     },
     "metadata": {
      "needs_background": "light"
     },
     "output_type": "display_data"
    },
    {
     "data": {
      "image/png": "[encoded data removed]",
      "text/plain": [
       "<Figure size 432x288 with 1 Axes>"
      ]
     },
     "metadata": {
      "needs_background": "light"
     },
     "output_type": "display_data"
    },
    {
     "data": {
      "image/png": "[encoded data removed]",
      "text/plain": [
       "<Figure size 432x288 with 1 Axes>"
      ]
     },
     "metadata": {
      "needs_background": "light"
     },
     "output_type": "display_data"
    },
    {
     "data": {
      "image/png": "[encoded data removed]",
      "text/plain": [
       "<Figure size 432x288 with 1 Axes>"
      ]
     },
     "metadata": {
      "needs_background": "light"
     },
     "output_type": "display_data"
    },
    {
     "data": {
      "image/png": "[encoded data removed]",
      "text/plain": [
       "<Figure size 432x288 with 1 Axes>"
      ]
     },
     "metadata": {
      "needs_background": "light"
     },
     "output_type": "display_data"
    },
    {
     "data": {
      "image/png": "[encoded data removed]",
      "text/plain": [
       "<Figure size 432x288 with 1 Axes>"
      ]
     },
     "metadata": {
      "needs_background": "light"
     },
     "output_type": "display_data"
    },
    {
     "data": {
      "image/png": "[encoded data removed]",
      "text/plain": [
       "<Figure size 432x288 with 1 Axes>"
      ]
     },
     "metadata": {
      "needs_background": "light"
     },
     "output_type": "display_data"
    },
    {
     "data": {
      "image/png": "[encoded data removed]",
      "text/plain": [
       "<Figure size 432x288 with 1 Axes>"
      ]
     },
     "metadata": {
      "needs_background": "light"
     },
     "output_type": "display_data"
    },
    {
     "data": {
      "image/png": "[encoded data removed]",
      "text/plain": [
       "<Figure size 432x288 with 1 Axes>"
      ]
     },
     "metadata": {
      "needs_background": "light"
     },
     "output_type": "display_data"
    }
   ],
   "source": [
    "# Inspect residents deaths over time for homes where deaths are not monotonically increasing\n",
    "# Generally when values decrease it is only by one, except for 'Mackenzie Health Long Term Care Facility' and perhaps 'Orchard Villa'\n",
    "ls = not_monotonic['LTC_Home']\n",
    "for each in ls:\n",
    "    home = active.loc[active['LTC_Home'] == each]\n",
    "    home.plot('Report_Data_Extracted', 'Total_LTC_Resident_Deaths', title=each)\n",
    "                      "
   ]
  },
  {
   "cell_type": "code",
   "execution_count": null,
   "metadata": {},
   "outputs": [],
   "source": [
    "# # Look in depth at the data for the homes with large changes in death values\n",
    "# # Mackenzie Health Long Term Care Facility\n",
    "# active.loc[active['LTC_Home'] == 'Mackenzie Health Long Term Care Facility'] # cases/deaths reported on April 30 (end of first outbreak)\n",
    "# resolved.loc[resolved['LTC_Home'] == 'Mackenzie Health Long Term Care Facility'] # appears on resolved list starting Jun 9\n",
    "\n",
    "# # Orchard Villa \n",
    "# active.loc[active['LTC_Home'] == 'Orchard Villa'] # max 71, final 70 deaths\n",
    "# # resolved.loc[resolved['LTC_Home'] == 'Orchard Villa'] # appears on resolved list starting Jun 11 as 70\n"
   ]
  },
  {
   "cell_type": "code",
   "execution_count": 11,
   "metadata": {},
   "outputs": [
    {
     "data": {
      "text/html": [
       "<div>\n",
       "<style scoped>\n",
       "    .dataframe tbody tr th:only-of-type {\n",
       "        vertical-align: middle;\n",
       "    }\n",
       "\n",
       "    .dataframe tbody tr th {\n",
       "        vertical-align: top;\n",
       "    }\n",
       "\n",
       "    .dataframe thead th {\n",
       "        text-align: right;\n",
       "    }\n",
       "</style>\n",
       "<table border=\"1\" class=\"dataframe\">\n",
       "  <thead>\n",
       "    <tr style=\"text-align: right;\">\n",
       "      <th></th>\n",
       "      <th>LTC_Home</th>\n",
       "      <th>max_beds</th>\n",
       "      <th>max_resident_cases</th>\n",
       "      <th>cumulative_resident_deaths</th>\n",
       "      <th>max_hcw_cases</th>\n",
       "    </tr>\n",
       "  </thead>\n",
       "  <tbody>\n",
       "    <tr>\n",
       "      <th>0</th>\n",
       "      <td>Afton Park Place Long Term Care Community</td>\n",
       "      <td>128.0</td>\n",
       "      <td>0</td>\n",
       "      <td>0</td>\n",
       "      <td>1</td>\n",
       "    </tr>\n",
       "    <tr>\n",
       "      <th>1</th>\n",
       "      <td>Albright Gardens Homes, Incorporated</td>\n",
       "      <td>231.0</td>\n",
       "      <td>1</td>\n",
       "      <td>0</td>\n",
       "      <td>1</td>\n",
       "    </tr>\n",
       "    <tr>\n",
       "      <th>2</th>\n",
       "      <td>Alexander Place</td>\n",
       "      <td>128.0</td>\n",
       "      <td>1</td>\n",
       "      <td>0</td>\n",
       "      <td>0</td>\n",
       "    </tr>\n",
       "    <tr>\n",
       "      <th>3</th>\n",
       "      <td>Almonte Country Haven</td>\n",
       "      <td>82.0</td>\n",
       "      <td>45</td>\n",
       "      <td>30</td>\n",
       "      <td>23</td>\n",
       "    </tr>\n",
       "    <tr>\n",
       "      <th>4</th>\n",
       "      <td>Altamont Care Community</td>\n",
       "      <td>159.0</td>\n",
       "      <td>125</td>\n",
       "      <td>53</td>\n",
       "      <td>62</td>\n",
       "    </tr>\n",
       "  </tbody>\n",
       "</table>\n",
       "</div>"
      ],
      "text/plain": [
       "                                    LTC_Home  max_beds  max_resident_cases  \\\n",
       "0  Afton Park Place Long Term Care Community  128.0     0                    \n",
       "1  Albright Gardens Homes, Incorporated       231.0     1                    \n",
       "2  Alexander Place                            128.0     1                    \n",
       "3  Almonte Country Haven                      82.0      45                   \n",
       "4  Altamont Care Community                    159.0     125                  \n",
       "\n",
       "   cumulative_resident_deaths  max_hcw_cases  \n",
       "0  0                           1              \n",
       "1  0                           1              \n",
       "2  0                           0              \n",
       "3  30                          23             \n",
       "4  53                          62             "
      ]
     },
     "execution_count": 11,
     "metadata": {},
     "output_type": "execute_result"
    }
   ],
   "source": [
    "# Get max values for each home in active\n",
    "active_max = active.groupby('LTC_Home').max()\n",
    "active_max.drop('Report_Data_Extracted', axis=1, inplace=True)\n",
    "active_max.head()\n",
    "\n",
    "# Rename columns\n",
    "active_max.rename(columns={'Total_LTC_Resident_Cases':'max_resident_cases',\n",
    "                           'Total_LTC_Resident_Deaths': 'cumulative_resident_deaths',\n",
    "                           'Total_LTC_HCW_Cases': 'max_hcw_cases',\n",
    "                           'Beds': 'max_beds'}, inplace=True)\n",
    "\n",
    "active_max = active_max.reset_index()\n",
    "active_max.head()\n",
    "# active_max.index"
   ]
  },
  {
   "cell_type": "markdown",
   "metadata": {},
   "source": [
    "## Extract first date of outbreak, first date of max cases, first date of max HCW cases (active)"
   ]
  },
  {
   "cell_type": "code",
   "execution_count": 13,
   "metadata": {},
   "outputs": [
    {
     "name": "stdout",
     "output_type": "stream",
     "text": [
      "<class 'pandas.core.frame.DataFrame'>\n",
      "Int64Index: 317 entries, 7738 to 36\n",
      "Data columns (total 2 columns):\n",
      " #   Column               Non-Null Count  Dtype         \n",
      "---  ------               --------------  -----         \n",
      " 0   LTC_Home             317 non-null    object        \n",
      " 1   date_first_outbreak  317 non-null    datetime64[ns]\n",
      "dtypes: datetime64[ns](1), object(1)\n",
      "memory usage: 7.4+ KB\n"
     ]
    },
    {
     "name": "stderr",
     "output_type": "stream",
     "text": [
      "/home/nganhien/anaconda3/lib/python3.8/site-packages/pandas/core/frame.py:3990: SettingWithCopyWarning: \n",
      "A value is trying to be set on a copy of a slice from a DataFrame\n",
      "\n",
      "See the caveats in the documentation: https://pandas.pydata.org/pandas-docs/stable/user_guide/indexing.html#returning-a-view-versus-a-copy\n",
      "  return super().drop(\n",
      "/home/nganhien/anaconda3/lib/python3.8/site-packages/pandas/core/frame.py:4125: SettingWithCopyWarning: \n",
      "A value is trying to be set on a copy of a slice from a DataFrame\n",
      "\n",
      "See the caveats in the documentation: https://pandas.pydata.org/pandas-docs/stable/user_guide/indexing.html#returning-a-view-versus-a-copy\n",
      "  return super().rename(\n"
     ]
    },
    {
     "data": {
      "text/html": [
       "<div>\n",
       "<style scoped>\n",
       "    .dataframe tbody tr th:only-of-type {\n",
       "        vertical-align: middle;\n",
       "    }\n",
       "\n",
       "    .dataframe tbody tr th {\n",
       "        vertical-align: top;\n",
       "    }\n",
       "\n",
       "    .dataframe thead th {\n",
       "        text-align: right;\n",
       "    }\n",
       "</style>\n",
       "<table border=\"1\" class=\"dataframe\">\n",
       "  <thead>\n",
       "    <tr style=\"text-align: right;\">\n",
       "      <th></th>\n",
       "      <th>LTC_Home</th>\n",
       "      <th>date_first_outbreak</th>\n",
       "    </tr>\n",
       "  </thead>\n",
       "  <tbody>\n",
       "    <tr>\n",
       "      <th>7738</th>\n",
       "      <td>Afton Park Place Long Term Care Community</td>\n",
       "      <td>2020-06-22</td>\n",
       "    </tr>\n",
       "    <tr>\n",
       "      <th>0</th>\n",
       "      <td>Albright Gardens Homes, Incorporated</td>\n",
       "      <td>2020-04-24</td>\n",
       "    </tr>\n",
       "    <tr>\n",
       "      <th>4300</th>\n",
       "      <td>Alexander Place</td>\n",
       "      <td>2020-05-19</td>\n",
       "    </tr>\n",
       "    <tr>\n",
       "      <th>1</th>\n",
       "      <td>Almonte Country Haven</td>\n",
       "      <td>2020-04-24</td>\n",
       "    </tr>\n",
       "    <tr>\n",
       "      <th>2</th>\n",
       "      <td>Altamont Care Community</td>\n",
       "      <td>2020-04-24</td>\n",
       "    </tr>\n",
       "  </tbody>\n",
       "</table>\n",
       "</div>"
      ],
      "text/plain": [
       "                                       LTC_Home date_first_outbreak\n",
       "7738  Afton Park Place Long Term Care Community 2020-06-22         \n",
       "0     Albright Gardens Homes, Incorporated      2020-04-24         \n",
       "4300  Alexander Place                           2020-05-19         \n",
       "1     Almonte Country Haven                     2020-04-24         \n",
       "2     Altamont Care Community                   2020-04-24         "
      ]
     },
     "execution_count": 13,
     "metadata": {},
     "output_type": "execute_result"
    }
   ],
   "source": [
    "# First date of outbreak\n",
    "first_outbreak = active[active['LTC_Home'].shift(1) != active['LTC_Home']]\n",
    "# first_outbreak.info()\n",
    "# first_outbreak.head()\n",
    "\n",
    "ls = ['Beds', 'Total_LTC_Resident_Cases', 'Total_LTC_Resident_Deaths', 'Total_LTC_HCW_Cases']\n",
    "first_outbreak.drop(ls, axis=1, inplace=True)\n",
    "\n",
    "# Rename columns\n",
    "first_outbreak.rename(columns={'Report_Data_Extracted':'date_first_outbreak'}, inplace=True)\n",
    "\n",
    "first_outbreak.info()\n",
    "first_outbreak.head()\n"
   ]
  },
  {
   "cell_type": "code",
   "execution_count": 14,
   "metadata": {},
   "outputs": [
    {
     "name": "stdout",
     "output_type": "stream",
     "text": [
      "<class 'pandas.core.frame.DataFrame'>\n",
      "Int64Index: 317 entries, 7738 to 3776\n",
      "Data columns (total 2 columns):\n",
      " #   Column          Non-Null Count  Dtype         \n",
      "---  ------          --------------  -----         \n",
      " 0   LTC_Home        317 non-null    object        \n",
      " 1   date_max_cases  317 non-null    datetime64[ns]\n",
      "dtypes: datetime64[ns](1), object(1)\n",
      "memory usage: 7.4+ KB\n",
      "<class 'pandas.core.frame.DataFrame'>\n",
      "Int64Index: 317 entries, 7738 to 4697\n",
      "Data columns (total 2 columns):\n",
      " #   Column             Non-Null Count  Dtype         \n",
      "---  ------             --------------  -----         \n",
      " 0   LTC_Home           317 non-null    object        \n",
      " 1   date_max_HCWcases  317 non-null    datetime64[ns]\n",
      "dtypes: datetime64[ns](1), object(1)\n",
      "memory usage: 7.4+ KB\n"
     ]
    },
    {
     "name": "stderr",
     "output_type": "stream",
     "text": [
      "/home/nganhien/anaconda3/lib/python3.8/site-packages/pandas/core/frame.py:3990: SettingWithCopyWarning: \n",
      "A value is trying to be set on a copy of a slice from a DataFrame\n",
      "\n",
      "See the caveats in the documentation: https://pandas.pydata.org/pandas-docs/stable/user_guide/indexing.html#returning-a-view-versus-a-copy\n",
      "  return super().drop(\n",
      "/home/nganhien/anaconda3/lib/python3.8/site-packages/pandas/core/frame.py:4125: SettingWithCopyWarning: \n",
      "A value is trying to be set on a copy of a slice from a DataFrame\n",
      "\n",
      "See the caveats in the documentation: https://pandas.pydata.org/pandas-docs/stable/user_guide/indexing.html#returning-a-view-versus-a-copy\n",
      "  return super().rename(\n"
     ]
    }
   ],
   "source": [
    "# First date max cases\n",
    "names = active_max['LTC_Home']\n",
    "max_cases = active_max['max_resident_cases']\n",
    "dict_max_cases = dict(zip(names, max_cases))\n",
    "\n",
    "max_cases_rows = active[active['LTC_Home'].map(dict_max_cases) == active['Total_LTC_Resident_Cases']]\n",
    "first_max_cases = max_cases_rows[max_cases_rows['LTC_Home'].shift(1) != max_cases_rows['LTC_Home']]\n",
    "ls = ['Beds', 'Total_LTC_Resident_Cases', 'Total_LTC_Resident_Deaths', 'Total_LTC_HCW_Cases']\n",
    "first_max_cases.drop(ls, axis=1, inplace=True)\n",
    "first_max_cases.rename(columns={'Report_Data_Extracted':'date_max_cases'}, inplace=True)\n",
    "first_max_cases.info()\n",
    "\n",
    "# First date max hcw cases\n",
    "names = active_max['LTC_Home']\n",
    "max_cases = active_max['max_hcw_cases']\n",
    "dict_max_cases = dict(zip(names, max_cases))\n",
    "\n",
    "max_cases_rows = active[active['LTC_Home'].map(dict_max_cases) == active['Total_LTC_HCW_Cases']]\n",
    "first_max_HCWcases = max_cases_rows[max_cases_rows['LTC_Home'].shift(1) != max_cases_rows['LTC_Home']]\n",
    "ls = ['Beds', 'Total_LTC_Resident_Cases', 'Total_LTC_Resident_Deaths', 'Total_LTC_HCW_Cases']\n",
    "first_max_HCWcases.drop(ls, axis=1, inplace=True)\n",
    "first_max_HCWcases.rename(columns={'Report_Data_Extracted':'date_max_HCWcases'}, inplace=True)\n",
    "first_max_HCWcases.info()\n"
   ]
  },
  {
   "cell_type": "markdown",
   "metadata": {},
   "source": [
    "## Merge data (from active list)"
   ]
  },
  {
   "cell_type": "code",
   "execution_count": 15,
   "metadata": {},
   "outputs": [
    {
     "name": "stdout",
     "output_type": "stream",
     "text": [
      "<class 'pandas.core.frame.DataFrame'>\n",
      "Int64Index: 317 entries, 0 to 316\n",
      "Data columns (total 8 columns):\n",
      " #   Column                      Non-Null Count  Dtype         \n",
      "---  ------                      --------------  -----         \n",
      " 0   LTC_Home                    317 non-null    object        \n",
      " 1   max_beds                    317 non-null    float64       \n",
      " 2   max_resident_cases          317 non-null    int64         \n",
      " 3   cumulative_resident_deaths  317 non-null    int64         \n",
      " 4   max_hcw_cases               317 non-null    int64         \n",
      " 5   date_first_outbreak         317 non-null    datetime64[ns]\n",
      " 6   date_max_cases              317 non-null    datetime64[ns]\n",
      " 7   date_max_HCWcases           317 non-null    datetime64[ns]\n",
      "dtypes: datetime64[ns](3), float64(1), int64(3), object(1)\n",
      "memory usage: 22.3+ KB\n"
     ]
    },
    {
     "data": {
      "text/html": [
       "<div>\n",
       "<style scoped>\n",
       "    .dataframe tbody tr th:only-of-type {\n",
       "        vertical-align: middle;\n",
       "    }\n",
       "\n",
       "    .dataframe tbody tr th {\n",
       "        vertical-align: top;\n",
       "    }\n",
       "\n",
       "    .dataframe thead th {\n",
       "        text-align: right;\n",
       "    }\n",
       "</style>\n",
       "<table border=\"1\" class=\"dataframe\">\n",
       "  <thead>\n",
       "    <tr style=\"text-align: right;\">\n",
       "      <th></th>\n",
       "      <th>LTC_Home</th>\n",
       "      <th>max_beds</th>\n",
       "      <th>max_resident_cases</th>\n",
       "      <th>cumulative_resident_deaths</th>\n",
       "      <th>max_hcw_cases</th>\n",
       "      <th>date_first_outbreak</th>\n",
       "      <th>date_max_cases</th>\n",
       "      <th>date_max_HCWcases</th>\n",
       "    </tr>\n",
       "  </thead>\n",
       "  <tbody>\n",
       "    <tr>\n",
       "      <th>0</th>\n",
       "      <td>Afton Park Place Long Term Care Community</td>\n",
       "      <td>128.0</td>\n",
       "      <td>0</td>\n",
       "      <td>0</td>\n",
       "      <td>1</td>\n",
       "      <td>2020-06-22</td>\n",
       "      <td>2020-06-22</td>\n",
       "      <td>2020-06-22</td>\n",
       "    </tr>\n",
       "    <tr>\n",
       "      <th>1</th>\n",
       "      <td>Albright Gardens Homes, Incorporated</td>\n",
       "      <td>231.0</td>\n",
       "      <td>1</td>\n",
       "      <td>0</td>\n",
       "      <td>1</td>\n",
       "      <td>2020-04-24</td>\n",
       "      <td>2020-04-24</td>\n",
       "      <td>2020-04-24</td>\n",
       "    </tr>\n",
       "    <tr>\n",
       "      <th>2</th>\n",
       "      <td>Alexander Place</td>\n",
       "      <td>128.0</td>\n",
       "      <td>1</td>\n",
       "      <td>0</td>\n",
       "      <td>0</td>\n",
       "      <td>2020-05-19</td>\n",
       "      <td>2020-05-19</td>\n",
       "      <td>2020-05-19</td>\n",
       "    </tr>\n",
       "    <tr>\n",
       "      <th>3</th>\n",
       "      <td>Almonte Country Haven</td>\n",
       "      <td>82.0</td>\n",
       "      <td>45</td>\n",
       "      <td>30</td>\n",
       "      <td>23</td>\n",
       "      <td>2020-04-24</td>\n",
       "      <td>2020-05-03</td>\n",
       "      <td>2020-05-01</td>\n",
       "    </tr>\n",
       "    <tr>\n",
       "      <th>4</th>\n",
       "      <td>Altamont Care Community</td>\n",
       "      <td>159.0</td>\n",
       "      <td>125</td>\n",
       "      <td>53</td>\n",
       "      <td>62</td>\n",
       "      <td>2020-04-24</td>\n",
       "      <td>2020-04-24</td>\n",
       "      <td>2020-05-14</td>\n",
       "    </tr>\n",
       "  </tbody>\n",
       "</table>\n",
       "</div>"
      ],
      "text/plain": [
       "                                    LTC_Home  max_beds  max_resident_cases  \\\n",
       "0  Afton Park Place Long Term Care Community  128.0     0                    \n",
       "1  Albright Gardens Homes, Incorporated       231.0     1                    \n",
       "2  Alexander Place                            128.0     1                    \n",
       "3  Almonte Country Haven                      82.0      45                   \n",
       "4  Altamont Care Community                    159.0     125                  \n",
       "\n",
       "   cumulative_resident_deaths  max_hcw_cases date_first_outbreak  \\\n",
       "0  0                           1             2020-06-22            \n",
       "1  0                           1             2020-04-24            \n",
       "2  0                           0             2020-05-19            \n",
       "3  30                          23            2020-04-24            \n",
       "4  53                          62            2020-04-24            \n",
       "\n",
       "  date_max_cases date_max_HCWcases  \n",
       "0 2020-06-22     2020-06-22         \n",
       "1 2020-04-24     2020-04-24         \n",
       "2 2020-05-19     2020-05-19         \n",
       "3 2020-05-03     2020-05-01         \n",
       "4 2020-04-24     2020-05-14         "
      ]
     },
     "execution_count": 15,
     "metadata": {},
     "output_type": "execute_result"
    }
   ],
   "source": [
    "from functools import reduce\n",
    "active_data = reduce(lambda x,y: pd.merge(x,y, on='LTC_Home', how='outer'), [active_max, first_outbreak, first_max_cases, first_max_HCWcases])\n",
    "active_data.info()\n",
    "active_data.head()"
   ]
  },
  {
   "cell_type": "markdown",
   "metadata": {},
   "source": [
    "## Clean the Resolved data"
   ]
  },
  {
   "cell_type": "code",
   "execution_count": 16,
   "metadata": {},
   "outputs": [],
   "source": [
    "# Check to see if Total_LTC_Resident_Deaths is monotonically increasing for each home\n",
    "ls = list(set(resolved['LTC_Home']))\n",
    "home_names = []\n",
    "monotonic = []\n",
    "for each in ls:\n",
    "    home_names.append(each)\n",
    "    home = resolved.loc[resolved['LTC_Home'] == each]\n",
    "    monotonic.append(home['Total_LTC_Resident_Deaths'].is_monotonic)\n",
    "    \n",
    "monostatus = pd.DataFrame({'LTC_Home': home_names,\n",
    "                           'monotonic': monotonic})"
   ]
  },
  {
   "cell_type": "code",
   "execution_count": 17,
   "metadata": {},
   "outputs": [
    {
     "data": {
      "text/plain": [
       "66     Wellesley Central Place             \n",
       "293    Tendercare Living Centre            \n",
       "307    The Village at University Gates     \n",
       "311    Lanark Heights Long Term Care Centre\n",
       "Name: LTC_Home, dtype: object"
      ]
     },
     "execution_count": 17,
     "metadata": {},
     "output_type": "execute_result"
    }
   ],
   "source": [
    "# 4 homes do not have monotonically increasing values for deaths\n",
    "monostatus['monotonic'].value_counts()\n",
    "\n",
    "not_monotonic = monostatus.loc[monostatus['monotonic']==False]\n",
    "not_monotonic['LTC_Home']"
   ]
  },
  {
   "cell_type": "code",
   "execution_count": 18,
   "metadata": {},
   "outputs": [
    {
     "data": {
      "image/png": "[encoded data removed]",
      "text/plain": [
       "<Figure size 432x288 with 1 Axes>"
      ]
     },
     "metadata": {
      "needs_background": "light"
     },
     "output_type": "display_data"
    },
    {
     "data": {
      "image/png": "[encoded data removed]",
      "text/plain": [
       "<Figure size 432x288 with 1 Axes>"
      ]
     },
     "metadata": {
      "needs_background": "light"
     },
     "output_type": "display_data"
    },
    {
     "data": {
      "image/png": "[encoded data removed]",
      "text/plain": [
       "<Figure size 432x288 with 1 Axes>"
      ]
     },
     "metadata": {
      "needs_background": "light"
     },
     "output_type": "display_data"
    },
    {
     "data": {
      "image/png": "[encoded data removed]",
      "text/plain": [
       "<Figure size 432x288 with 1 Axes>"
      ]
     },
     "metadata": {
      "needs_background": "light"
     },
     "output_type": "display_data"
    }
   ],
   "source": [
    "# 3/4 homes where values did not increase dropped from 1 to 0\n",
    "# wellesley central place went from 18 to 10\n",
    "ls = not_monotonic['LTC_Home']\n",
    "for each in ls:\n",
    "    home = resolved.loc[resolved['LTC_Home'] == each]\n",
    "    home.plot('Report_Data_Extracted', 'Total_LTC_Resident_Deaths', title=each)"
   ]
  },
  {
   "cell_type": "code",
   "execution_count": 20,
   "metadata": {},
   "outputs": [
    {
     "data": {
      "text/html": [
       "<div>\n",
       "<style scoped>\n",
       "    .dataframe tbody tr th:only-of-type {\n",
       "        vertical-align: middle;\n",
       "    }\n",
       "\n",
       "    .dataframe tbody tr th {\n",
       "        vertical-align: top;\n",
       "    }\n",
       "\n",
       "    .dataframe thead th {\n",
       "        text-align: right;\n",
       "    }\n",
       "</style>\n",
       "<table border=\"1\" class=\"dataframe\">\n",
       "  <thead>\n",
       "    <tr style=\"text-align: right;\">\n",
       "      <th></th>\n",
       "      <th>LTC_Home</th>\n",
       "      <th>City</th>\n",
       "      <th>Beds</th>\n",
       "      <th>Total_LTC_Resident_Deaths</th>\n",
       "      <th>Report_Data_Extracted</th>\n",
       "    </tr>\n",
       "  </thead>\n",
       "  <tbody>\n",
       "    <tr>\n",
       "      <th>6753</th>\n",
       "      <td>Wellesley Central Place</td>\n",
       "      <td>Toronto</td>\n",
       "      <td>150</td>\n",
       "      <td>18</td>\n",
       "      <td>2020-06-16</td>\n",
       "    </tr>\n",
       "    <tr>\n",
       "      <th>6995</th>\n",
       "      <td>Wellesley Central Place</td>\n",
       "      <td>Toronto</td>\n",
       "      <td>150</td>\n",
       "      <td>18</td>\n",
       "      <td>2020-06-17</td>\n",
       "    </tr>\n",
       "    <tr>\n",
       "      <th>7239</th>\n",
       "      <td>Wellesley Central Place</td>\n",
       "      <td>Toronto</td>\n",
       "      <td>150</td>\n",
       "      <td>18</td>\n",
       "      <td>2020-06-18</td>\n",
       "    </tr>\n",
       "    <tr>\n",
       "      <th>7485</th>\n",
       "      <td>Wellesley Central Place</td>\n",
       "      <td>Toronto</td>\n",
       "      <td>150</td>\n",
       "      <td>18</td>\n",
       "      <td>2020-06-19</td>\n",
       "    </tr>\n",
       "    <tr>\n",
       "      <th>7731</th>\n",
       "      <td>Wellesley Central Place</td>\n",
       "      <td>Toronto</td>\n",
       "      <td>150</td>\n",
       "      <td>18</td>\n",
       "      <td>2020-06-20</td>\n",
       "    </tr>\n",
       "    <tr>\n",
       "      <th>7978</th>\n",
       "      <td>Wellesley Central Place</td>\n",
       "      <td>Toronto</td>\n",
       "      <td>150</td>\n",
       "      <td>18</td>\n",
       "      <td>2020-06-21</td>\n",
       "    </tr>\n",
       "    <tr>\n",
       "      <th>8230</th>\n",
       "      <td>Wellesley Central Place</td>\n",
       "      <td>Toronto</td>\n",
       "      <td>150</td>\n",
       "      <td>10</td>\n",
       "      <td>2020-06-22</td>\n",
       "    </tr>\n",
       "    <tr>\n",
       "      <th>8484</th>\n",
       "      <td>Wellesley Central Place</td>\n",
       "      <td>Toronto</td>\n",
       "      <td>150</td>\n",
       "      <td>10</td>\n",
       "      <td>2020-06-23</td>\n",
       "    </tr>\n",
       "    <tr>\n",
       "      <th>8742</th>\n",
       "      <td>Wellesley Central Place</td>\n",
       "      <td>Toronto</td>\n",
       "      <td>150</td>\n",
       "      <td>10</td>\n",
       "      <td>2020-06-24</td>\n",
       "    </tr>\n",
       "    <tr>\n",
       "      <th>9000</th>\n",
       "      <td>Wellesley Central Place</td>\n",
       "      <td>Toronto</td>\n",
       "      <td>150</td>\n",
       "      <td>10</td>\n",
       "      <td>2020-06-25</td>\n",
       "    </tr>\n",
       "    <tr>\n",
       "      <th>9257</th>\n",
       "      <td>Wellesley Central Place</td>\n",
       "      <td>Toronto</td>\n",
       "      <td>150</td>\n",
       "      <td>10</td>\n",
       "      <td>2020-06-26</td>\n",
       "    </tr>\n",
       "    <tr>\n",
       "      <th>9516</th>\n",
       "      <td>Wellesley Central Place</td>\n",
       "      <td>Toronto</td>\n",
       "      <td>150</td>\n",
       "      <td>10</td>\n",
       "      <td>2020-06-27</td>\n",
       "    </tr>\n",
       "    <tr>\n",
       "      <th>9774</th>\n",
       "      <td>Wellesley Central Place</td>\n",
       "      <td>Toronto</td>\n",
       "      <td>150</td>\n",
       "      <td>10</td>\n",
       "      <td>2020-06-28</td>\n",
       "    </tr>\n",
       "    <tr>\n",
       "      <th>10033</th>\n",
       "      <td>Wellesley Central Place</td>\n",
       "      <td>Toronto</td>\n",
       "      <td>150</td>\n",
       "      <td>10</td>\n",
       "      <td>2020-06-29</td>\n",
       "    </tr>\n",
       "    <tr>\n",
       "      <th>10296</th>\n",
       "      <td>Wellesley Central Place</td>\n",
       "      <td>Toronto</td>\n",
       "      <td>150</td>\n",
       "      <td>10</td>\n",
       "      <td>2020-06-30</td>\n",
       "    </tr>\n",
       "    <tr>\n",
       "      <th>10563</th>\n",
       "      <td>Wellesley Central Place</td>\n",
       "      <td>Toronto</td>\n",
       "      <td>150</td>\n",
       "      <td>10</td>\n",
       "      <td>2020-07-01</td>\n",
       "    </tr>\n",
       "    <tr>\n",
       "      <th>10832</th>\n",
       "      <td>Wellesley Central Place</td>\n",
       "      <td>Toronto</td>\n",
       "      <td>150</td>\n",
       "      <td>10</td>\n",
       "      <td>2020-07-02</td>\n",
       "    </tr>\n",
       "    <tr>\n",
       "      <th>11109</th>\n",
       "      <td>Wellesley Central Place</td>\n",
       "      <td>Toronto</td>\n",
       "      <td>150</td>\n",
       "      <td>10</td>\n",
       "      <td>2020-07-03</td>\n",
       "    </tr>\n",
       "    <tr>\n",
       "      <th>11388</th>\n",
       "      <td>Wellesley Central Place</td>\n",
       "      <td>Toronto</td>\n",
       "      <td>150</td>\n",
       "      <td>10</td>\n",
       "      <td>2020-07-04</td>\n",
       "    </tr>\n",
       "    <tr>\n",
       "      <th>11669</th>\n",
       "      <td>Wellesley Central Place</td>\n",
       "      <td>Toronto</td>\n",
       "      <td>150</td>\n",
       "      <td>10</td>\n",
       "      <td>2020-07-05</td>\n",
       "    </tr>\n",
       "    <tr>\n",
       "      <th>11954</th>\n",
       "      <td>Wellesley Central Place</td>\n",
       "      <td>Toronto</td>\n",
       "      <td>150</td>\n",
       "      <td>10</td>\n",
       "      <td>2020-07-06</td>\n",
       "    </tr>\n",
       "    <tr>\n",
       "      <th>12242</th>\n",
       "      <td>Wellesley Central Place</td>\n",
       "      <td>Toronto</td>\n",
       "      <td>150</td>\n",
       "      <td>10</td>\n",
       "      <td>2020-07-07</td>\n",
       "    </tr>\n",
       "    <tr>\n",
       "      <th>12531</th>\n",
       "      <td>Wellesley Central Place</td>\n",
       "      <td>Toronto</td>\n",
       "      <td>150</td>\n",
       "      <td>10</td>\n",
       "      <td>2020-07-08</td>\n",
       "    </tr>\n",
       "    <tr>\n",
       "      <th>12823</th>\n",
       "      <td>Wellesley Central Place</td>\n",
       "      <td>Toronto</td>\n",
       "      <td>150</td>\n",
       "      <td>10</td>\n",
       "      <td>2020-07-09</td>\n",
       "    </tr>\n",
       "    <tr>\n",
       "      <th>13116</th>\n",
       "      <td>Wellesley Central Place</td>\n",
       "      <td>Toronto</td>\n",
       "      <td>150</td>\n",
       "      <td>10</td>\n",
       "      <td>2020-07-10</td>\n",
       "    </tr>\n",
       "    <tr>\n",
       "      <th>13410</th>\n",
       "      <td>Wellesley Central Place</td>\n",
       "      <td>Toronto</td>\n",
       "      <td>150</td>\n",
       "      <td>10</td>\n",
       "      <td>2020-07-11</td>\n",
       "    </tr>\n",
       "    <tr>\n",
       "      <th>13703</th>\n",
       "      <td>Wellesley Central Place</td>\n",
       "      <td>Toronto</td>\n",
       "      <td>150</td>\n",
       "      <td>10</td>\n",
       "      <td>2020-07-12</td>\n",
       "    </tr>\n",
       "    <tr>\n",
       "      <th>13995</th>\n",
       "      <td>Wellesley Central Place</td>\n",
       "      <td>Toronto</td>\n",
       "      <td>150</td>\n",
       "      <td>10</td>\n",
       "      <td>2020-07-13</td>\n",
       "    </tr>\n",
       "    <tr>\n",
       "      <th>14293</th>\n",
       "      <td>Wellesley Central Place</td>\n",
       "      <td>Toronto</td>\n",
       "      <td>150</td>\n",
       "      <td>10</td>\n",
       "      <td>2020-07-14</td>\n",
       "    </tr>\n",
       "    <tr>\n",
       "      <th>14593</th>\n",
       "      <td>Wellesley Central Place</td>\n",
       "      <td>Toronto</td>\n",
       "      <td>150</td>\n",
       "      <td>10</td>\n",
       "      <td>2020-07-15</td>\n",
       "    </tr>\n",
       "    <tr>\n",
       "      <th>14894</th>\n",
       "      <td>Wellesley Central Place</td>\n",
       "      <td>Toronto</td>\n",
       "      <td>150</td>\n",
       "      <td>10</td>\n",
       "      <td>2020-07-16</td>\n",
       "    </tr>\n",
       "    <tr>\n",
       "      <th>15197</th>\n",
       "      <td>Wellesley Central Place</td>\n",
       "      <td>Toronto</td>\n",
       "      <td>150</td>\n",
       "      <td>10</td>\n",
       "      <td>2020-07-17</td>\n",
       "    </tr>\n",
       "    <tr>\n",
       "      <th>15500</th>\n",
       "      <td>Wellesley Central Place</td>\n",
       "      <td>Toronto</td>\n",
       "      <td>150</td>\n",
       "      <td>10</td>\n",
       "      <td>2020-07-18</td>\n",
       "    </tr>\n",
       "    <tr>\n",
       "      <th>15804</th>\n",
       "      <td>Wellesley Central Place</td>\n",
       "      <td>Toronto</td>\n",
       "      <td>150</td>\n",
       "      <td>10</td>\n",
       "      <td>2020-07-19</td>\n",
       "    </tr>\n",
       "    <tr>\n",
       "      <th>16108</th>\n",
       "      <td>Wellesley Central Place</td>\n",
       "      <td>Toronto</td>\n",
       "      <td>150</td>\n",
       "      <td>10</td>\n",
       "      <td>2020-07-20</td>\n",
       "    </tr>\n",
       "    <tr>\n",
       "      <th>16414</th>\n",
       "      <td>Wellesley Central Place</td>\n",
       "      <td>Toronto</td>\n",
       "      <td>150</td>\n",
       "      <td>10</td>\n",
       "      <td>2020-07-21</td>\n",
       "    </tr>\n",
       "    <tr>\n",
       "      <th>16722</th>\n",
       "      <td>Wellesley Central Place</td>\n",
       "      <td>Toronto</td>\n",
       "      <td>150</td>\n",
       "      <td>10</td>\n",
       "      <td>2020-07-22</td>\n",
       "    </tr>\n",
       "    <tr>\n",
       "      <th>17031</th>\n",
       "      <td>Wellesley Central Place</td>\n",
       "      <td>Toronto</td>\n",
       "      <td>150</td>\n",
       "      <td>10</td>\n",
       "      <td>2020-07-23</td>\n",
       "    </tr>\n",
       "    <tr>\n",
       "      <th>17341</th>\n",
       "      <td>Wellesley Central Place</td>\n",
       "      <td>Toronto</td>\n",
       "      <td>150</td>\n",
       "      <td>10</td>\n",
       "      <td>2020-07-24</td>\n",
       "    </tr>\n",
       "    <tr>\n",
       "      <th>17652</th>\n",
       "      <td>Wellesley Central Place</td>\n",
       "      <td>Toronto</td>\n",
       "      <td>150</td>\n",
       "      <td>10</td>\n",
       "      <td>2020-07-25</td>\n",
       "    </tr>\n",
       "    <tr>\n",
       "      <th>17963</th>\n",
       "      <td>Wellesley Central Place</td>\n",
       "      <td>Toronto</td>\n",
       "      <td>150</td>\n",
       "      <td>10</td>\n",
       "      <td>2020-07-26</td>\n",
       "    </tr>\n",
       "    <tr>\n",
       "      <th>18273</th>\n",
       "      <td>Wellesley Central Place</td>\n",
       "      <td>Toronto</td>\n",
       "      <td>150</td>\n",
       "      <td>10</td>\n",
       "      <td>2020-07-27</td>\n",
       "    </tr>\n",
       "    <tr>\n",
       "      <th>18583</th>\n",
       "      <td>Wellesley Central Place</td>\n",
       "      <td>Toronto</td>\n",
       "      <td>150</td>\n",
       "      <td>10</td>\n",
       "      <td>2020-07-28</td>\n",
       "    </tr>\n",
       "    <tr>\n",
       "      <th>18892</th>\n",
       "      <td>Wellesley Central Place</td>\n",
       "      <td>Toronto</td>\n",
       "      <td>150</td>\n",
       "      <td>10</td>\n",
       "      <td>2020-07-29</td>\n",
       "    </tr>\n",
       "    <tr>\n",
       "      <th>19202</th>\n",
       "      <td>Wellesley Central Place</td>\n",
       "      <td>Toronto</td>\n",
       "      <td>150</td>\n",
       "      <td>10</td>\n",
       "      <td>2020-07-30</td>\n",
       "    </tr>\n",
       "    <tr>\n",
       "      <th>19511</th>\n",
       "      <td>Wellesley Central Place</td>\n",
       "      <td>Toronto</td>\n",
       "      <td>150</td>\n",
       "      <td>10</td>\n",
       "      <td>2020-07-31</td>\n",
       "    </tr>\n",
       "  </tbody>\n",
       "</table>\n",
       "</div>"
      ],
      "text/plain": [
       "                      LTC_Home     City  Beds  Total_LTC_Resident_Deaths  \\\n",
       "6753   Wellesley Central Place  Toronto  150   18                          \n",
       "6995   Wellesley Central Place  Toronto  150   18                          \n",
       "7239   Wellesley Central Place  Toronto  150   18                          \n",
       "7485   Wellesley Central Place  Toronto  150   18                          \n",
       "7731   Wellesley Central Place  Toronto  150   18                          \n",
       "7978   Wellesley Central Place  Toronto  150   18                          \n",
       "8230   Wellesley Central Place  Toronto  150   10                          \n",
       "8484   Wellesley Central Place  Toronto  150   10                          \n",
       "8742   Wellesley Central Place  Toronto  150   10                          \n",
       "9000   Wellesley Central Place  Toronto  150   10                          \n",
       "9257   Wellesley Central Place  Toronto  150   10                          \n",
       "9516   Wellesley Central Place  Toronto  150   10                          \n",
       "9774   Wellesley Central Place  Toronto  150   10                          \n",
       "10033  Wellesley Central Place  Toronto  150   10                          \n",
       "10296  Wellesley Central Place  Toronto  150   10                          \n",
       "10563  Wellesley Central Place  Toronto  150   10                          \n",
       "10832  Wellesley Central Place  Toronto  150   10                          \n",
       "11109  Wellesley Central Place  Toronto  150   10                          \n",
       "11388  Wellesley Central Place  Toronto  150   10                          \n",
       "11669  Wellesley Central Place  Toronto  150   10                          \n",
       "11954  Wellesley Central Place  Toronto  150   10                          \n",
       "12242  Wellesley Central Place  Toronto  150   10                          \n",
       "12531  Wellesley Central Place  Toronto  150   10                          \n",
       "12823  Wellesley Central Place  Toronto  150   10                          \n",
       "13116  Wellesley Central Place  Toronto  150   10                          \n",
       "13410  Wellesley Central Place  Toronto  150   10                          \n",
       "13703  Wellesley Central Place  Toronto  150   10                          \n",
       "13995  Wellesley Central Place  Toronto  150   10                          \n",
       "14293  Wellesley Central Place  Toronto  150   10                          \n",
       "14593  Wellesley Central Place  Toronto  150   10                          \n",
       "14894  Wellesley Central Place  Toronto  150   10                          \n",
       "15197  Wellesley Central Place  Toronto  150   10                          \n",
       "15500  Wellesley Central Place  Toronto  150   10                          \n",
       "15804  Wellesley Central Place  Toronto  150   10                          \n",
       "16108  Wellesley Central Place  Toronto  150   10                          \n",
       "16414  Wellesley Central Place  Toronto  150   10                          \n",
       "16722  Wellesley Central Place  Toronto  150   10                          \n",
       "17031  Wellesley Central Place  Toronto  150   10                          \n",
       "17341  Wellesley Central Place  Toronto  150   10                          \n",
       "17652  Wellesley Central Place  Toronto  150   10                          \n",
       "17963  Wellesley Central Place  Toronto  150   10                          \n",
       "18273  Wellesley Central Place  Toronto  150   10                          \n",
       "18583  Wellesley Central Place  Toronto  150   10                          \n",
       "18892  Wellesley Central Place  Toronto  150   10                          \n",
       "19202  Wellesley Central Place  Toronto  150   10                          \n",
       "19511  Wellesley Central Place  Toronto  150   10                          \n",
       "\n",
       "      Report_Data_Extracted  \n",
       "6753  2020-06-16             \n",
       "6995  2020-06-17             \n",
       "7239  2020-06-18             \n",
       "7485  2020-06-19             \n",
       "7731  2020-06-20             \n",
       "7978  2020-06-21             \n",
       "8230  2020-06-22             \n",
       "8484  2020-06-23             \n",
       "8742  2020-06-24             \n",
       "9000  2020-06-25             \n",
       "9257  2020-06-26             \n",
       "9516  2020-06-27             \n",
       "9774  2020-06-28             \n",
       "10033 2020-06-29             \n",
       "10296 2020-06-30             \n",
       "10563 2020-07-01             \n",
       "10832 2020-07-02             \n",
       "11109 2020-07-03             \n",
       "11388 2020-07-04             \n",
       "11669 2020-07-05             \n",
       "11954 2020-07-06             \n",
       "12242 2020-07-07             \n",
       "12531 2020-07-08             \n",
       "12823 2020-07-09             \n",
       "13116 2020-07-10             \n",
       "13410 2020-07-11             \n",
       "13703 2020-07-12             \n",
       "13995 2020-07-13             \n",
       "14293 2020-07-14             \n",
       "14593 2020-07-15             \n",
       "14894 2020-07-16             \n",
       "15197 2020-07-17             \n",
       "15500 2020-07-18             \n",
       "15804 2020-07-19             \n",
       "16108 2020-07-20             \n",
       "16414 2020-07-21             \n",
       "16722 2020-07-22             \n",
       "17031 2020-07-23             \n",
       "17341 2020-07-24             \n",
       "17652 2020-07-25             \n",
       "17963 2020-07-26             \n",
       "18273 2020-07-27             \n",
       "18583 2020-07-28             \n",
       "18892 2020-07-29             \n",
       "19202 2020-07-30             \n",
       "19511 2020-07-31             "
      ]
     },
     "execution_count": 20,
     "metadata": {},
     "output_type": "execute_result"
    }
   ],
   "source": [
    "# Inspect Wellesley Central Place\n",
    "# active.loc[active['LTC_Home'] == 'Wellesley Central Place'] # max deaths on active list was 18, 4/24 to 6/15\n",
    "resolved.loc[resolved['LTC_Home'] == 'Wellesley Central Place'] # deaths dropped from 18 to 10 6/21 to 6/22"
   ]
  },
  {
   "cell_type": "code",
   "execution_count": 21,
   "metadata": {},
   "outputs": [
    {
     "name": "stdout",
     "output_type": "stream",
     "text": [
      "<class 'pandas.core.frame.DataFrame'>\n",
      "RangeIndex: 324 entries, 0 to 323\n",
      "Data columns (total 3 columns):\n",
      " #   Column                          Non-Null Count  Dtype \n",
      "---  ------                          --------------  ----- \n",
      " 0   LTC_Home                        324 non-null    object\n",
      " 1   max_beds_res                    324 non-null    int64 \n",
      " 2   cumulative_resident_deaths_res  324 non-null    int64 \n",
      "dtypes: int64(2), object(1)\n",
      "memory usage: 7.7+ KB\n",
      "<class 'pandas.core.frame.DataFrame'>\n",
      "RangeIndex: 324 entries, 0 to 323\n",
      "Data columns (total 2 columns):\n",
      " #   Column               Non-Null Count  Dtype         \n",
      "---  ------               --------------  -----         \n",
      " 0   LTC_Home             324 non-null    object        \n",
      " 1   date_first_resolved  324 non-null    datetime64[ns]\n",
      "dtypes: datetime64[ns](1), object(1)\n",
      "memory usage: 5.2+ KB\n"
     ]
    }
   ],
   "source": [
    "# For each home, keep max deaths\n",
    "resolved_max = resolved.groupby('LTC_Home').max()\n",
    "# resolved_max.head()\n",
    "ls = ['City', 'Report_Data_Extracted']\n",
    "resolved_max.drop(ls, axis=1, inplace=True)\n",
    "\n",
    "# Rename columns\n",
    "resolved_max.rename(columns={'Total_LTC_Resident_Deaths': 'cumulative_resident_deaths_res',\n",
    "                             'Beds': 'max_beds_res'}, inplace=True)\n",
    "\n",
    "resolved_max = resolved_max.reset_index()\n",
    "resolved_max.info()\n",
    "# resolved_max.head()\n",
    "\n",
    "# For each home, keep min date\n",
    "resolved_min = resolved.groupby('LTC_Home').min()\n",
    "ls = ['City', 'Beds', 'Total_LTC_Resident_Deaths']\n",
    "resolved_min.drop(ls, axis=1, inplace=True)\n",
    "\n",
    "# Rename columns\n",
    "resolved_min.rename(columns={'Report_Data_Extracted':'date_first_resolved'}, inplace=True)\n",
    "\n",
    "resolved_min = resolved_min.reset_index()\n",
    "resolved_min.info()\n",
    "# resolved_min.head()"
   ]
  },
  {
   "cell_type": "markdown",
   "metadata": {},
   "source": [
    "## Merge resolved datasets"
   ]
  },
  {
   "cell_type": "code",
   "execution_count": 22,
   "metadata": {},
   "outputs": [
    {
     "name": "stdout",
     "output_type": "stream",
     "text": [
      "<class 'pandas.core.frame.DataFrame'>\n",
      "Int64Index: 324 entries, 0 to 323\n",
      "Data columns (total 4 columns):\n",
      " #   Column                          Non-Null Count  Dtype         \n",
      "---  ------                          --------------  -----         \n",
      " 0   LTC_Home                        324 non-null    object        \n",
      " 1   max_beds_res                    324 non-null    int64         \n",
      " 2   cumulative_resident_deaths_res  324 non-null    int64         \n",
      " 3   date_first_resolved             324 non-null    datetime64[ns]\n",
      "dtypes: datetime64[ns](1), int64(2), object(1)\n",
      "memory usage: 12.7+ KB\n"
     ]
    },
    {
     "data": {
      "text/html": [
       "<div>\n",
       "<style scoped>\n",
       "    .dataframe tbody tr th:only-of-type {\n",
       "        vertical-align: middle;\n",
       "    }\n",
       "\n",
       "    .dataframe tbody tr th {\n",
       "        vertical-align: top;\n",
       "    }\n",
       "\n",
       "    .dataframe thead th {\n",
       "        text-align: right;\n",
       "    }\n",
       "</style>\n",
       "<table border=\"1\" class=\"dataframe\">\n",
       "  <thead>\n",
       "    <tr style=\"text-align: right;\">\n",
       "      <th></th>\n",
       "      <th>LTC_Home</th>\n",
       "      <th>max_beds_res</th>\n",
       "      <th>cumulative_resident_deaths_res</th>\n",
       "      <th>date_first_resolved</th>\n",
       "    </tr>\n",
       "  </thead>\n",
       "  <tbody>\n",
       "    <tr>\n",
       "      <th>0</th>\n",
       "      <td>Afton Park Place Long Term Care Community</td>\n",
       "      <td>128</td>\n",
       "      <td>0</td>\n",
       "      <td>2020-07-06</td>\n",
       "    </tr>\n",
       "    <tr>\n",
       "      <th>1</th>\n",
       "      <td>Albright Gardens Homes, Incorporated</td>\n",
       "      <td>231</td>\n",
       "      <td>0</td>\n",
       "      <td>2020-04-27</td>\n",
       "    </tr>\n",
       "    <tr>\n",
       "      <th>2</th>\n",
       "      <td>Alexander Place</td>\n",
       "      <td>128</td>\n",
       "      <td>0</td>\n",
       "      <td>2020-06-02</td>\n",
       "    </tr>\n",
       "    <tr>\n",
       "      <th>3</th>\n",
       "      <td>Allendale</td>\n",
       "      <td>200</td>\n",
       "      <td>0</td>\n",
       "      <td>2020-04-24</td>\n",
       "    </tr>\n",
       "    <tr>\n",
       "      <th>4</th>\n",
       "      <td>Almonte Country Haven</td>\n",
       "      <td>82</td>\n",
       "      <td>29</td>\n",
       "      <td>2020-06-30</td>\n",
       "    </tr>\n",
       "  </tbody>\n",
       "</table>\n",
       "</div>"
      ],
      "text/plain": [
       "                                    LTC_Home  max_beds_res  \\\n",
       "0  Afton Park Place Long Term Care Community  128            \n",
       "1  Albright Gardens Homes, Incorporated       231            \n",
       "2  Alexander Place                            128            \n",
       "3  Allendale                                  200            \n",
       "4  Almonte Country Haven                      82             \n",
       "\n",
       "   cumulative_resident_deaths_res date_first_resolved  \n",
       "0  0                              2020-07-06           \n",
       "1  0                              2020-04-27           \n",
       "2  0                              2020-06-02           \n",
       "3  0                              2020-04-24           \n",
       "4  29                             2020-06-30           "
      ]
     },
     "execution_count": 22,
     "metadata": {},
     "output_type": "execute_result"
    }
   ],
   "source": [
    "from functools import reduce\n",
    "resolved_data = reduce(lambda x,y: pd.merge(x,y, on='LTC_Home', how='outer'), [resolved_max, resolved_min])\n",
    "resolved_data.info()\n",
    "resolved_data.head()"
   ]
  },
  {
   "cell_type": "markdown",
   "metadata": {},
   "source": [
    "# Merge the cleaned active and resolved datasets"
   ]
  },
  {
   "cell_type": "code",
   "execution_count": 23,
   "metadata": {},
   "outputs": [],
   "source": [
    "# Function to look for matches\n",
    "def returnNotMatches(a, b):\n",
    "    return [[x for x in a if x not in b], [x for x in b if x not in a]]"
   ]
  },
  {
   "cell_type": "code",
   "execution_count": 24,
   "metadata": {},
   "outputs": [
    {
     "data": {
      "text/plain": [
       "18"
      ]
     },
     "execution_count": 24,
     "metadata": {},
     "output_type": "execute_result"
    }
   ],
   "source": [
    "a = active_data['LTC_Home'].unique() # .unique() allows the function to work\n",
    "b = resolved_data['LTC_Home'].unique()\n",
    "diff = returnNotMatches(a, b)\n",
    "\n",
    "# 11 homes in active that is not in resolved, ?homes with active outbreak on July 31 \n",
    "a = diff[0]\n",
    "len(a)\n",
    "\n",
    "# 18 homes in resolved that is not in active, ?homes with resolved outbreaks before Apr 24\n",
    "b = diff[1]\n",
    "len(b)\n"
   ]
  },
  {
   "cell_type": "code",
   "execution_count": 47,
   "metadata": {},
   "outputs": [
    {
     "name": "stdout",
     "output_type": "stream",
     "text": [
      "<class 'pandas.core.frame.DataFrame'>\n",
      "Int64Index: 335 entries, 0 to 334\n",
      "Data columns (total 11 columns):\n",
      " #   Column                          Non-Null Count  Dtype         \n",
      "---  ------                          --------------  -----         \n",
      " 0   LTC_Home                        335 non-null    object        \n",
      " 1   max_beds                        317 non-null    float64       \n",
      " 2   max_resident_cases              317 non-null    float64       \n",
      " 3   cumulative_resident_deaths      317 non-null    float64       \n",
      " 4   max_hcw_cases                   317 non-null    float64       \n",
      " 5   date_first_outbreak             317 non-null    datetime64[ns]\n",
      " 6   date_max_cases                  317 non-null    datetime64[ns]\n",
      " 7   date_max_HCWcases               317 non-null    datetime64[ns]\n",
      " 8   max_beds_res                    324 non-null    float64       \n",
      " 9   cumulative_resident_deaths_res  324 non-null    float64       \n",
      " 10  date_first_resolved             324 non-null    datetime64[ns]\n",
      "dtypes: datetime64[ns](4), float64(6), object(1)\n",
      "memory usage: 31.4+ KB\n"
     ]
    }
   ],
   "source": [
    "outbreaks = pd.merge(left=active_data, right=resolved_data, how='outer', \n",
    "                  left_on='LTC_Home', right_on='LTC_Home')\n",
    "outbreaks.info()"
   ]
  },
  {
   "cell_type": "code",
   "execution_count": 48,
   "metadata": {},
   "outputs": [
    {
     "data": {
      "text/plain": [
       "0.0    306\n",
       "dtype: int64"
      ]
     },
     "execution_count": 48,
     "metadata": {},
     "output_type": "execute_result"
    }
   ],
   "source": [
    "# Compare beds numbers between active and resolved, 29 discrepancies\n",
    "a = pd.Series.eq(outbreaks['max_beds'], outbreaks['max_beds_res'])\n",
    "a.value_counts()\n",
    "\n",
    "# Discrepancies are due to NAN values, otherwise the numbers agree\n",
    "diff = outbreaks['max_beds'] - outbreaks['max_beds_res']\n",
    "diff\n",
    "diff.value_counts()"
   ]
  },
  {
   "cell_type": "code",
   "execution_count": 49,
   "metadata": {},
   "outputs": [
    {
     "name": "stdout",
     "output_type": "stream",
     "text": [
      "<class 'pandas.core.frame.DataFrame'>\n",
      "Int64Index: 335 entries, 0 to 334\n",
      "Data columns (total 12 columns):\n",
      " #   Column                          Non-Null Count  Dtype         \n",
      "---  ------                          --------------  -----         \n",
      " 0   LTC_Home                        335 non-null    object        \n",
      " 1   max_beds                        317 non-null    float64       \n",
      " 2   max_resident_cases              317 non-null    float64       \n",
      " 3   cumulative_resident_deaths      317 non-null    float64       \n",
      " 4   max_hcw_cases                   317 non-null    float64       \n",
      " 5   date_first_outbreak             317 non-null    datetime64[ns]\n",
      " 6   date_max_cases                  317 non-null    datetime64[ns]\n",
      " 7   date_max_HCWcases               317 non-null    datetime64[ns]\n",
      " 8   max_beds_res                    324 non-null    float64       \n",
      " 9   cumulative_resident_deaths_res  324 non-null    float64       \n",
      " 10  date_first_resolved             324 non-null    datetime64[ns]\n",
      " 11  beds                            335 non-null    float64       \n",
      "dtypes: datetime64[ns](4), float64(7), object(1)\n",
      "memory usage: 34.0+ KB\n"
     ]
    }
   ],
   "source": [
    "# Merge beds columns\n",
    "outbreaks['beds'] = np.where(outbreaks['max_beds'].isnull(), outbreaks['max_beds_res'], outbreaks['max_beds'])\n",
    "outbreaks.info()"
   ]
  },
  {
   "cell_type": "code",
   "execution_count": 50,
   "metadata": {},
   "outputs": [
    {
     "data": {
      "text/html": [
       "<div>\n",
       "<style scoped>\n",
       "    .dataframe tbody tr th:only-of-type {\n",
       "        vertical-align: middle;\n",
       "    }\n",
       "\n",
       "    .dataframe tbody tr th {\n",
       "        vertical-align: top;\n",
       "    }\n",
       "\n",
       "    .dataframe thead th {\n",
       "        text-align: right;\n",
       "    }\n",
       "</style>\n",
       "<table border=\"1\" class=\"dataframe\">\n",
       "  <thead>\n",
       "    <tr style=\"text-align: right;\">\n",
       "      <th></th>\n",
       "      <th>LTC_Home</th>\n",
       "      <th>max_beds</th>\n",
       "      <th>max_resident_cases</th>\n",
       "      <th>cumulative_resident_deaths</th>\n",
       "      <th>max_hcw_cases</th>\n",
       "      <th>date_first_outbreak</th>\n",
       "      <th>date_max_cases</th>\n",
       "      <th>date_max_HCWcases</th>\n",
       "      <th>max_beds_res</th>\n",
       "      <th>cumulative_resident_deaths_res</th>\n",
       "      <th>date_first_resolved</th>\n",
       "      <th>beds</th>\n",
       "      <th>diff_deaths</th>\n",
       "    </tr>\n",
       "  </thead>\n",
       "  <tbody>\n",
       "    <tr>\n",
       "      <th>136</th>\n",
       "      <td>Hawthorne Place Care Centre</td>\n",
       "      <td>269.0</td>\n",
       "      <td>96.0</td>\n",
       "      <td>48.0</td>\n",
       "      <td>105.0</td>\n",
       "      <td>2020-04-24</td>\n",
       "      <td>2020-05-20</td>\n",
       "      <td>2020-05-20</td>\n",
       "      <td>269.0</td>\n",
       "      <td>51.0</td>\n",
       "      <td>2020-06-19</td>\n",
       "      <td>269.0</td>\n",
       "      <td>3.0</td>\n",
       "    </tr>\n",
       "    <tr>\n",
       "      <th>167</th>\n",
       "      <td>Mackenzie Health Long Term Care Facility</td>\n",
       "      <td>168.0</td>\n",
       "      <td>47.0</td>\n",
       "      <td>8.0</td>\n",
       "      <td>19.0</td>\n",
       "      <td>2020-04-24</td>\n",
       "      <td>2020-04-30</td>\n",
       "      <td>2020-04-30</td>\n",
       "      <td>168.0</td>\n",
       "      <td>0.0</td>\n",
       "      <td>2020-06-09</td>\n",
       "      <td>168.0</td>\n",
       "      <td>8.0</td>\n",
       "    </tr>\n",
       "    <tr>\n",
       "      <th>173</th>\n",
       "      <td>Manoir Marochel</td>\n",
       "      <td>64.0</td>\n",
       "      <td>29.0</td>\n",
       "      <td>7.0</td>\n",
       "      <td>15.0</td>\n",
       "      <td>2020-04-24</td>\n",
       "      <td>2020-04-30</td>\n",
       "      <td>2020-04-30</td>\n",
       "      <td>64.0</td>\n",
       "      <td>9.0</td>\n",
       "      <td>2020-05-28</td>\n",
       "      <td>64.0</td>\n",
       "      <td>2.0</td>\n",
       "    </tr>\n",
       "    <tr>\n",
       "      <th>244</th>\n",
       "      <td>Stoneridge Manor</td>\n",
       "      <td>60.0</td>\n",
       "      <td>52.0</td>\n",
       "      <td>8.0</td>\n",
       "      <td>13.0</td>\n",
       "      <td>2020-04-24</td>\n",
       "      <td>2020-05-07</td>\n",
       "      <td>2020-04-24</td>\n",
       "      <td>60.0</td>\n",
       "      <td>6.0</td>\n",
       "      <td>2020-06-17</td>\n",
       "      <td>60.0</td>\n",
       "      <td>2.0</td>\n",
       "    </tr>\n",
       "  </tbody>\n",
       "</table>\n",
       "</div>"
      ],
      "text/plain": [
       "                                     LTC_Home  max_beds  max_resident_cases  \\\n",
       "136  Hawthorne Place Care Centre               269.0     96.0                 \n",
       "167  Mackenzie Health Long Term Care Facility  168.0     47.0                 \n",
       "173  Manoir Marochel                           64.0      29.0                 \n",
       "244  Stoneridge Manor                          60.0      52.0                 \n",
       "\n",
       "     cumulative_resident_deaths  max_hcw_cases date_first_outbreak  \\\n",
       "136  48.0                        105.0         2020-04-24            \n",
       "167  8.0                         19.0          2020-04-24            \n",
       "173  7.0                         15.0          2020-04-24            \n",
       "244  8.0                         13.0          2020-04-24            \n",
       "\n",
       "    date_max_cases date_max_HCWcases  max_beds_res  \\\n",
       "136 2020-05-20     2020-05-20         269.0          \n",
       "167 2020-04-30     2020-04-30         168.0          \n",
       "173 2020-04-30     2020-04-30         64.0           \n",
       "244 2020-05-07     2020-04-24         60.0           \n",
       "\n",
       "     cumulative_resident_deaths_res date_first_resolved   beds  diff_deaths  \n",
       "136  51.0                           2020-06-19           269.0  3.0          \n",
       "167  0.0                            2020-06-09           168.0  8.0          \n",
       "173  9.0                            2020-05-28           64.0   2.0          \n",
       "244  6.0                            2020-06-17           60.0   2.0          "
      ]
     },
     "execution_count": 50,
     "metadata": {},
     "output_type": "execute_result"
    }
   ],
   "source": [
    "# Compare death numbers between active and resolved, 49 discrepancies\n",
    "a = pd.Series.eq(outbreaks['cumulative_resident_deaths'], outbreaks['cumulative_resident_deaths_res'])\n",
    "a.value_counts()\n",
    "\n",
    "# Differences and counts are below\n",
    "#  0.0    286\n",
    "#  1.0    10 \n",
    "# -1.0    6  \n",
    "#  2.0    1  \n",
    "# -2.0    1  \n",
    "#  8.0    1  \n",
    "# -3.0    1\n",
    "\n",
    "# 4 homes where there is a >1 difference between death counts in active vs resolved\n",
    "outbreaks['diff_deaths'] = abs(outbreaks['cumulative_resident_deaths'] - outbreaks['cumulative_resident_deaths_res'])\n",
    "outbreaks[outbreaks['diff_deaths'] > 1]\n",
    "# diff\n",
    "# diff.value_counts()\n",
    "\n"
   ]
  },
  {
   "cell_type": "code",
   "execution_count": 52,
   "metadata": {},
   "outputs": [
    {
     "name": "stdout",
     "output_type": "stream",
     "text": [
      "<class 'pandas.core.frame.DataFrame'>\n",
      "Int64Index: 335 entries, 0 to 334\n",
      "Data columns (total 14 columns):\n",
      " #   Column                          Non-Null Count  Dtype         \n",
      "---  ------                          --------------  -----         \n",
      " 0   LTC_Home                        335 non-null    object        \n",
      " 1   max_beds                        317 non-null    float64       \n",
      " 2   max_resident_cases              317 non-null    float64       \n",
      " 3   cumulative_resident_deaths      335 non-null    float64       \n",
      " 4   max_hcw_cases                   317 non-null    float64       \n",
      " 5   date_first_outbreak             317 non-null    datetime64[ns]\n",
      " 6   date_max_cases                  317 non-null    datetime64[ns]\n",
      " 7   date_max_HCWcases               317 non-null    datetime64[ns]\n",
      " 8   max_beds_res                    324 non-null    float64       \n",
      " 9   cumulative_resident_deaths_res  335 non-null    float64       \n",
      " 10  date_first_resolved             324 non-null    datetime64[ns]\n",
      " 11  beds                            335 non-null    float64       \n",
      " 12  diff_deaths                     306 non-null    float64       \n",
      " 13  cum_resident_deaths             335 non-null    float64       \n",
      "dtypes: datetime64[ns](4), float64(9), object(1)\n",
      "memory usage: 39.3+ KB\n"
     ]
    },
    {
     "data": {
      "text/html": [
       "<div>\n",
       "<style scoped>\n",
       "    .dataframe tbody tr th:only-of-type {\n",
       "        vertical-align: middle;\n",
       "    }\n",
       "\n",
       "    .dataframe tbody tr th {\n",
       "        vertical-align: top;\n",
       "    }\n",
       "\n",
       "    .dataframe thead th {\n",
       "        text-align: right;\n",
       "    }\n",
       "</style>\n",
       "<table border=\"1\" class=\"dataframe\">\n",
       "  <thead>\n",
       "    <tr style=\"text-align: right;\">\n",
       "      <th></th>\n",
       "      <th>LTC_Home</th>\n",
       "      <th>max_beds</th>\n",
       "      <th>max_resident_cases</th>\n",
       "      <th>cumulative_resident_deaths</th>\n",
       "      <th>max_hcw_cases</th>\n",
       "      <th>date_first_outbreak</th>\n",
       "      <th>date_max_cases</th>\n",
       "      <th>date_max_HCWcases</th>\n",
       "      <th>max_beds_res</th>\n",
       "      <th>cumulative_resident_deaths_res</th>\n",
       "      <th>date_first_resolved</th>\n",
       "      <th>beds</th>\n",
       "      <th>diff_deaths</th>\n",
       "      <th>cum_resident_deaths</th>\n",
       "    </tr>\n",
       "  </thead>\n",
       "  <tbody>\n",
       "    <tr>\n",
       "      <th>167</th>\n",
       "      <td>Mackenzie Health Long Term Care Facility</td>\n",
       "      <td>168.0</td>\n",
       "      <td>47.0</td>\n",
       "      <td>8.0</td>\n",
       "      <td>19.0</td>\n",
       "      <td>2020-04-24</td>\n",
       "      <td>2020-04-30</td>\n",
       "      <td>2020-04-30</td>\n",
       "      <td>168.0</td>\n",
       "      <td>0.0</td>\n",
       "      <td>2020-06-09</td>\n",
       "      <td>168.0</td>\n",
       "      <td>8.0</td>\n",
       "      <td>8.0</td>\n",
       "    </tr>\n",
       "  </tbody>\n",
       "</table>\n",
       "</div>"
      ],
      "text/plain": [
       "                                     LTC_Home  max_beds  max_resident_cases  \\\n",
       "167  Mackenzie Health Long Term Care Facility  168.0     47.0                 \n",
       "\n",
       "     cumulative_resident_deaths  max_hcw_cases date_first_outbreak  \\\n",
       "167  8.0                         19.0          2020-04-24            \n",
       "\n",
       "    date_max_cases date_max_HCWcases  max_beds_res  \\\n",
       "167 2020-04-30     2020-04-30         168.0          \n",
       "\n",
       "     cumulative_resident_deaths_res date_first_resolved   beds  diff_deaths  \\\n",
       "167  0.0                            2020-06-09           168.0  8.0           \n",
       "\n",
       "     cum_resident_deaths  \n",
       "167  8.0                  "
      ]
     },
     "execution_count": 52,
     "metadata": {},
     "output_type": "execute_result"
    }
   ],
   "source": [
    "# Where deaths is NaN, replace with 0\n",
    "outbreaks['cumulative_resident_deaths'].fillna(0, inplace = True)\n",
    "outbreaks['cumulative_resident_deaths_res'].fillna(0, inplace = True)\n",
    "\n",
    "# Keep the higher value for deaths\n",
    "outbreaks['cum_resident_deaths'] = np.where(outbreaks['cumulative_resident_deaths'] >= outbreaks['cumulative_resident_deaths_res'],\n",
    "                                            outbreaks['cumulative_resident_deaths'], outbreaks['cumulative_resident_deaths_res'])\n",
    "\n",
    "outbreaks.info()\n",
    "outbreaks.loc[outbreaks['LTC_Home']=='Mackenzie Health Long Term Care Facility']\n",
    "\n"
   ]
  },
  {
   "cell_type": "code",
   "execution_count": 53,
   "metadata": {},
   "outputs": [
    {
     "name": "stdout",
     "output_type": "stream",
     "text": [
      "<class 'pandas.core.frame.DataFrame'>\n",
      "Int64Index: 335 entries, 0 to 334\n",
      "Data columns (total 9 columns):\n",
      " #   Column               Non-Null Count  Dtype         \n",
      "---  ------               --------------  -----         \n",
      " 0   LTC_Home             335 non-null    object        \n",
      " 1   beds                 335 non-null    float64       \n",
      " 2   cum_resident_deaths  335 non-null    float64       \n",
      " 3   max_resident_cases   317 non-null    float64       \n",
      " 4   max_hcw_cases        317 non-null    float64       \n",
      " 5   date_first_outbreak  317 non-null    datetime64[ns]\n",
      " 6   date_max_cases       317 non-null    datetime64[ns]\n",
      " 7   date_max_HCWcases    317 non-null    datetime64[ns]\n",
      " 8   date_first_resolved  324 non-null    datetime64[ns]\n",
      "dtypes: datetime64[ns](4), float64(4), object(1)\n",
      "memory usage: 26.2+ KB\n"
     ]
    }
   ],
   "source": [
    "# Clean up columns\n",
    "ls = ['cumulative_resident_deaths', 'cumulative_resident_deaths_res', 'max_beds_res', 'diff_deaths', 'max_beds']\n",
    "outbreaks.drop(ls, axis=1, inplace=True)\n",
    "cols = list(outbreaks.columns.values)\n",
    "outbreaks = outbreaks[['LTC_Home',\n",
    "                       'beds',\n",
    "                       'cum_resident_deaths',\n",
    "                       'max_resident_cases',\n",
    "                       'max_hcw_cases',\n",
    "                       'date_first_outbreak',\n",
    "                       'date_max_cases',\n",
    "                       'date_max_HCWcases',\n",
    "                       'date_first_resolved']]\n",
    "outbreaks.info()"
   ]
  },
  {
   "cell_type": "code",
   "execution_count": 54,
   "metadata": {},
   "outputs": [],
   "source": [
    "# Export the outbreak data\n",
    "outbreaks.to_csv('../data_output/ltc_outbreaks0731.csv')"
   ]
  },
  {
   "cell_type": "markdown",
   "metadata": {},
   "source": [
    "## Code for keeping only data published on July 31"
   ]
  },
  {
   "cell_type": "code",
   "execution_count": null,
   "metadata": {},
   "outputs": [],
   "source": [
    "# # Dataset with only values ON July 31\n",
    "# active731 = active.loc[active['Report_Data_Extracted'] == '2020-07-31']\n",
    "# resolved731 = resolved.loc[resolved['Report_Data_Extracted'] == '2020-07-31']\n",
    "\n",
    "# active731.info()\n",
    "# resolved731.info()"
   ]
  },
  {
   "cell_type": "code",
   "execution_count": null,
   "metadata": {},
   "outputs": [],
   "source": [
    "# # Number of homes in the active list that are also in the resolved list, None\n",
    "# # Would expect that there would be many homes on the resolved list that is not on the active list on July 31\n",
    "# active731['LTC_Home'].isin(resolved731['LTC_Home']).value_counts()\n"
   ]
  },
  {
   "cell_type": "code",
   "execution_count": null,
   "metadata": {},
   "outputs": [],
   "source": [
    "# outbreaks = pd.concat([active731, resolved731]) \n",
    "# outbreaks = outbreaks[['LTC_Home', 'Beds']] \n",
    "\n",
    "# outbreaks.info()\n",
    "# outbreaks.head()"
   ]
  },
  {
   "cell_type": "code",
   "execution_count": null,
   "metadata": {},
   "outputs": [],
   "source": [
    "# # Export the outbreak data\n",
    "# outbreaks.to_csv('../data_output/ltc_outbreaks0731.csv')"
   ]
  },
  {
   "cell_type": "markdown",
   "metadata": {},
   "source": [
    "## KT's code "
   ]
  },
  {
   "cell_type": "code",
   "execution_count": null,
   "metadata": {},
   "outputs": [],
   "source": [
    "# keep_indices = inactive.LTC_Home.drop_duplicates(keep='first').index.to_list()\n",
    "# inactiveFiltered = inactive.iloc[keep_indices]\n",
    "\n",
    "# keep_indices2 = active.LTC_Home.drop_duplicates(keep='first').index.to_list()\n",
    "# activeFiltered = active.iloc[keep_indices2]"
   ]
  },
  {
   "cell_type": "markdown",
   "metadata": {},
   "source": [
    "Merge - dropping duplicates where LTCs are in both active and inactive lists, keeping the active home.\n",
    "\n",
    "First, check that no homes reported more than one outbreak.\n",
    "\n",
    "**NL**\n",
    "- Given that we had dropped duplicate `LTC_Home` above from the `active` and `inactive` dfs, would not expect to capture info on homes that reported more than one outbreak"
   ]
  },
  {
   "cell_type": "code",
   "execution_count": null,
   "metadata": {},
   "outputs": [],
   "source": [
    "# # Inspect\n",
    "# # There are 342 homes on the active list and 346 homes on the inactive list\n",
    "# # Suggests there are homes where outbreaks recorded as resolved were never recorded as having an active outbreak\n",
    "# inactiveFiltered.info()\n",
    "# inactiveFiltered.head(20)\n",
    "# inactiveFiltered.nunique()\n",
    "# activeFiltered.info()\n",
    "# activeFiltered.head(20)\n",
    "# activeFiltered.nunique()"
   ]
  },
  {
   "cell_type": "code",
   "execution_count": null,
   "metadata": {},
   "outputs": [],
   "source": [
    "# outbreaks = pd.concat([inactiveFiltered, activeFiltered])\n",
    "# outbreaks.info()\n",
    "# outbreaks.head()"
   ]
  },
  {
   "cell_type": "code",
   "execution_count": null,
   "metadata": {
    "scrolled": true
   },
   "outputs": [],
   "source": [
    "# grouped = outbreaks.groupby([\"LTC_Home\",\"outbreak_status\"]).count()\n",
    "# grouped.info()\n",
    "# grouped.head()"
   ]
  },
  {
   "cell_type": "code",
   "execution_count": null,
   "metadata": {},
   "outputs": [],
   "source": [
    "# grouped.loc[grouped[\"Report_Data_Extracted\"] > 1]"
   ]
  },
  {
   "cell_type": "code",
   "execution_count": null,
   "metadata": {},
   "outputs": [],
   "source": [
    "# # For homes that appear in both active and inactive, keep the most recent classification\n",
    "# # For inactive homes you have the first date when an outbreak was classified as resolved\n",
    "# # For acitve homes you have the first date when an outbreak was declared\n",
    "# outbreaks.drop_duplicates(subset='LTC_Home', keep=\"last\", inplace = True)\n",
    "# outbreaks.info()"
   ]
  },
  {
   "cell_type": "markdown",
   "metadata": {},
   "source": [
    "Filter for those reported before August 1, 2020:\n",
    "\n",
    "**NL**\n",
    "- If we filter like this do we fail to capture homes that reported on outbreak before Aug 1, but then where the outbreak was reported as being resolved after Aug 1"
   ]
  },
  {
   "cell_type": "code",
   "execution_count": null,
   "metadata": {},
   "outputs": [],
   "source": [
    "# outbreaksAug1 = outbreaks.loc[outbreaks['Report_Data_Extracted'] < \"2020-08-01\"]"
   ]
  },
  {
   "cell_type": "markdown",
   "metadata": {},
   "source": [
    "Import LTC data and merged with outbreaks:"
   ]
  },
  {
   "cell_type": "code",
   "execution_count": null,
   "metadata": {},
   "outputs": [],
   "source": [
    "# ltc = pd.read_csv(\"../merge_LTC_database/webscrape_LTC_general_database.csv\")"
   ]
  },
  {
   "cell_type": "code",
   "execution_count": null,
   "metadata": {},
   "outputs": [],
   "source": [
    "# outbreaksAug1[\"name\"] = outbreaksAug1.LTC_Home.str.upper()\n",
    "# complete = pd.merge(ltc, outbreaksAug1, on = \"name\")"
   ]
  },
  {
   "cell_type": "code",
   "execution_count": null,
   "metadata": {},
   "outputs": [],
   "source": [
    "# print(\"Number of homes in outbreak DF missing after merge: \", len(set(outbreaksAug1.name.unique())-set(complete.name.unique())))"
   ]
  },
  {
   "cell_type": "markdown",
   "metadata": {},
   "source": [
    "Fix name issues and re-merge"
   ]
  },
  {
   "cell_type": "code",
   "execution_count": null,
   "metadata": {},
   "outputs": [],
   "source": [
    "# list(set(outbreaksAug1.name.unique())-set(complete.name.unique()))"
   ]
  },
  {
   "cell_type": "code",
   "execution_count": null,
   "metadata": {},
   "outputs": [],
   "source": [
    "# ltc.name.replace({'RESIDENCE SAINT- LOUIS':'RESIDENCE SAINT-LOUIS',\n",
    "#                  'FINLANDIA HOIVAKOTI NURSING HOME LIMITED': 'FINLANDIA HOIVAKOTI NURSING HOME',\n",
    "#                   'PINECREST NURSING HOME - BOBCAYGEON': 'PINECREST NURSING HOME (BOBCAYGEON)',\n",
    "#                  'ST PATRICK\\'S HOME': \"ST. PATRICK'S HOME\",\n",
    "#                   'VISION \\'74 INC.':'VISION NURSING HOME',\n",
    "#                   'MACASSA LODGE':'MACASSA  LODGE',\n",
    "#                   'HEARTWOOD (FKA VERSA-CARE CORNWALL)':'HEARTWOOD'\n",
    "#                  },\n",
    "#                 inplace = True)"
   ]
  },
  {
   "cell_type": "code",
   "execution_count": null,
   "metadata": {},
   "outputs": [],
   "source": [
    "# complete = pd.merge(ltc, outbreaksAug1, on = \"name\")\n",
    "# print(\"Number of homes in outbreak DF missing after merge: \", len(set(outbreaksAug1.name.unique())-set(complete.name.unique())))\n",
    "# list(set(outbreaksAug1.name.unique())-set(complete.name.unique()))"
   ]
  },
  {
   "cell_type": "markdown",
   "metadata": {},
   "source": [
    "**Clean & Export:**"
   ]
  },
  {
   "cell_type": "code",
   "execution_count": null,
   "metadata": {},
   "outputs": [],
   "source": [
    "# complete.drop(columns = ['_id','LTC_City','additional_info','LTC_Home',\n",
    "#                         'management', 'city', 'City', 'index'], inplace = True)\n",
    "# complete.set_index('name', inplace = True)"
   ]
  },
  {
   "cell_type": "code",
   "execution_count": null,
   "metadata": {},
   "outputs": [],
   "source": [
    "# complete.to_csv('../merge_LTC_database/LTC_general_DB_aug1.csv')"
   ]
  }
 ],
 "metadata": {
  "kernelspec": {
   "display_name": "Python 3",
   "language": "python",
   "name": "python3"
  },
  "language_info": {
   "codemirror_mode": {
    "name": "ipython",
    "version": 3
   },
   "file_extension": ".py",
   "mimetype": "text/x-python",
   "name": "python",
   "nbconvert_exporter": "python",
   "pygments_lexer": "ipython3",
   "version": "3.8.3"
  }
 },
 "nbformat": 4,
 "nbformat_minor": 4
}
