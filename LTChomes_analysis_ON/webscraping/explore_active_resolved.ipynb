{
 "cells": [
  {
   "cell_type": "code",
   "execution_count": 2,
   "metadata": {},
   "outputs": [
    {
     "name": "stderr",
     "output_type": "stream",
     "text": [
      "<ipython-input-2-bb6aff92a59f>:5: FutureWarning: Passing a negative integer is deprecated in version 1.0 and will not be supported in future version. Instead, use None to not limit the column width.\n",
      "  pd.set_option('display.max_colwidth', -1)\n"
     ]
    }
   ],
   "source": [
    "import pandas as pd\n",
    "pd.set_option('display.max_rows', None)\n",
    "pd.set_option('display.max_columns', None)\n",
    "pd.set_option('display.width', None)\n",
    "pd.set_option('display.max_colwidth', -1)\n",
    "\n",
    "import matplotlib.pyplot as plt\n"
   ]
  },
  {
   "cell_type": "markdown",
   "metadata": {},
   "source": [
    "# Import data"
   ]
  },
  {
   "cell_type": "code",
   "execution_count": 3,
   "metadata": {},
   "outputs": [
    {
     "name": "stdout",
     "output_type": "stream",
     "text": [
      "<class 'pandas.core.frame.DataFrame'>\n",
      "Int64Index: 8933 entries, 7738 to 8917\n",
      "Data columns (total 8 columns):\n",
      " #   Column                     Non-Null Count  Dtype         \n",
      "---  ------                     --------------  -----         \n",
      " 0   LTC_Home                   8933 non-null   object        \n",
      " 1   LTC_City                   0 non-null      float64       \n",
      " 2   Beds                       8932 non-null   float64       \n",
      " 3   Total_LTC_Resident_Cases   8933 non-null   object        \n",
      " 4   Total_LTC_Resident_Deaths  8933 non-null   object        \n",
      " 5   Total_LTC_HCW_Cases        8932 non-null   object        \n",
      " 6   Report_Data_Extracted      8933 non-null   datetime64[ns]\n",
      " 7   cleaned_name               8933 non-null   object        \n",
      "dtypes: datetime64[ns](1), float64(2), object(5)\n",
      "memory usage: 628.1+ KB\n",
      "<class 'pandas.core.frame.DataFrame'>\n",
      "Int64Index: 19532 entries, 11687 to 18995\n",
      "Data columns (total 6 columns):\n",
      " #   Column                     Non-Null Count  Dtype         \n",
      "---  ------                     --------------  -----         \n",
      " 0   LTC_Home                   19532 non-null  object        \n",
      " 1   City                       19532 non-null  object        \n",
      " 2   Beds                       19532 non-null  object        \n",
      " 3   Total_LTC_Resident_Deaths  19532 non-null  object        \n",
      " 4   Report_Data_Extracted      19532 non-null  datetime64[ns]\n",
      " 5   cleaned_name               19532 non-null  object        \n",
      "dtypes: datetime64[ns](1), object(5)\n",
      "memory usage: 1.0+ MB\n"
     ]
    }
   ],
   "source": [
    "# Import active and resolved csv, filter for dates up to Aug 1 and sort by LTC home then date\n",
    "active = pd.read_csv('activeltcoutbreak_oct8.csv')\n",
    "active['Report_Data_Extracted'] = pd.to_datetime(active['ï»¿Report_Data_Extracted'])\n",
    "active.drop('ï»¿Report_Data_Extracted', axis = 1, inplace = True)\n",
    "active = active[active.Report_Data_Extracted < '2020-08-01']\n",
    "active['cleaned_name'] = active['LTC_Home'].str.lower()\n",
    "active.sort_values(['cleaned_name', 'Report_Data_Extracted'], inplace=True)\n",
    "active.info()\n",
    "\n",
    "resolved = pd.read_csv('resolvedltc_oct8.csv')\n",
    "resolved['Report_Data_Extracted'] = pd.to_datetime(resolved['ï»¿Report_Data_Extracted'])\n",
    "resolved.drop('ï»¿Report_Data_Extracted', axis = 1, inplace = True)\n",
    "resolved = resolved[resolved.Report_Data_Extracted < '2020-08-01']\n",
    "resolved['cleaned_name'] = resolved['LTC_Home'].str.lower()\n",
    "resolved.sort_values(['cleaned_name', 'Report_Data_Extracted'], inplace=True)\n",
    "resolved.info()\n",
    "\n",
    "# active.head()"
   ]
  },
  {
   "cell_type": "code",
   "execution_count": 4,
   "metadata": {},
   "outputs": [
    {
     "name": "stdout",
     "output_type": "stream",
     "text": [
      "11 18\n"
     ]
    }
   ],
   "source": [
    "# 11 homes present in active and not resolved\n",
    "a = set(active['cleaned_name']) - set(resolved['cleaned_name'])\n",
    "\n",
    "\n",
    "# 18 homes present in resolved and not active\n",
    "b = set(resolved['cleaned_name']) - set(active['cleaned_name'])\n",
    "\n",
    "print(len(a), len(b))"
   ]
  },
  {
   "cell_type": "code",
   "execution_count": 27,
   "metadata": {},
   "outputs": [],
   "source": [
    "almonte = active[active.cleaned_name.str.contains(\"almonte\", na=False)]\n",
    "# resolved[resolved.cleaned_name.str.contains(\"hillside\", na=False)]\n",
    "\n",
    "almonte.to_csv(\"../data_output/almonte.csv\", index = False)"
   ]
  },
  {
   "cell_type": "markdown",
   "metadata": {},
   "source": [
    "## Active outbreaks"
   ]
  },
  {
   "cell_type": "code",
   "execution_count": 5,
   "metadata": {
    "scrolled": false
   },
   "outputs": [
    {
     "name": "stdout",
     "output_type": "stream",
     "text": [
      "<class 'pandas.core.frame.DataFrame'>\n",
      "Int64Index: 381 entries, 7738 to 8917\n",
      "Data columns (total 8 columns):\n",
      " #   Column                     Non-Null Count  Dtype         \n",
      "---  ------                     --------------  -----         \n",
      " 0   LTC_Home                   381 non-null    object        \n",
      " 1   LTC_City                   0 non-null      float64       \n",
      " 2   Beds                       380 non-null    float64       \n",
      " 3   Total_LTC_Resident_Cases   381 non-null    object        \n",
      " 4   Total_LTC_Resident_Deaths  381 non-null    object        \n",
      " 5   Total_LTC_HCW_Cases        381 non-null    object        \n",
      " 6   Report_Data_Extracted      381 non-null    datetime64[ns]\n",
      " 7   cleaned_name               381 non-null    object        \n",
      "dtypes: datetime64[ns](1), float64(2), object(5)\n",
      "memory usage: 26.8+ KB\n",
      "<class 'pandas.core.frame.DataFrame'>\n",
      "Int64Index: 128 entries, 0 to 8917\n",
      "Data columns (total 8 columns):\n",
      " #   Column                     Non-Null Count  Dtype         \n",
      "---  ------                     --------------  -----         \n",
      " 0   LTC_Home                   128 non-null    object        \n",
      " 1   LTC_City                   0 non-null      float64       \n",
      " 2   Beds                       128 non-null    float64       \n",
      " 3   Total_LTC_Resident_Cases   128 non-null    object        \n",
      " 4   Total_LTC_Resident_Deaths  128 non-null    object        \n",
      " 5   Total_LTC_HCW_Cases        128 non-null    object        \n",
      " 6   Report_Data_Extracted      128 non-null    datetime64[ns]\n",
      " 7   cleaned_name               128 non-null    object        \n",
      "dtypes: datetime64[ns](1), float64(2), object(5)\n",
      "memory usage: 9.0+ KB\n"
     ]
    },
    {
     "data": {
      "text/plain": [
       "62"
      ]
     },
     "execution_count": 5,
     "metadata": {},
     "output_type": "execute_result"
    }
   ],
   "source": [
    "# Filter for the earliest date for any given outbreak (separated by at least 1 week)\n",
    "first = active[(active['Report_Data_Extracted'].shift(1) - active['Report_Data_Extracted'] != '-1 days') & \n",
    "               (active['Report_Data_Extracted'].shift(1) - active['Report_Data_Extracted'] != '-2 days') &\n",
    "               (active['Report_Data_Extracted'].shift(1) - active['Report_Data_Extracted'] != '-3 days') &\n",
    "               (active['Report_Data_Extracted'].shift(1) - active['Report_Data_Extracted'] != '-4 days') &\n",
    "               (active['Report_Data_Extracted'].shift(1) - active['Report_Data_Extracted'] != '-5 days') &\n",
    "               (active['Report_Data_Extracted'].shift(1) - active['Report_Data_Extracted'] != '-6 days')]\n",
    "first.info()\n",
    "\n",
    "# Homes with more than one outbreak, 62\n",
    "first_dup = first[first.duplicated(['LTC_Home'], keep=False)]\n",
    "first_dup.info()\n",
    "first_dup['LTC_Home'].nunique()"
   ]
  },
  {
   "cell_type": "code",
   "execution_count": 6,
   "metadata": {},
   "outputs": [
    {
     "name": "stdout",
     "output_type": "stream",
     "text": [
      "<class 'pandas.core.frame.DataFrame'>\n",
      "Int64Index: 317 entries, 7738 to 36\n",
      "Data columns (total 8 columns):\n",
      " #   Column                     Non-Null Count  Dtype         \n",
      "---  ------                     --------------  -----         \n",
      " 0   LTC_Home                   317 non-null    object        \n",
      " 1   LTC_City                   0 non-null      float64       \n",
      " 2   Beds                       316 non-null    float64       \n",
      " 3   Total_LTC_Resident_Cases   317 non-null    object        \n",
      " 4   Total_LTC_Resident_Deaths  317 non-null    object        \n",
      " 5   Total_LTC_HCW_Cases        317 non-null    object        \n",
      " 6   Report_Data_Extracted      317 non-null    datetime64[ns]\n",
      " 7   cleaned_name               317 non-null    object        \n",
      "dtypes: datetime64[ns](1), float64(2), object(5)\n",
      "memory usage: 22.3+ KB\n"
     ]
    },
    {
     "data": {
      "text/plain": [
       "317"
      ]
     },
     "execution_count": 6,
     "metadata": {},
     "output_type": "execute_result"
    }
   ],
   "source": [
    "# Filter for earliest outbreak for any home (muliple outbreaks not counted separately), 317 homes\n",
    "first2 = active[active['LTC_Home'].shift(1) != active['LTC_Home']]\n",
    "first2.info()\n",
    "\n",
    "# Check that there are the same number of unique home names\n",
    "active['LTC_Home'].nunique()\n",
    "\n",
    "# first2_dup = first2[first2.duplicated(['LTC_Home'], keep=False)]\n",
    "# first2_dup"
   ]
  },
  {
   "cell_type": "markdown",
   "metadata": {},
   "source": [
    "## Resolved outbreaks"
   ]
  },
  {
   "cell_type": "code",
   "execution_count": 7,
   "metadata": {},
   "outputs": [
    {
     "name": "stdout",
     "output_type": "stream",
     "text": [
      "<class 'pandas.core.frame.DataFrame'>\n",
      "Int64Index: 19532 entries, 11687 to 18995\n",
      "Data columns (total 6 columns):\n",
      " #   Column                     Non-Null Count  Dtype         \n",
      "---  ------                     --------------  -----         \n",
      " 0   LTC_Home                   19532 non-null  object        \n",
      " 1   City                       19532 non-null  object        \n",
      " 2   Beds                       19532 non-null  object        \n",
      " 3   Total_LTC_Resident_Deaths  19532 non-null  object        \n",
      " 4   Report_Data_Extracted      19532 non-null  datetime64[ns]\n",
      " 5   cleaned_name               19532 non-null  object        \n",
      "dtypes: datetime64[ns](1), object(5)\n",
      "memory usage: 1.0+ MB\n"
     ]
    },
    {
     "data": {
      "text/plain": [
       "324"
      ]
     },
     "execution_count": 7,
     "metadata": {},
     "output_type": "execute_result"
    }
   ],
   "source": [
    "resolved.info()\n",
    "resolved['LTC_Home'].nunique()"
   ]
  },
  {
   "cell_type": "code",
   "execution_count": 8,
   "metadata": {},
   "outputs": [
    {
     "name": "stdout",
     "output_type": "stream",
     "text": [
      "<class 'pandas.core.frame.DataFrame'>\n",
      "Int64Index: 397 entries, 11687 to 4262\n",
      "Data columns (total 6 columns):\n",
      " #   Column                     Non-Null Count  Dtype         \n",
      "---  ------                     --------------  -----         \n",
      " 0   LTC_Home                   397 non-null    object        \n",
      " 1   City                       397 non-null    object        \n",
      " 2   Beds                       397 non-null    object        \n",
      " 3   Total_LTC_Resident_Deaths  397 non-null    object        \n",
      " 4   Report_Data_Extracted      397 non-null    datetime64[ns]\n",
      " 5   cleaned_name               397 non-null    object        \n",
      "dtypes: datetime64[ns](1), object(5)\n",
      "memory usage: 21.7+ KB\n"
     ]
    }
   ],
   "source": [
    "# Filter for the earliest date for any given resolved outbreak (separated by at least 1 week)\n",
    "# first_res = resolved[(resolved['Report_Data_Extracted'].shift(1) - resolved['Report_Data_Extracted'] != '-1 days')]\n",
    "\n",
    "first_res = resolved[(resolved['Report_Data_Extracted'].shift(1) - resolved['Report_Data_Extracted'] != '-1 days') & \n",
    "               (resolved['Report_Data_Extracted'].shift(1) - resolved['Report_Data_Extracted'] != '-2 days') &\n",
    "               (resolved['Report_Data_Extracted'].shift(1) - resolved['Report_Data_Extracted'] != '-3 days') &\n",
    "               (resolved['Report_Data_Extracted'].shift(1) - resolved['Report_Data_Extracted'] != '-4 days') &\n",
    "               (resolved['Report_Data_Extracted'].shift(1) - resolved['Report_Data_Extracted'] != '-5 days') &\n",
    "               (resolved['Report_Data_Extracted'].shift(1) - resolved['Report_Data_Extracted'] != '-6 days')]\n",
    "\n",
    "first_res.info()\n"
   ]
  },
  {
   "cell_type": "code",
   "execution_count": 10,
   "metadata": {},
   "outputs": [
    {
     "name": "stdout",
     "output_type": "stream",
     "text": [
      "<class 'pandas.core.frame.DataFrame'>\n",
      "Int64Index: 141 entries, 94 to 10303\n",
      "Data columns (total 6 columns):\n",
      " #   Column                     Non-Null Count  Dtype         \n",
      "---  ------                     --------------  -----         \n",
      " 0   LTC_Home                   141 non-null    object        \n",
      " 1   City                       141 non-null    object        \n",
      " 2   Beds                       141 non-null    object        \n",
      " 3   Total_LTC_Resident_Deaths  141 non-null    object        \n",
      " 4   Report_Data_Extracted      141 non-null    datetime64[ns]\n",
      " 5   cleaned_name               141 non-null    object        \n",
      "dtypes: datetime64[ns](1), object(5)\n",
      "memory usage: 7.7+ KB\n"
     ]
    },
    {
     "data": {
      "text/plain": [
       "68"
      ]
     },
     "execution_count": 10,
     "metadata": {},
     "output_type": "execute_result"
    }
   ],
   "source": [
    "# Homes with more than one resolved outbreak, 68\n",
    "first_res_dup = first_res[first_res.duplicated(['LTC_Home'], keep=False)]\n",
    "# first_res_dup\n",
    "first_res_dup.info()\n",
    "first_res_dup['LTC_Home'].nunique()"
   ]
  },
  {
   "cell_type": "code",
   "execution_count": 19,
   "metadata": {},
   "outputs": [
    {
     "data": {
      "text/plain": [
       "array(['LTC_Home', 'City', 'Beds', 'Total_LTC_Resident_Deaths',\n",
       "       'Report_Data_Extracted', 'cleaned_name'], dtype=object)"
      ]
     },
     "execution_count": 19,
     "metadata": {},
     "output_type": "execute_result"
    }
   ],
   "source": [
    "first_res.columns.values"
   ]
  },
  {
   "cell_type": "markdown",
   "metadata": {},
   "source": [
    "## Compare homes on the active vs. the resolved lists"
   ]
  },
  {
   "cell_type": "code",
   "execution_count": 24,
   "metadata": {},
   "outputs": [
    {
     "data": {
      "text/html": [
       "<div>\n",
       "<style scoped>\n",
       "    .dataframe tbody tr th:only-of-type {\n",
       "        vertical-align: middle;\n",
       "    }\n",
       "\n",
       "    .dataframe tbody tr th {\n",
       "        vertical-align: top;\n",
       "    }\n",
       "\n",
       "    .dataframe thead th {\n",
       "        text-align: right;\n",
       "    }\n",
       "</style>\n",
       "<table border=\"1\" class=\"dataframe\">\n",
       "  <thead>\n",
       "    <tr style=\"text-align: right;\">\n",
       "      <th></th>\n",
       "      <th>LTC_Home</th>\n",
       "      <th>City</th>\n",
       "      <th>Beds</th>\n",
       "      <th>Total_LTC_Resident_Deaths</th>\n",
       "      <th>Report_Data_Extracted</th>\n",
       "      <th>cleaned_name</th>\n",
       "    </tr>\n",
       "  </thead>\n",
       "  <tbody>\n",
       "    <tr>\n",
       "      <th>0</th>\n",
       "      <td>Spencer House</td>\n",
       "      <td>Orillia</td>\n",
       "      <td>160.0</td>\n",
       "      <td>0</td>\n",
       "      <td>2020-04-24</td>\n",
       "      <td>spencer house</td>\n",
       "    </tr>\n",
       "    <tr>\n",
       "      <th>1</th>\n",
       "      <td>Hillside Manor</td>\n",
       "      <td>Stratford</td>\n",
       "      <td>90.0</td>\n",
       "      <td>0</td>\n",
       "      <td>2020-04-24</td>\n",
       "      <td>hillside manor</td>\n",
       "    </tr>\n",
       "    <tr>\n",
       "      <th>2</th>\n",
       "      <td>Yee Hong Centre - Mississauga</td>\n",
       "      <td>Mississauga</td>\n",
       "      <td>200.0</td>\n",
       "      <td>0</td>\n",
       "      <td>2020-05-27</td>\n",
       "      <td>yee hong centre - mississauga</td>\n",
       "    </tr>\n",
       "    <tr>\n",
       "      <th>3</th>\n",
       "      <td>Wellington Terrace Long-Term Care Home</td>\n",
       "      <td>Fergus</td>\n",
       "      <td>176.0</td>\n",
       "      <td>0</td>\n",
       "      <td>2020-04-24</td>\n",
       "      <td>wellington terrace long-term care home</td>\n",
       "    </tr>\n",
       "    <tr>\n",
       "      <th>4</th>\n",
       "      <td>Ehatare Nursing Home</td>\n",
       "      <td>Scarborough</td>\n",
       "      <td>32.0</td>\n",
       "      <td>0</td>\n",
       "      <td>2020-04-24</td>\n",
       "      <td>ehatare nursing home</td>\n",
       "    </tr>\n",
       "    <tr>\n",
       "      <th>5</th>\n",
       "      <td>Clarion Nursing Home</td>\n",
       "      <td>Stoney Creek</td>\n",
       "      <td>100.0</td>\n",
       "      <td>0</td>\n",
       "      <td>2020-04-24</td>\n",
       "      <td>clarion nursing home</td>\n",
       "    </tr>\n",
       "    <tr>\n",
       "      <th>6</th>\n",
       "      <td>Miramichi Lodge</td>\n",
       "      <td>Pembroke</td>\n",
       "      <td>166.0</td>\n",
       "      <td>0</td>\n",
       "      <td>2020-04-24</td>\n",
       "      <td>miramichi lodge</td>\n",
       "    </tr>\n",
       "    <tr>\n",
       "      <th>7</th>\n",
       "      <td>Shalom Manor Long Term Care Home</td>\n",
       "      <td>Grimsby</td>\n",
       "      <td>144.0</td>\n",
       "      <td>0</td>\n",
       "      <td>2020-04-24</td>\n",
       "      <td>shalom manor long term care home</td>\n",
       "    </tr>\n",
       "    <tr>\n",
       "      <th>8</th>\n",
       "      <td>Douglas H. Rapelje Lodge</td>\n",
       "      <td>Welland</td>\n",
       "      <td>120.0</td>\n",
       "      <td>0</td>\n",
       "      <td>2020-04-24</td>\n",
       "      <td>douglas h. rapelje lodge</td>\n",
       "    </tr>\n",
       "    <tr>\n",
       "      <th>9</th>\n",
       "      <td>Saint Luke's Place</td>\n",
       "      <td>Cambridge</td>\n",
       "      <td>114.0</td>\n",
       "      <td>0</td>\n",
       "      <td>2020-04-24</td>\n",
       "      <td>saint luke's place</td>\n",
       "    </tr>\n",
       "    <tr>\n",
       "      <th>10</th>\n",
       "      <td>Sprucedale Care Centre</td>\n",
       "      <td>Strathroy</td>\n",
       "      <td>96.0</td>\n",
       "      <td>0</td>\n",
       "      <td>2020-04-24</td>\n",
       "      <td>sprucedale care centre</td>\n",
       "    </tr>\n",
       "    <tr>\n",
       "      <th>11</th>\n",
       "      <td>Hallowell House</td>\n",
       "      <td>Picton</td>\n",
       "      <td>97.0</td>\n",
       "      <td>0</td>\n",
       "      <td>2020-04-24</td>\n",
       "      <td>hallowell house</td>\n",
       "    </tr>\n",
       "    <tr>\n",
       "      <th>12</th>\n",
       "      <td>Mount Hope Centre for Long Term Care</td>\n",
       "      <td>London</td>\n",
       "      <td>394.0</td>\n",
       "      <td>0</td>\n",
       "      <td>2020-04-24</td>\n",
       "      <td>mount hope centre for long term care</td>\n",
       "    </tr>\n",
       "    <tr>\n",
       "      <th>13</th>\n",
       "      <td>Riverview Manor Nursing Home</td>\n",
       "      <td>Peterborough</td>\n",
       "      <td>124.0</td>\n",
       "      <td>0</td>\n",
       "      <td>2020-04-24</td>\n",
       "      <td>riverview manor nursing home</td>\n",
       "    </tr>\n",
       "    <tr>\n",
       "      <th>14</th>\n",
       "      <td>Lakeview Manor</td>\n",
       "      <td>Beaverton</td>\n",
       "      <td>149.0</td>\n",
       "      <td>0</td>\n",
       "      <td>2020-04-24</td>\n",
       "      <td>lakeview manor</td>\n",
       "    </tr>\n",
       "    <tr>\n",
       "      <th>15</th>\n",
       "      <td>Allendale</td>\n",
       "      <td>Milton</td>\n",
       "      <td>200.0</td>\n",
       "      <td>0</td>\n",
       "      <td>2020-04-24</td>\n",
       "      <td>allendale</td>\n",
       "    </tr>\n",
       "    <tr>\n",
       "      <th>16</th>\n",
       "      <td>St. Andrew's Terrace Long Term Care Community</td>\n",
       "      <td>Cambridge</td>\n",
       "      <td>128.0</td>\n",
       "      <td>0</td>\n",
       "      <td>2020-04-24</td>\n",
       "      <td>st. andrew's terrace long term care community</td>\n",
       "    </tr>\n",
       "    <tr>\n",
       "      <th>17</th>\n",
       "      <td>Yee Hong Centre - Markham</td>\n",
       "      <td>Markham</td>\n",
       "      <td>200.0</td>\n",
       "      <td>0</td>\n",
       "      <td>2020-04-24</td>\n",
       "      <td>yee hong centre - markham</td>\n",
       "    </tr>\n",
       "  </tbody>\n",
       "</table>\n",
       "</div>"
      ],
      "text/plain": [
       "                                         LTC_Home          City   Beds  \\\n",
       "0   Spencer House                                  Orillia       160.0   \n",
       "1   Hillside Manor                                 Stratford     90.0    \n",
       "2   Yee Hong Centre - Mississauga                  Mississauga   200.0   \n",
       "3   Wellington Terrace Long-Term Care Home         Fergus        176.0   \n",
       "4   Ehatare Nursing Home                           Scarborough   32.0    \n",
       "5   Clarion Nursing Home                           Stoney Creek  100.0   \n",
       "6   Miramichi Lodge                                Pembroke      166.0   \n",
       "7   Shalom Manor Long Term Care Home               Grimsby       144.0   \n",
       "8   Douglas H. Rapelje Lodge                       Welland       120.0   \n",
       "9   Saint Luke's Place                             Cambridge     114.0   \n",
       "10  Sprucedale Care Centre                         Strathroy     96.0    \n",
       "11  Hallowell House                                Picton        97.0    \n",
       "12  Mount Hope Centre for Long Term Care           London        394.0   \n",
       "13  Riverview Manor Nursing Home                   Peterborough  124.0   \n",
       "14  Lakeview Manor                                 Beaverton     149.0   \n",
       "15  Allendale                                      Milton        200.0   \n",
       "16  St. Andrew's Terrace Long Term Care Community  Cambridge     128.0   \n",
       "17  Yee Hong Centre - Markham                      Markham       200.0   \n",
       "\n",
       "   Total_LTC_Resident_Deaths Report_Data_Extracted  \\\n",
       "0   0                        2020-04-24              \n",
       "1   0                        2020-04-24              \n",
       "2   0                        2020-05-27              \n",
       "3   0                        2020-04-24              \n",
       "4   0                        2020-04-24              \n",
       "5   0                        2020-04-24              \n",
       "6   0                        2020-04-24              \n",
       "7   0                        2020-04-24              \n",
       "8   0                        2020-04-24              \n",
       "9   0                        2020-04-24              \n",
       "10  0                        2020-04-24              \n",
       "11  0                        2020-04-24              \n",
       "12  0                        2020-04-24              \n",
       "13  0                        2020-04-24              \n",
       "14  0                        2020-04-24              \n",
       "15  0                        2020-04-24              \n",
       "16  0                        2020-04-24              \n",
       "17  0                        2020-04-24              \n",
       "\n",
       "                                     cleaned_name  \n",
       "0   spencer house                                  \n",
       "1   hillside manor                                 \n",
       "2   yee hong centre - mississauga                  \n",
       "3   wellington terrace long-term care home         \n",
       "4   ehatare nursing home                           \n",
       "5   clarion nursing home                           \n",
       "6   miramichi lodge                                \n",
       "7   shalom manor long term care home               \n",
       "8   douglas h. rapelje lodge                       \n",
       "9   saint luke's place                             \n",
       "10  sprucedale care centre                         \n",
       "11  hallowell house                                \n",
       "12  mount hope centre for long term care           \n",
       "13  riverview manor nursing home                   \n",
       "14  lakeview manor                                 \n",
       "15  allendale                                      \n",
       "16  st. andrew's terrace long term care community  \n",
       "17  yee hong centre - markham                      "
      ]
     },
     "execution_count": 24,
     "metadata": {},
     "output_type": "execute_result"
    }
   ],
   "source": [
    "# Review 18 homes present in resolved but not active\n",
    "# All homes but one, Yee Hong Centre - Mississauga, reported a resolved outbreak on Apr 24\n",
    "df = pd.DataFrame()\n",
    "for each in b:\n",
    "    df = df.append(first_res[first_res.cleaned_name.str.contains(each, na=False)], ignore_index = True)\n",
    "\n",
    "df\n"
   ]
  },
  {
   "cell_type": "code",
   "execution_count": 25,
   "metadata": {},
   "outputs": [
    {
     "data": {
      "text/html": [
       "<div>\n",
       "<style scoped>\n",
       "    .dataframe tbody tr th:only-of-type {\n",
       "        vertical-align: middle;\n",
       "    }\n",
       "\n",
       "    .dataframe tbody tr th {\n",
       "        vertical-align: top;\n",
       "    }\n",
       "\n",
       "    .dataframe thead th {\n",
       "        text-align: right;\n",
       "    }\n",
       "</style>\n",
       "<table border=\"1\" class=\"dataframe\">\n",
       "  <thead>\n",
       "    <tr style=\"text-align: right;\">\n",
       "      <th></th>\n",
       "      <th>index</th>\n",
       "      <th>LTC_Home</th>\n",
       "      <th>LTC_City</th>\n",
       "      <th>Beds</th>\n",
       "      <th>Total_LTC_Resident_Cases</th>\n",
       "      <th>Total_LTC_Resident_Deaths</th>\n",
       "      <th>Total_LTC_HCW_Cases</th>\n",
       "      <th>Report_Data_Extracted</th>\n",
       "      <th>cleaned_name</th>\n",
       "    </tr>\n",
       "  </thead>\n",
       "  <tbody>\n",
       "    <tr>\n",
       "      <th>0</th>\n",
       "      <td>0</td>\n",
       "      <td>The Meadows of Dorchester</td>\n",
       "      <td>NaN</td>\n",
       "      <td>121.0</td>\n",
       "      <td>0.0</td>\n",
       "      <td>0</td>\n",
       "      <td>&lt;5</td>\n",
       "      <td>2020-07-31</td>\n",
       "      <td>the meadows of dorchester</td>\n",
       "    </tr>\n",
       "    <tr>\n",
       "      <th>1</th>\n",
       "      <td>1</td>\n",
       "      <td>Nisbet Lodge</td>\n",
       "      <td>NaN</td>\n",
       "      <td>103.0</td>\n",
       "      <td>0.0</td>\n",
       "      <td>0</td>\n",
       "      <td>&lt;5</td>\n",
       "      <td>2020-06-11</td>\n",
       "      <td>nisbet lodge</td>\n",
       "    </tr>\n",
       "    <tr>\n",
       "      <th>2</th>\n",
       "      <td>2</td>\n",
       "      <td>Villa Colombo Homes for the Aged</td>\n",
       "      <td>NaN</td>\n",
       "      <td>391.0</td>\n",
       "      <td>0.0</td>\n",
       "      <td>0</td>\n",
       "      <td>&lt;5</td>\n",
       "      <td>2020-04-24</td>\n",
       "      <td>villa colombo homes for the aged</td>\n",
       "    </tr>\n",
       "    <tr>\n",
       "      <th>3</th>\n",
       "      <td>3</td>\n",
       "      <td>Carleton Lodge</td>\n",
       "      <td>NaN</td>\n",
       "      <td>161.0</td>\n",
       "      <td>0.0</td>\n",
       "      <td>0</td>\n",
       "      <td>&lt;5</td>\n",
       "      <td>2020-07-27</td>\n",
       "      <td>carleton lodge</td>\n",
       "    </tr>\n",
       "    <tr>\n",
       "      <th>4</th>\n",
       "      <td>4</td>\n",
       "      <td>Gateway Haven Long Term Care Home</td>\n",
       "      <td>NaN</td>\n",
       "      <td>100.0</td>\n",
       "      <td>0.0</td>\n",
       "      <td>0</td>\n",
       "      <td>&lt;5</td>\n",
       "      <td>2020-04-24</td>\n",
       "      <td>gateway haven long term care home</td>\n",
       "    </tr>\n",
       "    <tr>\n",
       "      <th>5</th>\n",
       "      <td>5</td>\n",
       "      <td>United Mennonite Home</td>\n",
       "      <td>NaN</td>\n",
       "      <td>128.0</td>\n",
       "      <td>0.0</td>\n",
       "      <td>0</td>\n",
       "      <td>&lt;5</td>\n",
       "      <td>2020-06-20</td>\n",
       "      <td>united mennonite home</td>\n",
       "    </tr>\n",
       "    <tr>\n",
       "      <th>6</th>\n",
       "      <td>6</td>\n",
       "      <td>Residence Prescott et Russell</td>\n",
       "      <td>NaN</td>\n",
       "      <td>146.0</td>\n",
       "      <td>0.0</td>\n",
       "      <td>0</td>\n",
       "      <td>&lt;5</td>\n",
       "      <td>2020-04-24</td>\n",
       "      <td>residence prescott et russell</td>\n",
       "    </tr>\n",
       "    <tr>\n",
       "      <th>7</th>\n",
       "      <td>7</td>\n",
       "      <td>King Nursing Home</td>\n",
       "      <td>NaN</td>\n",
       "      <td>86.0</td>\n",
       "      <td>0.0</td>\n",
       "      <td>0</td>\n",
       "      <td>&lt;5</td>\n",
       "      <td>2020-04-24</td>\n",
       "      <td>king nursing home</td>\n",
       "    </tr>\n",
       "    <tr>\n",
       "      <th>8</th>\n",
       "      <td>8</td>\n",
       "      <td>R. H. Lawson Eventide Home</td>\n",
       "      <td>NaN</td>\n",
       "      <td>101.0</td>\n",
       "      <td>&lt;5</td>\n",
       "      <td>0</td>\n",
       "      <td>&lt;5</td>\n",
       "      <td>2020-07-29</td>\n",
       "      <td>r. h. lawson eventide home</td>\n",
       "    </tr>\n",
       "    <tr>\n",
       "      <th>9</th>\n",
       "      <td>9</td>\n",
       "      <td>Extendicare Falconbridge</td>\n",
       "      <td>NaN</td>\n",
       "      <td>234.0</td>\n",
       "      <td>0.0</td>\n",
       "      <td>0</td>\n",
       "      <td>&lt;5</td>\n",
       "      <td>2020-07-26</td>\n",
       "      <td>extendicare falconbridge</td>\n",
       "    </tr>\n",
       "    <tr>\n",
       "      <th>10</th>\n",
       "      <td>10</td>\n",
       "      <td>Trillium Court</td>\n",
       "      <td>NaN</td>\n",
       "      <td>40.0</td>\n",
       "      <td>0.0</td>\n",
       "      <td>0</td>\n",
       "      <td>0.0</td>\n",
       "      <td>2020-07-30</td>\n",
       "      <td>trillium court</td>\n",
       "    </tr>\n",
       "  </tbody>\n",
       "</table>\n",
       "</div>"
      ],
      "text/plain": [
       "    index                           LTC_Home  LTC_City   Beds  \\\n",
       "0   0      The Meadows of Dorchester         NaN        121.0   \n",
       "1   1      Nisbet Lodge                      NaN        103.0   \n",
       "2   2      Villa Colombo Homes for the Aged  NaN        391.0   \n",
       "3   3      Carleton Lodge                    NaN        161.0   \n",
       "4   4      Gateway Haven Long Term Care Home NaN        100.0   \n",
       "5   5      United Mennonite Home             NaN        128.0   \n",
       "6   6      Residence Prescott et Russell     NaN        146.0   \n",
       "7   7      King Nursing Home                 NaN        86.0    \n",
       "8   8      R. H. Lawson Eventide Home        NaN        101.0   \n",
       "9   9      Extendicare Falconbridge          NaN        234.0   \n",
       "10  10     Trillium Court                    NaN        40.0    \n",
       "\n",
       "   Total_LTC_Resident_Cases Total_LTC_Resident_Deaths Total_LTC_HCW_Cases  \\\n",
       "0   0.0                      0                         <5                   \n",
       "1   0.0                      0                         <5                   \n",
       "2   0.0                      0                         <5                   \n",
       "3   0.0                      0                         <5                   \n",
       "4   0.0                      0                         <5                   \n",
       "5   0.0                      0                         <5                   \n",
       "6   0.0                      0                         <5                   \n",
       "7   0.0                      0                         <5                   \n",
       "8   <5                       0                         <5                   \n",
       "9   0.0                      0                         <5                   \n",
       "10  0.0                      0                         0.0                  \n",
       "\n",
       "   Report_Data_Extracted                       cleaned_name  \n",
       "0  2020-07-31             the meadows of dorchester          \n",
       "1  2020-06-11             nisbet lodge                       \n",
       "2  2020-04-24             villa colombo homes for the aged   \n",
       "3  2020-07-27             carleton lodge                     \n",
       "4  2020-04-24             gateway haven long term care home  \n",
       "5  2020-06-20             united mennonite home              \n",
       "6  2020-04-24             residence prescott et russell      \n",
       "7  2020-04-24             king nursing home                  \n",
       "8  2020-07-29             r. h. lawson eventide home         \n",
       "9  2020-07-26             extendicare falconbridge           \n",
       "10 2020-07-30             trillium court                     "
      ]
     },
     "execution_count": 25,
     "metadata": {},
     "output_type": "execute_result"
    }
   ],
   "source": [
    "# Review 11 homes present in active but not resolved\n",
    "df = pd.DataFrame()\n",
    "\n",
    "for each in a: \n",
    "    df = df.append(first[first.cleaned_name.str.contains(each, na=False)], ignore_index = True)\n",
    "\n",
    "df.reset_index()"
   ]
  },
  {
   "cell_type": "code",
   "execution_count": 13,
   "metadata": {},
   "outputs": [
    {
     "data": {
      "text/plain": [
       "{'carleton lodge',\n",
       " 'extendicare falconbridge',\n",
       " 'gateway haven long term care home',\n",
       " 'king nursing home',\n",
       " 'nisbet lodge',\n",
       " 'r. h. lawson eventide home',\n",
       " 'residence prescott et russell',\n",
       " 'the meadows of dorchester',\n",
       " 'trillium court',\n",
       " 'united mennonite home',\n",
       " 'villa colombo homes for the aged'}"
      ]
     },
     "execution_count": 13,
     "metadata": {},
     "output_type": "execute_result"
    }
   ],
   "source": [
    "a"
   ]
  },
  {
   "cell_type": "code",
   "execution_count": null,
   "metadata": {},
   "outputs": [],
   "source": [
    "# Homes having appearing multiple times on the active compared to the resolved list\n",
    "# There are 62 homes with a history of multiple active outbreaks, 68 homes with a history of multiple resolved outbreaks\n",
    "ltc_multiactive = set(first_dup['LTC_Home'])\n",
    "ltc_multires = set(first_res_dup['LTC_Home'])\n",
    "\n",
    "print(len(ltc_multiactive), len(ltc_multires))\n"
   ]
  },
  {
   "cell_type": "code",
   "execution_count": null,
   "metadata": {},
   "outputs": [],
   "source": [
    "ltc_multiactive - ltc_multires"
   ]
  },
  {
   "cell_type": "code",
   "execution_count": null,
   "metadata": {},
   "outputs": [],
   "source": [
    "ltc_multires - ltc_multiactive\n"
   ]
  },
  {
   "cell_type": "code",
   "execution_count": null,
   "metadata": {},
   "outputs": [],
   "source": []
  }
 ],
 "metadata": {
  "kernelspec": {
   "display_name": "Python 3",
   "language": "python",
   "name": "python3"
  },
  "language_info": {
   "codemirror_mode": {
    "name": "ipython",
    "version": 3
   },
   "file_extension": ".py",
   "mimetype": "text/x-python",
   "name": "python",
   "nbconvert_exporter": "python",
   "pygments_lexer": "ipython3",
   "version": "3.8.3"
  }
 },
 "nbformat": 4,
 "nbformat_minor": 4
}
