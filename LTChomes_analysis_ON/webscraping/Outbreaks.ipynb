{
 "cells": [
  {
   "cell_type": "markdown",
   "metadata": {},
   "source": [
    "CSVs retrieved from: https://data.ontario.ca/dataset/long-term-care-home-covid-19-data"
   ]
  },
  {
   "cell_type": "code",
   "execution_count": 1,
   "metadata": {},
   "outputs": [],
   "source": [
    "import pandas as pd"
   ]
  },
  {
   "cell_type": "markdown",
   "metadata": {},
   "source": [
    "Import"
   ]
  },
  {
   "cell_type": "code",
   "execution_count": 2,
   "metadata": {},
   "outputs": [],
   "source": [
    "active = pd.read_csv(\"https://data.ontario.ca/datastore/dump/4b64488a-0523-4ebb-811a-fac2f07e6d59?bom=True\")\n",
    "active['outbreak_status'] = 'active'\n",
    "\n",
    "inactive = pd.read_csv(\"https://data.ontario.ca/dataset/42df36df-04a0-43a9-8ad4-fac5e0e22244/resource/0cf2f01e-d4e1-48ed-8027-2133d059ec8b/download/resolvedltc.csv\")\n",
    "inactive['outbreak_status'] = 'inactive'"
   ]
  },
  {
   "cell_type": "markdown",
   "metadata": {},
   "source": [
    "Clean"
   ]
  },
  {
   "cell_type": "code",
   "execution_count": 3,
   "metadata": {},
   "outputs": [],
   "source": [
    "# convert to datetime\n",
    "active.Report_Data_Extracted= pd.to_datetime(active.Report_Data_Extracted)\n",
    "inactive.Report_Data_Extracted= pd.to_datetime(inactive.Report_Data_Extracted)"
   ]
  },
  {
   "cell_type": "markdown",
   "metadata": {},
   "source": [
    "**NOTE:** Inactive outbreaks were reported daily since status change from `active` to `inactive`, leading to multicate entries. For simplicity, the earliest date was kept under the assumption that this date is when the outbreak was declared to be over. \n",
    "\n",
    "The same reporting was applied to active outbreaks. Again, the first date was assumed to be the declaration of the start of the outbreak."
   ]
  },
  {
   "cell_type": "code",
   "execution_count": 5,
   "metadata": {
    "scrolled": true
   },
   "outputs": [
    {
     "data": {
      "text/html": [
       "<div>\n",
       "<style scoped>\n",
       "    .dataframe tbody tr th:only-of-type {\n",
       "        vertical-align: middle;\n",
       "    }\n",
       "\n",
       "    .dataframe tbody tr th {\n",
       "        vertical-align: top;\n",
       "    }\n",
       "\n",
       "    .dataframe thead th {\n",
       "        text-align: right;\n",
       "    }\n",
       "</style>\n",
       "<table border=\"1\" class=\"dataframe\">\n",
       "  <thead>\n",
       "    <tr style=\"text-align: right;\">\n",
       "      <th></th>\n",
       "      <th>_id</th>\n",
       "      <th>Report_Data_Extracted</th>\n",
       "      <th>LTC_Home</th>\n",
       "      <th>LTC_City</th>\n",
       "      <th>Beds</th>\n",
       "      <th>Total_LTC_Resident_Cases</th>\n",
       "      <th>Total_LTC_Resident_Deaths</th>\n",
       "      <th>Total_LTC_HCW_Cases</th>\n",
       "      <th>outbreak_status</th>\n",
       "    </tr>\n",
       "  </thead>\n",
       "  <tbody>\n",
       "    <tr>\n",
       "      <th>7738</th>\n",
       "      <td>7739</td>\n",
       "      <td>2020-06-22</td>\n",
       "      <td>Afton Park Place Long Term Care Community</td>\n",
       "      <td>NaN</td>\n",
       "      <td>128.0</td>\n",
       "      <td>0.0</td>\n",
       "      <td>0</td>\n",
       "      <td>&lt;5</td>\n",
       "      <td>active</td>\n",
       "    </tr>\n",
       "    <tr>\n",
       "      <th>7801</th>\n",
       "      <td>7802</td>\n",
       "      <td>2020-06-23</td>\n",
       "      <td>Afton Park Place Long Term Care Community</td>\n",
       "      <td>NaN</td>\n",
       "      <td>128.0</td>\n",
       "      <td>0.0</td>\n",
       "      <td>0</td>\n",
       "      <td>&lt;5</td>\n",
       "      <td>active</td>\n",
       "    </tr>\n",
       "    <tr>\n",
       "      <th>7863</th>\n",
       "      <td>7864</td>\n",
       "      <td>2020-06-24</td>\n",
       "      <td>Afton Park Place Long Term Care Community</td>\n",
       "      <td>NaN</td>\n",
       "      <td>128.0</td>\n",
       "      <td>0.0</td>\n",
       "      <td>0</td>\n",
       "      <td>&lt;5</td>\n",
       "      <td>active</td>\n",
       "    </tr>\n",
       "    <tr>\n",
       "      <th>7920</th>\n",
       "      <td>7921</td>\n",
       "      <td>2020-06-25</td>\n",
       "      <td>Afton Park Place Long Term Care Community</td>\n",
       "      <td>NaN</td>\n",
       "      <td>128.0</td>\n",
       "      <td>0.0</td>\n",
       "      <td>0</td>\n",
       "      <td>&lt;5</td>\n",
       "      <td>active</td>\n",
       "    </tr>\n",
       "    <tr>\n",
       "      <th>7977</th>\n",
       "      <td>7978</td>\n",
       "      <td>2020-06-26</td>\n",
       "      <td>Afton Park Place Long Term Care Community</td>\n",
       "      <td>NaN</td>\n",
       "      <td>128.0</td>\n",
       "      <td>0.0</td>\n",
       "      <td>0</td>\n",
       "      <td>&lt;5</td>\n",
       "      <td>active</td>\n",
       "    </tr>\n",
       "    <tr>\n",
       "      <th>8034</th>\n",
       "      <td>8035</td>\n",
       "      <td>2020-06-27</td>\n",
       "      <td>Afton Park Place Long Term Care Community</td>\n",
       "      <td>NaN</td>\n",
       "      <td>128.0</td>\n",
       "      <td>0.0</td>\n",
       "      <td>0</td>\n",
       "      <td>&lt;5</td>\n",
       "      <td>active</td>\n",
       "    </tr>\n",
       "    <tr>\n",
       "      <th>8089</th>\n",
       "      <td>8090</td>\n",
       "      <td>2020-06-28</td>\n",
       "      <td>Afton Park Place Long Term Care Community</td>\n",
       "      <td>NaN</td>\n",
       "      <td>128.0</td>\n",
       "      <td>0.0</td>\n",
       "      <td>0</td>\n",
       "      <td>&lt;5</td>\n",
       "      <td>active</td>\n",
       "    </tr>\n",
       "    <tr>\n",
       "      <th>8145</th>\n",
       "      <td>8146</td>\n",
       "      <td>2020-06-29</td>\n",
       "      <td>Afton Park Place Long Term Care Community</td>\n",
       "      <td>NaN</td>\n",
       "      <td>128.0</td>\n",
       "      <td>0.0</td>\n",
       "      <td>0</td>\n",
       "      <td>&lt;5</td>\n",
       "      <td>active</td>\n",
       "    </tr>\n",
       "    <tr>\n",
       "      <th>8200</th>\n",
       "      <td>8201</td>\n",
       "      <td>2020-06-30</td>\n",
       "      <td>Afton Park Place Long Term Care Community</td>\n",
       "      <td>NaN</td>\n",
       "      <td>128.0</td>\n",
       "      <td>0.0</td>\n",
       "      <td>0</td>\n",
       "      <td>&lt;5</td>\n",
       "      <td>active</td>\n",
       "    </tr>\n",
       "    <tr>\n",
       "      <th>8248</th>\n",
       "      <td>8249</td>\n",
       "      <td>2020-07-01</td>\n",
       "      <td>Afton Park Place Long Term Care Community</td>\n",
       "      <td>NaN</td>\n",
       "      <td>128.0</td>\n",
       "      <td>0.0</td>\n",
       "      <td>0</td>\n",
       "      <td>&lt;5</td>\n",
       "      <td>active</td>\n",
       "    </tr>\n",
       "    <tr>\n",
       "      <th>8294</th>\n",
       "      <td>8295</td>\n",
       "      <td>2020-07-02</td>\n",
       "      <td>Afton Park Place Long Term Care Community</td>\n",
       "      <td>NaN</td>\n",
       "      <td>128.0</td>\n",
       "      <td>0.0</td>\n",
       "      <td>0</td>\n",
       "      <td>&lt;5</td>\n",
       "      <td>active</td>\n",
       "    </tr>\n",
       "    <tr>\n",
       "      <th>8338</th>\n",
       "      <td>8339</td>\n",
       "      <td>2020-07-03</td>\n",
       "      <td>Afton Park Place Long Term Care Community</td>\n",
       "      <td>NaN</td>\n",
       "      <td>128.0</td>\n",
       "      <td>0.0</td>\n",
       "      <td>0</td>\n",
       "      <td>&lt;5</td>\n",
       "      <td>active</td>\n",
       "    </tr>\n",
       "    <tr>\n",
       "      <th>8374</th>\n",
       "      <td>8375</td>\n",
       "      <td>2020-07-04</td>\n",
       "      <td>Afton Park Place Long Term Care Community</td>\n",
       "      <td>NaN</td>\n",
       "      <td>128.0</td>\n",
       "      <td>0.0</td>\n",
       "      <td>0</td>\n",
       "      <td>&lt;5</td>\n",
       "      <td>active</td>\n",
       "    </tr>\n",
       "    <tr>\n",
       "      <th>8409</th>\n",
       "      <td>8410</td>\n",
       "      <td>2020-07-05</td>\n",
       "      <td>Afton Park Place Long Term Care Community</td>\n",
       "      <td>NaN</td>\n",
       "      <td>128.0</td>\n",
       "      <td>0.0</td>\n",
       "      <td>0</td>\n",
       "      <td>&lt;5</td>\n",
       "      <td>active</td>\n",
       "    </tr>\n",
       "  </tbody>\n",
       "</table>\n",
       "</div>"
      ],
      "text/plain": [
       "       _id Report_Data_Extracted                                   LTC_Home  \\\n",
       "7738  7739            2020-06-22  Afton Park Place Long Term Care Community   \n",
       "7801  7802            2020-06-23  Afton Park Place Long Term Care Community   \n",
       "7863  7864            2020-06-24  Afton Park Place Long Term Care Community   \n",
       "7920  7921            2020-06-25  Afton Park Place Long Term Care Community   \n",
       "7977  7978            2020-06-26  Afton Park Place Long Term Care Community   \n",
       "8034  8035            2020-06-27  Afton Park Place Long Term Care Community   \n",
       "8089  8090            2020-06-28  Afton Park Place Long Term Care Community   \n",
       "8145  8146            2020-06-29  Afton Park Place Long Term Care Community   \n",
       "8200  8201            2020-06-30  Afton Park Place Long Term Care Community   \n",
       "8248  8249            2020-07-01  Afton Park Place Long Term Care Community   \n",
       "8294  8295            2020-07-02  Afton Park Place Long Term Care Community   \n",
       "8338  8339            2020-07-03  Afton Park Place Long Term Care Community   \n",
       "8374  8375            2020-07-04  Afton Park Place Long Term Care Community   \n",
       "8409  8410            2020-07-05  Afton Park Place Long Term Care Community   \n",
       "\n",
       "      LTC_City   Beds Total_LTC_Resident_Cases Total_LTC_Resident_Deaths  \\\n",
       "7738       NaN  128.0                      0.0                         0   \n",
       "7801       NaN  128.0                      0.0                         0   \n",
       "7863       NaN  128.0                      0.0                         0   \n",
       "7920       NaN  128.0                      0.0                         0   \n",
       "7977       NaN  128.0                      0.0                         0   \n",
       "8034       NaN  128.0                      0.0                         0   \n",
       "8089       NaN  128.0                      0.0                         0   \n",
       "8145       NaN  128.0                      0.0                         0   \n",
       "8200       NaN  128.0                      0.0                         0   \n",
       "8248       NaN  128.0                      0.0                         0   \n",
       "8294       NaN  128.0                      0.0                         0   \n",
       "8338       NaN  128.0                      0.0                         0   \n",
       "8374       NaN  128.0                      0.0                         0   \n",
       "8409       NaN  128.0                      0.0                         0   \n",
       "\n",
       "     Total_LTC_HCW_Cases outbreak_status  \n",
       "7738                  <5          active  \n",
       "7801                  <5          active  \n",
       "7863                  <5          active  \n",
       "7920                  <5          active  \n",
       "7977                  <5          active  \n",
       "8034                  <5          active  \n",
       "8089                  <5          active  \n",
       "8145                  <5          active  \n",
       "8200                  <5          active  \n",
       "8248                  <5          active  \n",
       "8294                  <5          active  \n",
       "8338                  <5          active  \n",
       "8374                  <5          active  \n",
       "8409                  <5          active  "
      ]
     },
     "execution_count": 5,
     "metadata": {},
     "output_type": "execute_result"
    }
   ],
   "source": [
    "# active.groupby(\"LTC_Home\").count()\n",
    "# active.loc[active[\"LTC_Home\"] == \"Afton Park Place Long Term Care Community\"]"
   ]
  },
  {
   "cell_type": "code",
   "execution_count": 6,
   "metadata": {},
   "outputs": [],
   "source": [
    "keep_indices = inactive.LTC_Home.drop_duplicates(keep='first').index.to_list()\n",
    "inactiveFiltered = inactive.iloc[keep_indices]\n",
    "\n",
    "keep_indices2 = active.LTC_Home.drop_duplicates(keep='first').index.to_list()\n",
    "activeFiltered = active.iloc[keep_indices2]"
   ]
  },
  {
   "cell_type": "markdown",
   "metadata": {},
   "source": [
    "Merge - dropping duplicates where LTCs are in both active and inactive lists, keeping the active home.\n",
    "\n",
    "First, check that no homes reported more than one outbreak."
   ]
  },
  {
   "cell_type": "code",
   "execution_count": 7,
   "metadata": {},
   "outputs": [
    {
     "data": {
      "text/html": [
       "<div>\n",
       "<style scoped>\n",
       "    .dataframe tbody tr th:only-of-type {\n",
       "        vertical-align: middle;\n",
       "    }\n",
       "\n",
       "    .dataframe tbody tr th {\n",
       "        vertical-align: top;\n",
       "    }\n",
       "\n",
       "    .dataframe thead th {\n",
       "        text-align: right;\n",
       "    }\n",
       "</style>\n",
       "<table border=\"1\" class=\"dataframe\">\n",
       "  <thead>\n",
       "    <tr style=\"text-align: right;\">\n",
       "      <th></th>\n",
       "      <th></th>\n",
       "      <th>Report_Data_Extracted</th>\n",
       "      <th>City</th>\n",
       "      <th>Beds</th>\n",
       "      <th>Total_LTC_Resident_Deaths</th>\n",
       "      <th>_id</th>\n",
       "      <th>LTC_City</th>\n",
       "      <th>Total_LTC_Resident_Cases</th>\n",
       "      <th>Total_LTC_HCW_Cases</th>\n",
       "    </tr>\n",
       "    <tr>\n",
       "      <th>LTC_Home</th>\n",
       "      <th>outbreak_status</th>\n",
       "      <th></th>\n",
       "      <th></th>\n",
       "      <th></th>\n",
       "      <th></th>\n",
       "      <th></th>\n",
       "      <th></th>\n",
       "      <th></th>\n",
       "      <th></th>\n",
       "    </tr>\n",
       "  </thead>\n",
       "  <tbody>\n",
       "  </tbody>\n",
       "</table>\n",
       "</div>"
      ],
      "text/plain": [
       "Empty DataFrame\n",
       "Columns: [Report_Data_Extracted, City, Beds, Total_LTC_Resident_Deaths, _id, LTC_City, Total_LTC_Resident_Cases, Total_LTC_HCW_Cases]\n",
       "Index: []"
      ]
     },
     "execution_count": 7,
     "metadata": {},
     "output_type": "execute_result"
    }
   ],
   "source": [
    "outbreaks = pd.concat([inactiveFiltered, activeFiltered])\n",
    "\n",
    "grouped = outbreaks.groupby([\"LTC_Home\",\"outbreak_status\"]).count()\n",
    "grouped.loc[grouped[\"Report_Data_Extracted\"] > 1]"
   ]
  },
  {
   "cell_type": "code",
   "execution_count": 8,
   "metadata": {},
   "outputs": [],
   "source": [
    "outbreaks.drop_duplicates(subset='LTC_Home', keep=\"last\", inplace = True)"
   ]
  },
  {
   "cell_type": "markdown",
   "metadata": {},
   "source": [
    "Filter for those reported before August 1, 2020:"
   ]
  },
  {
   "cell_type": "code",
   "execution_count": 9,
   "metadata": {},
   "outputs": [],
   "source": [
    "outbreaksAug1 = outbreaks.loc[outbreaks['Report_Data_Extracted'] < \"2020-08-01\"]"
   ]
  },
  {
   "cell_type": "markdown",
   "metadata": {},
   "source": [
    "Import LTC data and merged with outbreaks:"
   ]
  },
  {
   "cell_type": "code",
   "execution_count": 10,
   "metadata": {},
   "outputs": [],
   "source": [
    "ltc = pd.read_csv(\"../merge_LTC_database/webscrape_LTC_general_database.csv\")"
   ]
  },
  {
   "cell_type": "code",
   "execution_count": 11,
   "metadata": {},
   "outputs": [
    {
     "name": "stderr",
     "output_type": "stream",
     "text": [
      "//anaconda3/lib/python3.7/site-packages/ipykernel_launcher.py:1: SettingWithCopyWarning: \n",
      "A value is trying to be set on a copy of a slice from a DataFrame.\n",
      "Try using .loc[row_indexer,col_indexer] = value instead\n",
      "\n",
      "See the caveats in the documentation: https://pandas.pydata.org/pandas-docs/stable/user_guide/indexing.html#returning-a-view-versus-a-copy\n",
      "  \"\"\"Entry point for launching an IPython kernel.\n"
     ]
    }
   ],
   "source": [
    "outbreaksAug1[\"name\"] = outbreaksAug1.LTC_Home.str.upper()\n",
    "complete = pd.merge(ltc, outbreaksAug1, on = \"name\")"
   ]
  },
  {
   "cell_type": "code",
   "execution_count": 12,
   "metadata": {},
   "outputs": [
    {
     "name": "stdout",
     "output_type": "stream",
     "text": [
      "Number of homes in outbreak DF missing after merge:  7\n"
     ]
    }
   ],
   "source": [
    "print(\"Number of homes in outbreak DF missing after merge: \", len(set(outbreaksAug1.name.unique())-set(complete.name.unique())))"
   ]
  },
  {
   "cell_type": "markdown",
   "metadata": {},
   "source": [
    "Fix name issues and re-merge"
   ]
  },
  {
   "cell_type": "code",
   "execution_count": 13,
   "metadata": {},
   "outputs": [
    {
     "data": {
      "text/plain": [
       "['MACASSA  LODGE',\n",
       " 'PINECREST NURSING HOME (BOBCAYGEON)',\n",
       " 'RESIDENCE SAINT-LOUIS',\n",
       " \"ST. PATRICK'S HOME\",\n",
       " 'FINLANDIA HOIVAKOTI NURSING HOME',\n",
       " 'VISION NURSING HOME',\n",
       " 'HEARTWOOD']"
      ]
     },
     "execution_count": 13,
     "metadata": {},
     "output_type": "execute_result"
    }
   ],
   "source": [
    "list(set(outbreaksAug1.name.unique())-set(complete.name.unique()))"
   ]
  },
  {
   "cell_type": "code",
   "execution_count": 14,
   "metadata": {},
   "outputs": [],
   "source": [
    "ltc.name.replace({'RESIDENCE SAINT- LOUIS':'RESIDENCE SAINT-LOUIS',\n",
    "                 'FINLANDIA HOIVAKOTI NURSING HOME LIMITED': 'FINLANDIA HOIVAKOTI NURSING HOME',\n",
    "                  'PINECREST NURSING HOME - BOBCAYGEON': 'PINECREST NURSING HOME (BOBCAYGEON)',\n",
    "                 'ST PATRICK\\'S HOME': \"ST. PATRICK'S HOME\",\n",
    "                  'VISION \\'74 INC.':'VISION NURSING HOME',\n",
    "                  'MACASSA LODGE':'MACASSA  LODGE',\n",
    "                  'HEARTWOOD (FKA VERSA-CARE CORNWALL)':'HEARTWOOD'\n",
    "                 },\n",
    "                inplace = True)"
   ]
  },
  {
   "cell_type": "code",
   "execution_count": 15,
   "metadata": {},
   "outputs": [
    {
     "name": "stdout",
     "output_type": "stream",
     "text": [
      "Number of homes in outbreak DF missing after merge:  0\n"
     ]
    },
    {
     "data": {
      "text/plain": [
       "[]"
      ]
     },
     "execution_count": 15,
     "metadata": {},
     "output_type": "execute_result"
    }
   ],
   "source": [
    "complete = pd.merge(ltc, outbreaksAug1, on = \"name\")\n",
    "print(\"Number of homes in outbreak DF missing after merge: \", len(set(outbreaksAug1.name.unique())-set(complete.name.unique())))\n",
    "list(set(outbreaksAug1.name.unique())-set(complete.name.unique()))"
   ]
  },
  {
   "cell_type": "markdown",
   "metadata": {},
   "source": [
    "**Clean & Export:**"
   ]
  },
  {
   "cell_type": "code",
   "execution_count": 16,
   "metadata": {},
   "outputs": [],
   "source": [
    "complete.drop(columns = ['_id','LTC_City','additional_info','LTC_Home',\n",
    "                        'management', 'city', 'City', 'index'], inplace = True)\n",
    "complete.set_index('name', inplace = True)"
   ]
  },
  {
   "cell_type": "code",
   "execution_count": 17,
   "metadata": {},
   "outputs": [],
   "source": [
    "complete.to_csv('../merge_LTC_database/LTC_general_DB_aug1.csv')"
   ]
  }
 ],
 "metadata": {
  "kernelspec": {
   "display_name": "Python 3",
   "language": "python",
   "name": "python3"
  },
  "language_info": {
   "codemirror_mode": {
    "name": "ipython",
    "version": 3
   },
   "file_extension": ".py",
   "mimetype": "text/x-python",
   "name": "python",
   "nbconvert_exporter": "python",
   "pygments_lexer": "ipython3",
   "version": "3.7.4"
  }
 },
 "nbformat": 4,
 "nbformat_minor": 4
}
