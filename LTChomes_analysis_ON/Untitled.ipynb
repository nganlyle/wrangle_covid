{
 "cells": [
  {
   "cell_type": "code",
   "execution_count": 2,
   "metadata": {},
   "outputs": [],
   "source": [
    "import pandas as pd"
   ]
  },
  {
   "cell_type": "code",
   "execution_count": 12,
   "metadata": {},
   "outputs": [
    {
     "name": "stdout",
     "output_type": "stream",
     "text": [
      "<class 'pandas.core.frame.DataFrame'>\n",
      "RangeIndex: 625 entries, 0 to 624\n",
      "Data columns (total 43 columns):\n",
      " #   Column                   Non-Null Count  Dtype  \n",
      "---  ------                   --------------  -----  \n",
      " 0   outbreak                 625 non-null    float64\n",
      " 1   cleaned_name             625 non-null    object \n",
      " 2   name                     625 non-null    object \n",
      " 3   address                  625 non-null    object \n",
      " 4   city                     625 non-null    object \n",
      " 5   postal_code              625 non-null    object \n",
      " 6   LHIN                     625 non-null    object \n",
      " 7   home_type                625 non-null    object \n",
      " 8   number_beds              625 non-null    float64\n",
      " 9   short_stay               625 non-null    object \n",
      " 10  residents_council        625 non-null    object \n",
      " 11  family_council           625 non-null    object \n",
      " 12  accreditation            625 non-null    object \n",
      " 13  antipsychotic_percent    617 non-null    float64\n",
      " 14  pressure_ulcers_percent  618 non-null    float64\n",
      " 15  falls_percent            619 non-null    float64\n",
      " 16  restraints_percent       618 non-null    float64\n",
      " 17  depression_percent       618 non-null    float64\n",
      " 18  pain_percent             619 non-null    float64\n",
      " 19  first_inspection_date    625 non-null    object \n",
      " 20  total_inspections        625 non-null    float64\n",
      " 21  5y_inspections           625 non-null    float64\n",
      " 22  2y_inspections           625 non-null    float64\n",
      " 23  total_complaints         625 non-null    float64\n",
      " 24  5y_complaints            625 non-null    float64\n",
      " 25  2y_complaints            625 non-null    float64\n",
      " 26  total_critical           625 non-null    float64\n",
      " 27  5y_critical              625 non-null    float64\n",
      " 28  2y_critical              625 non-null    float64\n",
      " 29  total_withOrders         625 non-null    float64\n",
      " 30  5y_withOrders            625 non-null    float64\n",
      " 31  2y_withOrders            625 non-null    float64\n",
      " 32  cum_resident_deaths      335 non-null    float64\n",
      " 33  max_resident_cases       317 non-null    float64\n",
      " 34  max_hcw_cases            317 non-null    float64\n",
      " 35  date_first_outbreak      317 non-null    object \n",
      " 36  date_max_cases           317 non-null    object \n",
      " 37  date_max_HCWcases        317 non-null    object \n",
      " 38  date_first_resolved      324 non-null    object \n",
      " 39  CSDname                  624 non-null    object \n",
      " 40  CSDuid                   623 non-null    float64\n",
      " 41  latitude                 625 non-null    float64\n",
      " 42  longitude                625 non-null    float64\n",
      "dtypes: float64(26), object(17)\n",
      "memory usage: 210.1+ KB\n"
     ]
    }
   ],
   "source": [
    "df = pd.read_csv('~/Desktop/wrangle_covid/LTChomes_analysis_ON/data_output/merged_LTC_odhf_quality.csv')\n",
    "df.info()"
   ]
  },
  {
   "cell_type": "code",
   "execution_count": 13,
   "metadata": {},
   "outputs": [
    {
     "data": {
      "text/plain": [
       "0.0     224\n",
       "1.0      34\n",
       "12.0      8\n",
       "8.0       6\n",
       "18.0      4\n",
       "10.0      4\n",
       "9.0       4\n",
       "15.0      3\n",
       "11.0      3\n",
       "33.0      3\n",
       "17.0      3\n",
       "30.0      3\n",
       "48.0      2\n",
       "36.0      2\n",
       "16.0      2\n",
       "19.0      2\n",
       "25.0      2\n",
       "13.0      2\n",
       "51.0      2\n",
       "31.0      2\n",
       "20.0      2\n",
       "42.0      2\n",
       "21.0      2\n",
       "23.0      2\n",
       "68.0      1\n",
       "53.0      1\n",
       "7.0       1\n",
       "71.0      1\n",
       "61.0      1\n",
       "46.0      1\n",
       "22.0      1\n",
       "29.0      1\n",
       "41.0      1\n",
       "64.0      1\n",
       "14.0      1\n",
       "34.0      1\n",
       "Name: cum_resident_deaths, dtype: int64"
      ]
     },
     "execution_count": 13,
     "metadata": {},
     "output_type": "execute_result"
    }
   ],
   "source": [
    "df['cum_resident_deaths'].value_counts()\n"
   ]
  }
 ],
 "metadata": {
  "kernelspec": {
   "display_name": "Python 3",
   "language": "python",
   "name": "python3"
  },
  "language_info": {
   "codemirror_mode": {
    "name": "ipython",
    "version": 3
   },
   "file_extension": ".py",
   "mimetype": "text/x-python",
   "name": "python",
   "nbconvert_exporter": "python",
   "pygments_lexer": "ipython3",
   "version": "3.8.3"
  }
 },
 "nbformat": 4,
 "nbformat_minor": 4
}
